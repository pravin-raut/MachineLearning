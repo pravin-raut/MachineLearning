{
 "cells": [
  {
   "cell_type": "code",
   "execution_count": 0,
   "metadata": {
    "application/vnd.databricks.v1+cell": {
     "cellMetadata": {
      "byteLimit": 2048000,
      "rowLimit": 10000
     },
     "inputWidgets": {},
     "nuid": "149b479c-8c16-425c-a48b-6a60667bb5eb",
     "showTitle": false,
     "title": ""
    }
   },
   "outputs": [
    {
     "output_type": "stream",
     "name": "stdout",
     "output_type": "stream",
     "text": [
      "Collecting openpyxl\r\n  Downloading openpyxl-3.1.2-py2.py3-none-any.whl (249 kB)\r\n\u001B[?25l\r\u001B[K     |█▎                              | 10 kB 16.9 MB/s eta 0:00:01\r\u001B[K     |██▋                             | 20 kB 9.4 MB/s eta 0:00:01\r\u001B[K     |████                            | 30 kB 12.9 MB/s eta 0:00:01\r\u001B[K     |█████▎                          | 40 kB 7.6 MB/s eta 0:00:01\r\u001B[K     |██████▌                         | 51 kB 7.0 MB/s eta 0:00:01\r\u001B[K     |███████▉                        | 61 kB 8.1 MB/s eta 0:00:01\r\u001B[K     |█████████▏                      | 71 kB 8.1 MB/s eta 0:00:01\r\u001B[K     |██████████▌                     | 81 kB 8.1 MB/s eta 0:00:01\r\u001B[K     |███████████▉                    | 92 kB 9.0 MB/s eta 0:00:01\r\u001B[K     |█████████████                   | 102 kB 7.6 MB/s eta 0:00:01\r\u001B[K     |██████████████▍                 | 112 kB 7.6 MB/s eta 0:00:01\r\u001B[K     |███████████████▊                | 122 kB 7.6 MB/s eta 0:00:01\r\u001B[K     |█████████████████               | 133 kB 7.6 MB/s eta 0:00:01\r\u001B[K     |██████████████████▍             | 143 kB 7.6 MB/s eta 0:00:01\r\u001B[K     |███████████████████▋            | 153 kB 7.6 MB/s eta 0:00:01\r\u001B[K     |█████████████████████           | 163 kB 7.6 MB/s eta 0:00:01\r\u001B[K     |██████████████████████▎         | 174 kB 7.6 MB/s eta 0:00:01\r\u001B[K     |███████████████████████▋        | 184 kB 7.6 MB/s eta 0:00:01\r\u001B[K     |█████████████████████████       | 194 kB 7.6 MB/s eta 0:00:01\r\u001B[K     |██████████████████████████▏     | 204 kB 7.6 MB/s eta 0:00:01\r\u001B[K     |███████████████████████████▌    | 215 kB 7.6 MB/s eta 0:00:01\r\u001B[K     |████████████████████████████▉   | 225 kB 7.6 MB/s eta 0:00:01\r\u001B[K     |██████████████████████████████▏ | 235 kB 7.6 MB/s eta 0:00:01\r\u001B[K     |███████████████████████████████▌| 245 kB 7.6 MB/s eta 0:00:01\r\u001B[K     |████████████████████████████████| 249 kB 7.6 MB/s \r\n\u001B[?25hCollecting et-xmlfile\r\n  Downloading et_xmlfile-1.1.0-py3-none-any.whl (4.7 kB)\r\nInstalling collected packages: et-xmlfile, openpyxl\r\nSuccessfully installed et-xmlfile-1.1.0 openpyxl-3.1.2\r\n\u001B[33mWARNING: You are using pip version 21.2.4; however, version 23.3.1 is available.\r\nYou should consider upgrading via the '/local_disk0/.ephemeral_nfs/envs/pythonEnv-dadfa8db-f693-405d-a906-fb45f18b948f/bin/python -m pip install --upgrade pip' command.\u001B[0m\r\nCollecting geopy\r\n  Downloading geopy-2.4.0-py3-none-any.whl (125 kB)\r\n\u001B[?25l\r\u001B[K     |██▋                             | 10 kB 16.5 MB/s eta 0:00:01\r\u001B[K     |█████▎                          | 20 kB 3.8 MB/s eta 0:00:01\r\u001B[K     |███████▉                        | 30 kB 5.6 MB/s eta 0:00:01\r\u001B[K     |██████████▌                     | 40 kB 4.3 MB/s eta 0:00:01\r\u001B[K     |█████████████                   | 51 kB 4.2 MB/s eta 0:00:01\r\u001B[K     |███████████████▊                | 61 kB 4.9 MB/s eta 0:00:01\r\u001B[K     |██████████████████▎             | 71 kB 4.9 MB/s eta 0:00:01\r\u001B[K     |█████████████████████           | 81 kB 4.9 MB/s eta 0:00:01\r\u001B[K     |███████████████████████▌        | 92 kB 5.4 MB/s eta 0:00:01\r\u001B[K     |██████████████████████████▏     | 102 kB 5.0 MB/s eta 0:00:01\r\u001B[K     |████████████████████████████▊   | 112 kB 5.0 MB/s eta 0:00:01\r\u001B[K     |███████████████████████████████▍| 122 kB 5.0 MB/s eta 0:00:01\r\u001B[K     |████████████████████████████████| 125 kB 5.0 MB/s \r\n\u001B[?25hCollecting geographiclib<3,>=1.52\r\n  Downloading geographiclib-2.0-py3-none-any.whl (40 kB)\r\n\u001B[?25l\r\u001B[K     |████████▏                       | 10 kB 9.6 MB/s eta 0:00:01\r\u001B[K     |████████████████▎               | 20 kB 14.2 MB/s eta 0:00:01\r\u001B[K     |████████████████████████▍       | 30 kB 18.4 MB/s eta 0:00:01\r\u001B[K     |████████████████████████████████| 40 kB 2.7 MB/s \r\n\u001B[?25hInstalling collected packages: geographiclib, geopy\r\nSuccessfully installed geographiclib-2.0 geopy-2.4.0\r\n\u001B[33mWARNING: You are using pip version 21.2.4; however, version 23.3.1 is available.\r\nYou should consider upgrading via the '/local_disk0/.ephemeral_nfs/envs/pythonEnv-dadfa8db-f693-405d-a906-fb45f18b948f/bin/python -m pip install --upgrade pip' command.\u001B[0m\r\n"
     ]
    }
   ],
   "source": [
    "!pip install openpyxl\n",
    "!pip install geopy"
   ]
  },
  {
   "cell_type": "code",
   "execution_count": 0,
   "metadata": {
    "application/vnd.databricks.v1+cell": {
     "cellMetadata": {
      "byteLimit": 2048000,
      "rowLimit": 10000
     },
     "inputWidgets": {},
     "nuid": "99ca5223-ea16-4b0e-9217-0cc6f94683e5",
     "showTitle": false,
     "title": ""
    }
   },
   "outputs": [
    {
     "output_type": "display_data",
     "data": {
      "application/vnd.databricks.v1+bamboolib_hint": "{\"pd.DataFrames\": [], \"version\": \"0.0.1\"}",
      "text/plain": []
     },
     "metadata": {},
     "output_type": "display_data"
    }
   ],
   "source": [
    "import pandas as pd\n",
    "import numpy as np\n"
   ]
  },
  {
   "cell_type": "code",
   "execution_count": 0,
   "metadata": {
    "application/vnd.databricks.v1+cell": {
     "cellMetadata": {
      "byteLimit": 2048000,
      "rowLimit": 10000
     },
     "inputWidgets": {},
     "nuid": "a4eb4cbf-9c60-4900-9924-23966e55d433",
     "showTitle": false,
     "title": ""
    }
   },
   "outputs": [
    {
     "output_type": "display_data",
     "data": {
      "text/html": [
       "<div>\n",
       "<style scoped>\n",
       "    .dataframe tbody tr th:only-of-type {\n",
       "        vertical-align: middle;\n",
       "    }\n",
       "\n",
       "    .dataframe tbody tr th {\n",
       "        vertical-align: top;\n",
       "    }\n",
       "\n",
       "    .dataframe thead th {\n",
       "        text-align: right;\n",
       "    }\n",
       "</style>\n",
       "<table border=\"1\" class=\"dataframe\">\n",
       "  <thead>\n",
       "    <tr style=\"text-align: right;\">\n",
       "      <th></th>\n",
       "      <th>Name</th>\n",
       "      <th>IMO</th>\n",
       "      <th>Flag</th>\n",
       "      <th>LLI Vessel Type</th>\n",
       "      <th>Company contact</th>\n",
       "      <th>Gross Tonnes</th>\n",
       "      <th>DWT</th>\n",
       "      <th>Prior Place</th>\n",
       "      <th>Arrived at</th>\n",
       "      <th>Sailed at</th>\n",
       "    </tr>\n",
       "  </thead>\n",
       "  <tbody>\n",
       "    <tr>\n",
       "      <th>0</th>\n",
       "      <td>Stena Foreteller</td>\n",
       "      <td>9214666</td>\n",
       "      <td>Denmark (Int. Register)</td>\n",
       "      <td>roll on roll off with container capacity</td>\n",
       "      <td>Stena Line Service AB</td>\n",
       "      <td>24688</td>\n",
       "      <td>11644</td>\n",
       "      <td>Belfast</td>\n",
       "      <td>01/09/2023 22:45:04 GMT</td>\n",
       "      <td>02/09/2023 03:07:21 GMT</td>\n",
       "    </tr>\n",
       "    <tr>\n",
       "      <th>1</th>\n",
       "      <td>Royal Iris of the Mersey</td>\n",
       "      <td>8633712</td>\n",
       "      <td>U.K.</td>\n",
       "      <td>ferry</td>\n",
       "      <td>Mersey Ferries Limited</td>\n",
       "      <td>464</td>\n",
       "      <td>—</td>\n",
       "      <td>Birkenhead</td>\n",
       "      <td>01/09/2023 21:33:55 GMT</td>\n",
       "      <td>02/09/2023 08:36:41 GMT</td>\n",
       "    </tr>\n",
       "    <tr>\n",
       "      <th>2</th>\n",
       "      <td>Seatruck Power</td>\n",
       "      <td>9506215</td>\n",
       "      <td>Isle of Man</td>\n",
       "      <td>Roll On Roll Off</td>\n",
       "      <td>Seatruck Ferries Holding Limited</td>\n",
       "      <td>19722</td>\n",
       "      <td>5600</td>\n",
       "      <td>Dublin</td>\n",
       "      <td>01/09/2023 19:57:09 GMT</td>\n",
       "      <td>02/09/2023 00:54:45 GMT</td>\n",
       "    </tr>\n",
       "    <tr>\n",
       "      <th>3</th>\n",
       "      <td>Manannan</td>\n",
       "      <td>9176072</td>\n",
       "      <td>Isle of Man</td>\n",
       "      <td>passenger ro/ro</td>\n",
       "      <td>Isle of Man Steam Packet Company Limited</td>\n",
       "      <td>5743</td>\n",
       "      <td>800</td>\n",
       "      <td>Douglas</td>\n",
       "      <td>01/09/2023 17:51:25 GMT</td>\n",
       "      <td>01/09/2023 19:12:38 GMT</td>\n",
       "    </tr>\n",
       "    <tr>\n",
       "      <th>4</th>\n",
       "      <td>Stena Embla</td>\n",
       "      <td>9807322</td>\n",
       "      <td>Cyprus</td>\n",
       "      <td>passenger ro/ro</td>\n",
       "      <td>Bocom Leasing Management Hong Kong Company Lim...</td>\n",
       "      <td>42000</td>\n",
       "      <td>9748</td>\n",
       "      <td>Belfast</td>\n",
       "      <td>01/09/2023 17:19:36 GMT</td>\n",
       "      <td>01/09/2023 21:30:43 GMT</td>\n",
       "    </tr>\n",
       "  </tbody>\n",
       "</table>\n",
       "</div>"
      ]
     },
     "metadata": {
      "application/vnd.databricks.v1+output": {
       "addedWidgets": {},
       "arguments": {},
       "data": "<div>\n<style scoped>\n    .dataframe tbody tr th:only-of-type {\n        vertical-align: middle;\n    }\n\n    .dataframe tbody tr th {\n        vertical-align: top;\n    }\n\n    .dataframe thead th {\n        text-align: right;\n    }\n</style>\n<table border=\"1\" class=\"dataframe\">\n  <thead>\n    <tr style=\"text-align: right;\">\n      <th></th>\n      <th>Name</th>\n      <th>IMO</th>\n      <th>Flag</th>\n      <th>LLI Vessel Type</th>\n      <th>Company contact</th>\n      <th>Gross Tonnes</th>\n      <th>DWT</th>\n      <th>Prior Place</th>\n      <th>Arrived at</th>\n      <th>Sailed at</th>\n    </tr>\n  </thead>\n  <tbody>\n    <tr>\n      <th>0</th>\n      <td>Stena Foreteller</td>\n      <td>9214666</td>\n      <td>Denmark (Int. Register)</td>\n      <td>roll on roll off with container capacity</td>\n      <td>Stena Line Service AB</td>\n      <td>24688</td>\n      <td>11644</td>\n      <td>Belfast</td>\n      <td>01/09/2023 22:45:04 GMT</td>\n      <td>02/09/2023 03:07:21 GMT</td>\n    </tr>\n    <tr>\n      <th>1</th>\n      <td>Royal Iris of the Mersey</td>\n      <td>8633712</td>\n      <td>U.K.</td>\n      <td>ferry</td>\n      <td>Mersey Ferries Limited</td>\n      <td>464</td>\n      <td>—</td>\n      <td>Birkenhead</td>\n      <td>01/09/2023 21:33:55 GMT</td>\n      <td>02/09/2023 08:36:41 GMT</td>\n    </tr>\n    <tr>\n      <th>2</th>\n      <td>Seatruck Power</td>\n      <td>9506215</td>\n      <td>Isle of Man</td>\n      <td>Roll On Roll Off</td>\n      <td>Seatruck Ferries Holding Limited</td>\n      <td>19722</td>\n      <td>5600</td>\n      <td>Dublin</td>\n      <td>01/09/2023 19:57:09 GMT</td>\n      <td>02/09/2023 00:54:45 GMT</td>\n    </tr>\n    <tr>\n      <th>3</th>\n      <td>Manannan</td>\n      <td>9176072</td>\n      <td>Isle of Man</td>\n      <td>passenger ro/ro</td>\n      <td>Isle of Man Steam Packet Company Limited</td>\n      <td>5743</td>\n      <td>800</td>\n      <td>Douglas</td>\n      <td>01/09/2023 17:51:25 GMT</td>\n      <td>01/09/2023 19:12:38 GMT</td>\n    </tr>\n    <tr>\n      <th>4</th>\n      <td>Stena Embla</td>\n      <td>9807322</td>\n      <td>Cyprus</td>\n      <td>passenger ro/ro</td>\n      <td>Bocom Leasing Management Hong Kong Company Lim...</td>\n      <td>42000</td>\n      <td>9748</td>\n      <td>Belfast</td>\n      <td>01/09/2023 17:19:36 GMT</td>\n      <td>01/09/2023 21:30:43 GMT</td>\n    </tr>\n  </tbody>\n</table>\n</div>",
       "datasetInfos": [],
       "metadata": {},
       "removedWidgets": [],
       "textData": null,
       "type": "htmlSandbox"
      }
     },
     "output_type": "display_data"
    }
   ],
   "source": [
    "url = 'https://raw.githubusercontent.com/pravin-raut/MachineLearning/Master/dataset/Liverpool.xlsx'\n",
    "shipdf = pd.read_excel(url)\n",
    "shipdf.head(5)"
   ]
  },
  {
   "cell_type": "markdown",
   "metadata": {
    "application/vnd.databricks.v1+cell": {
     "cellMetadata": {
      "byteLimit": 2048000,
      "rowLimit": 10000
     },
     "inputWidgets": {},
     "nuid": "ad929333-e15d-4f75-b8ed-9a175b548a30",
     "showTitle": false,
     "title": ""
    }
   },
   "source": [
    "\n",
    "### Data Cleaning "
   ]
  },
  {
   "cell_type": "code",
   "execution_count": 0,
   "metadata": {
    "application/vnd.databricks.v1+cell": {
     "cellMetadata": {
      "byteLimit": 2048000,
      "rowLimit": 10000
     },
     "inputWidgets": {},
     "nuid": "4334bf73-cca5-41a0-a2d0-102a25a42939",
     "showTitle": false,
     "title": ""
    }
   },
   "outputs": [
    {
     "output_type": "display_data",
     "data": {
      "text/html": [
       "<div>\n",
       "<style scoped>\n",
       "    .dataframe tbody tr th:only-of-type {\n",
       "        vertical-align: middle;\n",
       "    }\n",
       "\n",
       "    .dataframe tbody tr th {\n",
       "        vertical-align: top;\n",
       "    }\n",
       "\n",
       "    .dataframe thead th {\n",
       "        text-align: right;\n",
       "    }\n",
       "</style>\n",
       "<table border=\"1\" class=\"dataframe\">\n",
       "  <thead>\n",
       "    <tr style=\"text-align: right;\">\n",
       "      <th></th>\n",
       "      <th>Name</th>\n",
       "      <th>IMO</th>\n",
       "      <th>Flag</th>\n",
       "      <th>LLI Vessel Type</th>\n",
       "      <th>Company contact</th>\n",
       "      <th>Gross Tonnes</th>\n",
       "      <th>DWT</th>\n",
       "      <th>Prior Place</th>\n",
       "      <th>Arrived at</th>\n",
       "      <th>Sailed at</th>\n",
       "    </tr>\n",
       "  </thead>\n",
       "  <tbody>\n",
       "    <tr>\n",
       "      <th>0</th>\n",
       "      <td>Stena Foreteller</td>\n",
       "      <td>9214666.0</td>\n",
       "      <td>Denmark (Int. Register)</td>\n",
       "      <td>roll on roll off with container capacity</td>\n",
       "      <td>Stena Line Service AB</td>\n",
       "      <td>24688.0</td>\n",
       "      <td>11644.0</td>\n",
       "      <td>Belfast</td>\n",
       "      <td>01/09/2023 22:45:04 GMT</td>\n",
       "      <td>02/09/2023 03:07:21 GMT</td>\n",
       "    </tr>\n",
       "    <tr>\n",
       "      <th>1</th>\n",
       "      <td>Royal Iris of the Mersey</td>\n",
       "      <td>8633712.0</td>\n",
       "      <td>U.K.</td>\n",
       "      <td>ferry</td>\n",
       "      <td>Mersey Ferries Limited</td>\n",
       "      <td>464.0</td>\n",
       "      <td>NaN</td>\n",
       "      <td>Birkenhead</td>\n",
       "      <td>01/09/2023 21:33:55 GMT</td>\n",
       "      <td>02/09/2023 08:36:41 GMT</td>\n",
       "    </tr>\n",
       "    <tr>\n",
       "      <th>2</th>\n",
       "      <td>Seatruck Power</td>\n",
       "      <td>9506215.0</td>\n",
       "      <td>Isle of Man</td>\n",
       "      <td>Roll On Roll Off</td>\n",
       "      <td>Seatruck Ferries Holding Limited</td>\n",
       "      <td>19722.0</td>\n",
       "      <td>5600.0</td>\n",
       "      <td>Dublin</td>\n",
       "      <td>01/09/2023 19:57:09 GMT</td>\n",
       "      <td>02/09/2023 00:54:45 GMT</td>\n",
       "    </tr>\n",
       "    <tr>\n",
       "      <th>3</th>\n",
       "      <td>Manannan</td>\n",
       "      <td>9176072.0</td>\n",
       "      <td>Isle of Man</td>\n",
       "      <td>passenger ro/ro</td>\n",
       "      <td>Isle of Man Steam Packet Company Limited</td>\n",
       "      <td>5743.0</td>\n",
       "      <td>800.0</td>\n",
       "      <td>Douglas</td>\n",
       "      <td>01/09/2023 17:51:25 GMT</td>\n",
       "      <td>01/09/2023 19:12:38 GMT</td>\n",
       "    </tr>\n",
       "    <tr>\n",
       "      <th>4</th>\n",
       "      <td>Stena Embla</td>\n",
       "      <td>9807322.0</td>\n",
       "      <td>Cyprus</td>\n",
       "      <td>passenger ro/ro</td>\n",
       "      <td>Bocom Leasing Management Hong Kong Company Lim...</td>\n",
       "      <td>42000.0</td>\n",
       "      <td>9748.0</td>\n",
       "      <td>Belfast</td>\n",
       "      <td>01/09/2023 17:19:36 GMT</td>\n",
       "      <td>01/09/2023 21:30:43 GMT</td>\n",
       "    </tr>\n",
       "    <tr>\n",
       "      <th>5</th>\n",
       "      <td>Fugro Seeker</td>\n",
       "      <td>NaN</td>\n",
       "      <td>U.K.</td>\n",
       "      <td>support</td>\n",
       "      <td>Unknown Owners</td>\n",
       "      <td>NaN</td>\n",
       "      <td>NaN</td>\n",
       "      <td>Liverpool</td>\n",
       "      <td>01/09/2023 17:14:28 GMT</td>\n",
       "      <td>02/09/2023 07:27:26 GMT</td>\n",
       "    </tr>\n",
       "    <tr>\n",
       "      <th>6</th>\n",
       "      <td>Njord Skua</td>\n",
       "      <td>8355592.0</td>\n",
       "      <td>U.K.</td>\n",
       "      <td>tender</td>\n",
       "      <td>Njord Offshore Limited</td>\n",
       "      <td>66.0</td>\n",
       "      <td>18.0</td>\n",
       "      <td>Birkenhead</td>\n",
       "      <td>01/09/2023 17:07:53 GMT</td>\n",
       "      <td>02/09/2023 07:55:03 GMT</td>\n",
       "    </tr>\n",
       "    <tr>\n",
       "      <th>7</th>\n",
       "      <td>Spectrum 3</td>\n",
       "      <td>9609603.0</td>\n",
       "      <td>U.K.</td>\n",
       "      <td>supply</td>\n",
       "      <td>Unknown Owners</td>\n",
       "      <td>49.0</td>\n",
       "      <td>NaN</td>\n",
       "      <td>Birkenhead</td>\n",
       "      <td>01/09/2023 16:43:19 GMT</td>\n",
       "      <td>02/09/2023 08:29:11 GMT</td>\n",
       "    </tr>\n",
       "    <tr>\n",
       "      <th>8</th>\n",
       "      <td>KITTIWAKE</td>\n",
       "      <td>NaN</td>\n",
       "      <td>U.K.</td>\n",
       "      <td>pilot ship</td>\n",
       "      <td>AIS Unknown</td>\n",
       "      <td>NaN</td>\n",
       "      <td>NaN</td>\n",
       "      <td>Liverpool</td>\n",
       "      <td>01/09/2023 15:52:41 GMT</td>\n",
       "      <td>02/09/2023 00:06:42 GMT</td>\n",
       "    </tr>\n",
       "    <tr>\n",
       "      <th>9</th>\n",
       "      <td>Lara 1</td>\n",
       "      <td>8521672.0</td>\n",
       "      <td>Panama</td>\n",
       "      <td>crane barge</td>\n",
       "      <td>Hapo International Barges B.V.</td>\n",
       "      <td>1793.0</td>\n",
       "      <td>2346.0</td>\n",
       "      <td>Birkenhead</td>\n",
       "      <td>01/09/2023 15:46:43 GMT</td>\n",
       "      <td>13/09/2023 07:45:20 GMT</td>\n",
       "    </tr>\n",
       "  </tbody>\n",
       "</table>\n",
       "</div>"
      ]
     },
     "metadata": {
      "application/vnd.databricks.v1+output": {
       "addedWidgets": {},
       "arguments": {},
       "data": "<div>\n<style scoped>\n    .dataframe tbody tr th:only-of-type {\n        vertical-align: middle;\n    }\n\n    .dataframe tbody tr th {\n        vertical-align: top;\n    }\n\n    .dataframe thead th {\n        text-align: right;\n    }\n</style>\n<table border=\"1\" class=\"dataframe\">\n  <thead>\n    <tr style=\"text-align: right;\">\n      <th></th>\n      <th>Name</th>\n      <th>IMO</th>\n      <th>Flag</th>\n      <th>LLI Vessel Type</th>\n      <th>Company contact</th>\n      <th>Gross Tonnes</th>\n      <th>DWT</th>\n      <th>Prior Place</th>\n      <th>Arrived at</th>\n      <th>Sailed at</th>\n    </tr>\n  </thead>\n  <tbody>\n    <tr>\n      <th>0</th>\n      <td>Stena Foreteller</td>\n      <td>9214666.0</td>\n      <td>Denmark (Int. Register)</td>\n      <td>roll on roll off with container capacity</td>\n      <td>Stena Line Service AB</td>\n      <td>24688.0</td>\n      <td>11644.0</td>\n      <td>Belfast</td>\n      <td>01/09/2023 22:45:04 GMT</td>\n      <td>02/09/2023 03:07:21 GMT</td>\n    </tr>\n    <tr>\n      <th>1</th>\n      <td>Royal Iris of the Mersey</td>\n      <td>8633712.0</td>\n      <td>U.K.</td>\n      <td>ferry</td>\n      <td>Mersey Ferries Limited</td>\n      <td>464.0</td>\n      <td>NaN</td>\n      <td>Birkenhead</td>\n      <td>01/09/2023 21:33:55 GMT</td>\n      <td>02/09/2023 08:36:41 GMT</td>\n    </tr>\n    <tr>\n      <th>2</th>\n      <td>Seatruck Power</td>\n      <td>9506215.0</td>\n      <td>Isle of Man</td>\n      <td>Roll On Roll Off</td>\n      <td>Seatruck Ferries Holding Limited</td>\n      <td>19722.0</td>\n      <td>5600.0</td>\n      <td>Dublin</td>\n      <td>01/09/2023 19:57:09 GMT</td>\n      <td>02/09/2023 00:54:45 GMT</td>\n    </tr>\n    <tr>\n      <th>3</th>\n      <td>Manannan</td>\n      <td>9176072.0</td>\n      <td>Isle of Man</td>\n      <td>passenger ro/ro</td>\n      <td>Isle of Man Steam Packet Company Limited</td>\n      <td>5743.0</td>\n      <td>800.0</td>\n      <td>Douglas</td>\n      <td>01/09/2023 17:51:25 GMT</td>\n      <td>01/09/2023 19:12:38 GMT</td>\n    </tr>\n    <tr>\n      <th>4</th>\n      <td>Stena Embla</td>\n      <td>9807322.0</td>\n      <td>Cyprus</td>\n      <td>passenger ro/ro</td>\n      <td>Bocom Leasing Management Hong Kong Company Lim...</td>\n      <td>42000.0</td>\n      <td>9748.0</td>\n      <td>Belfast</td>\n      <td>01/09/2023 17:19:36 GMT</td>\n      <td>01/09/2023 21:30:43 GMT</td>\n    </tr>\n    <tr>\n      <th>5</th>\n      <td>Fugro Seeker</td>\n      <td>NaN</td>\n      <td>U.K.</td>\n      <td>support</td>\n      <td>Unknown Owners</td>\n      <td>NaN</td>\n      <td>NaN</td>\n      <td>Liverpool</td>\n      <td>01/09/2023 17:14:28 GMT</td>\n      <td>02/09/2023 07:27:26 GMT</td>\n    </tr>\n    <tr>\n      <th>6</th>\n      <td>Njord Skua</td>\n      <td>8355592.0</td>\n      <td>U.K.</td>\n      <td>tender</td>\n      <td>Njord Offshore Limited</td>\n      <td>66.0</td>\n      <td>18.0</td>\n      <td>Birkenhead</td>\n      <td>01/09/2023 17:07:53 GMT</td>\n      <td>02/09/2023 07:55:03 GMT</td>\n    </tr>\n    <tr>\n      <th>7</th>\n      <td>Spectrum 3</td>\n      <td>9609603.0</td>\n      <td>U.K.</td>\n      <td>supply</td>\n      <td>Unknown Owners</td>\n      <td>49.0</td>\n      <td>NaN</td>\n      <td>Birkenhead</td>\n      <td>01/09/2023 16:43:19 GMT</td>\n      <td>02/09/2023 08:29:11 GMT</td>\n    </tr>\n    <tr>\n      <th>8</th>\n      <td>KITTIWAKE</td>\n      <td>NaN</td>\n      <td>U.K.</td>\n      <td>pilot ship</td>\n      <td>AIS Unknown</td>\n      <td>NaN</td>\n      <td>NaN</td>\n      <td>Liverpool</td>\n      <td>01/09/2023 15:52:41 GMT</td>\n      <td>02/09/2023 00:06:42 GMT</td>\n    </tr>\n    <tr>\n      <th>9</th>\n      <td>Lara 1</td>\n      <td>8521672.0</td>\n      <td>Panama</td>\n      <td>crane barge</td>\n      <td>Hapo International Barges B.V.</td>\n      <td>1793.0</td>\n      <td>2346.0</td>\n      <td>Birkenhead</td>\n      <td>01/09/2023 15:46:43 GMT</td>\n      <td>13/09/2023 07:45:20 GMT</td>\n    </tr>\n  </tbody>\n</table>\n</div>",
       "datasetInfos": [],
       "metadata": {},
       "removedWidgets": [],
       "textData": null,
       "type": "htmlSandbox"
      }
     },
     "output_type": "display_data"
    }
   ],
   "source": [
    "shipdf.replace(\"—\", np.nan, inplace=True)\n",
    "shipdf.head(5)"
   ]
  },
  {
   "cell_type": "code",
   "execution_count": 0,
   "metadata": {
    "application/vnd.databricks.v1+cell": {
     "cellMetadata": {
      "byteLimit": 2048000,
      "rowLimit": 10000
     },
     "inputWidgets": {},
     "nuid": "1f382906-9a75-4393-bbf6-eae9293607d0",
     "showTitle": false,
     "title": ""
    }
   },
   "outputs": [],
   "source": [
    "shipdf['Arrived at'] = pd.to_datetime(shipdf['Arrived at'].str.replace(' GMT', ''), format='%d/%m/%Y %H:%M:%S')\n",
    "shipdf['Sailed at'] = pd.to_datetime(shipdf['Sailed at'].str.replace(' GMT', ''), format='%d/%m/%Y %H:%M:%S')\n"
   ]
  },
  {
   "cell_type": "code",
   "execution_count": 0,
   "metadata": {
    "application/vnd.databricks.v1+cell": {
     "cellMetadata": {
      "byteLimit": 2048000,
      "rowLimit": 10000
     },
     "inputWidgets": {},
     "nuid": "c5f4af41-2493-4b75-accf-bf811d863215",
     "showTitle": false,
     "title": ""
    }
   },
   "outputs": [],
   "source": [
    "import pandas as pd\n",
    "from pyspark.sql import SparkSession\n",
    "\n",
    "# Replace spaces with underscores in column names\n",
    "shipdf.columns = [c.replace(' ', '_') for c in shipdf.columns]\n",
    "\n",
    "# Create a Spark DataFrame from the Pandas DataFrame\n",
    "ship_spark_df = spark.createDataFrame(shipdf)\n"
   ]
  },
  {
   "cell_type": "markdown",
   "metadata": {
    "application/vnd.databricks.v1+cell": {
     "cellMetadata": {
      "byteLimit": 2048000,
      "rowLimit": 10000
     },
     "inputWidgets": {},
     "nuid": "1fdb061f-e9d0-439b-a053-6838ee4c8457",
     "showTitle": false,
     "title": ""
    }
   },
   "source": [
    "#### Feature Extraction , calculating Docking Time"
   ]
  },
  {
   "cell_type": "code",
   "execution_count": 0,
   "metadata": {
    "application/vnd.databricks.v1+cell": {
     "cellMetadata": {
      "byteLimit": 2048000,
      "rowLimit": 10000
     },
     "inputWidgets": {},
     "nuid": "66e1d38d-c891-4ed8-ae02-7f7c46ebf930",
     "showTitle": false,
     "title": ""
    }
   },
   "outputs": [],
   "source": [
    "from pyspark.sql.functions import unix_timestamp, col\n",
    "\n",
    "ship_spark_df = ship_spark_df.withColumn(\n",
    "    \"Docking_Time_Hours\",\n",
    "    (unix_timestamp(\"Sailed_at\") - unix_timestamp(\"Arrived_at\")) / 3600\n",
    ")\n"
   ]
  },
  {
   "cell_type": "code",
   "execution_count": 0,
   "metadata": {
    "application/vnd.databricks.v1+cell": {
     "cellMetadata": {
      "byteLimit": 2048000,
      "rowLimit": 10000
     },
     "inputWidgets": {},
     "nuid": "ed0db217-4e50-48e4-b639-730a1f741736",
     "showTitle": false,
     "title": ""
    }
   },
   "outputs": [],
   "source": [
    "# Save the DataFrame as a permanent table\n",
    "ship_spark_df.write.mode(\"overwrite\").saveAsTable(\"ShipSparkTable\")\n"
   ]
  },
  {
   "cell_type": "markdown",
   "metadata": {
    "application/vnd.databricks.v1+cell": {
     "cellMetadata": {
      "byteLimit": 2048000,
      "rowLimit": 10000
     },
     "inputWidgets": {},
     "nuid": "e2c0f562-406c-44b0-84b0-29f80129a1d0",
     "showTitle": false,
     "title": ""
    }
   },
   "source": [
    "### 01. What is average docking time of the ship?"
   ]
  },
  {
   "cell_type": "code",
   "execution_count": 0,
   "metadata": {
    "application/vnd.databricks.v1+cell": {
     "cellMetadata": {
      "byteLimit": 2048000,
      "implicitDf": true,
      "rowLimit": 10000
     },
     "inputWidgets": {},
     "nuid": "f83407fa-71a5-48e1-a00c-068b45013b3d",
     "showTitle": false,
     "title": ""
    }
   },
   "outputs": [
    {
     "output_type": "display_data",
     "data": {
      "text/html": [
       "<style scoped>\n",
       "  .table-result-container {\n",
       "    max-height: 300px;\n",
       "    overflow: auto;\n",
       "  }\n",
       "  table, th, td {\n",
       "    border: 1px solid black;\n",
       "    border-collapse: collapse;\n",
       "  }\n",
       "  th, td {\n",
       "    padding: 5px;\n",
       "  }\n",
       "  th {\n",
       "    text-align: left;\n",
       "  }\n",
       "</style><div class='table-result-container'><table class='table-result'><thead style='background-color: white'><tr><th>Hours</th><th>Minutes</th></tr></thead><tbody><tr><td>46</td><td>26</td></tr></tbody></table></div>"
      ]
     },
     "metadata": {
      "application/vnd.databricks.v1+output": {
       "addedWidgets": {},
       "aggData": [],
       "aggError": "",
       "aggOverflow": false,
       "aggSchema": [],
       "aggSeriesLimitReached": false,
       "aggType": "",
       "arguments": {},
       "columnCustomDisplayInfos": {},
       "data": [
        [
         46,
         26
        ]
       ],
       "datasetInfos": [],
       "dbfsResultPath": null,
       "isJsonSchema": true,
       "metadata": {},
       "overflow": false,
       "plotOptions": {
        "customPlotOptions": {},
        "displayType": "table",
        "pivotAggregation": null,
        "pivotColumns": null,
        "xColumns": null,
        "yColumns": null
       },
       "removedWidgets": [],
       "schema": [
        {
         "metadata": "{}",
         "name": "Hours",
         "type": "\"integer\""
        },
        {
         "metadata": "{}",
         "name": "Minutes",
         "type": "\"integer\""
        }
       ],
       "type": "table"
      }
     },
     "output_type": "display_data"
    }
   ],
   "source": [
    "%sql\n",
    "SELECT \n",
    "        CAST(AVG(Docking_Time_Hours) AS INT) as Hours, \n",
    "        \n",
    "        CAST((AVG(Docking_Time_Hours) - CAST(AVG(Docking_Time_Hours) AS INT)) * 60 AS INT) as Minutes\n",
    "FROM \n",
    "    ShipSparkTable\n"
   ]
  },
  {
   "cell_type": "markdown",
   "metadata": {
    "application/vnd.databricks.v1+cell": {
     "cellMetadata": {
      "byteLimit": 2048000,
      "rowLimit": 10000
     },
     "inputWidgets": {},
     "nuid": "40bef8a4-2ca2-42ce-a368-dabbce2ae086",
     "showTitle": false,
     "title": ""
    }
   },
   "source": [
    "\n",
    "### 02. How the gross Tonnes can be co-related with docking time e.g., for ships we don’t have Gross Tonnes or DWT?"
   ]
  },
  {
   "cell_type": "markdown",
   "metadata": {
    "application/vnd.databricks.v1+cell": {
     "cellMetadata": {
      "byteLimit": 2048000,
      "rowLimit": 10000
     },
     "inputWidgets": {},
     "nuid": "3b6ae2cf-bbb7-4536-b241-6147cb5dddbb",
     "showTitle": false,
     "title": ""
    }
   },
   "source": [
    "#### Analysis Method\n",
    "1. To explore the relationship between a ship's Gross Tonnes and its docking time, I conducted a scatter plot analysis. The data was limited to docking times of up to 1000 hours to focus on the most relevant range and exclude extreme outliers.\n",
    "\n"
   ]
  },
  {
   "cell_type": "code",
   "execution_count": 0,
   "metadata": {
    "application/vnd.databricks.v1+cell": {
     "cellMetadata": {
      "byteLimit": 2048000,
      "rowLimit": 10000
     },
     "inputWidgets": {},
     "nuid": "5c6fe644-c968-448b-abe6-42b0e4dc974d",
     "showTitle": false,
     "title": ""
    }
   },
   "outputs": [
    {
     "output_type": "display_data",
     "data": {
      "image/png": "[encoded data removed]"
     },
     "metadata": {
      "application/vnd.databricks.v1+output": {
       "addedWidgets": {},
       "arguments": {},
       "data": "data:image/png;base64,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\n",
       "datasetInfos": [],
       "metadata": {},
       "removedWidgets": [],
       "type": "image"
      }
     },
     "output_type": "display_data"
    }
   ],
   "source": [
    "import matplotlib.pyplot as plt\n",
    "ship_pandas_df = ship_spark_df.toPandas()\n",
    "\n",
    "filtered_shipdf = ship_pandas_df[ship_pandas_df['Docking_Time_Hours'] <= 1000].copy()\n",
    "filtered_shipdf.dropna(inplace=True)\n",
    "\n",
    "# Scatter plot of Gross Tonnes vs. Docking Time (Hours)\n",
    "plt.figure(figsize=(12, 6))  # Width: 12 inches, Height: 6 inches\n",
    "\n",
    "plt.scatter( filtered_shipdf['Docking_Time_Hours'],filtered_shipdf['Gross_Tonnes'])\n",
    "\n",
    "plt.xlabel('Docking_Time_Hours')\n",
    "plt.ylabel('Gross_Tonnes')\n",
    "plt.title('Scatter Plot of Gross Tonnes vs. Docking Time')\n",
    "plt.show()\n"
   ]
  },
  {
   "cell_type": "markdown",
   "metadata": {
    "application/vnd.databricks.v1+cell": {
     "cellMetadata": {
      "byteLimit": 2048000,
      "rowLimit": 10000
     },
     "inputWidgets": {},
     "nuid": "fd90cb76-210f-4a43-a68c-0af97fda21e7",
     "showTitle": false,
     "title": ""
    }
   },
   "source": [
    "##### Outcome of Analysis\n",
    "- The scatter plot analysis between Docking Time (Hours) and Gross Tonnes reveals no direct linear relationship between these two variables.\n",
    "- Instances are noted where ships with higher Gross Tonnes values have relatively short docking times, particularly less than 200 hours. This indicates that larger ships don't necessarily spend a longer time docked.\n",
    "- Focusing on \"Lara 1\" as a specific example:\n",
    "  - Despite its Gross Tonnes and DWT values remaining constant across different port visits, the docking time for each visit varies.\n",
    "  - There's no apparent pattern linking the dates of \"Lara 1's\" visits to the Liverpool port with the duration of its stay.\n",
    "- These observations suggest that the size of a ship, as indicated by its Gross Tonnes and DWT, does not have a straightforward or consistent impact on its docking time.\n",
    "- Other factors, perhaps related to port operations, external conditions, might be more influential in determining how long a ship stays docked."
   ]
  },
  {
   "cell_type": "markdown",
   "metadata": {
    "application/vnd.databricks.v1+cell": {
     "cellMetadata": {
      "byteLimit": 2048000,
      "rowLimit": 10000
     },
     "inputWidgets": {},
     "nuid": "2e932f8f-9904-430b-9e07-c856bc38274a",
     "showTitle": false,
     "title": ""
    }
   },
   "source": [
    "\n",
    "*Further Analysis*:\n",
    "To illustrate the variation in docking time for a ship with consistent Gross Tonnes and DWT, I have queried the data for \"Lara 1\"."
   ]
  },
  {
   "cell_type": "code",
   "execution_count": 0,
   "metadata": {
    "application/vnd.databricks.v1+cell": {
     "cellMetadata": {
      "byteLimit": 2048000,
      "implicitDf": true,
      "rowLimit": 10000
     },
     "inputWidgets": {},
     "nuid": "6763703f-b2e6-48f5-80c6-046fc9b33878",
     "showTitle": false,
     "title": ""
    }
   },
   "outputs": [
    {
     "output_type": "display_data",
     "data": {
      "text/html": [
       "<style scoped>\n",
       "  .table-result-container {\n",
       "    max-height: 300px;\n",
       "    overflow: auto;\n",
       "  }\n",
       "  table, th, td {\n",
       "    border: 1px solid black;\n",
       "    border-collapse: collapse;\n",
       "  }\n",
       "  th, td {\n",
       "    padding: 5px;\n",
       "  }\n",
       "  th {\n",
       "    text-align: left;\n",
       "  }\n",
       "</style><div class='table-result-container'><table class='table-result'><thead style='background-color: white'><tr><th>Docking_Time_Hours</th><th>Name</th><th>Flag</th><th>LLI_Vessel_Type</th><th>Gross_Tonnes</th><th>DWT</th><th>Prior_Place</th></tr></thead><tbody><tr><td>1446.4472222222223</td><td>Lara 1</td><td>Panama</td><td>crane barge</td><td>1793.0</td><td>2346.0</td><td>Ellesmere Port</td></tr><tr><td>92.37555555555555</td><td>Lara 1</td><td>Panama</td><td>crane barge</td><td>1793.0</td><td>2346.0</td><td>Ellesmere Port</td></tr><tr><td>212.66305555555556</td><td>Lara 1</td><td>Panama</td><td>crane barge</td><td>1793.0</td><td>2346.0</td><td>Ellesmere Port</td></tr><tr><td>103.63305555555556</td><td>Lara 1</td><td>Panama</td><td>crane barge</td><td>1793.0</td><td>2346.0</td><td>Ellesmere Port</td></tr><tr><td>1364.7183333333332</td><td>Lara 1</td><td>Panama</td><td>crane barge</td><td>1793.0</td><td>2346.0</td><td>Birkenhead</td></tr></tbody></table></div>"
      ]
     },
     "metadata": {
      "application/vnd.databricks.v1+output": {
       "addedWidgets": {},
       "aggData": [],
       "aggError": "",
       "aggOverflow": false,
       "aggSchema": [],
       "aggSeriesLimitReached": false,
       "aggType": "",
       "arguments": {},
       "columnCustomDisplayInfos": {},
       "data": [
        [
         1446.4472222222223,
         "Lara 1",
         "Panama",
         "crane barge",
         1793.0,
         2346.0,
         "Ellesmere Port"
        ],
        [
         92.37555555555555,
         "Lara 1",
         "Panama",
         "crane barge",
         1793.0,
         2346.0,
         "Ellesmere Port"
        ],
        [
         212.66305555555556,
         "Lara 1",
         "Panama",
         "crane barge",
         1793.0,
         2346.0,
         "Ellesmere Port"
        ],
        [
         103.63305555555556,
         "Lara 1",
         "Panama",
         "crane barge",
         1793.0,
         2346.0,
         "Ellesmere Port"
        ],
        [
         1364.7183333333332,
         "Lara 1",
         "Panama",
         "crane barge",
         1793.0,
         2346.0,
         "Birkenhead"
        ]
       ],
       "datasetInfos": [],
       "dbfsResultPath": null,
       "isJsonSchema": true,
       "metadata": {},
       "overflow": false,
       "plotOptions": {
        "customPlotOptions": {},
        "displayType": "table",
        "pivotAggregation": null,
        "pivotColumns": null,
        "xColumns": null,
        "yColumns": null
       },
       "removedWidgets": [],
       "schema": [
        {
         "metadata": "{}",
         "name": "Docking_Time_Hours",
         "type": "\"double\""
        },
        {
         "metadata": "{}",
         "name": "Name",
         "type": "\"string\""
        },
        {
         "metadata": "{}",
         "name": "Flag",
         "type": "\"string\""
        },
        {
         "metadata": "{}",
         "name": "LLI_Vessel_Type",
         "type": "\"string\""
        },
        {
         "metadata": "{}",
         "name": "Gross_Tonnes",
         "type": "\"double\""
        },
        {
         "metadata": "{}",
         "name": "DWT",
         "type": "\"double\""
        },
        {
         "metadata": "{}",
         "name": "Prior_Place",
         "type": "\"string\""
        }
       ],
       "type": "table"
      }
     },
     "output_type": "display_data"
    }
   ],
   "source": [
    "%sql\n",
    "-- Diffrent docking time for same gross tonnes and DWT\n",
    "select Docking_Time_Hours,Name,Flag,LLI_Vessel_Type,Gross_Tonnes,DWT,Prior_Place from ShipSparkTable where Name='Lara 1' limit 5"
   ]
  },
  {
   "cell_type": "markdown",
   "metadata": {
    "application/vnd.databricks.v1+cell": {
     "cellMetadata": {
      "byteLimit": 2048000,
      "rowLimit": 10000
     },
     "inputWidgets": {},
     "nuid": "39f519c3-1509-4623-aa99-34377db1862a",
     "showTitle": false,
     "title": ""
    }
   },
   "source": [
    "#### Data Imputation for Gross Tonnes\n",
    "To fill missing Gross Tonnes data, it's a good idea to use the LLI Vessel Type. This works well because ships of the same type usually have similar sizes and weights. So, this method provides a realistic way to fill in missing information, making sure it matches the actual size and weight of the ships."
   ]
  },
  {
   "cell_type": "code",
   "execution_count": 0,
   "metadata": {
    "application/vnd.databricks.v1+cell": {
     "cellMetadata": {
      "byteLimit": 2048000,
      "implicitDf": true,
      "rowLimit": 10000
     },
     "inputWidgets": {},
     "nuid": "643f7bd3-127b-4f33-9880-818aeb26bc07",
     "showTitle": false,
     "title": ""
    }
   },
   "outputs": [
    {
     "output_type": "display_data",
     "data": {
      "text/html": [
       "<style scoped>\n",
       "  .table-result-container {\n",
       "    max-height: 300px;\n",
       "    overflow: auto;\n",
       "  }\n",
       "  table, th, td {\n",
       "    border: 1px solid black;\n",
       "    border-collapse: collapse;\n",
       "  }\n",
       "  th, td {\n",
       "    padding: 5px;\n",
       "  }\n",
       "  th {\n",
       "    text-align: left;\n",
       "  }\n",
       "</style><div class='table-result-container'><table class='table-result'><thead style='background-color: white'><tr><th>num_affected_rows</th><th>num_updated_rows</th><th>num_deleted_rows</th><th>num_inserted_rows</th></tr></thead><tbody><tr><td>598</td><td>598</td><td>0</td><td>0</td></tr></tbody></table></div>"
      ]
     },
     "metadata": {
      "application/vnd.databricks.v1+output": {
       "addedWidgets": {},
       "aggData": [],
       "aggError": "",
       "aggOverflow": false,
       "aggSchema": [],
       "aggSeriesLimitReached": false,
       "aggType": "",
       "arguments": {},
       "columnCustomDisplayInfos": {},
       "data": [
        [
         598,
         598,
         0,
         0
        ]
       ],
       "datasetInfos": [],
       "dbfsResultPath": null,
       "isJsonSchema": true,
       "metadata": {},
       "overflow": false,
       "plotOptions": {
        "customPlotOptions": {},
        "displayType": "table",
        "pivotAggregation": null,
        "pivotColumns": null,
        "xColumns": null,
        "yColumns": null
       },
       "removedWidgets": [],
       "schema": [
        {
         "metadata": "{}",
         "name": "num_affected_rows",
         "type": "\"long\""
        },
        {
         "metadata": "{}",
         "name": "num_updated_rows",
         "type": "\"long\""
        },
        {
         "metadata": "{}",
         "name": "num_deleted_rows",
         "type": "\"long\""
        },
        {
         "metadata": "{}",
         "name": "num_inserted_rows",
         "type": "\"long\""
        }
       ],
       "type": "table"
      }
     },
     "output_type": "display_data"
    }
   ],
   "source": [
    "%sql\n",
    "merge into ShipSparkTable as Target\n",
    "using (\n",
    "  select LLI_Vessel_Type,avg(Gross_Tonnes) as avg_gross_tonnes from ShipSparkTable where Gross_Tonnes is not null\n",
    "group by all\n",
    ") as source\n",
    "on Target.LLI_Vessel_Type=source.LLI_Vessel_Type and Target.Gross_Tonnes is null\n",
    "when matched then\n",
    "update set  Target.Gross_Tonnes=source.avg_gross_tonnes\n"
   ]
  },
  {
   "cell_type": "markdown",
   "metadata": {
    "application/vnd.databricks.v1+cell": {
     "cellMetadata": {
      "byteLimit": 2048000,
      "rowLimit": 10000
     },
     "inputWidgets": {},
     "nuid": "6a27c87d-c43e-42eb-bb1a-9c946ef8f8cb",
     "showTitle": false,
     "title": ""
    }
   },
   "source": [
    "#### Data Imputation for DWT\n",
    "To estimate missing DWT (Deadweight Tonnage) data, it's practical to consider each ship's type. Generally, ships of the same type, when loaded to their full capacity, tend to carry similar weights. So, using the ship type to update missing DWT values is likely to provide a good estimate, reflecting what each ship type can typically carry when fully loaded. This approach helps ensure that the data for each ship's carrying capacity is realistic and consistent with others of the same type."
   ]
  },
  {
   "cell_type": "code",
   "execution_count": 0,
   "metadata": {
    "application/vnd.databricks.v1+cell": {
     "cellMetadata": {
      "byteLimit": 2048000,
      "implicitDf": true,
      "rowLimit": 10000
     },
     "inputWidgets": {},
     "nuid": "a1b64216-daf1-40fa-ae7c-1c463e5e77ad",
     "showTitle": false,
     "title": ""
    }
   },
   "outputs": [
    {
     "output_type": "display_data",
     "data": {
      "text/html": [
       "<style scoped>\n",
       "  .table-result-container {\n",
       "    max-height: 300px;\n",
       "    overflow: auto;\n",
       "  }\n",
       "  table, th, td {\n",
       "    border: 1px solid black;\n",
       "    border-collapse: collapse;\n",
       "  }\n",
       "  th, td {\n",
       "    padding: 5px;\n",
       "  }\n",
       "  th {\n",
       "    text-align: left;\n",
       "  }\n",
       "</style><div class='table-result-container'><table class='table-result'><thead style='background-color: white'><tr><th>num_affected_rows</th><th>num_updated_rows</th><th>num_deleted_rows</th><th>num_inserted_rows</th></tr></thead><tbody><tr><td>1174</td><td>1174</td><td>0</td><td>0</td></tr></tbody></table></div>"
      ]
     },
     "metadata": {
      "application/vnd.databricks.v1+output": {
       "addedWidgets": {},
       "aggData": [],
       "aggError": "",
       "aggOverflow": false,
       "aggSchema": [],
       "aggSeriesLimitReached": false,
       "aggType": "",
       "arguments": {},
       "columnCustomDisplayInfos": {},
       "data": [
        [
         1174,
         1174,
         0,
         0
        ]
       ],
       "datasetInfos": [],
       "dbfsResultPath": null,
       "isJsonSchema": true,
       "metadata": {},
       "overflow": false,
       "plotOptions": {
        "customPlotOptions": {},
        "displayType": "table",
        "pivotAggregation": null,
        "pivotColumns": null,
        "xColumns": null,
        "yColumns": null
       },
       "removedWidgets": [],
       "schema": [
        {
         "metadata": "{}",
         "name": "num_affected_rows",
         "type": "\"long\""
        },
        {
         "metadata": "{}",
         "name": "num_updated_rows",
         "type": "\"long\""
        },
        {
         "metadata": "{}",
         "name": "num_deleted_rows",
         "type": "\"long\""
        },
        {
         "metadata": "{}",
         "name": "num_inserted_rows",
         "type": "\"long\""
        }
       ],
       "type": "table"
      }
     },
     "output_type": "display_data"
    }
   ],
   "source": [
    "%sql\n",
    "merge into ShipSparkTable as Target\n",
    "using (\n",
    "  select LLI_Vessel_Type,avg(DWT) as avg_DWT from ShipSparkTable where DWT is not null\n",
    "group by all\n",
    ") as source\n",
    "on Target.LLI_Vessel_Type=source.LLI_Vessel_Type and Target.DWT is null\n",
    "when matched then\n",
    "update set  Target.DWT=source.avg_DWT\n"
   ]
  },
  {
   "cell_type": "markdown",
   "metadata": {
    "application/vnd.databricks.v1+cell": {
     "cellMetadata": {
      "byteLimit": 2048000,
      "rowLimit": 10000
     },
     "inputWidgets": {},
     "nuid": "45d3752b-ae4d-442a-baa6-fb885fe2b3ab",
     "showTitle": false,
     "title": ""
    }
   },
   "source": [
    "Records where Gross_Tonnes is still missing\n",
    "  - Given that there are four different ships classified as pilot ships, each with distinct names, it would be more accurate to verify their weights individually and obtain this information from reliable sources. Pilot ships, being specialized vessels, can vary in size and weight, even among ships of the same classification. \n",
    "  - Manual update needs to be made as data is not available for similar Vessel Type"
   ]
  },
  {
   "cell_type": "code",
   "execution_count": 0,
   "metadata": {
    "application/vnd.databricks.v1+cell": {
     "cellMetadata": {
      "byteLimit": 2048000,
      "implicitDf": true,
      "rowLimit": 10000
     },
     "inputWidgets": {},
     "nuid": "3ddcbe5e-553f-48d5-a98e-2ce614cbbbf2",
     "showTitle": false,
     "title": ""
    }
   },
   "outputs": [
    {
     "output_type": "display_data",
     "data": {
      "text/html": [
       "<style scoped>\n",
       "  .table-result-container {\n",
       "    max-height: 300px;\n",
       "    overflow: auto;\n",
       "  }\n",
       "  table, th, td {\n",
       "    border: 1px solid black;\n",
       "    border-collapse: collapse;\n",
       "  }\n",
       "  th, td {\n",
       "    padding: 5px;\n",
       "  }\n",
       "  th {\n",
       "    text-align: left;\n",
       "  }\n",
       "</style><div class='table-result-container'><table class='table-result'><thead style='background-color: white'><tr><th>name</th><th>LLI_Vessel_Type</th><th>count(1)</th></tr></thead><tbody><tr><td>TURNSTONE</td><td>pilot ship</td><td>1</td></tr><tr><td>RAZORBILL</td><td>pilot ship</td><td>472</td></tr><tr><td>PETREL</td><td>pilot ship</td><td>430</td></tr><tr><td>KITTIWAKE</td><td>pilot ship</td><td>486</td></tr></tbody></table></div>"
      ]
     },
     "metadata": {
      "application/vnd.databricks.v1+output": {
       "addedWidgets": {},
       "aggData": [],
       "aggError": "",
       "aggOverflow": false,
       "aggSchema": [],
       "aggSeriesLimitReached": false,
       "aggType": "",
       "arguments": {},
       "columnCustomDisplayInfos": {},
       "data": [
        [
         "TURNSTONE",
         "pilot ship",
         1
        ],
        [
         "RAZORBILL",
         "pilot ship",
         472
        ],
        [
         "PETREL",
         "pilot ship",
         430
        ],
        [
         "KITTIWAKE",
         "pilot ship",
         486
        ]
       ],
       "datasetInfos": [],
       "dbfsResultPath": null,
       "isJsonSchema": true,
       "metadata": {},
       "overflow": false,
       "plotOptions": {
        "customPlotOptions": {},
        "displayType": "table",
        "pivotAggregation": null,
        "pivotColumns": null,
        "xColumns": null,
        "yColumns": null
       },
       "removedWidgets": [],
       "schema": [
        {
         "metadata": "{}",
         "name": "name",
         "type": "\"string\""
        },
        {
         "metadata": "{}",
         "name": "LLI_Vessel_Type",
         "type": "\"string\""
        },
        {
         "metadata": "{\"__autoGeneratedAlias\":\"true\"}",
         "name": "count(1)",
         "type": "\"long\""
        }
       ],
       "type": "table"
      }
     },
     "output_type": "display_data"
    }
   ],
   "source": [
    "%sql\n",
    "-- Records where Gross_Tonnes is still missing\n",
    "select  name,LLI_Vessel_Type,count(*) from ShipSparkTable where Gross_Tonnes is null\n",
    "group by all"
   ]
  },
  {
   "cell_type": "markdown",
   "metadata": {
    "application/vnd.databricks.v1+cell": {
     "cellMetadata": {
      "byteLimit": 2048000,
      "rowLimit": 10000
     },
     "inputWidgets": {},
     "nuid": "7317f6a1-ca8b-49cb-8060-547eb8078e4f",
     "showTitle": false,
     "title": ""
    }
   },
   "source": [
    "Records where DWT is still missing\n",
    "- For the mentioned categories like pusher tugs, pilot ships, unspecified vessel types, naval vessels, fishery protection boats, drill platforms, and trawlers, it's important to recognize that these are often smaller or support vessels. They are typically used to assist or accompany larger ships and have unique operational roles. Because of their specialized functions and variations in design and capacity, a customized approach should be taken for each individual vessel type when estimating missing DWT data. \n",
    "- Manual update needs to be made as data is not available for similar Vessel Type"
   ]
  },
  {
   "cell_type": "code",
   "execution_count": 0,
   "metadata": {
    "application/vnd.databricks.v1+cell": {
     "cellMetadata": {
      "byteLimit": 2048000,
      "implicitDf": true,
      "rowLimit": 10000
     },
     "inputWidgets": {},
     "nuid": "f572968b-f541-4a3e-bb03-65553557ca18",
     "showTitle": false,
     "title": ""
    }
   },
   "outputs": [
    {
     "output_type": "display_data",
     "data": {
      "text/html": [
       "<style scoped>\n",
       "  .table-result-container {\n",
       "    max-height: 300px;\n",
       "    overflow: auto;\n",
       "  }\n",
       "  table, th, td {\n",
       "    border: 1px solid black;\n",
       "    border-collapse: collapse;\n",
       "  }\n",
       "  th, td {\n",
       "    padding: 5px;\n",
       "  }\n",
       "  th {\n",
       "    text-align: left;\n",
       "  }\n",
       "</style><div class='table-result-container'><table class='table-result'><thead style='background-color: white'><tr><th>LLI_Vessel_Type</th><th>count(1)</th></tr></thead><tbody><tr><td>pusher tug</td><td>27</td></tr><tr><td>pilot ship</td><td>1389</td></tr><tr><td>Vessel Type (unspecified)</td><td>179</td></tr><tr><td>Naval Vessel</td><td>4</td></tr><tr><td>fishery protection</td><td>2</td></tr><tr><td>drill platform</td><td>1</td></tr><tr><td>trawler (All types)</td><td>2</td></tr></tbody></table></div>"
      ]
     },
     "metadata": {
      "application/vnd.databricks.v1+output": {
       "addedWidgets": {},
       "aggData": [],
       "aggError": "",
       "aggOverflow": false,
       "aggSchema": [],
       "aggSeriesLimitReached": false,
       "aggType": "",
       "arguments": {},
       "columnCustomDisplayInfos": {},
       "data": [
        [
         "pusher tug",
         27
        ],
        [
         "pilot ship",
         1389
        ],
        [
         "Vessel Type (unspecified)",
         179
        ],
        [
         "Naval Vessel",
         4
        ],
        [
         "fishery protection",
         2
        ],
        [
         "drill platform",
         1
        ],
        [
         "trawler (All types)",
         2
        ]
       ],
       "datasetInfos": [],
       "dbfsResultPath": null,
       "isJsonSchema": true,
       "metadata": {},
       "overflow": false,
       "plotOptions": {
        "customPlotOptions": {},
        "displayType": "table",
        "pivotAggregation": null,
        "pivotColumns": null,
        "xColumns": null,
        "yColumns": null
       },
       "removedWidgets": [],
       "schema": [
        {
         "metadata": "{}",
         "name": "LLI_Vessel_Type",
         "type": "\"string\""
        },
        {
         "metadata": "{\"__autoGeneratedAlias\":\"true\"}",
         "name": "count(1)",
         "type": "\"long\""
        }
       ],
       "type": "table"
      }
     },
     "output_type": "display_data"
    }
   ],
   "source": [
    "%sql\n",
    "-- Records where DWT is missing\n",
    "select  LLI_Vessel_Type,count(*) from ShipSparkTable where DWT is null\n",
    "group by all"
   ]
  },
  {
   "cell_type": "markdown",
   "metadata": {
    "application/vnd.databricks.v1+cell": {
     "cellMetadata": {
      "byteLimit": 2048000,
      "rowLimit": 10000
     },
     "inputWidgets": {},
     "nuid": "909bfec0-874d-4986-bff6-ee2dfae4a45a",
     "showTitle": false,
     "title": ""
    }
   },
   "source": [
    "\n",
    "### 03. How the Vessel Type (column D) can be co-related with docking time and Gross Tonnes or DWT?\n",
    "\n"
   ]
  },
  {
   "cell_type": "markdown",
   "metadata": {
    "application/vnd.databricks.v1+cell": {
     "cellMetadata": {
      "byteLimit": 2048000,
      "rowLimit": 10000
     },
     "inputWidgets": {},
     "nuid": "0e4c7f35-fe0e-44f8-ade2-c36cc79e3956",
     "showTitle": false,
     "title": ""
    }
   },
   "source": [
    "##### 1. Analyzing the docking times of different vessel types, particularly focusing on a single month, allows for more effective berth planning and allocation based on the trends and patterns observed in the data."
   ]
  },
  {
   "cell_type": "code",
   "execution_count": 0,
   "metadata": {
    "application/vnd.databricks.v1+cell": {
     "cellMetadata": {
      "byteLimit": 2048000,
      "implicitDf": true,
      "rowLimit": 10000
     },
     "inputWidgets": {},
     "nuid": "77bbefb2-a4e0-4ddc-ba41-386806921ea4",
     "showTitle": false,
     "title": ""
    }
   },
   "outputs": [
    {
     "output_type": "display_data",
     "data": {
      "text/html": [
       "<style scoped>\n",
       "  .table-result-container {\n",
       "    max-height: 300px;\n",
       "    overflow: auto;\n",
       "  }\n",
       "  table, th, td {\n",
       "    border: 1px solid black;\n",
       "    border-collapse: collapse;\n",
       "  }\n",
       "  th, td {\n",
       "    padding: 5px;\n",
       "  }\n",
       "  th {\n",
       "    text-align: left;\n",
       "  }\n",
       "</style><div class='table-result-container'><table class='table-result'><thead style='background-color: white'><tr><th>LLI_Vessel_Type</th><th>Hours</th><th>Minutes</th></tr></thead><tbody><tr><td>support</td><td>2027</td><td>26</td></tr><tr><td>yacht</td><td>645</td><td>44</td></tr><tr><td>crane barge</td><td>298</td><td>38</td></tr><tr><td>bulk carrier</td><td>170</td><td>22</td></tr><tr><td>Vessel Type (unspecified)</td><td>166</td><td>31</td></tr><tr><td>supply</td><td>108</td><td>2</td></tr><tr><td>tug</td><td>79</td><td>37</td></tr><tr><td>dredger</td><td>70</td><td>27</td></tr><tr><td>general cargo with container capacity</td><td>61</td><td>39</td></tr><tr><td>Combined chemical and oil tanker</td><td>60</td><td>6</td></tr><tr><td>research</td><td>52</td><td>11</td></tr><tr><td>ferry</td><td>51</td><td>28</td></tr><tr><td>general cargo</td><td>47</td><td>9</td></tr><tr><td>bunkering tanker</td><td>42</td><td>24</td></tr><tr><td>crude oil tanker</td><td>40</td><td>42</td></tr><tr><td>fire fighting tug</td><td>40</td><td>12</td></tr><tr><td>chemical tanker</td><td>39</td><td>40</td></tr><tr><td>diving support</td><td>38</td><td>49</td></tr><tr><td>tank barge</td><td>35</td><td>2</td></tr><tr><td>tug/icebreaker</td><td>34</td><td>28</td></tr><tr><td>fully cellular containership</td><td>29</td><td>52</td></tr><tr><td>work ship</td><td>26</td><td>54</td></tr><tr><td>product tanker</td><td>25</td><td>21</td></tr><tr><td>hopper dredger</td><td>24</td><td>46</td></tr><tr><td>Roll On Roll Off</td><td>22</td><td>8</td></tr><tr><td>passenger ro/ro</td><td>20</td><td>16</td></tr><tr><td>pilot ship</td><td>17</td><td>18</td></tr><tr><td>tender</td><td>12</td><td>54</td></tr><tr><td>roll on roll off with container capacity</td><td>11</td><td>10</td></tr><tr><td>passenger (cruise)</td><td>11</td><td>54</td></tr></tbody></table></div>"
      ]
     },
     "metadata": {
      "application/vnd.databricks.v1+output": {
       "addedWidgets": {},
       "aggData": [],
       "aggError": "",
       "aggOverflow": false,
       "aggSchema": [],
       "aggSeriesLimitReached": false,
       "aggType": "",
       "arguments": {},
       "columnCustomDisplayInfos": {},
       "data": [
        [
         "support",
         2027,
         26
        ],
        [
         "yacht",
         645,
         44
        ],
        [
         "crane barge",
         298,
         38
        ],
        [
         "bulk carrier",
         170,
         22
        ],
        [
         "Vessel Type (unspecified)",
         166,
         31
        ],
        [
         "supply",
         108,
         2
        ],
        [
         "tug",
         79,
         37
        ],
        [
         "dredger",
         70,
         27
        ],
        [
         "general cargo with container capacity",
         61,
         39
        ],
        [
         "Combined chemical and oil tanker",
         60,
         6
        ],
        [
         "research",
         52,
         11
        ],
        [
         "ferry",
         51,
         28
        ],
        [
         "general cargo",
         47,
         9
        ],
        [
         "bunkering tanker",
         42,
         24
        ],
        [
         "crude oil tanker",
         40,
         42
        ],
        [
         "fire fighting tug",
         40,
         12
        ],
        [
         "chemical tanker",
         39,
         40
        ],
        [
         "diving support",
         38,
         49
        ],
        [
         "tank barge",
         35,
         2
        ],
        [
         "tug/icebreaker",
         34,
         28
        ],
        [
         "fully cellular containership",
         29,
         52
        ],
        [
         "work ship",
         26,
         54
        ],
        [
         "product tanker",
         25,
         21
        ],
        [
         "hopper dredger",
         24,
         46
        ],
        [
         "Roll On Roll Off",
         22,
         8
        ],
        [
         "passenger ro/ro",
         20,
         16
        ],
        [
         "pilot ship",
         17,
         18
        ],
        [
         "tender",
         12,
         54
        ],
        [
         "roll on roll off with container capacity",
         11,
         10
        ],
        [
         "passenger (cruise)",
         11,
         54
        ]
       ],
       "datasetInfos": [],
       "dbfsResultPath": null,
       "isJsonSchema": true,
       "metadata": {},
       "overflow": false,
       "plotOptions": {
        "customPlotOptions": {},
        "displayType": "table",
        "pivotAggregation": null,
        "pivotColumns": null,
        "xColumns": null,
        "yColumns": null
       },
       "removedWidgets": [],
       "schema": [
        {
         "metadata": "{}",
         "name": "LLI_Vessel_Type",
         "type": "\"string\""
        },
        {
         "metadata": "{}",
         "name": "Hours",
         "type": "\"integer\""
        },
        {
         "metadata": "{}",
         "name": "Minutes",
         "type": "\"integer\""
        }
       ],
       "type": "table"
      }
     },
     "output_type": "display_data"
    }
   ],
   "source": [
    "%sql\n",
    "SELECT \n",
    "    LLI_Vessel_Type,\n",
    "        CAST(AVG(Docking_Time_Hours) AS INT) as Hours, \n",
    "                CAST((AVG(Docking_Time_Hours) - CAST(AVG(Docking_Time_Hours) AS INT)) * 60 AS INT) as Minutes\n",
    "FROM \n",
    "    ShipSparkTable\n",
    "     where cast(Arrived_at as date) BETWEEN '2023-01-01' and '2023-01-30'\n",
    "group by LLI_Vessel_Type order by 2 desc"
   ]
  },
  {
   "cell_type": "markdown",
   "metadata": {
    "application/vnd.databricks.v1+cell": {
     "cellMetadata": {
      "byteLimit": 2048000,
      "rowLimit": 10000
     },
     "inputWidgets": {},
     "nuid": "fe677c9b-25bc-444d-aab8-4d474ee210bb",
     "showTitle": false,
     "title": ""
    }
   },
   "source": [
    "##### 2. Knowing the frequency of each vessel type, combined with their size range (Gross Tonnes), aids in better resource allocation"
   ]
  },
  {
   "cell_type": "code",
   "execution_count": 0,
   "metadata": {
    "application/vnd.databricks.v1+cell": {
     "cellMetadata": {
      "byteLimit": 2048000,
      "implicitDf": true,
      "rowLimit": 10000
     },
     "inputWidgets": {},
     "nuid": "d7079151-34d6-4f02-91fd-932edc4c7c69",
     "showTitle": false,
     "title": ""
    }
   },
   "outputs": [
    {
     "output_type": "display_data",
     "data": {
      "text/html": [
       "<style scoped>\n",
       "  .table-result-container {\n",
       "    max-height: 300px;\n",
       "    overflow: auto;\n",
       "  }\n",
       "  table, th, td {\n",
       "    border: 1px solid black;\n",
       "    border-collapse: collapse;\n",
       "  }\n",
       "  th, td {\n",
       "    padding: 5px;\n",
       "  }\n",
       "  th {\n",
       "    text-align: left;\n",
       "  }\n",
       "</style><div class='table-result-container'><table class='table-result'><thead style='background-color: white'><tr><th>LLI_Vessel_Type</th><th>Min_Gross_Tonnes</th><th>Max_Gross_Tonnes</th><th>Avg_Gross_Tonnes</th><th>count_vessel</th></tr></thead><tbody><tr><td>crude oil tanker</td><td>56500.0</td><td>154381.0</td><td>71130.17</td><td>89</td></tr><tr><td>passenger (cruise)</td><td>693.0</td><td>149215.0</td><td>67655.17</td><td>94</td></tr><tr><td>bulk carrier</td><td>3092.0</td><td>45843.0</td><td>30056.64</td><td>203</td></tr><tr><td>roll on roll off with container capacity</td><td>7606.0</td><td>100430.0</td><td>29447.3</td><td>608</td></tr><tr><td>passenger ro/ro</td><td>2382.0</td><td>63621.0</td><td>27557.72</td><td>1326</td></tr><tr><td>Naval Vessel</td><td>7280.0</td><td>65000.0</td><td>26520.0</td><td>4</td></tr><tr><td>product tanker</td><td>2159.0</td><td>64933.0</td><td>23816.4</td><td>57</td></tr><tr><td>Naval Auxiliary Vessel</td><td>22000.0</td><td>22000.0</td><td>22000.0</td><td>1</td></tr><tr><td>fully cellular containership</td><td>3838.0</td><td>73819.0</td><td>19401.75</td><td>487</td></tr><tr><td>Roll On Roll Off</td><td>5499.0</td><td>19722.0</td><td>18074.79</td><td>935</td></tr><tr><td>cable ship</td><td>16171.0</td><td>16171.0</td><td>16171.0</td><td>1</td></tr><tr><td>Combined chemical and oil tanker</td><td>2262.0</td><td>30638.0</td><td>11629.51</td><td>194</td></tr><tr><td>diving support</td><td>8691.0</td><td>8691.0</td><td>8691.0</td><td>9</td></tr><tr><td>drill ship</td><td>6593.0</td><td>6593.0</td><td>6593.0</td><td>3</td></tr><tr><td>Passenger Vessel (unspecified)</td><td>67.0</td><td>15651.0</td><td>6443.25</td><td>7</td></tr><tr><td>drill platform</td><td>5186.0</td><td>5186.0</td><td>5186.0</td><td>1</td></tr><tr><td>research</td><td>1929.0</td><td>8772.0</td><td>5106.35</td><td>20</td></tr><tr><td>trailing suction hopper dredger</td><td>1949.0</td><td>10234.0</td><td>4710.67</td><td>3</td></tr><tr><td>general cargo</td><td>277.0</td><td>23855.0</td><td>3524.0</td><td>141</td></tr><tr><td>general cargo with container capacity</td><td>1139.0</td><td>16037.0</td><td>3149.28</td><td>225</td></tr><tr><td>chemical tanker</td><td>1895.0</td><td>30523.0</td><td>3118.81</td><td>126</td></tr><tr><td>research/supply ship</td><td>2716.0</td><td>2716.0</td><td>2716.0</td><td>2</td></tr><tr><td>anchor handling tug/supply</td><td>1463.0</td><td>2789.0</td><td>2468.5</td><td>6</td></tr><tr><td>edible oil tanker</td><td>2257.0</td><td>2257.0</td><td>2257.0</td><td>1</td></tr><tr><td>fishery protection</td><td>2109.0</td><td>2109.0</td><td>2109.0</td><td>2</td></tr><tr><td>molasses tanker</td><td>1896.0</td><td>1896.0</td><td>1896.0</td><td>1</td></tr><tr><td>crane barge</td><td>1793.0</td><td>1793.0</td><td>1793.0</td><td>43</td></tr><tr><td>hopper barge</td><td>1512.0</td><td>1546.0</td><td>1512.79</td><td>43</td></tr><tr><td>lighthouse/tender</td><td>132.0</td><td>2639.0</td><td>1385.5</td><td>2</td></tr><tr><td>support</td><td>34.0</td><td>8009.0</td><td>1264.2</td><td>103</td></tr><tr><td>bunkering tanker</td><td>1241.0</td><td>2143.0</td><td>1251.87</td><td>83</td></tr><tr><td>tank barge</td><td>872.0</td><td>872.0</td><td>872.0</td><td>192</td></tr><tr><td>hopper dredger</td><td>355.0</td><td>9760.0</td><td>763.91</td><td>23</td></tr><tr><td>anchor handling tug</td><td>221.0</td><td>1262.0</td><td>741.5</td><td>2</td></tr><tr><td>tug/icebreaker</td><td>656.0</td><td>2789.0</td><td>668.74</td><td>215</td></tr><tr><td>ferry</td><td>2.0</td><td>8680.0</td><td>514.47</td><td>449</td></tr><tr><td>pusher tug</td><td>507.0</td><td>507.0</td><td>507.0</td><td>27</td></tr><tr><td>dredger</td><td>487.0</td><td>499.0</td><td>496.66</td><td>237</td></tr><tr><td>fishing (general)</td><td>264.0</td><td>627.0</td><td>445.5</td><td>2</td></tr><tr><td>fire fighting tug</td><td>374.0</td><td>374.0</td><td>374.0</td><td>413</td></tr><tr><td>tug</td><td>166.0</td><td>927.0</td><td>349.53</td><td>1628</td></tr><tr><td>trawler (All types)</td><td>328.0</td><td>328.0</td><td>328.0</td><td>2</td></tr><tr><td>training</td><td>226.0</td><td>226.0</td><td>226.0</td><td>1</td></tr><tr><td>supply</td><td>49.0</td><td>4030.0</td><td>201.6</td><td>156</td></tr><tr><td>work ship</td><td>106.0</td><td>118.0</td><td>115.5</td><td>267</td></tr><tr><td>tender</td><td>51.0</td><td>215.0</td><td>82.03</td><td>589</td></tr><tr><td>yacht</td><td>20.0</td><td>586.0</td><td>38.99</td><td>331</td></tr><tr><td>standby safety vessel</td><td>29.0</td><td>29.0</td><td>29.0</td><td>1</td></tr><tr><td>Vessel Type (unspecified)</td><td>1.0</td><td>28.0</td><td>26.19</td><td>179</td></tr><tr><td>pilot ship</td><td>null</td><td>null</td><td>null</td><td>1389</td></tr></tbody></table></div>"
      ]
     },
     "metadata": {
      "application/vnd.databricks.v1+output": {
       "addedWidgets": {},
       "aggData": [],
       "aggError": "",
       "aggOverflow": false,
       "aggSchema": [],
       "aggSeriesLimitReached": false,
       "aggType": "",
       "arguments": {},
       "columnCustomDisplayInfos": {},
       "data": [
        [
         "crude oil tanker",
         56500.0,
         154381.0,
         71130.17,
         89
        ],
        [
         "passenger (cruise)",
         693.0,
         149215.0,
         67655.17,
         94
        ],
        [
         "bulk carrier",
         3092.0,
         45843.0,
         30056.64,
         203
        ],
        [
         "roll on roll off with container capacity",
         7606.0,
         100430.0,
         29447.3,
         608
        ],
        [
         "passenger ro/ro",
         2382.0,
         63621.0,
         27557.72,
         1326
        ],
        [
         "Naval Vessel",
         7280.0,
         65000.0,
         26520.0,
         4
        ],
        [
         "product tanker",
         2159.0,
         64933.0,
         23816.4,
         57
        ],
        [
         "Naval Auxiliary Vessel",
         22000.0,
         22000.0,
         22000.0,
         1
        ],
        [
         "fully cellular containership",
         3838.0,
         73819.0,
         19401.75,
         487
        ],
        [
         "Roll On Roll Off",
         5499.0,
         19722.0,
         18074.79,
         935
        ],
        [
         "cable ship",
         16171.0,
         16171.0,
         16171.0,
         1
        ],
        [
         "Combined chemical and oil tanker",
         2262.0,
         30638.0,
         11629.51,
         194
        ],
        [
         "diving support",
         8691.0,
         8691.0,
         8691.0,
         9
        ],
        [
         "drill ship",
         6593.0,
         6593.0,
         6593.0,
         3
        ],
        [
         "Passenger Vessel (unspecified)",
         67.0,
         15651.0,
         6443.25,
         7
        ],
        [
         "drill platform",
         5186.0,
         5186.0,
         5186.0,
         1
        ],
        [
         "research",
         1929.0,
         8772.0,
         5106.35,
         20
        ],
        [
         "trailing suction hopper dredger",
         1949.0,
         10234.0,
         4710.67,
         3
        ],
        [
         "general cargo",
         277.0,
         23855.0,
         3524.0,
         141
        ],
        [
         "general cargo with container capacity",
         1139.0,
         16037.0,
         3149.28,
         225
        ],
        [
         "chemical tanker",
         1895.0,
         30523.0,
         3118.81,
         126
        ],
        [
         "research/supply ship",
         2716.0,
         2716.0,
         2716.0,
         2
        ],
        [
         "anchor handling tug/supply",
         1463.0,
         2789.0,
         2468.5,
         6
        ],
        [
         "edible oil tanker",
         2257.0,
         2257.0,
         2257.0,
         1
        ],
        [
         "fishery protection",
         2109.0,
         2109.0,
         2109.0,
         2
        ],
        [
         "molasses tanker",
         1896.0,
         1896.0,
         1896.0,
         1
        ],
        [
         "crane barge",
         1793.0,
         1793.0,
         1793.0,
         43
        ],
        [
         "hopper barge",
         1512.0,
         1546.0,
         1512.79,
         43
        ],
        [
         "lighthouse/tender",
         132.0,
         2639.0,
         1385.5,
         2
        ],
        [
         "support",
         34.0,
         8009.0,
         1264.2,
         103
        ],
        [
         "bunkering tanker",
         1241.0,
         2143.0,
         1251.87,
         83
        ],
        [
         "tank barge",
         872.0,
         872.0,
         872.0,
         192
        ],
        [
         "hopper dredger",
         355.0,
         9760.0,
         763.91,
         23
        ],
        [
         "anchor handling tug",
         221.0,
         1262.0,
         741.5,
         2
        ],
        [
         "tug/icebreaker",
         656.0,
         2789.0,
         668.74,
         215
        ],
        [
         "ferry",
         2.0,
         8680.0,
         514.47,
         449
        ],
        [
         "pusher tug",
         507.0,
         507.0,
         507.0,
         27
        ],
        [
         "dredger",
         487.0,
         499.0,
         496.66,
         237
        ],
        [
         "fishing (general)",
         264.0,
         627.0,
         445.5,
         2
        ],
        [
         "fire fighting tug",
         374.0,
         374.0,
         374.0,
         413
        ],
        [
         "tug",
         166.0,
         927.0,
         349.53,
         1628
        ],
        [
         "trawler (All types)",
         328.0,
         328.0,
         328.0,
         2
        ],
        [
         "training",
         226.0,
         226.0,
         226.0,
         1
        ],
        [
         "supply",
         49.0,
         4030.0,
         201.6,
         156
        ],
        [
         "work ship",
         106.0,
         118.0,
         115.5,
         267
        ],
        [
         "tender",
         51.0,
         215.0,
         82.03,
         589
        ],
        [
         "yacht",
         20.0,
         586.0,
         38.99,
         331
        ],
        [
         "standby safety vessel",
         29.0,
         29.0,
         29.0,
         1
        ],
        [
         "Vessel Type (unspecified)",
         1.0,
         28.0,
         26.19,
         179
        ],
        [
         "pilot ship",
         null,
         null,
         null,
         1389
        ]
       ],
       "datasetInfos": [],
       "dbfsResultPath": null,
       "isJsonSchema": true,
       "metadata": {},
       "overflow": false,
       "plotOptions": {
        "customPlotOptions": {},
        "displayType": "table",
        "pivotAggregation": null,
        "pivotColumns": null,
        "xColumns": null,
        "yColumns": null
       },
       "removedWidgets": [],
       "schema": [
        {
         "metadata": "{}",
         "name": "LLI_Vessel_Type",
         "type": "\"string\""
        },
        {
         "metadata": "{}",
         "name": "Min_Gross_Tonnes",
         "type": "\"double\""
        },
        {
         "metadata": "{}",
         "name": "Max_Gross_Tonnes",
         "type": "\"double\""
        },
        {
         "metadata": "{}",
         "name": "Avg_Gross_Tonnes",
         "type": "\"double\""
        },
        {
         "metadata": "{}",
         "name": "count_vessel",
         "type": "\"long\""
        }
       ],
       "type": "table"
      }
     },
     "output_type": "display_data"
    }
   ],
   "source": [
    "%sql\n",
    "SELECT \n",
    "    LLI_Vessel_Type,\n",
    "    MIN(Gross_Tonnes) AS Min_Gross_Tonnes,\n",
    "    MAX(Gross_Tonnes) AS Max_Gross_Tonnes,\n",
    "    ROUND(AVG(Gross_Tonnes), 2) AS Avg_Gross_Tonnes,\n",
    "    count(LLI_Vessel_Type) as count_vessel\n",
    "FROM ShipSparkTable\n",
    "GROUP BY LLI_Vessel_Type\n",
    "ORDER BY Avg_Gross_Tonnes DESC;\n"
   ]
  },
  {
   "cell_type": "markdown",
   "metadata": {
    "application/vnd.databricks.v1+cell": {
     "cellMetadata": {
      "byteLimit": 2048000,
      "rowLimit": 10000
     },
     "inputWidgets": {},
     "nuid": "4f784173-116a-4dc2-9187-7a3b5fb9d5c0",
     "showTitle": false,
     "title": ""
    }
   },
   "source": [
    "### 04. How can we cluster the last port prior to arrival (Column H) with column F, G and I, J?\n"
   ]
  },
  {
   "cell_type": "markdown",
   "metadata": {
    "application/vnd.databricks.v1+cell": {
     "cellMetadata": {
      "byteLimit": 2048000,
      "rowLimit": 10000
     },
     "inputWidgets": {},
     "nuid": "facb8570-f2ee-4b57-81f8-61fac69f3702",
     "showTitle": false,
     "title": ""
    }
   },
   "source": [
    "Expected Output\n",
    "1. By analyzing the minimum and maximum Gross Tonnes and DWT, we get a clear picture of the range of vessel sizes coming from each prior port. This indicates the capacity and types of ships the prior ports can handle.\n",
    "2. The count of ships from each prior port helps understand the volume of traffic. More ships from a particular port can indicate a stronger commercial or trading relationship.\n",
    "3. Ports handling larger vessels (with higher Gross Tonnes and DWT) are likely to be larger and better equipped. This data helps estimate the infrastructure and capacity of these prior ports.\n",
    "4. Knowing the range and frequency of vessels from each port can aid in strategic decision-making for resource allocation, logistical planning, and enhancing operational efficiency at the Liverpool Port.\n",
    "5. Identifying the most frequented prior ports can help in analyzing key trade routes, understanding market dynamics, and planning for future trade engagements."
   ]
  },
  {
   "cell_type": "code",
   "execution_count": 0,
   "metadata": {
    "application/vnd.databricks.v1+cell": {
     "cellMetadata": {
      "byteLimit": 2048000,
      "implicitDf": true,
      "rowLimit": 10000
     },
     "inputWidgets": {},
     "nuid": "b4b3d6cb-72b8-49d0-8b19-c671d2fcbf83",
     "showTitle": false,
     "title": ""
    }
   },
   "outputs": [
    {
     "output_type": "display_data",
     "data": {
      "text/html": [
       "<style scoped>\n",
       "  .table-result-container {\n",
       "    max-height: 300px;\n",
       "    overflow: auto;\n",
       "  }\n",
       "  table, th, td {\n",
       "    border: 1px solid black;\n",
       "    border-collapse: collapse;\n",
       "  }\n",
       "  th, td {\n",
       "    padding: 5px;\n",
       "  }\n",
       "  th {\n",
       "    text-align: left;\n",
       "  }\n",
       "</style><div class='table-result-container'><table class='table-result'><thead style='background-color: white'><tr><th>Prior_place</th><th>min_Gross_Tonnes</th><th>max_Gross_Tonnes</th><th>min_DWT</th><th>max_DWT</th><th>Count_of_Ships</th></tr></thead><tbody><tr><td>Liverpool</td><td>20.0</td><td>59652.0</td><td>5.0</td><td>81987.0</td><td>3425</td></tr><tr><td>Birkenhead</td><td>25.0</td><td>62826.0</td><td>5.0</td><td>114139.0</td><td>2451</td></tr><tr><td>Dublin</td><td>38.98830409356725</td><td>43062.0</td><td>8.123076923076923</td><td>81758.0</td><td>1605</td></tr><tr><td>Belfast</td><td>38.98830409356725</td><td>142714.0</td><td>8.123076923076923</td><td>82362.0</td><td>1031</td></tr><tr><td>Eastham</td><td>26.192307692307693</td><td>12164.0</td><td>8.123076923076923</td><td>17653.0</td><td>357</td></tr><tr><td>Douglas</td><td>8.0</td><td>15651.0</td><td>8.123076923076923</td><td>4168.0</td><td>268</td></tr><tr><td>Rotterdam</td><td>221.0</td><td>62775.0</td><td>187.0</td><td>112905.0</td><td>126</td></tr><tr><td>Bilbao</td><td>3953.0</td><td>43672.0</td><td>6886.0</td><td>82597.0</td><td>111</td></tr><tr><td>Antwerpen</td><td>2262.0</td><td>100430.0</td><td>3450.0</td><td>67601.0</td><td>93</td></tr><tr><td>Holyhead</td><td>20.0</td><td>92822.0</td><td>8.123076923076923</td><td>11936.0</td><td>83</td></tr><tr><td>Le Havre</td><td>3219.0</td><td>62812.0</td><td>4671.0</td><td>115468.0</td><td>65</td></tr><tr><td>Leixoes</td><td>2452.0</td><td>33044.0</td><td>3685.0</td><td>57000.0</td><td>51</td></tr><tr><td>Bromborough</td><td>26.192307692307693</td><td>6443.25</td><td>18.0</td><td>3680.0</td><td>48</td></tr><tr><td>Sines</td><td>15633.0</td><td>73819.0</td><td>16939.0</td><td>85802.0</td><td>39</td></tr><tr><td>Runcorn</td><td>26.192307692307693</td><td>3845.0</td><td>330.0</td><td>5203.0</td><td>39</td></tr><tr><td>Stanlow</td><td>3441.0</td><td>12164.0</td><td>5064.0</td><td>18000.0</td><td>35</td></tr><tr><td>Larne</td><td>1241.0</td><td>7606.0</td><td>2128.0</td><td>5803.0</td><td>33</td></tr><tr><td>Dunkerque</td><td>2789.0</td><td>36106.0</td><td>3244.0</td><td>63524.0</td><td>32</td></tr><tr><td>Aveiro</td><td>2461.0</td><td>4106.0</td><td>3701.0</td><td>6509.0</td><td>30</td></tr><tr><td>Ellesmere Port</td><td>38.98830409356725</td><td>12105.0</td><td>8.123076923076923</td><td>16626.0</td><td>28</td></tr><tr><td>Villagarcia de Arosa</td><td>1862.0</td><td>3169.0</td><td>2600.0</td><td>5000.0</td><td>26</td></tr><tr><td>Greenock</td><td>1512.0</td><td>99526.0</td><td>2100.0</td><td>50532.0</td><td>23</td></tr><tr><td>Setubal</td><td>2218.0</td><td>23274.0</td><td>3360.0</td><td>37744.0</td><td>19</td></tr><tr><td>Ferrol</td><td>2446.0</td><td>8273.0</td><td>3680.0</td><td>11051.0</td><td>18</td></tr><tr><td>Fairview Cove</td><td>100430.0</td><td>100430.0</td><td>55547.0</td><td>55828.0</td><td>16</td></tr><tr><td>Saint-Nazaire</td><td>1960.0</td><td>3953.0</td><td>2999.0</td><td>6886.0</td><td>16</td></tr><tr><td>Rosslare Harbour</td><td>1895.0</td><td>1895.0</td><td>3347.0</td><td>3347.0</td><td>16</td></tr><tr><td>Ingleside</td><td>62241.0</td><td>85431.0</td><td>109900.0</td><td>164608.0</td><td>15</td></tr><tr><td>Wicklow</td><td>852.0</td><td>1435.0</td><td>1275.0</td><td>1680.0</td><td>15</td></tr><tr><td>Warrenpoint</td><td>1241.0</td><td>2993.0</td><td>2128.0</td><td>4504.0</td><td>15</td></tr><tr><td>Portbury</td><td>7642.0</td><td>100430.0</td><td>9285.0</td><td>82561.0</td><td>14</td></tr><tr><td>Ceuta</td><td>1262.0</td><td>8239.0</td><td>1017.0</td><td>12522.0</td><td>14</td></tr><tr><td>Odda</td><td>2998.0</td><td>3561.0</td><td>4321.0</td><td>5159.0</td><td>14</td></tr><tr><td>Garston</td><td>496.65625</td><td>2545.0</td><td>212.046875</td><td>3800.0</td><td>14</td></tr><tr><td>Bethioua</td><td>56500.0</td><td>84735.0</td><td>104027.0</td><td>164787.0</td><td>14</td></tr><tr><td>Corpus Christi</td><td>57249.0</td><td>84216.0</td><td>105525.0</td><td>158734.0</td><td>14</td></tr><tr><td>Gijon</td><td>1536.0</td><td>35906.0</td><td>1920.0</td><td>63688.0</td><td>13</td></tr><tr><td>Las Palmas de Gran Canaria</td><td>19999.0</td><td>44114.0</td><td>30000.0</td><td>82689.0</td><td>13</td></tr><tr><td>Douglas Field</td><td>1794.0</td><td>8691.0</td><td>952.0</td><td>6200.0</td><td>13</td></tr><tr><td>Southampton</td><td>2958.0</td><td>149215.0</td><td>4516.0</td><td>46975.0</td><td>13</td></tr><tr><td>Santander</td><td>11896.0</td><td>23987.0</td><td>9100.0</td><td>16929.0</td><td>12</td></tr><tr><td>Montreal</td><td>7196.0</td><td>54809.0</td><td>11219.0</td><td>67255.0</td><td>12</td></tr><tr><td>Mostyn</td><td>2.0</td><td>115.49763033175356</td><td>12.0</td><td>1193.6666666666667</td><td>12</td></tr><tr><td>Dundalk</td><td>852.0</td><td>1986.0</td><td>1275.0</td><td>3504.0</td><td>12</td></tr><tr><td>Amsterdam</td><td>1882.0</td><td>34795.0</td><td>2508.0</td><td>61483.0</td><td>12</td></tr><tr><td>New Ross</td><td>1846.0</td><td>3293.0</td><td>2500.0</td><td>5171.0</td><td>12</td></tr><tr><td>Glensanda</td><td>4783.0</td><td>45843.0</td><td>7182.0</td><td>73609.0</td><td>11</td></tr><tr><td>La Coruna (A Coruna)</td><td>32415.0</td><td>59652.0</td><td>4664.0</td><td>58749.0</td><td>11</td></tr><tr><td>Glasgow</td><td>1793.0</td><td>36353.0</td><td>2346.0</td><td>63526.0</td><td>10</td></tr><tr><td>Malaga</td><td>2446.0</td><td>2999.0</td><td>3676.0</td><td>5063.0</td><td>10</td></tr><tr><td>Goteborg Anchorage</td><td>2868.0</td><td>62624.0</td><td>3780.0</td><td>114073.0</td><td>10</td></tr><tr><td>Lennox Field</td><td>110.0</td><td>110.0</td><td>184.0</td><td>184.0</td><td>10</td></tr><tr><td>Vlissingen</td><td>1262.0</td><td>23987.0</td><td>1008.0</td><td>9729.0</td><td>10</td></tr><tr><td>Kotka</td><td>3450.0</td><td>7260.0</td><td>4700.0</td><td>10745.0</td><td>9</td></tr><tr><td>Cobh</td><td>44000.0</td><td>142714.0</td><td>7500.0</td><td>82362.0</td><td>9</td></tr><tr><td>Savannah</td><td>21483.0</td><td>25515.0</td><td>33132.0</td><td>39202.0</td><td>8</td></tr><tr><td>Brunsbuttel</td><td>2858.0</td><td>61888.0</td><td>4909.0</td><td>113032.0</td><td>8</td></tr><tr><td>Port Allen</td><td>20236.0</td><td>36403.0</td><td>32309.0</td><td>63681.0</td><td>8</td></tr><tr><td>Kyle of Lochalsh</td><td>1139.0</td><td>1212.0</td><td>1102.0</td><td>1318.0</td><td>8</td></tr><tr><td>Stura</td><td>57312.0</td><td>85504.0</td><td>106282.0</td><td>148644.0</td><td>8</td></tr><tr><td>Limerick</td><td>2373.0</td><td>2999.0</td><td>4245.0</td><td>5164.0</td><td>7</td></tr><tr><td>Aberdeen</td><td>1929.0</td><td>16171.0</td><td>536.0</td><td>14900.0</td><td>7</td></tr><tr><td>Millom Field</td><td>2733.0</td><td>8772.0</td><td>675.0</td><td>5337.0</td><td>7</td></tr><tr><td>Mongstad</td><td>24230.0</td><td>82789.0</td><td>38734.0</td><td>120567.0</td><td>7</td></tr><tr><td>Baie Comeau</td><td>8911.0</td><td>43248.0</td><td>14603.0</td><td>82073.0</td><td>6</td></tr><tr><td>Hamilton Field</td><td>1513.0</td><td>31029.0</td><td>536.0</td><td>55089.0</td><td>6</td></tr><tr><td>Great Bitter Lake</td><td>9618.0</td><td>36354.0</td><td>12661.0</td><td>62982.0</td><td>6</td></tr><tr><td>Barrow in Furness</td><td>20.0</td><td>496.65625</td><td>8.123076923076923</td><td>260.0</td><td>6</td></tr><tr><td>Milford Docks</td><td>20.0</td><td>66.0</td><td>8.123076923076923</td><td>18.0</td><td>6</td></tr><tr><td>Bruichladdich</td><td>1895.0</td><td>1895.0</td><td>3347.0</td><td>3347.0</td><td>6</td></tr><tr><td>Chesapeake</td><td>31779.0</td><td>35812.0</td><td>55725.0</td><td>63350.0</td><td>5</td></tr><tr><td>Ashdod</td><td>5986.0</td><td>9670.0</td><td>9456.0</td><td>14513.0</td><td>5</td></tr><tr><td>Castellon de la Plana</td><td>9962.0</td><td>9981.0</td><td>11376.0</td><td>11639.0</td><td>5</td></tr><tr><td>la Pallice</td><td>2601.0</td><td>33042.0</td><td>3676.0</td><td>56830.0</td><td>5</td></tr><tr><td>Teesport</td><td>31544.0</td><td>80850.0</td><td>55989.0</td><td>123166.0</td><td>5</td></tr><tr><td>Sullom Voe</td><td>61336.0</td><td>65293.0</td><td>111413.0</td><td>117099.0</td><td>5</td></tr><tr><td>Heysham</td><td>106.0</td><td>19722.0</td><td>204.0</td><td>5908.0</td><td>5</td></tr><tr><td>Fishguard</td><td>24828.0</td><td>69203.0</td><td>2692.0</td><td>8765.0</td><td>5</td></tr><tr><td>Rotterdam Anchorage</td><td>8247.0</td><td>62775.0</td><td>12920.0</td><td>112905.0</td><td>5</td></tr><tr><td>Gibraltar West Anchorage</td><td>15861.0</td><td>32287.0</td><td>26307.0</td><td>58133.0</td><td>5</td></tr><tr><td>Santa Apolonia</td><td>5629.0</td><td>59652.0</td><td>5791.0</td><td>8046.0</td><td>5</td></tr><tr><td>Algeciras Anchorage</td><td>17944.0</td><td>60148.0</td><td>27102.0</td><td>112038.0</td><td>5</td></tr><tr><td>Brunswick</td><td>19891.0</td><td>24166.0</td><td>30195.0</td><td>35964.0</td><td>4</td></tr><tr><td>Ferrol Anchorage</td><td>4829.0</td><td>9983.0</td><td>7000.0</td><td>12283.0</td><td>4</td></tr><tr><td>Westhinder Anchorage</td><td>23987.0</td><td>41482.0</td><td>9729.0</td><td>50532.0</td><td>4</td></tr><tr><td>Skagen Anchorage</td><td>3442.0</td><td>93147.0</td><td>5699.0</td><td>157644.0</td><td>4</td></tr><tr><td>Newport</td><td>1719.0</td><td>20809.0</td><td>2250.0</td><td>32701.0</td><td>4</td></tr><tr><td>Vigo</td><td>7852.0</td><td>36474.0</td><td>9322.0</td><td>63800.0</td><td>4</td></tr><tr><td>Houston</td><td>63436.0</td><td>83055.0</td><td>113000.0</td><td>157877.0</td><td>4</td></tr><tr><td>Ringaskiddy</td><td>29900.0</td><td>82820.0</td><td>10965.0</td><td>63520.0</td><td>4</td></tr><tr><td>Derince</td><td>17019.0</td><td>24166.0</td><td>28236.0</td><td>38406.0</td><td>4</td></tr><tr><td>Portsmouth</td><td>496.65625</td><td>39812.0</td><td>212.046875</td><td>51020.0</td><td>4</td></tr><tr><td>Darrow</td><td>24842.0</td><td>25622.0</td><td>38586.0</td><td>39388.0</td><td>4</td></tr><tr><td>Hound Point</td><td>62000.0</td><td>63448.0</td><td>109900.0</td><td>115091.0</td><td>3</td></tr><tr><td>St. Bride's Bay</td><td>132.0</td><td>4807.0</td><td>200.0</td><td>5300.0</td><td>3</td></tr><tr><td>Lerwick</td><td>1143.0</td><td>11720.0</td><td>695.0</td><td>1831.0</td><td>3</td></tr><tr><td>Port Talbot</td><td>197.0</td><td>32379.0</td><td>254.0</td><td>58736.0</td><td>3</td></tr><tr><td>Knarrevik</td><td>2262.0</td><td>2262.0</td><td>3450.0</td><td>3450.0</td><td>3</td></tr><tr><td>Barking Riverside</td><td>2545.0</td><td>2999.0</td><td>3859.0</td><td>5168.0</td><td>3</td></tr><tr><td>Zona Comun Anchorage</td><td>18499.0</td><td>23855.0</td><td>29124.0</td><td>38494.0</td><td>3</td></tr><tr><td>Lowestoft</td><td>2639.0</td><td>8691.0</td><td>675.0</td><td>6200.0</td><td>3</td></tr><tr><td>Dover</td><td>26.192307692307693</td><td>92250.0</td><td>31.0</td><td>7500.0</td><td>3</td></tr><tr><td>Kaliningrad</td><td>2996.0</td><td>7341.0</td><td>4419.0</td><td>12526.0</td><td>3</td></tr><tr><td>Sharpness</td><td>1846.0</td><td>2825.0</td><td>2500.0</td><td>4245.0</td><td>3</td></tr><tr><td>Bermeo</td><td>2998.0</td><td>2999.0</td><td>4550.0</td><td>4889.0</td><td>3</td></tr><tr><td>Drogheda</td><td>2066.0</td><td>2999.0</td><td>3202.0</td><td>4933.0</td><td>3</td></tr><tr><td>Bremerhaven</td><td>39174.0</td><td>53481.0</td><td>40879.0</td><td>53880.0</td><td>3</td></tr><tr><td>Milford Haven</td><td>4973.0</td><td>61314.0</td><td>7415.0</td><td>115592.0</td><td>3</td></tr><tr><td>Avonmouth</td><td>3933.0</td><td>23235.0</td><td>6519.0</td><td>37278.0</td><td>3</td></tr><tr><td>Fawley</td><td>2958.0</td><td>2958.0</td><td>4516.0</td><td>4516.0</td><td>3</td></tr><tr><td>Cork</td><td>2999.0</td><td>9981.0</td><td>4933.0</td><td>11254.0</td><td>3</td></tr><tr><td>Freeport, Grand Bahama</td><td>252.0</td><td>43496.0</td><td>182.0</td><td>81816.0</td><td>3</td></tr><tr><td>Dumyat (Damietta)</td><td>4106.0</td><td>8601.0</td><td>6510.0</td><td>12447.0</td><td>3</td></tr><tr><td>Haugesund</td><td>59652.0</td><td>59652.0</td><td>5791.0</td><td>5791.0</td><td>3</td></tr><tr><td>Troon</td><td>38.98830409356725</td><td>38.98830409356725</td><td>8.123076923076923</td><td>8.123076923076923</td><td>3</td></tr><tr><td>Reykjavik</td><td>59652.0</td><td>84342.0</td><td>5791.0</td><td>10939.0</td><td>3</td></tr><tr><td>Dun Laoghaire</td><td>38.98830409356725</td><td>38.98830409356725</td><td>8.123076923076923</td><td>8.123076923076923</td><td>3</td></tr><tr><td>Portishead</td><td>26.192307692307693</td><td>496.65625</td><td>212.046875</td><td>212.046875</td><td>3</td></tr><tr><td>Marin</td><td>32839.0</td><td>35832.0</td><td>58000.0</td><td>63590.0</td><td>2</td></tr><tr><td>Algeciras</td><td>5706.0</td><td>62505.0</td><td>7858.0</td><td>115519.0</td><td>2</td></tr><tr><td>Come By Chance</td><td>60379.0</td><td>84157.0</td><td>107488.0</td><td>156527.0</td><td>2</td></tr><tr><td>Londonderry</td><td>11927.0</td><td>33064.0</td><td>17660.0</td><td>57809.0</td><td>2</td></tr><tr><td>Destrehan</td><td>24020.0</td><td>33232.0</td><td>38468.0</td><td>58680.0</td><td>2</td></tr><tr><td>Falmouth Anchorage</td><td>1794.0</td><td>4644.0</td><td>1276.0</td><td>3000.0</td><td>2</td></tr><tr><td>Eregli</td><td>2281.0</td><td>2984.0</td><td>3200.0</td><td>4891.0</td><td>2</td></tr><tr><td>Sainte-Victoire-de-Sorel</td><td>11864.0</td><td>23433.0</td><td>17110.0</td><td>35977.0</td><td>2</td></tr><tr><td>Rostock</td><td>2956.0</td><td>7450.0</td><td>4624.0</td><td>10809.0</td><td>2</td></tr><tr><td>Aughinish Island</td><td>33044.0</td><td>33234.0</td><td>57000.0</td><td>57320.0</td><td>2</td></tr><tr><td>New Orleans Anchorage</td><td>34806.0</td><td>36333.0</td><td>60269.0</td><td>63244.0</td><td>2</td></tr><tr><td>Escravos</td><td>29700.0</td><td>29700.0</td><td>47499.0</td><td>47499.0</td><td>2</td></tr><tr><td>Wilmington</td><td>32839.0</td><td>34619.0</td><td>58000.0</td><td>61620.0</td><td>2</td></tr><tr><td>Klaipeda</td><td>2109.0</td><td>2811.0</td><td>4206.0</td><td>4206.0</td><td>2</td></tr><tr><td>Diliskelesi</td><td>2545.0</td><td>2999.0</td><td>3850.0</td><td>5180.0</td><td>2</td></tr><tr><td>Gibraltar</td><td>2967.0</td><td>2984.0</td><td>4891.0</td><td>4927.0</td><td>2</td></tr><tr><td>Grande Anse QC</td><td>18311.0</td><td>25546.0</td><td>26735.0</td><td>38781.0</td><td>2</td></tr><tr><td>Constanta</td><td>3970.0</td><td>21211.0</td><td>5800.0</td><td>33401.0</td><td>2</td></tr><tr><td>Aviles</td><td>1961.0</td><td>2190.0</td><td>2795.0</td><td>3007.0</td><td>2</td></tr><tr><td>Cromarty Firth</td><td>2896.0</td><td>63621.0</td><td>3900.0</td><td>4338.0</td><td>2</td></tr><tr><td>Les Sables-d'Olonne</td><td>38.98830409356725</td><td>2998.0</td><td>8.123076923076923</td><td>4995.0</td><td>2</td></tr><tr><td>Aasgard</td><td>85329.0</td><td>85745.0</td><td>125000.0</td><td>125000.0</td><td>2</td></tr><tr><td>Hanstholm</td><td>1986.0</td><td>2446.0</td><td>3504.0</td><td>3717.0</td><td>2</td></tr><tr><td>Cardiff</td><td>476.0</td><td>2446.0</td><td>227.0</td><td>3680.0</td><td>2</td></tr><tr><td>El Iskandariya (Alexandria)</td><td>2545.0</td><td>2997.0</td><td>3797.0</td><td>4705.0</td><td>2</td></tr><tr><td>Workington</td><td>852.0</td><td>1212.0</td><td>1275.0</td><td>1318.0</td><td>2</td></tr><tr><td>Ramsey</td><td>38.98830409356725</td><td>277.0</td><td>8.123076923076923</td><td>373.0</td><td>2</td></tr><tr><td>Hamburg</td><td>30068.0</td><td>32795.0</td><td>51280.0</td><td>55395.0</td><td>2</td></tr><tr><td>Kyleakin</td><td>1846.0</td><td>2451.0</td><td>2500.0</td><td>3600.0</td><td>2</td></tr><tr><td>Falmouth</td><td>166.0</td><td>2159.0</td><td>130.0</td><td>3185.0</td><td>2</td></tr><tr><td>Sauda</td><td>31754.0</td><td>32839.0</td><td>56129.0</td><td>58000.0</td><td>2</td></tr><tr><td>Tonnay-Charente</td><td>2281.0</td><td>2999.0</td><td>3577.0</td><td>4933.0</td><td>2</td></tr><tr><td>South Morecambe Field</td><td>927.0</td><td>2733.0</td><td>637.0</td><td>1437.0</td><td>2</td></tr><tr><td>Mostaganem</td><td>2956.0</td><td>2956.0</td><td>4624.0</td><td>4624.0</td><td>2</td></tr><tr><td>Waterford</td><td>2999.0</td><td>2999.0</td><td>4960.0</td><td>5150.0</td><td>2</td></tr><tr><td>Gullfaks</td><td>85745.0</td><td>85745.0</td><td>125000.0</td><td>128427.0</td><td>2</td></tr><tr><td>Zeebrugge</td><td>29707.0</td><td>29707.0</td><td>50301.0</td><td>50301.0</td><td>1</td></tr><tr><td>Vila do CondePort/Barcarena</td><td>44560.0</td><td>44560.0</td><td>82231.0</td><td>82231.0</td><td>1</td></tr><tr><td>Ostrica</td><td>84925.0</td><td>84925.0</td><td>158289.0</td><td>158289.0</td><td>1</td></tr><tr><td>Itaqui</td><td>44114.0</td><td>44114.0</td><td>82052.0</td><td>82052.0</td><td>1</td></tr><tr><td>Vila do Conde Anchorage</td><td>40060.0</td><td>40060.0</td><td>76838.0</td><td>76838.0</td><td>1</td></tr><tr><td>Palm Beach</td><td>24230.0</td><td>24230.0</td><td>38734.0</td><td>38734.0</td><td>1</td></tr><tr><td>IJmuiden/Velsen Anchorage</td><td>2716.0</td><td>2716.0</td><td>952.0</td><td>952.0</td><td>1</td></tr><tr><td>Portland</td><td>2143.0</td><td>2143.0</td><td>3813.0</td><td>3813.0</td><td>1</td></tr><tr><td>Limas</td><td>36336.0</td><td>36336.0</td><td>63501.0</td><td>63501.0</td><td>1</td></tr><tr><td>Harstad</td><td>65000.0</td><td>65000.0</td><td>null</td><td>null</td><td>1</td></tr><tr><td>Immingham</td><td>22346.0</td><td>22346.0</td><td>37500.0</td><td>37500.0</td><td>1</td></tr><tr><td>Escombreras</td><td>7997.0</td><td>7997.0</td><td>12643.0</td><td>12643.0</td><td>1</td></tr><tr><td>Marsaxlokk Anchorage</td><td>13691.0</td><td>13691.0</td><td>21461.0</td><td>21461.0</td><td>1</td></tr><tr><td>Tarragona</td><td>34619.0</td><td>34619.0</td><td>61620.0</td><td>61620.0</td><td>1</td></tr><tr><td>Drammen</td><td>23268.0</td><td>23268.0</td><td>38072.0</td><td>38072.0</td><td>1</td></tr><tr><td>Macapa Anchorage</td><td>44625.0</td><td>44625.0</td><td>81827.0</td><td>81827.0</td><td>1</td></tr><tr><td>Devonport</td><td>22000.0</td><td>22000.0</td><td>21750.0</td><td>21750.0</td><td>1</td></tr><tr><td>Bremen</td><td>14859.0</td><td>14859.0</td><td>17954.0</td><td>17954.0</td><td>1</td></tr><tr><td>Sarroch (Porto Foxi)</td><td>3300.0</td><td>3300.0</td><td>4696.0</td><td>4696.0</td><td>1</td></tr><tr><td>Fleetwood</td><td>355.0</td><td>355.0</td><td>330.0</td><td>330.0</td><td>1</td></tr><tr><td>Suape Anchorage</td><td>34815.0</td><td>34815.0</td><td>61298.0</td><td>61298.0</td><td>1</td></tr><tr><td>Abidjan</td><td>11864.0</td><td>11864.0</td><td>17356.0</td><td>17356.0</td><td>1</td></tr><tr><td>Port Arthur</td><td>24020.0</td><td>24020.0</td><td>38468.0</td><td>38468.0</td><td>1</td></tr><tr><td>Sluiskil</td><td>3711.0</td><td>3711.0</td><td>5798.0</td><td>5798.0</td><td>1</td></tr><tr><td>Oban</td><td>3504.0</td><td>3504.0</td><td>500.0</td><td>500.0</td><td>1</td></tr><tr><td>Wilhelmshaven Anchorage</td><td>627.0</td><td>627.0</td><td>372.0</td><td>372.0</td><td>1</td></tr><tr><td>Quebec</td><td>8911.0</td><td>8911.0</td><td>14603.0</td><td>14603.0</td><td>1</td></tr><tr><td>New York Anchorage</td><td>29168.0</td><td>29168.0</td><td>45562.0</td><td>45562.0</td><td>1</td></tr><tr><td>Salerno</td><td>33001.0</td><td>33001.0</td><td>56891.0</td><td>56891.0</td><td>1</td></tr><tr><td>Wilmington, NC</td><td>31877.0</td><td>31877.0</td><td>55543.0</td><td>55543.0</td><td>1</td></tr><tr><td>Kiel</td><td>4255.0</td><td>4255.0</td><td>6050.0</td><td>6050.0</td><td>1</td></tr><tr><td>Balder</td><td>67188.0</td><td>67188.0</td><td>109325.0</td><td>109325.0</td><td>1</td></tr><tr><td>Terneuzen</td><td>1846.0</td><td>1846.0</td><td>2500.0</td><td>2500.0</td><td>1</td></tr><tr><td>Ust'-Luga</td><td>2990.0</td><td>2990.0</td><td>5000.0</td><td>5000.0</td><td>1</td></tr><tr><td>Mobile</td><td>21213.0</td><td>21213.0</td><td>33642.0</td><td>33642.0</td><td>1</td></tr><tr><td>Liepaja</td><td>2805.0</td><td>2805.0</td><td>4261.0</td><td>4261.0</td><td>1</td></tr><tr><td>Gdynia</td><td>2998.0</td><td>2998.0</td><td>4972.0</td><td>4972.0</td><td>1</td></tr><tr><td>Shoreham-by-Sea</td><td>3308.0</td><td>3308.0</td><td>4995.0</td><td>4995.0</td><td>1</td></tr><tr><td>Brest</td><td>7280.0</td><td>7280.0</td><td>null</td><td>null</td><td>1</td></tr><tr><td>Rio Grande</td><td>21174.0</td><td>21174.0</td><td>33343.0</td><td>33343.0</td><td>1</td></tr><tr><td>Lorient</td><td>3327.0</td><td>3327.0</td><td>4453.0</td><td>4453.0</td><td>1</td></tr><tr><td>Torbay Anchorage</td><td>1917.0</td><td>1917.0</td><td>3075.0</td><td>3075.0</td><td>1</td></tr><tr><td>Yali Island</td><td>20603.0</td><td>20603.0</td><td>30481.0</td><td>30481.0</td><td>1</td></tr><tr><td>Gent (Ghent)</td><td>31532.0</td><td>31532.0</td><td>56548.0</td><td>56548.0</td><td>1</td></tr><tr><td>Gdansk</td><td>32969.0</td><td>32969.0</td><td>56604.0</td><td>56604.0</td><td>1</td></tr><tr><td>Casablanca</td><td>24196.0</td><td>24196.0</td><td>37202.0</td><td>37202.0</td><td>1</td></tr><tr><td>Catcher Development</td><td>66563.0</td><td>66563.0</td><td>109289.0</td><td>109289.0</td><td>1</td></tr><tr><td>Whitegate</td><td>60205.0</td><td>60205.0</td><td>107505.0</td><td>107505.0</td><td>1</td></tr><tr><td>Saint Margaret's Hope</td><td>2382.0</td><td>2382.0</td><td>360.0</td><td>360.0</td><td>1</td></tr><tr><td>Dagenham</td><td>5505.0</td><td>5505.0</td><td>8263.0</td><td>8263.0</td><td>1</td></tr><tr><td>Lisbon</td><td>2373.0</td><td>2373.0</td><td>4245.0</td><td>4245.0</td><td>1</td></tr><tr><td>Tetney Terminal</td><td>85329.0</td><td>85329.0</td><td>125000.0</td><td>125000.0</td><td>1</td></tr><tr><td>St. Lambert Lock</td><td>21000.0</td><td>21000.0</td><td>34050.0</td><td>34050.0</td><td>1</td></tr><tr><td>Harwich</td><td>7311.0</td><td>7311.0</td><td>11299.0</td><td>11299.0</td><td>1</td></tr><tr><td>Tanger Med</td><td>32983.0</td><td>32983.0</td><td>56810.0</td><td>56810.0</td><td>1</td></tr><tr><td>Oran Dry Port</td><td>2846.0</td><td>2846.0</td><td>4746.0</td><td>4746.0</td><td>1</td></tr><tr><td>Santarem</td><td>45252.0</td><td>45252.0</td><td>84790.0</td><td>84790.0</td><td>1</td></tr><tr><td>El Dekheila</td><td>8254.0</td><td>8254.0</td><td>14246.0</td><td>14246.0</td><td>1</td></tr><tr><td>Laayoune</td><td>3753.0</td><td>3753.0</td><td>5818.0</td><td>5818.0</td><td>1</td></tr><tr><td>Belledune</td><td>23433.0</td><td>23433.0</td><td>35906.0</td><td>35906.0</td><td>1</td></tr><tr><td>Uig</td><td>5506.0</td><td>5506.0</td><td>739.0</td><td>739.0</td><td>1</td></tr><tr><td>IJmuiden/Velsen</td><td>9760.0</td><td>9760.0</td><td>11409.0</td><td>11409.0</td><td>1</td></tr><tr><td>Saltburn</td><td>1139.0</td><td>1139.0</td><td>1102.0</td><td>1102.0</td><td>1</td></tr><tr><td>The Sound</td><td>34378.0</td><td>34378.0</td><td>58487.0</td><td>58487.0</td><td>1</td></tr><tr><td>Karabiga</td><td>17027.0</td><td>17027.0</td><td>28284.0</td><td>28284.0</td><td>1</td></tr><tr><td>Dumyat (Damietta) Anchorage</td><td>8604.0</td><td>8604.0</td><td>13549.0</td><td>13549.0</td><td>1</td></tr><tr><td>Fos-sur-Mer</td><td>154381.0</td><td>154381.0</td><td>299284.0</td><td>299284.0</td><td>1</td></tr><tr><td>Hartlepool</td><td>1.0</td><td>1.0</td><td>null</td><td>null</td><td>1</td></tr><tr><td>Rushbrooke</td><td>3345.0</td><td>3345.0</td><td>2500.0</td><td>2500.0</td><td>1</td></tr><tr><td>Solent Anchorage</td><td>9988.0</td><td>9988.0</td><td>1377.0</td><td>1377.0</td><td>1</td></tr><tr><td>Sagunto</td><td>24166.0</td><td>24166.0</td><td>36041.0</td><td>36041.0</td><td>1</td></tr><tr><td>Rouen</td><td>1599.0</td><td>1599.0</td><td>2219.0</td><td>2219.0</td><td>1</td></tr><tr><td>Skikda</td><td>31251.0</td><td>31251.0</td><td>55651.0</td><td>55651.0</td><td>1</td></tr><tr><td>Bethioua Anchorage</td><td>60135.0</td><td>60135.0</td><td>112095.0</td><td>112095.0</td><td>1</td></tr><tr><td>Reserve</td><td>36353.0</td><td>36353.0</td><td>63539.0</td><td>63539.0</td><td>1</td></tr><tr><td>Valencia</td><td>23633.0</td><td>23633.0</td><td>27245.0</td><td>27245.0</td><td>1</td></tr><tr><td>Parnu</td><td>2999.0</td><td>2999.0</td><td>5063.0</td><td>5063.0</td><td>1</td></tr><tr><td>Beauharnois Lock</td><td>22947.0</td><td>22947.0</td><td>36583.0</td><td>36583.0</td><td>1</td></tr><tr><td>Finnart</td><td>60121.0</td><td>60121.0</td><td>112100.0</td><td>112100.0</td><td>1</td></tr><tr><td>Pascagoula</td><td>25494.0</td><td>25494.0</td><td>38700.0</td><td>38700.0</td><td>1</td></tr><tr><td>Halifax</td><td>23242.0</td><td>23242.0</td><td>37668.0</td><td>37668.0</td><td>1</td></tr><tr><td>Nafplion</td><td>2409.0</td><td>2409.0</td><td>3755.0</td><td>3755.0</td><td>1</td></tr><tr><td>Hereke</td><td>4106.0</td><td>4106.0</td><td>6500.0</td><td>6500.0</td><td>1</td></tr><tr><td>Clydebank</td><td>7260.0</td><td>7260.0</td><td>10745.0</td><td>10745.0</td><td>1</td></tr><tr><td>Aarhus</td><td>29283.0</td><td>29283.0</td><td>53160.0</td><td>53160.0</td><td>1</td></tr><tr><td>Huelva</td><td>34311.0</td><td>34311.0</td><td>60263.0</td><td>60263.0</td><td>1</td></tr><tr><td>Corpus Christi Anchorage</td><td>83377.0</td><td>83377.0</td><td>159500.0</td><td>159500.0</td><td>1</td></tr><tr><td>Kinsale</td><td>2868.0</td><td>2868.0</td><td>3780.0</td><td>3780.0</td><td>1</td></tr><tr><td>Goteborg</td><td>7260.0</td><td>7260.0</td><td>10745.0</td><td>10745.0</td><td>1</td></tr><tr><td>Port-Cartier</td><td>11885.0</td><td>11885.0</td><td>17294.0</td><td>17294.0</td><td>1</td></tr><tr><td>Whitehaven</td><td>38.98830409356725</td><td>38.98830409356725</td><td>8.123076923076923</td><td>8.123076923076923</td><td>1</td></tr><tr><td>Ross-Parry Field</td><td>64000.0</td><td>64000.0</td><td>110000.0</td><td>110000.0</td><td>1</td></tr><tr><td>Holy Loch</td><td>38.98830409356725</td><td>38.98830409356725</td><td>8.123076923076923</td><td>8.123076923076923</td><td>1</td></tr><tr><td>Ballylumford</td><td>38.98830409356725</td><td>38.98830409356725</td><td>8.123076923076923</td><td>8.123076923076923</td><td>1</td></tr><tr><td>London Thames Anchorage</td><td>4077.0</td><td>4077.0</td><td>5717.0</td><td>5717.0</td><td>1</td></tr><tr><td>Sariseki</td><td>2805.0</td><td>2805.0</td><td>4261.0</td><td>4261.0</td><td>1</td></tr><tr><td>Port Ellen</td><td>38.98830409356725</td><td>38.98830409356725</td><td>8.123076923076923</td><td>8.123076923076923</td><td>1</td></tr><tr><td>Scrabster</td><td>47842.0</td><td>47842.0</td><td>4526.0</td><td>4526.0</td><td>1</td></tr><tr><td>Greenore</td><td>5598.0</td><td>5598.0</td><td>8112.0</td><td>8112.0</td><td>1</td></tr><tr><td>Villa Constitucion</td><td>9620.0</td><td>9620.0</td><td>12834.0</td><td>12834.0</td><td>1</td></tr><tr><td>Freeport OPL</td><td>29442.0</td><td>29442.0</td><td>52941.0</td><td>52941.0</td><td>1</td></tr><tr><td>Grangemouth</td><td>1896.0</td><td>1896.0</td><td>3297.0</td><td>3297.0</td><td>1</td></tr><tr><td>Gulf of Finland</td><td>2474.0</td><td>2474.0</td><td>3480.0</td><td>3480.0</td><td>1</td></tr><tr><td>Galway</td><td>2999.0</td><td>2999.0</td><td>5150.0</td><td>5150.0</td><td>1</td></tr><tr><td>Istanbul Anchorage</td><td>498.0</td><td>498.0</td><td>339.0</td><td>339.0</td><td>1</td></tr><tr><td>Penzance</td><td>38.98830409356725</td><td>38.98830409356725</td><td>8.123076923076923</td><td>8.123076923076923</td><td>1</td></tr><tr><td>Torquay</td><td>38.98830409356725</td><td>38.98830409356725</td><td>8.123076923076923</td><td>8.123076923076923</td><td>1</td></tr><tr><td>English Harbour</td><td>38.98830409356725</td><td>38.98830409356725</td><td>8.123076923076923</td><td>8.123076923076923</td><td>1</td></tr><tr><td>Malta OPL</td><td>82987.0</td><td>82987.0</td><td>156734.0</td><td>156734.0</td><td>1</td></tr><tr><td>Dakar</td><td>29752.0</td><td>29752.0</td><td>47496.0</td><td>47496.0</td><td>1</td></tr><tr><td>Genova</td><td>43984.0</td><td>43984.0</td><td>74999.0</td><td>74999.0</td><td>1</td></tr><tr><td>Bangor</td><td>38.98830409356725</td><td>38.98830409356725</td><td>8.123076923076923</td><td>8.123076923076923</td><td>1</td></tr><tr><td>Saint Helier</td><td>3888.0</td><td>3888.0</td><td>3932.0</td><td>3932.0</td><td>1</td></tr><tr><td>AcuPort/Sao Joao da Barra</td><td>22691.0</td><td>22691.0</td><td>36490.0</td><td>36490.0</td><td>1</td></tr><tr><td>Kobenhavn</td><td>99902.0</td><td>99902.0</td><td>9509.0</td><td>9509.0</td><td>1</td></tr><tr><td>Fredrikstad</td><td>38.98830409356725</td><td>38.98830409356725</td><td>8.123076923076923</td><td>8.123076923076923</td><td>1</td></tr><tr><td>Syros (Syra) Anchorage</td><td>3561.0</td><td>3561.0</td><td>4519.0</td><td>4519.0</td><td>1</td></tr><tr><td>Brodick, Isle of Arran</td><td>852.0</td><td>852.0</td><td>1275.0</td><td>1275.0</td><td>1</td></tr><tr><td>Fethiye</td><td>4671.0</td><td>4671.0</td><td>6603.0</td><td>6603.0</td><td>1</td></tr><tr><td>Marina di Carrara</td><td>33114.0</td><td>33114.0</td><td>56507.0</td><td>56507.0</td><td>1</td></tr><tr><td>Cadiz</td><td>10122.0</td><td>10122.0</td><td>15800.0</td><td>15800.0</td><td>1</td></tr><tr><td>North Alwyn Field</td><td>1944.0</td><td>1944.0</td><td>1436.0</td><td>1436.0</td><td>1</td></tr><tr><td>Gabes</td><td>2518.0</td><td>2518.0</td><td>3809.0</td><td>3809.0</td><td>1</td></tr><tr><td>Port Penrhyn</td><td>20.0</td><td>20.0</td><td>1193.6666666666667</td><td>1193.6666666666667</td><td>1</td></tr><tr><td>Dordrecht</td><td>358.0</td><td>358.0</td><td>171.23102753525856</td><td>171.23102753525856</td><td>1</td></tr><tr><td>Hellevoetsluis</td><td>38.98830409356725</td><td>38.98830409356725</td><td>8.123076923076923</td><td>8.123076923076923</td><td>1</td></tr><tr><td>Dunmore East</td><td>38.98830409356725</td><td>38.98830409356725</td><td>8.123076923076923</td><td>8.123076923076923</td><td>1</td></tr><tr><td>Ardrossan</td><td>38.98830409356725</td><td>38.98830409356725</td><td>8.123076923076923</td><td>8.123076923076923</td><td>1</td></tr><tr><td>Isle of Grain</td><td>496.65625</td><td>496.65625</td><td>212.046875</td><td>212.046875</td><td>1</td></tr><tr><td>Stornoway</td><td>496.65625</td><td>496.65625</td><td>212.046875</td><td>212.046875</td><td>1</td></tr><tr><td>Dartmouth</td><td>38.98830409356725</td><td>38.98830409356725</td><td>8.123076923076923</td><td>8.123076923076923</td><td>1</td></tr><tr><td>Pembroke</td><td>26.192307692307693</td><td>26.192307692307693</td><td>null</td><td>null</td><td>1</td></tr><tr><td>Bergen</td><td>26520.0</td><td>26520.0</td><td>null</td><td>null</td><td>1</td></tr><tr><td>Great Yarmouth</td><td>26.192307692307693</td><td>26.192307692307693</td><td>null</td><td>null</td><td>1</td></tr><tr><td>Cowes</td><td>26.192307692307693</td><td>26.192307692307693</td><td>null</td><td>null</td><td>1</td></tr><tr><td>null</td><td>26.192307692307693</td><td>38.98830409356725</td><td>8.123076923076923</td><td>8.123076923076923</td><td>0</td></tr></tbody></table></div>"
      ]
     },
     "metadata": {
      "application/vnd.databricks.v1+output": {
       "addedWidgets": {},
       "aggData": [],
       "aggError": "",
       "aggOverflow": false,
       "aggSchema": [],
       "aggSeriesLimitReached": false,
       "aggType": "",
       "arguments": {},
       "columnCustomDisplayInfos": {},
       "data": [
        [
         "Liverpool",
         20.0,
         59652.0,
         5.0,
         81987.0,
         3425
        ],
        [
         "Birkenhead",
         25.0,
         62826.0,
         5.0,
         114139.0,
         2451
        ],
        [
         "Dublin",
         38.98830409356725,
         43062.0,
         8.123076923076923,
         81758.0,
         1605
        ],
        [
         "Belfast",
         38.98830409356725,
         142714.0,
         8.123076923076923,
         82362.0,
         1031
        ],
        [
         "Eastham",
         26.192307692307693,
         12164.0,
         8.123076923076923,
         17653.0,
         357
        ],
        [
         "Douglas",
         8.0,
         15651.0,
         8.123076923076923,
         4168.0,
         268
        ],
        [
         "Rotterdam",
         221.0,
         62775.0,
         187.0,
         112905.0,
         126
        ],
        [
         "Bilbao",
         3953.0,
         43672.0,
         6886.0,
         82597.0,
         111
        ],
        [
         "Antwerpen",
         2262.0,
         100430.0,
         3450.0,
         67601.0,
         93
        ],
        [
         "Holyhead",
         20.0,
         92822.0,
         8.123076923076923,
         11936.0,
         83
        ],
        [
         "Le Havre",
         3219.0,
         62812.0,
         4671.0,
         115468.0,
         65
        ],
        [
         "Leixoes",
         2452.0,
         33044.0,
         3685.0,
         57000.0,
         51
        ],
        [
         "Bromborough",
         26.192307692307693,
         6443.25,
         18.0,
         3680.0,
         48
        ],
        [
         "Sines",
         15633.0,
         73819.0,
         16939.0,
         85802.0,
         39
        ],
        [
         "Runcorn",
         26.192307692307693,
         3845.0,
         330.0,
         5203.0,
         39
        ],
        [
         "Stanlow",
         3441.0,
         12164.0,
         5064.0,
         18000.0,
         35
        ],
        [
         "Larne",
         1241.0,
         7606.0,
         2128.0,
         5803.0,
         33
        ],
        [
         "Dunkerque",
         2789.0,
         36106.0,
         3244.0,
         63524.0,
         32
        ],
        [
         "Aveiro",
         2461.0,
         4106.0,
         3701.0,
         6509.0,
         30
        ],
        [
         "Ellesmere Port",
         38.98830409356725,
         12105.0,
         8.123076923076923,
         16626.0,
         28
        ],
        [
         "Villagarcia de Arosa",
         1862.0,
         3169.0,
         2600.0,
         5000.0,
         26
        ],
        [
         "Greenock",
         1512.0,
         99526.0,
         2100.0,
         50532.0,
         23
        ],
        [
         "Setubal",
         2218.0,
         23274.0,
         3360.0,
         37744.0,
         19
        ],
        [
         "Ferrol",
         2446.0,
         8273.0,
         3680.0,
         11051.0,
         18
        ],
        [
         "Fairview Cove",
         100430.0,
         100430.0,
         55547.0,
         55828.0,
         16
        ],
        [
         "Saint-Nazaire",
         1960.0,
         3953.0,
         2999.0,
         6886.0,
         16
        ],
        [
         "Rosslare Harbour",
         1895.0,
         1895.0,
         3347.0,
         3347.0,
         16
        ],
        [
         "Ingleside",
         62241.0,
         85431.0,
         109900.0,
         164608.0,
         15
        ],
        [
         "Wicklow",
         852.0,
         1435.0,
         1275.0,
         1680.0,
         15
        ],
        [
         "Warrenpoint",
         1241.0,
         2993.0,
         2128.0,
         4504.0,
         15
        ],
        [
         "Portbury",
         7642.0,
         100430.0,
         9285.0,
         82561.0,
         14
        ],
        [
         "Ceuta",
         1262.0,
         8239.0,
         1017.0,
         12522.0,
         14
        ],
        [
         "Odda",
         2998.0,
         3561.0,
         4321.0,
         5159.0,
         14
        ],
        [
         "Garston",
         496.65625,
         2545.0,
         212.046875,
         3800.0,
         14
        ],
        [
         "Bethioua",
         56500.0,
         84735.0,
         104027.0,
         164787.0,
         14
        ],
        [
         "Corpus Christi",
         57249.0,
         84216.0,
         105525.0,
         158734.0,
         14
        ],
        [
         "Gijon",
         1536.0,
         35906.0,
         1920.0,
         63688.0,
         13
        ],
        [
         "Las Palmas de Gran Canaria",
         19999.0,
         44114.0,
         30000.0,
         82689.0,
         13
        ],
        [
         "Douglas Field",
         1794.0,
         8691.0,
         952.0,
         6200.0,
         13
        ],
        [
         "Southampton",
         2958.0,
         149215.0,
         4516.0,
         46975.0,
         13
        ],
        [
         "Santander",
         11896.0,
         23987.0,
         9100.0,
         16929.0,
         12
        ],
        [
         "Montreal",
         7196.0,
         54809.0,
         11219.0,
         67255.0,
         12
        ],
        [
         "Mostyn",
         2.0,
         115.49763033175356,
         12.0,
         1193.6666666666667,
         12
        ],
        [
         "Dundalk",
         852.0,
         1986.0,
         1275.0,
         3504.0,
         12
        ],
        [
         "Amsterdam",
         1882.0,
         34795.0,
         2508.0,
         61483.0,
         12
        ],
        [
         "New Ross",
         1846.0,
         3293.0,
         2500.0,
         5171.0,
         12
        ],
        [
         "Glensanda",
         4783.0,
         45843.0,
         7182.0,
         73609.0,
         11
        ],
        [
         "La Coruna (A Coruna)",
         32415.0,
         59652.0,
         4664.0,
         58749.0,
         11
        ],
        [
         "Glasgow",
         1793.0,
         36353.0,
         2346.0,
         63526.0,
         10
        ],
        [
         "Malaga",
         2446.0,
         2999.0,
         3676.0,
         5063.0,
         10
        ],
        [
         "Goteborg Anchorage",
         2868.0,
         62624.0,
         3780.0,
         114073.0,
         10
        ],
        [
         "Lennox Field",
         110.0,
         110.0,
         184.0,
         184.0,
         10
        ],
        [
         "Vlissingen",
         1262.0,
         23987.0,
         1008.0,
         9729.0,
         10
        ],
        [
         "Kotka",
         3450.0,
         7260.0,
         4700.0,
         10745.0,
         9
        ],
        [
         "Cobh",
         44000.0,
         142714.0,
         7500.0,
         82362.0,
         9
        ],
        [
         "Savannah",
         21483.0,
         25515.0,
         33132.0,
         39202.0,
         8
        ],
        [
         "Brunsbuttel",
         2858.0,
         61888.0,
         4909.0,
         113032.0,
         8
        ],
        [
         "Port Allen",
         20236.0,
         36403.0,
         32309.0,
         63681.0,
         8
        ],
        [
         "Kyle of Lochalsh",
         1139.0,
         1212.0,
         1102.0,
         1318.0,
         8
        ],
        [
         "Stura",
         57312.0,
         85504.0,
         106282.0,
         148644.0,
         8
        ],
        [
         "Limerick",
         2373.0,
         2999.0,
         4245.0,
         5164.0,
         7
        ],
        [
         "Aberdeen",
         1929.0,
         16171.0,
         536.0,
         14900.0,
         7
        ],
        [
         "Millom Field",
         2733.0,
         8772.0,
         675.0,
         5337.0,
         7
        ],
        [
         "Mongstad",
         24230.0,
         82789.0,
         38734.0,
         120567.0,
         7
        ],
        [
         "Baie Comeau",
         8911.0,
         43248.0,
         14603.0,
         82073.0,
         6
        ],
        [
         "Hamilton Field",
         1513.0,
         31029.0,
         536.0,
         55089.0,
         6
        ],
        [
         "Great Bitter Lake",
         9618.0,
         36354.0,
         12661.0,
         62982.0,
         6
        ],
        [
         "Barrow in Furness",
         20.0,
         496.65625,
         8.123076923076923,
         260.0,
         6
        ],
        [
         "Milford Docks",
         20.0,
         66.0,
         8.123076923076923,
         18.0,
         6
        ],
        [
         "Bruichladdich",
         1895.0,
         1895.0,
         3347.0,
         3347.0,
         6
        ],
        [
         "Chesapeake",
         31779.0,
         35812.0,
         55725.0,
         63350.0,
         5
        ],
        [
         "Ashdod",
         5986.0,
         9670.0,
         9456.0,
         14513.0,
         5
        ],
        [
         "Castellon de la Plana",
         9962.0,
         9981.0,
         11376.0,
         11639.0,
         5
        ],
        [
         "la Pallice",
         2601.0,
         33042.0,
         3676.0,
         56830.0,
         5
        ],
        [
         "Teesport",
         31544.0,
         80850.0,
         55989.0,
         123166.0,
         5
        ],
        [
         "Sullom Voe",
         61336.0,
         65293.0,
         111413.0,
         117099.0,
         5
        ],
        [
         "Heysham",
         106.0,
         19722.0,
         204.0,
         5908.0,
         5
        ],
        [
         "Fishguard",
         24828.0,
         69203.0,
         2692.0,
         8765.0,
         5
        ],
        [
         "Rotterdam Anchorage",
         8247.0,
         62775.0,
         12920.0,
         112905.0,
         5
        ],
        [
         "Gibraltar West Anchorage",
         15861.0,
         32287.0,
         26307.0,
         58133.0,
         5
        ],
        [
         "Santa Apolonia",
         5629.0,
         59652.0,
         5791.0,
         8046.0,
         5
        ],
        [
         "Algeciras Anchorage",
         17944.0,
         60148.0,
         27102.0,
         112038.0,
         5
        ],
        [
         "Brunswick",
         19891.0,
         24166.0,
         30195.0,
         35964.0,
         4
        ],
        [
         "Ferrol Anchorage",
         4829.0,
         9983.0,
         7000.0,
         12283.0,
         4
        ],
        [
         "Westhinder Anchorage",
         23987.0,
         41482.0,
         9729.0,
         50532.0,
         4
        ],
        [
         "Skagen Anchorage",
         3442.0,
         93147.0,
         5699.0,
         157644.0,
         4
        ],
        [
         "Newport",
         1719.0,
         20809.0,
         2250.0,
         32701.0,
         4
        ],
        [
         "Vigo",
         7852.0,
         36474.0,
         9322.0,
         63800.0,
         4
        ],
        [
         "Houston",
         63436.0,
         83055.0,
         113000.0,
         157877.0,
         4
        ],
        [
         "Ringaskiddy",
         29900.0,
         82820.0,
         10965.0,
         63520.0,
         4
        ],
        [
         "Derince",
         17019.0,
         24166.0,
         28236.0,
         38406.0,
         4
        ],
        [
         "Portsmouth",
         496.65625,
         39812.0,
         212.046875,
         51020.0,
         4
        ],
        [
         "Darrow",
         24842.0,
         25622.0,
         38586.0,
         39388.0,
         4
        ],
        [
         "Hound Point",
         62000.0,
         63448.0,
         109900.0,
         115091.0,
         3
        ],
        [
         "St. Bride's Bay",
         132.0,
         4807.0,
         200.0,
         5300.0,
         3
        ],
        [
         "Lerwick",
         1143.0,
         11720.0,
         695.0,
         1831.0,
         3
        ],
        [
         "Port Talbot",
         197.0,
         32379.0,
         254.0,
         58736.0,
         3
        ],
        [
         "Knarrevik",
         2262.0,
         2262.0,
         3450.0,
         3450.0,
         3
        ],
        [
         "Barking Riverside",
         2545.0,
         2999.0,
         3859.0,
         5168.0,
         3
        ],
        [
         "Zona Comun Anchorage",
         18499.0,
         23855.0,
         29124.0,
         38494.0,
         3
        ],
        [
         "Lowestoft",
         2639.0,
         8691.0,
         675.0,
         6200.0,
         3
        ],
        [
         "Dover",
         26.192307692307693,
         92250.0,
         31.0,
         7500.0,
         3
        ],
        [
         "Kaliningrad",
         2996.0,
         7341.0,
         4419.0,
         12526.0,
         3
        ],
        [
         "Sharpness",
         1846.0,
         2825.0,
         2500.0,
         4245.0,
         3
        ],
        [
         "Bermeo",
         2998.0,
         2999.0,
         4550.0,
         4889.0,
         3
        ],
        [
         "Drogheda",
         2066.0,
         2999.0,
         3202.0,
         4933.0,
         3
        ],
        [
         "Bremerhaven",
         39174.0,
         53481.0,
         40879.0,
         53880.0,
         3
        ],
        [
         "Milford Haven",
         4973.0,
         61314.0,
         7415.0,
         115592.0,
         3
        ],
        [
         "Avonmouth",
         3933.0,
         23235.0,
         6519.0,
         37278.0,
         3
        ],
        [
         "Fawley",
         2958.0,
         2958.0,
         4516.0,
         4516.0,
         3
        ],
        [
         "Cork",
         2999.0,
         9981.0,
         4933.0,
         11254.0,
         3
        ],
        [
         "Freeport, Grand Bahama",
         252.0,
         43496.0,
         182.0,
         81816.0,
         3
        ],
        [
         "Dumyat (Damietta)",
         4106.0,
         8601.0,
         6510.0,
         12447.0,
         3
        ],
        [
         "Haugesund",
         59652.0,
         59652.0,
         5791.0,
         5791.0,
         3
        ],
        [
         "Troon",
         38.98830409356725,
         38.98830409356725,
         8.123076923076923,
         8.123076923076923,
         3
        ],
        [
         "Reykjavik",
         59652.0,
         84342.0,
         5791.0,
         10939.0,
         3
        ],
        [
         "Dun Laoghaire",
         38.98830409356725,
         38.98830409356725,
         8.123076923076923,
         8.123076923076923,
         3
        ],
        [
         "Portishead",
         26.192307692307693,
         496.65625,
         212.046875,
         212.046875,
         3
        ],
        [
         "Marin",
         32839.0,
         35832.0,
         58000.0,
         63590.0,
         2
        ],
        [
         "Algeciras",
         5706.0,
         62505.0,
         7858.0,
         115519.0,
         2
        ],
        [
         "Come By Chance",
         60379.0,
         84157.0,
         107488.0,
         156527.0,
         2
        ],
        [
         "Londonderry",
         11927.0,
         33064.0,
         17660.0,
         57809.0,
         2
        ],
        [
         "Destrehan",
         24020.0,
         33232.0,
         38468.0,
         58680.0,
         2
        ],
        [
         "Falmouth Anchorage",
         1794.0,
         4644.0,
         1276.0,
         3000.0,
         2
        ],
        [
         "Eregli",
         2281.0,
         2984.0,
         3200.0,
         4891.0,
         2
        ],
        [
         "Sainte-Victoire-de-Sorel",
         11864.0,
         23433.0,
         17110.0,
         35977.0,
         2
        ],
        [
         "Rostock",
         2956.0,
         7450.0,
         4624.0,
         10809.0,
         2
        ],
        [
         "Aughinish Island",
         33044.0,
         33234.0,
         57000.0,
         57320.0,
         2
        ],
        [
         "New Orleans Anchorage",
         34806.0,
         36333.0,
         60269.0,
         63244.0,
         2
        ],
        [
         "Escravos",
         29700.0,
         29700.0,
         47499.0,
         47499.0,
         2
        ],
        [
         "Wilmington",
         32839.0,
         34619.0,
         58000.0,
         61620.0,
         2
        ],
        [
         "Klaipeda",
         2109.0,
         2811.0,
         4206.0,
         4206.0,
         2
        ],
        [
         "Diliskelesi",
         2545.0,
         2999.0,
         3850.0,
         5180.0,
         2
        ],
        [
         "Gibraltar",
         2967.0,
         2984.0,
         4891.0,
         4927.0,
         2
        ],
        [
         "Grande Anse QC",
         18311.0,
         25546.0,
         26735.0,
         38781.0,
         2
        ],
        [
         "Constanta",
         3970.0,
         21211.0,
         5800.0,
         33401.0,
         2
        ],
        [
         "Aviles",
         1961.0,
         2190.0,
         2795.0,
         3007.0,
         2
        ],
        [
         "Cromarty Firth",
         2896.0,
         63621.0,
         3900.0,
         4338.0,
         2
        ],
        [
         "Les Sables-d'Olonne",
         38.98830409356725,
         2998.0,
         8.123076923076923,
         4995.0,
         2
        ],
        [
         "Aasgard",
         85329.0,
         85745.0,
         125000.0,
         125000.0,
         2
        ],
        [
         "Hanstholm",
         1986.0,
         2446.0,
         3504.0,
         3717.0,
         2
        ],
        [
         "Cardiff",
         476.0,
         2446.0,
         227.0,
         3680.0,
         2
        ],
        [
         "El Iskandariya (Alexandria)",
         2545.0,
         2997.0,
         3797.0,
         4705.0,
         2
        ],
        [
         "Workington",
         852.0,
         1212.0,
         1275.0,
         1318.0,
         2
        ],
        [
         "Ramsey",
         38.98830409356725,
         277.0,
         8.123076923076923,
         373.0,
         2
        ],
        [
         "Hamburg",
         30068.0,
         32795.0,
         51280.0,
         55395.0,
         2
        ],
        [
         "Kyleakin",
         1846.0,
         2451.0,
         2500.0,
         3600.0,
         2
        ],
        [
         "Falmouth",
         166.0,
         2159.0,
         130.0,
         3185.0,
         2
        ],
        [
         "Sauda",
         31754.0,
         32839.0,
         56129.0,
         58000.0,
         2
        ],
        [
         "Tonnay-Charente",
         2281.0,
         2999.0,
         3577.0,
         4933.0,
         2
        ],
        [
         "South Morecambe Field",
         927.0,
         2733.0,
         637.0,
         1437.0,
         2
        ],
        [
         "Mostaganem",
         2956.0,
         2956.0,
         4624.0,
         4624.0,
         2
        ],
        [
         "Waterford",
         2999.0,
         2999.0,
         4960.0,
         5150.0,
         2
        ],
        [
         "Gullfaks",
         85745.0,
         85745.0,
         125000.0,
         128427.0,
         2
        ],
        [
         "Zeebrugge",
         29707.0,
         29707.0,
         50301.0,
         50301.0,
         1
        ],
        [
         "Vila do CondePort/Barcarena",
         44560.0,
         44560.0,
         82231.0,
         82231.0,
         1
        ],
        [
         "Ostrica",
         84925.0,
         84925.0,
         158289.0,
         158289.0,
         1
        ],
        [
         "Itaqui",
         44114.0,
         44114.0,
         82052.0,
         82052.0,
         1
        ],
        [
         "Vila do Conde Anchorage",
         40060.0,
         40060.0,
         76838.0,
         76838.0,
         1
        ],
        [
         "Palm Beach",
         24230.0,
         24230.0,
         38734.0,
         38734.0,
         1
        ],
        [
         "IJmuiden/Velsen Anchorage",
         2716.0,
         2716.0,
         952.0,
         952.0,
         1
        ],
        [
         "Portland",
         2143.0,
         2143.0,
         3813.0,
         3813.0,
         1
        ],
        [
         "Limas",
         36336.0,
         36336.0,
         63501.0,
         63501.0,
         1
        ],
        [
         "Harstad",
         65000.0,
         65000.0,
         null,
         null,
         1
        ],
        [
         "Immingham",
         22346.0,
         22346.0,
         37500.0,
         37500.0,
         1
        ],
        [
         "Escombreras",
         7997.0,
         7997.0,
         12643.0,
         12643.0,
         1
        ],
        [
         "Marsaxlokk Anchorage",
         13691.0,
         13691.0,
         21461.0,
         21461.0,
         1
        ],
        [
         "Tarragona",
         34619.0,
         34619.0,
         61620.0,
         61620.0,
         1
        ],
        [
         "Drammen",
         23268.0,
         23268.0,
         38072.0,
         38072.0,
         1
        ],
        [
         "Macapa Anchorage",
         44625.0,
         44625.0,
         81827.0,
         81827.0,
         1
        ],
        [
         "Devonport",
         22000.0,
         22000.0,
         21750.0,
         21750.0,
         1
        ],
        [
         "Bremen",
         14859.0,
         14859.0,
         17954.0,
         17954.0,
         1
        ],
        [
         "Sarroch (Porto Foxi)",
         3300.0,
         3300.0,
         4696.0,
         4696.0,
         1
        ],
        [
         "Fleetwood",
         355.0,
         355.0,
         330.0,
         330.0,
         1
        ],
        [
         "Suape Anchorage",
         34815.0,
         34815.0,
         61298.0,
         61298.0,
         1
        ],
        [
         "Abidjan",
         11864.0,
         11864.0,
         17356.0,
         17356.0,
         1
        ],
        [
         "Port Arthur",
         24020.0,
         24020.0,
         38468.0,
         38468.0,
         1
        ],
        [
         "Sluiskil",
         3711.0,
         3711.0,
         5798.0,
         5798.0,
         1
        ],
        [
         "Oban",
         3504.0,
         3504.0,
         500.0,
         500.0,
         1
        ],
        [
         "Wilhelmshaven Anchorage",
         627.0,
         627.0,
         372.0,
         372.0,
         1
        ],
        [
         "Quebec",
         8911.0,
         8911.0,
         14603.0,
         14603.0,
         1
        ],
        [
         "New York Anchorage",
         29168.0,
         29168.0,
         45562.0,
         45562.0,
         1
        ],
        [
         "Salerno",
         33001.0,
         33001.0,
         56891.0,
         56891.0,
         1
        ],
        [
         "Wilmington, NC",
         31877.0,
         31877.0,
         55543.0,
         55543.0,
         1
        ],
        [
         "Kiel",
         4255.0,
         4255.0,
         6050.0,
         6050.0,
         1
        ],
        [
         "Balder",
         67188.0,
         67188.0,
         109325.0,
         109325.0,
         1
        ],
        [
         "Terneuzen",
         1846.0,
         1846.0,
         2500.0,
         2500.0,
         1
        ],
        [
         "Ust'-Luga",
         2990.0,
         2990.0,
         5000.0,
         5000.0,
         1
        ],
        [
         "Mobile",
         21213.0,
         21213.0,
         33642.0,
         33642.0,
         1
        ],
        [
         "Liepaja",
         2805.0,
         2805.0,
         4261.0,
         4261.0,
         1
        ],
        [
         "Gdynia",
         2998.0,
         2998.0,
         4972.0,
         4972.0,
         1
        ],
        [
         "Shoreham-by-Sea",
         3308.0,
         3308.0,
         4995.0,
         4995.0,
         1
        ],
        [
         "Brest",
         7280.0,
         7280.0,
         null,
         null,
         1
        ],
        [
         "Rio Grande",
         21174.0,
         21174.0,
         33343.0,
         33343.0,
         1
        ],
        [
         "Lorient",
         3327.0,
         3327.0,
         4453.0,
         4453.0,
         1
        ],
        [
         "Torbay Anchorage",
         1917.0,
         1917.0,
         3075.0,
         3075.0,
         1
        ],
        [
         "Yali Island",
         20603.0,
         20603.0,
         30481.0,
         30481.0,
         1
        ],
        [
         "Gent (Ghent)",
         31532.0,
         31532.0,
         56548.0,
         56548.0,
         1
        ],
        [
         "Gdansk",
         32969.0,
         32969.0,
         56604.0,
         56604.0,
         1
        ],
        [
         "Casablanca",
         24196.0,
         24196.0,
         37202.0,
         37202.0,
         1
        ],
        [
         "Catcher Development",
         66563.0,
         66563.0,
         109289.0,
         109289.0,
         1
        ],
        [
         "Whitegate",
         60205.0,
         60205.0,
         107505.0,
         107505.0,
         1
        ],
        [
         "Saint Margaret's Hope",
         2382.0,
         2382.0,
         360.0,
         360.0,
         1
        ],
        [
         "Dagenham",
         5505.0,
         5505.0,
         8263.0,
         8263.0,
         1
        ],
        [
         "Lisbon",
         2373.0,
         2373.0,
         4245.0,
         4245.0,
         1
        ],
        [
         "Tetney Terminal",
         85329.0,
         85329.0,
         125000.0,
         125000.0,
         1
        ],
        [
         "St. Lambert Lock",
         21000.0,
         21000.0,
         34050.0,
         34050.0,
         1
        ],
        [
         "Harwich",
         7311.0,
         7311.0,
         11299.0,
         11299.0,
         1
        ],
        [
         "Tanger Med",
         32983.0,
         32983.0,
         56810.0,
         56810.0,
         1
        ],
        [
         "Oran Dry Port",
         2846.0,
         2846.0,
         4746.0,
         4746.0,
         1
        ],
        [
         "Santarem",
         45252.0,
         45252.0,
         84790.0,
         84790.0,
         1
        ],
        [
         "El Dekheila",
         8254.0,
         8254.0,
         14246.0,
         14246.0,
         1
        ],
        [
         "Laayoune",
         3753.0,
         3753.0,
         5818.0,
         5818.0,
         1
        ],
        [
         "Belledune",
         23433.0,
         23433.0,
         35906.0,
         35906.0,
         1
        ],
        [
         "Uig",
         5506.0,
         5506.0,
         739.0,
         739.0,
         1
        ],
        [
         "IJmuiden/Velsen",
         9760.0,
         9760.0,
         11409.0,
         11409.0,
         1
        ],
        [
         "Saltburn",
         1139.0,
         1139.0,
         1102.0,
         1102.0,
         1
        ],
        [
         "The Sound",
         34378.0,
         34378.0,
         58487.0,
         58487.0,
         1
        ],
        [
         "Karabiga",
         17027.0,
         17027.0,
         28284.0,
         28284.0,
         1
        ],
        [
         "Dumyat (Damietta) Anchorage",
         8604.0,
         8604.0,
         13549.0,
         13549.0,
         1
        ],
        [
         "Fos-sur-Mer",
         154381.0,
         154381.0,
         299284.0,
         299284.0,
         1
        ],
        [
         "Hartlepool",
         1.0,
         1.0,
         null,
         null,
         1
        ],
        [
         "Rushbrooke",
         3345.0,
         3345.0,
         2500.0,
         2500.0,
         1
        ],
        [
         "Solent Anchorage",
         9988.0,
         9988.0,
         1377.0,
         1377.0,
         1
        ],
        [
         "Sagunto",
         24166.0,
         24166.0,
         36041.0,
         36041.0,
         1
        ],
        [
         "Rouen",
         1599.0,
         1599.0,
         2219.0,
         2219.0,
         1
        ],
        [
         "Skikda",
         31251.0,
         31251.0,
         55651.0,
         55651.0,
         1
        ],
        [
         "Bethioua Anchorage",
         60135.0,
         60135.0,
         112095.0,
         112095.0,
         1
        ],
        [
         "Reserve",
         36353.0,
         36353.0,
         63539.0,
         63539.0,
         1
        ],
        [
         "Valencia",
         23633.0,
         23633.0,
         27245.0,
         27245.0,
         1
        ],
        [
         "Parnu",
         2999.0,
         2999.0,
         5063.0,
         5063.0,
         1
        ],
        [
         "Beauharnois Lock",
         22947.0,
         22947.0,
         36583.0,
         36583.0,
         1
        ],
        [
         "Finnart",
         60121.0,
         60121.0,
         112100.0,
         112100.0,
         1
        ],
        [
         "Pascagoula",
         25494.0,
         25494.0,
         38700.0,
         38700.0,
         1
        ],
        [
         "Halifax",
         23242.0,
         23242.0,
         37668.0,
         37668.0,
         1
        ],
        [
         "Nafplion",
         2409.0,
         2409.0,
         3755.0,
         3755.0,
         1
        ],
        [
         "Hereke",
         4106.0,
         4106.0,
         6500.0,
         6500.0,
         1
        ],
        [
         "Clydebank",
         7260.0,
         7260.0,
         10745.0,
         10745.0,
         1
        ],
        [
         "Aarhus",
         29283.0,
         29283.0,
         53160.0,
         53160.0,
         1
        ],
        [
         "Huelva",
         34311.0,
         34311.0,
         60263.0,
         60263.0,
         1
        ],
        [
         "Corpus Christi Anchorage",
         83377.0,
         83377.0,
         159500.0,
         159500.0,
         1
        ],
        [
         "Kinsale",
         2868.0,
         2868.0,
         3780.0,
         3780.0,
         1
        ],
        [
         "Goteborg",
         7260.0,
         7260.0,
         10745.0,
         10745.0,
         1
        ],
        [
         "Port-Cartier",
         11885.0,
         11885.0,
         17294.0,
         17294.0,
         1
        ],
        [
         "Whitehaven",
         38.98830409356725,
         38.98830409356725,
         8.123076923076923,
         8.123076923076923,
         1
        ],
        [
         "Ross-Parry Field",
         64000.0,
         64000.0,
         110000.0,
         110000.0,
         1
        ],
        [
         "Holy Loch",
         38.98830409356725,
         38.98830409356725,
         8.123076923076923,
         8.123076923076923,
         1
        ],
        [
         "Ballylumford",
         38.98830409356725,
         38.98830409356725,
         8.123076923076923,
         8.123076923076923,
         1
        ],
        [
         "London Thames Anchorage",
         4077.0,
         4077.0,
         5717.0,
         5717.0,
         1
        ],
        [
         "Sariseki",
         2805.0,
         2805.0,
         4261.0,
         4261.0,
         1
        ],
        [
         "Port Ellen",
         38.98830409356725,
         38.98830409356725,
         8.123076923076923,
         8.123076923076923,
         1
        ],
        [
         "Scrabster",
         47842.0,
         47842.0,
         4526.0,
         4526.0,
         1
        ],
        [
         "Greenore",
         5598.0,
         5598.0,
         8112.0,
         8112.0,
         1
        ],
        [
         "Villa Constitucion",
         9620.0,
         9620.0,
         12834.0,
         12834.0,
         1
        ],
        [
         "Freeport OPL",
         29442.0,
         29442.0,
         52941.0,
         52941.0,
         1
        ],
        [
         "Grangemouth",
         1896.0,
         1896.0,
         3297.0,
         3297.0,
         1
        ],
        [
         "Gulf of Finland",
         2474.0,
         2474.0,
         3480.0,
         3480.0,
         1
        ],
        [
         "Galway",
         2999.0,
         2999.0,
         5150.0,
         5150.0,
         1
        ],
        [
         "Istanbul Anchorage",
         498.0,
         498.0,
         339.0,
         339.0,
         1
        ],
        [
         "Penzance",
         38.98830409356725,
         38.98830409356725,
         8.123076923076923,
         8.123076923076923,
         1
        ],
        [
         "Torquay",
         38.98830409356725,
         38.98830409356725,
         8.123076923076923,
         8.123076923076923,
         1
        ],
        [
         "English Harbour",
         38.98830409356725,
         38.98830409356725,
         8.123076923076923,
         8.123076923076923,
         1
        ],
        [
         "Malta OPL",
         82987.0,
         82987.0,
         156734.0,
         156734.0,
         1
        ],
        [
         "Dakar",
         29752.0,
         29752.0,
         47496.0,
         47496.0,
         1
        ],
        [
         "Genova",
         43984.0,
         43984.0,
         74999.0,
         74999.0,
         1
        ],
        [
         "Bangor",
         38.98830409356725,
         38.98830409356725,
         8.123076923076923,
         8.123076923076923,
         1
        ],
        [
         "Saint Helier",
         3888.0,
         3888.0,
         3932.0,
         3932.0,
         1
        ],
        [
         "AcuPort/Sao Joao da Barra",
         22691.0,
         22691.0,
         36490.0,
         36490.0,
         1
        ],
        [
         "Kobenhavn",
         99902.0,
         99902.0,
         9509.0,
         9509.0,
         1
        ],
        [
         "Fredrikstad",
         38.98830409356725,
         38.98830409356725,
         8.123076923076923,
         8.123076923076923,
         1
        ],
        [
         "Syros (Syra) Anchorage",
         3561.0,
         3561.0,
         4519.0,
         4519.0,
         1
        ],
        [
         "Brodick, Isle of Arran",
         852.0,
         852.0,
         1275.0,
         1275.0,
         1
        ],
        [
         "Fethiye",
         4671.0,
         4671.0,
         6603.0,
         6603.0,
         1
        ],
        [
         "Marina di Carrara",
         33114.0,
         33114.0,
         56507.0,
         56507.0,
         1
        ],
        [
         "Cadiz",
         10122.0,
         10122.0,
         15800.0,
         15800.0,
         1
        ],
        [
         "North Alwyn Field",
         1944.0,
         1944.0,
         1436.0,
         1436.0,
         1
        ],
        [
         "Gabes",
         2518.0,
         2518.0,
         3809.0,
         3809.0,
         1
        ],
        [
         "Port Penrhyn",
         20.0,
         20.0,
         1193.6666666666667,
         1193.6666666666667,
         1
        ],
        [
         "Dordrecht",
         358.0,
         358.0,
         171.23102753525856,
         171.23102753525856,
         1
        ],
        [
         "Hellevoetsluis",
         38.98830409356725,
         38.98830409356725,
         8.123076923076923,
         8.123076923076923,
         1
        ],
        [
         "Dunmore East",
         38.98830409356725,
         38.98830409356725,
         8.123076923076923,
         8.123076923076923,
         1
        ],
        [
         "Ardrossan",
         38.98830409356725,
         38.98830409356725,
         8.123076923076923,
         8.123076923076923,
         1
        ],
        [
         "Isle of Grain",
         496.65625,
         496.65625,
         212.046875,
         212.046875,
         1
        ],
        [
         "Stornoway",
         496.65625,
         496.65625,
         212.046875,
         212.046875,
         1
        ],
        [
         "Dartmouth",
         38.98830409356725,
         38.98830409356725,
         8.123076923076923,
         8.123076923076923,
         1
        ],
        [
         "Pembroke",
         26.192307692307693,
         26.192307692307693,
         null,
         null,
         1
        ],
        [
         "Bergen",
         26520.0,
         26520.0,
         null,
         null,
         1
        ],
        [
         "Great Yarmouth",
         26.192307692307693,
         26.192307692307693,
         null,
         null,
         1
        ],
        [
         "Cowes",
         26.192307692307693,
         26.192307692307693,
         null,
         null,
         1
        ],
        [
         null,
         26.192307692307693,
         38.98830409356725,
         8.123076923076923,
         8.123076923076923,
         0
        ]
       ],
       "datasetInfos": [],
       "dbfsResultPath": null,
       "isJsonSchema": true,
       "metadata": {},
       "overflow": false,
       "plotOptions": {
        "customPlotOptions": {},
        "displayType": "table",
        "pivotAggregation": null,
        "pivotColumns": null,
        "xColumns": null,
        "yColumns": null
       },
       "removedWidgets": [],
       "schema": [
        {
         "metadata": "{}",
         "name": "Prior_place",
         "type": "\"string\""
        },
        {
         "metadata": "{}",
         "name": "min_Gross_Tonnes",
         "type": "\"double\""
        },
        {
         "metadata": "{}",
         "name": "max_Gross_Tonnes",
         "type": "\"double\""
        },
        {
         "metadata": "{}",
         "name": "min_DWT",
         "type": "\"double\""
        },
        {
         "metadata": "{}",
         "name": "max_DWT",
         "type": "\"double\""
        },
        {
         "metadata": "{}",
         "name": "Count_of_Ships",
         "type": "\"long\""
        }
       ],
       "type": "table"
      }
     },
     "output_type": "display_data"
    }
   ],
   "source": [
    "%sql\n",
    "select Prior_place,min(Gross_Tonnes) as min_Gross_Tonnes,max(Gross_Tonnes) as max_Gross_Tonnes,min(DWT) as min_DWT,max(DWT) as max_DWT,count(Prior_Place) as Count_of_Ships from ShipSparkTable\n",
    "group by all\n",
    "order by 6 desc"
   ]
  },
  {
   "cell_type": "markdown",
   "metadata": {
    "application/vnd.databricks.v1+cell": {
     "cellMetadata": {
      "byteLimit": 2048000,
      "rowLimit": 10000
     },
     "inputWidgets": {},
     "nuid": "7ed9cce5-00dd-40b4-8cda-babd58bb8804",
     "showTitle": false,
     "title": ""
    }
   },
   "source": [
    "1. The results show which times of day are most common for ships arriving from or departing to each prior port. This information could be useful for understanding and managing port traffic, scheduling, and operational planning.\n",
    "2. Similar data analyses can also be conducted based on the day of the week or the day of the month. This approach helps identify which specific days tend to be the busiest at the port. Such insights are valuable for effective planning and resource allocation, ensuring the port's operations are optimized for peak times.\n"
   ]
  },
  {
   "cell_type": "code",
   "execution_count": 0,
   "metadata": {
    "application/vnd.databricks.v1+cell": {
     "cellMetadata": {
      "byteLimit": 2048000,
      "implicitDf": true,
      "rowLimit": 10000
     },
     "inputWidgets": {},
     "nuid": "190e338b-53b0-4fc9-a1ae-59d88872b8aa",
     "showTitle": false,
     "title": ""
    }
   },
   "outputs": [
    {
     "output_type": "display_data",
     "data": {
      "text/html": [
       "<style scoped>\n",
       "  .table-result-container {\n",
       "    max-height: 300px;\n",
       "    overflow: auto;\n",
       "  }\n",
       "  table, th, td {\n",
       "    border: 1px solid black;\n",
       "    border-collapse: collapse;\n",
       "  }\n",
       "  th, td {\n",
       "    padding: 5px;\n",
       "  }\n",
       "  th {\n",
       "    text-align: left;\n",
       "  }\n",
       "</style><div class='table-result-container'><table class='table-result'><thead style='background-color: white'><tr><th>Prior_Place</th><th>Morning_Arrival_Count</th><th>Afternoon_Arrival_Count</th><th>Evening_Arrival_Count</th><th>Night_Arrival_Count</th><th>Morning_Departure_Count</th><th>Afternoon_Departure_Count</th><th>Evening_Departure_Count</th><th>Night_Departure_Count</th></tr></thead><tbody><tr><td>Liverpool</td><td>840</td><td>1142</td><td>1443</td><td>704</td><td>1295</td><td>702</td><td>1428</td><td>679</td></tr><tr><td>Birkenhead</td><td>490</td><td>875</td><td>1086</td><td>453</td><td>1155</td><td>410</td><td>886</td><td>511</td></tr><tr><td>Belfast</td><td>203</td><td>217</td><td>611</td><td>243</td><td>347</td><td>52</td><td>632</td><td>233</td></tr><tr><td>Dublin</td><td>155</td><td>496</td><td>954</td><td>632</td><td>484</td><td>101</td><td>1020</td><td>321</td></tr><tr><td>Eastham</td><td>137</td><td>112</td><td>108</td><td>69</td><td>140</td><td>102</td><td>115</td><td>44</td></tr><tr><td>Douglas</td><td>92</td><td>149</td><td>27</td><td>10</td><td>80</td><td>12</td><td>176</td><td>11</td></tr><tr><td>Rotterdam</td><td>43</td><td>32</td><td>51</td><td>22</td><td>36</td><td>39</td><td>51</td><td>20</td></tr><tr><td>Bilbao</td><td>35</td><td>22</td><td>54</td><td>23</td><td>25</td><td>36</td><td>50</td><td>23</td></tr><tr><td>Holyhead</td><td>32</td><td>15</td><td>36</td><td>20</td><td>23</td><td>30</td><td>30</td><td>8</td></tr><tr><td>Runcorn</td><td>32</td><td>6</td><td>1</td><td>0</td><td>13</td><td>26</td><td>0</td><td>0</td></tr><tr><td>Antwerpen</td><td>30</td><td>24</td><td>39</td><td>14</td><td>29</td><td>24</td><td>40</td><td>14</td></tr><tr><td>Larne</td><td>21</td><td>3</td><td>9</td><td>4</td><td>3</td><td>14</td><td>16</td><td>3</td></tr><tr><td>Leixoes</td><td>21</td><td>7</td><td>23</td><td>15</td><td>10</td><td>11</td><td>30</td><td>13</td></tr><tr><td>Le Havre</td><td>18</td><td>17</td><td>30</td><td>15</td><td>19</td><td>9</td><td>37</td><td>16</td></tr><tr><td>Aveiro</td><td>14</td><td>2</td><td>14</td><td>8</td><td>3</td><td>5</td><td>22</td><td>7</td></tr><tr><td>Bromborough</td><td>14</td><td>18</td><td>16</td><td>10</td><td>20</td><td>13</td><td>15</td><td>11</td></tr><tr><td>Sines</td><td>12</td><td>12</td><td>15</td><td>8</td><td>11</td><td>11</td><td>17</td><td>4</td></tr><tr><td>Dunkerque</td><td>11</td><td>9</td><td>12</td><td>3</td><td>10</td><td>9</td><td>13</td><td>6</td></tr><tr><td>Santander</td><td>10</td><td>1</td><td>1</td><td>1</td><td>1</td><td>10</td><td>1</td><td>0</td></tr><tr><td>Greenock</td><td>9</td><td>4</td><td>10</td><td>4</td><td>7</td><td>7</td><td>9</td><td>1</td></tr><tr><td>Dundalk</td><td>8</td><td>1</td><td>3</td><td>1</td><td>1</td><td>5</td><td>6</td><td>0</td></tr><tr><td>Ferrol</td><td>7</td><td>4</td><td>7</td><td>2</td><td>6</td><td>5</td><td>7</td><td>3</td></tr><tr><td>Fairview Cove</td><td>7</td><td>3</td><td>6</td><td>4</td><td>3</td><td>5</td><td>8</td><td>4</td></tr><tr><td>Ceuta</td><td>7</td><td>3</td><td>4</td><td>2</td><td>2</td><td>7</td><td>5</td><td>3</td></tr><tr><td>Cobh</td><td>7</td><td>0</td><td>2</td><td>2</td><td>0</td><td>6</td><td>3</td><td>0</td></tr><tr><td>Villagarcia de Arosa</td><td>7</td><td>12</td><td>7</td><td>2</td><td>2</td><td>3</td><td>21</td><td>8</td></tr><tr><td>Setubal</td><td>6</td><td>3</td><td>10</td><td>5</td><td>3</td><td>5</td><td>11</td><td>5</td></tr><tr><td>Warrenpoint</td><td>6</td><td>6</td><td>3</td><td>2</td><td>1</td><td>4</td><td>10</td><td>2</td></tr><tr><td>Stanlow</td><td>5</td><td>10</td><td>20</td><td>10</td><td>8</td><td>13</td><td>14</td><td>7</td></tr><tr><td>Garston</td><td>5</td><td>6</td><td>3</td><td>1</td><td>2</td><td>6</td><td>6</td><td>2</td></tr><tr><td>Las Palmas de Gran Canaria</td><td>5</td><td>3</td><td>5</td><td>5</td><td>4</td><td>0</td><td>9</td><td>4</td></tr><tr><td>Douglas Field</td><td>5</td><td>3</td><td>5</td><td>3</td><td>5</td><td>3</td><td>5</td><td>2</td></tr><tr><td>Mongstad</td><td>5</td><td>2</td><td>0</td><td>0</td><td>1</td><td>1</td><td>5</td><td>2</td></tr><tr><td>Savannah</td><td>4</td><td>1</td><td>3</td><td>1</td><td>0</td><td>0</td><td>8</td><td>3</td></tr><tr><td>Ellesmere Port</td><td>4</td><td>17</td><td>7</td><td>5</td><td>17</td><td>7</td><td>4</td><td>1</td></tr><tr><td>Glasgow</td><td>4</td><td>2</td><td>4</td><td>1</td><td>1</td><td>2</td><td>7</td><td>6</td></tr><tr><td>Portbury</td><td>4</td><td>6</td><td>4</td><td>3</td><td>1</td><td>1</td><td>12</td><td>6</td></tr><tr><td>Rosslare Harbour</td><td>4</td><td>7</td><td>5</td><td>1</td><td>5</td><td>6</td><td>5</td><td>2</td></tr><tr><td>Odda</td><td>4</td><td>3</td><td>7</td><td>3</td><td>3</td><td>4</td><td>7</td><td>2</td></tr><tr><td>Wicklow</td><td>4</td><td>5</td><td>6</td><td>1</td><td>1</td><td>7</td><td>7</td><td>1</td></tr><tr><td>Glensanda</td><td>3</td><td>0</td><td>8</td><td>3</td><td>4</td><td>1</td><td>6</td><td>2</td></tr><tr><td>Saint-Nazaire</td><td>3</td><td>6</td><td>7</td><td>2</td><td>6</td><td>3</td><td>7</td><td>3</td></tr><tr><td>Montreal</td><td>3</td><td>0</td><td>9</td><td>3</td><td>1</td><td>5</td><td>6</td><td>3</td></tr><tr><td>Teesport</td><td>3</td><td>1</td><td>1</td><td>0</td><td>0</td><td>2</td><td>3</td><td>0</td></tr><tr><td>Fishguard</td><td>3</td><td>0</td><td>2</td><td>2</td><td>1</td><td>3</td><td>1</td><td>0</td></tr><tr><td>New Ross</td><td>3</td><td>4</td><td>5</td><td>2</td><td>0</td><td>5</td><td>7</td><td>1</td></tr><tr><td>Millom Field</td><td>3</td><td>1</td><td>3</td><td>1</td><td>1</td><td>1</td><td>5</td><td>1</td></tr><tr><td>Sharpness</td><td>3</td><td>0</td><td>0</td><td>0</td><td>2</td><td>0</td><td>1</td><td>0</td></tr><tr><td>Derince</td><td>3</td><td>0</td><td>1</td><td>0</td><td>1</td><td>0</td><td>3</td><td>3</td></tr><tr><td>Vlissingen</td><td>3</td><td>2</td><td>5</td><td>0</td><td>2</td><td>3</td><td>5</td><td>0</td></tr><tr><td>null</td><td>3</td><td>1</td><td>2</td><td>0</td><td>4</td><td>2</td><td>0</td><td>0</td></tr><tr><td>Portishead</td><td>3</td><td>0</td><td>0</td><td>0</td><td>2</td><td>1</td><td>0</td><td>0</td></tr><tr><td>Gijon</td><td>2</td><td>5</td><td>6</td><td>2</td><td>2</td><td>4</td><td>7</td><td>2</td></tr><tr><td>Ingleside</td><td>2</td><td>6</td><td>7</td><td>1</td><td>6</td><td>1</td><td>8</td><td>1</td></tr><tr><td>Algeciras</td><td>2</td><td>0</td><td>0</td><td>0</td><td>2</td><td>0</td><td>0</td><td>0</td></tr><tr><td>St. Bride's Bay</td><td>2</td><td>0</td><td>1</td><td>0</td><td>3</td><td>0</td><td>0</td><td>0</td></tr><tr><td>Hamilton Field</td><td>2</td><td>3</td><td>1</td><td>0</td><td>2</td><td>2</td><td>2</td><td>0</td></tr><tr><td>Chesapeake</td><td>2</td><td>1</td><td>2</td><td>1</td><td>1</td><td>3</td><td>1</td><td>0</td></tr><tr><td>Malaga</td><td>2</td><td>0</td><td>8</td><td>2</td><td>2</td><td>2</td><td>6</td><td>3</td></tr><tr><td>Eregli</td><td>2</td><td>0</td><td>0</td><td>0</td><td>0</td><td>1</td><td>1</td><td>1</td></tr><tr><td>Kotka</td><td>2</td><td>5</td><td>2</td><td>0</td><td>0</td><td>2</td><td>7</td><td>1</td></tr><tr><td>Mostyn</td><td>2</td><td>6</td><td>4</td><td>3</td><td>3</td><td>6</td><td>3</td><td>2</td></tr><tr><td>Goteborg Anchorage</td><td>2</td><td>2</td><td>6</td><td>3</td><td>2</td><td>3</td><td>5</td><td>3</td></tr><tr><td>Knarrevik</td><td>2</td><td>0</td><td>1</td><td>0</td><td>2</td><td>0</td><td>1</td><td>0</td></tr><tr><td>Corpus Christi</td><td>2</td><td>4</td><td>8</td><td>4</td><td>4</td><td>2</td><td>8</td><td>3</td></tr><tr><td>Amsterdam</td><td>2</td><td>1</td><td>9</td><td>6</td><td>5</td><td>0</td><td>7</td><td>2</td></tr><tr><td>Aberdeen</td><td>2</td><td>3</td><td>2</td><td>1</td><td>2</td><td>1</td><td>4</td><td>1</td></tr><tr><td>Heysham</td><td>2</td><td>2</td><td>1</td><td>1</td><td>2</td><td>2</td><td>1</td><td>1</td></tr><tr><td>Great Bitter Lake</td><td>2</td><td>2</td><td>2</td><td>1</td><td>0</td><td>2</td><td>4</td><td>3</td></tr><tr><td>Kyle of Lochalsh</td><td>2</td><td>6</td><td>0</td><td>0</td><td>0</td><td>1</td><td>7</td><td>4</td></tr><tr><td>Barrow in Furness</td><td>2</td><td>4</td><td>0</td><td>0</td><td>3</td><td>3</td><td>0</td><td>0</td></tr><tr><td>Rotterdam Anchorage</td><td>2</td><td>1</td><td>2</td><td>0</td><td>2</td><td>1</td><td>2</td><td>0</td></tr><tr><td>Lowestoft</td><td>2</td><td>1</td><td>0</td><td>0</td><td>1</td><td>1</td><td>1</td><td>0</td></tr><tr><td>Houston</td><td>2</td><td>0</td><td>2</td><td>1</td><td>2</td><td>0</td><td>2</td><td>1</td></tr><tr><td>La Coruna (A Coruna)</td><td>2</td><td>1</td><td>8</td><td>7</td><td>1</td><td>6</td><td>4</td><td>0</td></tr><tr><td>Stura</td><td>2</td><td>3</td><td>3</td><td>1</td><td>3</td><td>2</td><td>3</td><td>1</td></tr><tr><td>Algeciras Anchorage</td><td>2</td><td>1</td><td>2</td><td>0</td><td>2</td><td>0</td><td>3</td><td>0</td></tr><tr><td>Fawley</td><td>2</td><td>0</td><td>1</td><td>0</td><td>1</td><td>1</td><td>1</td><td>1</td></tr><tr><td>Milford Docks</td><td>2</td><td>0</td><td>4</td><td>1</td><td>2</td><td>3</td><td>1</td><td>1</td></tr><tr><td>Bruichladdich</td><td>2</td><td>1</td><td>3</td><td>2</td><td>1</td><td>5</td><td>0</td><td>0</td></tr><tr><td>Sauda</td><td>2</td><td>0</td><td>0</td><td>0</td><td>0</td><td>0</td><td>2</td><td>1</td></tr><tr><td>Dumyat (Damietta)</td><td>2</td><td>0</td><td>1</td><td>0</td><td>0</td><td>0</td><td>3</td><td>1</td></tr><tr><td>Marin</td><td>1</td><td>0</td><td>1</td><td>0</td><td>0</td><td>1</td><td>1</td><td>1</td></tr><tr><td>Brunswick</td><td>1</td><td>0</td><td>3</td><td>1</td><td>0</td><td>0</td><td>4</td><td>2</td></tr><tr><td>Come By Chance</td><td>1</td><td>0</td><td>1</td><td>1</td><td>1</td><td>1</td><td>0</td><td>0</td></tr><tr><td>Vila do CondePort/Barcarena</td><td>1</td><td>0</td><td>0</td><td>0</td><td>1</td><td>0</td><td>0</td><td>0</td></tr><tr><td>Brunsbuttel</td><td>1</td><td>1</td><td>6</td><td>2</td><td>3</td><td>0</td><td>5</td><td>2</td></tr><tr><td>Portland</td><td>1</td><td>0</td><td>0</td><td>0</td><td>0</td><td>1</td><td>0</td><td>0</td></tr><tr><td>Londonderry</td><td>1</td><td>0</td><td>1</td><td>1</td><td>0</td><td>0</td><td>2</td><td>0</td></tr><tr><td>Ashdod</td><td>1</td><td>1</td><td>3</td><td>1</td><td>2</td><td>1</td><td>2</td><td>0</td></tr><tr><td>Destrehan</td><td>1</td><td>1</td><td>0</td><td>0</td><td>1</td><td>0</td><td>1</td><td>0</td></tr><tr><td>Falmouth Anchorage</td><td>1</td><td>0</td><td>1</td><td>0</td><td>0</td><td>1</td><td>1</td><td>0</td></tr><tr><td>Harstad</td><td>1</td><td>0</td><td>0</td><td>0</td><td>1</td><td>0</td><td>0</td><td>0</td></tr><tr><td>Castellon de la Plana</td><td>1</td><td>2</td><td>2</td><td>2</td><td>1</td><td>0</td><td>4</td><td>2</td></tr><tr><td>Lerwick</td><td>1</td><td>0</td><td>2</td><td>0</td><td>1</td><td>2</td><td>0</td><td>0</td></tr><tr><td>Marsaxlokk Anchorage</td><td>1</td><td>0</td><td>0</td><td>0</td><td>0</td><td>0</td><td>1</td><td>0</td></tr><tr><td>la Pallice</td><td>1</td><td>0</td><td>4</td><td>3</td><td>0</td><td>1</td><td>4</td><td>1</td></tr><tr><td>Drammen</td><td>1</td><td>0</td><td>0</td><td>0</td><td>0</td><td>0</td><td>1</td><td>1</td></tr><tr><td>Devonport</td><td>1</td><td>0</td><td>0</td><td>0</td><td>0</td><td>1</td><td>0</td><td>0</td></tr><tr><td>Suape Anchorage</td><td>1</td><td>0</td><td>0</td><td>0</td><td>0</td><td>0</td><td>1</td><td>1</td></tr><tr><td>Escravos</td><td>1</td><td>0</td><td>1</td><td>0</td><td>0</td><td>0</td><td>2</td><td>0</td></tr><tr><td>Sullom Voe</td><td>1</td><td>1</td><td>3</td><td>2</td><td>0</td><td>1</td><td>4</td><td>3</td></tr><tr><td>Port Allen</td><td>1</td><td>1</td><td>6</td><td>4</td><td>2</td><td>1</td><td>5</td><td>2</td></tr><tr><td>Klaipeda</td><td>1</td><td>1</td><td>0</td><td>0</td><td>0</td><td>1</td><td>1</td><td>0</td></tr><tr><td>Sluiskil</td><td>1</td><td>0</td><td>0</td><td>0</td><td>1</td><td>0</td><td>0</td><td>0</td></tr><tr><td>Grande Anse QC</td><td>1</td><td>0</td><td>1</td><td>0</td><td>0</td><td>2</td><td>0</td><td>0</td></tr><tr><td>Southampton</td><td>1</td><td>1</td><td>11</td><td>7</td><td>0</td><td>3</td><td>10</td><td>5</td></tr><tr><td>Zona Comun Anchorage</td><td>1</td><td>1</td><td>1</td><td>1</td><td>0</td><td>0</td><td>3</td><td>0</td></tr><tr><td>Quebec</td><td>1</td><td>0</td><td>0</td><td>0</td><td>0</td><td>0</td><td>1</td><td>0</td></tr><tr><td>Vigo</td><td>1</td><td>2</td><td>1</td><td>0</td><td>0</td><td>1</td><td>3</td><td>1</td></tr><tr><td>Gibraltar West Anchorage</td><td>1</td><td>2</td><td>2</td><td>1</td><td>1</td><td>0</td><td>4</td><td>1</td></tr><tr><td>Wilmington, NC</td><td>1</td><td>0</td><td>0</td><td>0</td><td>0</td><td>0</td><td>1</td><td>0</td></tr><tr><td>Dover</td><td>1</td><td>0</td><td>2</td><td>1</td><td>1</td><td>1</td><td>1</td><td>0</td></tr><tr><td>Kaliningrad</td><td>1</td><td>1</td><td>1</td><td>0</td><td>2</td><td>1</td><td>0</td><td>0</td></tr><tr><td>Brest</td><td>1</td><td>0</td><td>0</td><td>0</td><td>1</td><td>0</td><td>0</td><td>0</td></tr><tr><td>Bermeo</td><td>1</td><td>0</td><td>2</td><td>1</td><td>0</td><td>2</td><td>1</td><td>0</td></tr><tr><td>Drogheda</td><td>1</td><td>1</td><td>1</td><td>1</td><td>1</td><td>1</td><td>1</td><td>0</td></tr><tr><td>Lorient</td><td>1</td><td>0</td><td>0</td><td>0</td><td>0</td><td>0</td><td>1</td><td>0</td></tr><tr><td>Santa Apolonia</td><td>1</td><td>1</td><td>3</td><td>3</td><td>0</td><td>0</td><td>5</td><td>2</td></tr><tr><td>Les Sables-d'Olonne</td><td>1</td><td>1</td><td>0</td><td>0</td><td>0</td><td>1</td><td>1</td><td>1</td></tr><tr><td>Yali Island</td><td>1</td><td>0</td><td>0</td><td>0</td><td>0</td><td>0</td><td>1</td><td>1</td></tr><tr><td>Avonmouth</td><td>1</td><td>1</td><td>1</td><td>0</td><td>0</td><td>2</td><td>1</td><td>1</td></tr><tr><td>Hanstholm</td><td>1</td><td>0</td><td>1</td><td>1</td><td>1</td><td>0</td><td>1</td><td>1</td></tr><tr><td>Whitegate</td><td>1</td><td>0</td><td>0</td><td>0</td><td>1</td><td>0</td><td>0</td><td>0</td></tr><tr><td>Saint Margaret's Hope</td><td>1</td><td>0</td><td>0</td><td>0</td><td>0</td><td>1</td><td>0</td><td>0</td></tr><tr><td>Dagenham</td><td>1</td><td>0</td><td>0</td><td>0</td><td>1</td><td>0</td><td>0</td><td>0</td></tr><tr><td>Tanger Med</td><td>1</td><td>0</td><td>0</td><td>0</td><td>1</td><td>0</td><td>0</td><td>0</td></tr><tr><td>Cardiff</td><td>1</td><td>1</td><td>0</td><td>0</td><td>0</td><td>0</td><td>2</td><td>2</td></tr><tr><td>El Dekheila</td><td>1</td><td>0</td><td>0</td><td>0</td><td>1</td><td>0</td><td>0</td><td>0</td></tr><tr><td>El Iskandariya (Alexandria)</td><td>1</td><td>1</td><td>0</td><td>0</td><td>0</td><td>1</td><td>1</td><td>1</td></tr><tr><td>Cork</td><td>1</td><td>1</td><td>1</td><td>0</td><td>0</td><td>0</td><td>3</td><td>1</td></tr><tr><td>Hamburg</td><td>1</td><td>0</td><td>1</td><td>1</td><td>1</td><td>0</td><td>1</td><td>1</td></tr><tr><td>IJmuiden/Velsen</td><td>1</td><td>0</td><td>0</td><td>0</td><td>1</td><td>0</td><td>0</td><td>0</td></tr><tr><td>Saltburn</td><td>1</td><td>0</td><td>0</td><td>0</td><td>0</td><td>1</td><td>0</td><td>0</td></tr><tr><td>Kyleakin</td><td>1</td><td>0</td><td>1</td><td>1</td><td>0</td><td>0</td><td>2</td><td>1</td></tr><tr><td>Hartlepool</td><td>1</td><td>0</td><td>0</td><td>0</td><td>1</td><td>0</td><td>0</td><td>0</td></tr><tr><td>Rushbrooke</td><td>1</td><td>0</td><td>0</td><td>0</td><td>0</td><td>0</td><td>1</td><td>0</td></tr><tr><td>Solent Anchorage</td><td>1</td><td>0</td><td>0</td><td>0</td><td>0</td><td>1</td><td>0</td><td>0</td></tr><tr><td>Skikda</td><td>1</td><td>0</td><td>0</td><td>0</td><td>0</td><td>0</td><td>1</td><td>0</td></tr><tr><td>Bethioua Anchorage</td><td>1</td><td>0</td><td>0</td><td>0</td><td>0</td><td>0</td><td>1</td><td>0</td></tr><tr><td>Valencia</td><td>1</td><td>0</td><td>0</td><td>0</td><td>1</td><td>0</td><td>0</td><td>0</td></tr><tr><td>Beauharnois Lock</td><td>1</td><td>0</td><td>0</td><td>0</td><td>0</td><td>0</td><td>1</td><td>0</td></tr><tr><td>Portsmouth</td><td>1</td><td>1</td><td>2</td><td>2</td><td>2</td><td>0</td><td>2</td><td>1</td></tr><tr><td>Halifax</td><td>1</td><td>0</td><td>0</td><td>0</td><td>0</td><td>1</td><td>0</td><td>0</td></tr><tr><td>Port-Cartier</td><td>1</td><td>0</td><td>0</td><td>0</td><td>0</td><td>0</td><td>1</td><td>0</td></tr><tr><td>London Thames Anchorage</td><td>1</td><td>0</td><td>0</td><td>0</td><td>0</td><td>1</td><td>0</td><td>0</td></tr><tr><td>Gulf of Finland</td><td>1</td><td>0</td><td>0</td><td>0</td><td>0</td><td>0</td><td>1</td><td>0</td></tr><tr><td>Istanbul Anchorage</td><td>1</td><td>0</td><td>0</td><td>0</td><td>0</td><td>0</td><td>1</td><td>0</td></tr><tr><td>Penzance</td><td>1</td><td>0</td><td>0</td><td>0</td><td>0</td><td>1</td><td>0</td><td>0</td></tr><tr><td>Troon</td><td>1</td><td>0</td><td>2</td><td>1</td><td>2</td><td>0</td><td>1</td><td>0</td></tr><tr><td>Darrow</td><td>1</td><td>1</td><td>2</td><td>1</td><td>2</td><td>0</td><td>2</td><td>0</td></tr><tr><td>English Harbour</td><td>1</td><td>0</td><td>0</td><td>0</td><td>0</td><td>1</td><td>0</td><td>0</td></tr><tr><td>Genova</td><td>1</td><td>0</td><td>0</td><td>0</td><td>1</td><td>0</td><td>0</td><td>0</td></tr><tr><td>Mostaganem</td><td>1</td><td>1</td><td>0</td><td>0</td><td>0</td><td>0</td><td>2</td><td>1</td></tr><tr><td>Saint Helier</td><td>1</td><td>0</td><td>0</td><td>0</td><td>0</td><td>0</td><td>1</td><td>0</td></tr><tr><td>Kobenhavn</td><td>1</td><td>0</td><td>0</td><td>0</td><td>0</td><td>0</td><td>1</td><td>0</td></tr><tr><td>Fredrikstad</td><td>1</td><td>0</td><td>0</td><td>0</td><td>0</td><td>1</td><td>0</td><td>0</td></tr><tr><td>Reykjavik</td><td>1</td><td>0</td><td>2</td><td>2</td><td>0</td><td>3</td><td>0</td><td>0</td></tr><tr><td>Dun Laoghaire</td><td>1</td><td>1</td><td>1</td><td>1</td><td>1</td><td>0</td><td>2</td><td>2</td></tr><tr><td>Brodick, Isle of Arran</td><td>1</td><td>0</td><td>0</td><td>0</td><td>1</td><td>0</td><td>0</td><td>0</td></tr><tr><td>Fethiye</td><td>1</td><td>0</td><td>0</td><td>0</td><td>0</td><td>0</td><td>1</td><td>0</td></tr><tr><td>Marina di Carrara</td><td>1</td><td>0</td><td>0</td><td>0</td><td>0</td><td>1</td><td>0</td><td>0</td></tr><tr><td>Gullfaks</td><td>1</td><td>0</td><td>1</td><td>1</td><td>0</td><td>1</td><td>1</td><td>1</td></tr><tr><td>Ardrossan</td><td>1</td><td>0</td><td>0</td><td>0</td><td>1</td><td>0</td><td>0</td><td>0</td></tr><tr><td>Isle of Grain</td><td>1</td><td>0</td><td>0</td><td>0</td><td>1</td><td>0</td><td>0</td><td>0</td></tr><tr><td>Dartmouth</td><td>1</td><td>0</td><td>0</td><td>0</td><td>0</td><td>1</td><td>0</td><td>0</td></tr><tr><td>Pembroke</td><td>1</td><td>0</td><td>0</td><td>0</td><td>1</td><td>0</td><td>0</td><td>0</td></tr><tr><td>Hound Point</td><td>0</td><td>1</td><td>2</td><td>0</td><td>1</td><td>0</td><td>2</td><td>0</td></tr><tr><td>Zeebrugge</td><td>0</td><td>1</td><td>0</td><td>0</td><td>0</td><td>0</td><td>1</td><td>0</td></tr><tr><td>Ostrica</td><td>0</td><td>1</td><td>0</td><td>0</td><td>0</td><td>1</td><td>0</td><td>0</td></tr><tr><td>Baie Comeau</td><td>0</td><td>0</td><td>6</td><td>4</td><td>0</td><td>2</td><td>4</td><td>2</td></tr><tr><td>Itaqui</td><td>0</td><td>0</td><td>1</td><td>0</td><td>0</td><td>0</td><td>1</td><td>0</td></tr><tr><td>Vila do Conde Anchorage</td><td>0</td><td>0</td><td>1</td><td>0</td><td>0</td><td>0</td><td>1</td><td>0</td></tr><tr><td>Palm Beach</td><td>0</td><td>0</td><td>1</td><td>0</td><td>1</td><td>0</td><td>0</td><td>0</td></tr><tr><td>Limerick</td><td>0</td><td>1</td><td>6</td><td>1</td><td>1</td><td>4</td><td>2</td><td>1</td></tr><tr><td>IJmuiden/Velsen Anchorage</td><td>0</td><td>1</td><td>0</td><td>0</td><td>0</td><td>1</td><td>0</td><td>0</td></tr><tr><td>Limas</td><td>0</td><td>1</td><td>0</td><td>0</td><td>1</td><td>0</td><td>0</td><td>0</td></tr><tr><td>Immingham</td><td>0</td><td>0</td><td>1</td><td>1</td><td>1</td><td>0</td><td>0</td><td>0</td></tr><tr><td>Escombreras</td><td>0</td><td>0</td><td>1</td><td>0</td><td>0</td><td>0</td><td>1</td><td>0</td></tr><tr><td>Tarragona</td><td>0</td><td>1</td><td>0</td><td>0</td><td>0</td><td>0</td><td>1</td><td>0</td></tr><tr><td>Port Talbot</td><td>0</td><td>0</td><td>3</td><td>2</td><td>0</td><td>1</td><td>2</td><td>0</td></tr><tr><td>Ferrol Anchorage</td><td>0</td><td>2</td><td>2</td><td>2</td><td>1</td><td>1</td><td>2</td><td>1</td></tr><tr><td>Sainte-Victoire-de-Sorel</td><td>0</td><td>0</td><td>2</td><td>0</td><td>0</td><td>0</td><td>2</td><td>0</td></tr><tr><td>Rostock</td><td>0</td><td>0</td><td>2</td><td>2</td><td>0</td><td>0</td><td>2</td><td>1</td></tr><tr><td>Macapa Anchorage</td><td>0</td><td>1</td><td>0</td><td>0</td><td>0</td><td>0</td><td>1</td><td>1</td></tr><tr><td>Bremen</td><td>0</td><td>0</td><td>1</td><td>1</td><td>0</td><td>0</td><td>1</td><td>1</td></tr><tr><td>Aughinish Island</td><td>0</td><td>0</td><td>2</td><td>0</td><td>0</td><td>0</td><td>2</td><td>2</td></tr><tr><td>Bethioua</td><td>0</td><td>7</td><td>7</td><td>3</td><td>4</td><td>2</td><td>8</td><td>7</td></tr><tr><td>Sarroch (Porto Foxi)</td><td>0</td><td>1</td><td>0</td><td>0</td><td>0</td><td>0</td><td>1</td><td>0</td></tr><tr><td>Fleetwood</td><td>0</td><td>1</td><td>0</td><td>0</td><td>1</td><td>0</td><td>0</td><td>0</td></tr><tr><td>Westhinder Anchorage</td><td>0</td><td>0</td><td>4</td><td>2</td><td>2</td><td>1</td><td>1</td><td>0</td></tr><tr><td>New Orleans Anchorage</td><td>0</td><td>1</td><td>1</td><td>0</td><td>0</td><td>0</td><td>2</td><td>1</td></tr><tr><td>Skagen Anchorage</td><td>0</td><td>1</td><td>3</td><td>0</td><td>2</td><td>0</td><td>2</td><td>1</td></tr><tr><td>Newport</td><td>0</td><td>1</td><td>3</td><td>1</td><td>0</td><td>3</td><td>1</td><td>1</td></tr><tr><td>Abidjan</td><td>0</td><td>1</td><td>0</td><td>0</td><td>0</td><td>0</td><td>1</td><td>1</td></tr><tr><td>Wilmington</td><td>0</td><td>1</td><td>1</td><td>0</td><td>1</td><td>0</td><td>1</td><td>1</td></tr><tr><td>Barking Riverside</td><td>0</td><td>0</td><td>3</td><td>2</td><td>0</td><td>1</td><td>2</td><td>0</td></tr><tr><td>Diliskelesi</td><td>0</td><td>1</td><td>1</td><td>1</td><td>0</td><td>1</td><td>1</td><td>0</td></tr><tr><td>Port Arthur</td><td>0</td><td>1</td><td>0</td><td>0</td><td>0</td><td>0</td><td>1</td><td>0</td></tr><tr><td>Gibraltar</td><td>0</td><td>0</td><td>2</td><td>0</td><td>1</td><td>1</td><td>0</td><td>0</td></tr><tr><td>Oban</td><td>0</td><td>0</td><td>1</td><td>0</td><td>0</td><td>0</td><td>1</td><td>1</td></tr><tr><td>Wilhelmshaven Anchorage</td><td>0</td><td>1</td><td>0</td><td>0</td><td>0</td><td>1</td><td>0</td><td>0</td></tr><tr><td>New York Anchorage</td><td>0</td><td>0</td><td>1</td><td>1</td><td>0</td><td>0</td><td>1</td><td>1</td></tr><tr><td>Salerno</td><td>0</td><td>1</td><td>0</td><td>0</td><td>0</td><td>1</td><td>0</td><td>0</td></tr><tr><td>Kiel</td><td>0</td><td>0</td><td>1</td><td>0</td><td>0</td><td>0</td><td>1</td><td>0</td></tr><tr><td>Constanta</td><td>0</td><td>1</td><td>1</td><td>0</td><td>0</td><td>0</td><td>2</td><td>0</td></tr><tr><td>Balder</td><td>0</td><td>0</td><td>1</td><td>1</td><td>1</td><td>0</td><td>0</td><td>0</td></tr><tr><td>Terneuzen</td><td>0</td><td>0</td><td>1</td><td>0</td><td>0</td><td>0</td><td>1</td><td>1</td></tr><tr><td>Ust'-Luga</td><td>0</td><td>0</td><td>1</td><td>0</td><td>0</td><td>0</td><td>1</td><td>1</td></tr><tr><td>Mobile</td><td>0</td><td>0</td><td>1</td><td>1</td><td>1</td><td>0</td><td>0</td><td>0</td></tr><tr><td>Liepaja</td><td>0</td><td>0</td><td>1</td><td>0</td><td>0</td><td>0</td><td>1</td><td>0</td></tr><tr><td>Gdynia</td><td>0</td><td>0</td><td>1</td><td>1</td><td>0</td><td>0</td><td>1</td><td>1</td></tr><tr><td>Shoreham-by-Sea</td><td>0</td><td>0</td><td>1</td><td>1</td><td>0</td><td>1</td><td>0</td><td>0</td></tr><tr><td>Lennox Field</td><td>0</td><td>5</td><td>5</td><td>0</td><td>3</td><td>2</td><td>5</td><td>4</td></tr><tr><td>Aviles</td><td>0</td><td>0</td><td>2</td><td>1</td><td>0</td><td>0</td><td>2</td><td>1</td></tr><tr><td>Cromarty Firth</td><td>0</td><td>0</td><td>2</td><td>1</td><td>0</td><td>2</td><td>0</td><td>0</td></tr><tr><td>Rio Grande</td><td>0</td><td>0</td><td>1</td><td>1</td><td>0</td><td>0</td><td>1</td><td>1</td></tr><tr><td>Torbay Anchorage</td><td>0</td><td>0</td><td>1</td><td>0</td><td>0</td><td>0</td><td>1</td><td>0</td></tr><tr><td>Bremerhaven</td><td>0</td><td>0</td><td>3</td><td>2</td><td>0</td><td>0</td><td>3</td><td>1</td></tr><tr><td>Ringaskiddy</td><td>0</td><td>1</td><td>3</td><td>2</td><td>1</td><td>0</td><td>3</td><td>1</td></tr><tr><td>Milford Haven</td><td>0</td><td>2</td><td>1</td><td>0</td><td>0</td><td>2</td><td>1</td><td>0</td></tr><tr><td>Gent (Ghent)</td><td>0</td><td>0</td><td>1</td><td>0</td><td>0</td><td>0</td><td>1</td><td>0</td></tr><tr><td>Aasgard</td><td>0</td><td>0</td><td>2</td><td>2</td><td>0</td><td>2</td><td>0</td><td>0</td></tr><tr><td>Gdansk</td><td>0</td><td>0</td><td>1</td><td>0</td><td>1</td><td>0</td><td>0</td><td>0</td></tr><tr><td>Casablanca</td><td>0</td><td>1</td><td>0</td><td>0</td><td>0</td><td>0</td><td>1</td><td>0</td></tr><tr><td>Catcher Development</td><td>0</td><td>1</td><td>0</td><td>0</td><td>0</td><td>0</td><td>1</td><td>1</td></tr><tr><td>Lisbon</td><td>0</td><td>0</td><td>1</td><td>1</td><td>0</td><td>0</td><td>1</td><td>0</td></tr><tr><td>Tetney Terminal</td><td>0</td><td>1</td><td>0</td><td>0</td><td>0</td><td>1</td><td>0</td><td>0</td></tr><tr><td>St. Lambert Lock</td><td>0</td><td>1</td><td>0</td><td>0</td><td>0</td><td>0</td><td>1</td><td>0</td></tr><tr><td>Harwich</td><td>0</td><td>0</td><td>1</td><td>0</td><td>0</td><td>1</td><td>0</td><td>0</td></tr><tr><td>Oran Dry Port</td><td>0</td><td>0</td><td>1</td><td>0</td><td>0</td><td>0</td><td>1</td><td>0</td></tr><tr><td>Santarem</td><td>0</td><td>1</td><td>0</td><td>0</td><td>0</td><td>1</td><td>0</td><td>0</td></tr><tr><td>Workington</td><td>0</td><td>1</td><td>1</td><td>0</td><td>0</td><td>2</td><td>0</td><td>0</td></tr><tr><td>Ramsey</td><td>0</td><td>1</td><td>1</td><td>0</td><td>0</td><td>1</td><td>1</td><td>0</td></tr><tr><td>Laayoune</td><td>0</td><td>0</td><td>1</td><td>0</td><td>0</td><td>0</td><td>1</td><td>0</td></tr><tr><td>Belledune</td><td>0</td><td>0</td><td>1</td><td>1</td><td>0</td><td>1</td><td>0</td><td>0</td></tr><tr><td>Uig</td><td>0</td><td>1</td><td>0</td><td>0</td><td>0</td><td>1</td><td>0</td><td>0</td></tr><tr><td>The Sound</td><td>0</td><td>0</td><td>1</td><td>0</td><td>0</td><td>1</td><td>0</td><td>0</td></tr><tr><td>Karabiga</td><td>0</td><td>0</td><td>1</td><td>0</td><td>1</td><td>0</td><td>0</td><td>0</td></tr><tr><td>Dumyat (Damietta) Anchorage</td><td>0</td><td>1</td><td>0</td><td>0</td><td>1</td><td>0</td><td>0</td><td>0</td></tr><tr><td>Fos-sur-Mer</td><td>0</td><td>1</td><td>0</td><td>0</td><td>1</td><td>0</td><td>0</td><td>0</td></tr><tr><td>Freeport, Grand Bahama</td><td>0</td><td>0</td><td>3</td><td>0</td><td>0</td><td>0</td><td>3</td><td>0</td></tr><tr><td>Sagunto</td><td>0</td><td>1</td><td>0</td><td>0</td><td>0</td><td>0</td><td>1</td><td>0</td></tr><tr><td>Rouen</td><td>0</td><td>1</td><td>0</td><td>0</td><td>0</td><td>0</td><td>1</td><td>0</td></tr><tr><td>Falmouth</td><td>0</td><td>1</td><td>1</td><td>0</td><td>0</td><td>1</td><td>1</td><td>0</td></tr><tr><td>Reserve</td><td>0</td><td>0</td><td>1</td><td>0</td><td>0</td><td>0</td><td>1</td><td>0</td></tr><tr><td>Parnu</td><td>0</td><td>0</td><td>1</td><td>0</td><td>0</td><td>0</td><td>1</td><td>1</td></tr><tr><td>Tonnay-Charente</td><td>0</td><td>2</td><td>0</td><td>0</td><td>1</td><td>1</td><td>0</td><td>0</td></tr><tr><td>Finnart</td><td>0</td><td>1</td><td>0</td><td>0</td><td>0</td><td>1</td><td>0</td><td>0</td></tr><tr><td>South Morecambe Field</td><td>0</td><td>1</td><td>1</td><td>0</td><td>0</td><td>0</td><td>2</td><td>2</td></tr><tr><td>Pascagoula</td><td>0</td><td>1</td><td>0</td><td>0</td><td>0</td><td>0</td><td>1</td><td>1</td></tr><tr><td>Nafplion</td><td>0</td><td>0</td><td>1</td><td>0</td><td>0</td><td>0</td><td>1</td><td>0</td></tr><tr><td>Hereke</td><td>0</td><td>0</td><td>1</td><td>1</td><td>1</td><td>0</td><td>0</td><td>0</td></tr><tr><td>Clydebank</td><td>0</td><td>0</td><td>1</td><td>0</td><td>0</td><td>0</td><td>1</td><td>0</td></tr><tr><td>Aarhus</td><td>0</td><td>0</td><td>1</td><td>1</td><td>1</td><td>0</td><td>0</td><td>0</td></tr><tr><td>Huelva</td><td>0</td><td>0</td><td>1</td><td>0</td><td>0</td><td>0</td><td>1</td><td>0</td></tr><tr><td>Corpus Christi Anchorage</td><td>0</td><td>0</td><td>1</td><td>1</td><td>0</td><td>0</td><td>1</td><td>0</td></tr><tr><td>Kinsale</td><td>0</td><td>0</td><td>1</td><td>1</td><td>0</td><td>0</td><td>1</td><td>0</td></tr><tr><td>Goteborg</td><td>0</td><td>0</td><td>1</td><td>1</td><td>1</td><td>0</td><td>0</td><td>0</td></tr><tr><td>Whitehaven</td><td>0</td><td>1</td><td>0</td><td>0</td><td>1</td><td>0</td><td>0</td><td>0</td></tr><tr><td>Ross-Parry Field</td><td>0</td><td>0</td><td>1</td><td>1</td><td>0</td><td>1</td><td>0</td><td>0</td></tr><tr><td>Holy Loch</td><td>0</td><td>1</td><td>0</td><td>0</td><td>0</td><td>1</td><td>0</td><td>0</td></tr><tr><td>Ballylumford</td><td>0</td><td>0</td><td>1</td><td>0</td><td>1</td><td>0</td><td>0</td><td>0</td></tr><tr><td>Sariseki</td><td>0</td><td>0</td><td>1</td><td>1</td><td>1</td><td>0</td><td>0</td><td>0</td></tr><tr><td>Port Ellen</td><td>0</td><td>1</td><td>0</td><td>0</td><td>1</td><td>0</td><td>0</td><td>0</td></tr><tr><td>Scrabster</td><td>0</td><td>0</td><td>1</td><td>1</td><td>0</td><td>0</td><td>1</td><td>0</td></tr><tr><td>Haugesund</td><td>0</td><td>0</td><td>3</td><td>3</td><td>0</td><td>2</td><td>1</td><td>0</td></tr><tr><td>Greenore</td><td>0</td><td>1</td><td>0</td><td>0</td><td>0</td><td>0</td><td>1</td><td>1</td></tr><tr><td>Villa Constitucion</td><td>0</td><td>0</td><td>1</td><td>1</td><td>0</td><td>1</td><td>0</td><td>0</td></tr><tr><td>Freeport OPL</td><td>0</td><td>1</td><td>0</td><td>0</td><td>1</td><td>0</td><td>0</td><td>0</td></tr><tr><td>Grangemouth</td><td>0</td><td>0</td><td>1</td><td>0</td><td>0</td><td>0</td><td>1</td><td>0</td></tr><tr><td>Galway</td><td>0</td><td>0</td><td>1</td><td>0</td><td>0</td><td>1</td><td>0</td><td>0</td></tr><tr><td>Torquay</td><td>0</td><td>1</td><td>0</td><td>0</td><td>0</td><td>0</td><td>1</td><td>1</td></tr><tr><td>Malta OPL</td><td>0</td><td>0</td><td>1</td><td>1</td><td>0</td><td>1</td><td>0</td><td>0</td></tr><tr><td>Dakar</td><td>0</td><td>0</td><td>1</td><td>1</td><td>0</td><td>0</td><td>1</td><td>0</td></tr><tr><td>Bangor</td><td>0</td><td>1</td><td>0</td><td>0</td><td>0</td><td>1</td><td>0</td><td>0</td></tr><tr><td>AcuPort/Sao Joao da Barra</td><td>0</td><td>0</td><td>1</td><td>0</td><td>1</td><td>0</td><td>0</td><td>0</td></tr><tr><td>Syros (Syra) Anchorage</td><td>0</td><td>0</td><td>1</td><td>1</td><td>0</td><td>0</td><td>1</td><td>0</td></tr><tr><td>Waterford</td><td>0</td><td>2</td><td>0</td><td>0</td><td>0</td><td>2</td><td>0</td><td>0</td></tr><tr><td>Cadiz</td><td>0</td><td>0</td><td>1</td><td>0</td><td>0</td><td>0</td><td>1</td><td>0</td></tr><tr><td>North Alwyn Field</td><td>0</td><td>0</td><td>1</td><td>0</td><td>0</td><td>1</td><td>0</td><td>0</td></tr><tr><td>Gabes</td><td>0</td><td>0</td><td>1</td><td>1</td><td>0</td><td>1</td><td>0</td><td>0</td></tr><tr><td>Port Penrhyn</td><td>0</td><td>0</td><td>1</td><td>0</td><td>0</td><td>1</td><td>0</td><td>0</td></tr><tr><td>Dordrecht</td><td>0</td><td>0</td><td>1</td><td>0</td><td>0</td><td>0</td><td>1</td><td>0</td></tr><tr><td>Hellevoetsluis</td><td>0</td><td>1</td><td>0</td><td>0</td><td>0</td><td>0</td><td>1</td><td>1</td></tr><tr><td>Dunmore East</td><td>0</td><td>1</td><td>0</td><td>0</td><td>0</td><td>1</td><td>0</td><td>0</td></tr><tr><td>Stornoway</td><td>0</td><td>1</td><td>0</td><td>0</td><td>1</td><td>0</td><td>0</td><td>0</td></tr><tr><td>Bergen</td><td>0</td><td>1</td><td>0</td><td>0</td><td>0</td><td>1</td><td>0</td><td>0</td></tr><tr><td>Great Yarmouth</td><td>0</td><td>1</td><td>0</td><td>0</td><td>0</td><td>1</td><td>0</td><td>0</td></tr><tr><td>Cowes</td><td>0</td><td>0</td><td>1</td><td>0</td><td>0</td><td>0</td><td>1</td><td>0</td></tr></tbody></table></div>"
      ]
     },
     "metadata": {
      "application/vnd.databricks.v1+output": {
       "addedWidgets": {},
       "aggData": [],
       "aggError": "",
       "aggOverflow": false,
       "aggSchema": [],
       "aggSeriesLimitReached": false,
       "aggType": "",
       "arguments": {},
       "columnCustomDisplayInfos": {},
       "data": [
        [
         "Liverpool",
         840,
         1142,
         1443,
         704,
         1295,
         702,
         1428,
         679
        ],
        [
         "Birkenhead",
         490,
         875,
         1086,
         453,
         1155,
         410,
         886,
         511
        ],
        [
         "Belfast",
         203,
         217,
         611,
         243,
         347,
         52,
         632,
         233
        ],
        [
         "Dublin",
         155,
         496,
         954,
         632,
         484,
         101,
         1020,
         321
        ],
        [
         "Eastham",
         137,
         112,
         108,
         69,
         140,
         102,
         115,
         44
        ],
        [
         "Douglas",
         92,
         149,
         27,
         10,
         80,
         12,
         176,
         11
        ],
        [
         "Rotterdam",
         43,
         32,
         51,
         22,
         36,
         39,
         51,
         20
        ],
        [
         "Bilbao",
         35,
         22,
         54,
         23,
         25,
         36,
         50,
         23
        ],
        [
         "Holyhead",
         32,
         15,
         36,
         20,
         23,
         30,
         30,
         8
        ],
        [
         "Runcorn",
         32,
         6,
         1,
         0,
         13,
         26,
         0,
         0
        ],
        [
         "Antwerpen",
         30,
         24,
         39,
         14,
         29,
         24,
         40,
         14
        ],
        [
         "Larne",
         21,
         3,
         9,
         4,
         3,
         14,
         16,
         3
        ],
        [
         "Leixoes",
         21,
         7,
         23,
         15,
         10,
         11,
         30,
         13
        ],
        [
         "Le Havre",
         18,
         17,
         30,
         15,
         19,
         9,
         37,
         16
        ],
        [
         "Aveiro",
         14,
         2,
         14,
         8,
         3,
         5,
         22,
         7
        ],
        [
         "Bromborough",
         14,
         18,
         16,
         10,
         20,
         13,
         15,
         11
        ],
        [
         "Sines",
         12,
         12,
         15,
         8,
         11,
         11,
         17,
         4
        ],
        [
         "Dunkerque",
         11,
         9,
         12,
         3,
         10,
         9,
         13,
         6
        ],
        [
         "Santander",
         10,
         1,
         1,
         1,
         1,
         10,
         1,
         0
        ],
        [
         "Greenock",
         9,
         4,
         10,
         4,
         7,
         7,
         9,
         1
        ],
        [
         "Dundalk",
         8,
         1,
         3,
         1,
         1,
         5,
         6,
         0
        ],
        [
         "Ferrol",
         7,
         4,
         7,
         2,
         6,
         5,
         7,
         3
        ],
        [
         "Fairview Cove",
         7,
         3,
         6,
         4,
         3,
         5,
         8,
         4
        ],
        [
         "Ceuta",
         7,
         3,
         4,
         2,
         2,
         7,
         5,
         3
        ],
        [
         "Cobh",
         7,
         0,
         2,
         2,
         0,
         6,
         3,
         0
        ],
        [
         "Villagarcia de Arosa",
         7,
         12,
         7,
         2,
         2,
         3,
         21,
         8
        ],
        [
         "Setubal",
         6,
         3,
         10,
         5,
         3,
         5,
         11,
         5
        ],
        [
         "Warrenpoint",
         6,
         6,
         3,
         2,
         1,
         4,
         10,
         2
        ],
        [
         "Stanlow",
         5,
         10,
         20,
         10,
         8,
         13,
         14,
         7
        ],
        [
         "Garston",
         5,
         6,
         3,
         1,
         2,
         6,
         6,
         2
        ],
        [
         "Las Palmas de Gran Canaria",
         5,
         3,
         5,
         5,
         4,
         0,
         9,
         4
        ],
        [
         "Douglas Field",
         5,
         3,
         5,
         3,
         5,
         3,
         5,
         2
        ],
        [
         "Mongstad",
         5,
         2,
         0,
         0,
         1,
         1,
         5,
         2
        ],
        [
         "Savannah",
         4,
         1,
         3,
         1,
         0,
         0,
         8,
         3
        ],
        [
         "Ellesmere Port",
         4,
         17,
         7,
         5,
         17,
         7,
         4,
         1
        ],
        [
         "Glasgow",
         4,
         2,
         4,
         1,
         1,
         2,
         7,
         6
        ],
        [
         "Portbury",
         4,
         6,
         4,
         3,
         1,
         1,
         12,
         6
        ],
        [
         "Rosslare Harbour",
         4,
         7,
         5,
         1,
         5,
         6,
         5,
         2
        ],
        [
         "Odda",
         4,
         3,
         7,
         3,
         3,
         4,
         7,
         2
        ],
        [
         "Wicklow",
         4,
         5,
         6,
         1,
         1,
         7,
         7,
         1
        ],
        [
         "Glensanda",
         3,
         0,
         8,
         3,
         4,
         1,
         6,
         2
        ],
        [
         "Saint-Nazaire",
         3,
         6,
         7,
         2,
         6,
         3,
         7,
         3
        ],
        [
         "Montreal",
         3,
         0,
         9,
         3,
         1,
         5,
         6,
         3
        ],
        [
         "Teesport",
         3,
         1,
         1,
         0,
         0,
         2,
         3,
         0
        ],
        [
         "Fishguard",
         3,
         0,
         2,
         2,
         1,
         3,
         1,
         0
        ],
        [
         "New Ross",
         3,
         4,
         5,
         2,
         0,
         5,
         7,
         1
        ],
        [
         "Millom Field",
         3,
         1,
         3,
         1,
         1,
         1,
         5,
         1
        ],
        [
         "Sharpness",
         3,
         0,
         0,
         0,
         2,
         0,
         1,
         0
        ],
        [
         "Derince",
         3,
         0,
         1,
         0,
         1,
         0,
         3,
         3
        ],
        [
         "Vlissingen",
         3,
         2,
         5,
         0,
         2,
         3,
         5,
         0
        ],
        [
         null,
         3,
         1,
         2,
         0,
         4,
         2,
         0,
         0
        ],
        [
         "Portishead",
         3,
         0,
         0,
         0,
         2,
         1,
         0,
         0
        ],
        [
         "Gijon",
         2,
         5,
         6,
         2,
         2,
         4,
         7,
         2
        ],
        [
         "Ingleside",
         2,
         6,
         7,
         1,
         6,
         1,
         8,
         1
        ],
        [
         "Algeciras",
         2,
         0,
         0,
         0,
         2,
         0,
         0,
         0
        ],
        [
         "St. Bride's Bay",
         2,
         0,
         1,
         0,
         3,
         0,
         0,
         0
        ],
        [
         "Hamilton Field",
         2,
         3,
         1,
         0,
         2,
         2,
         2,
         0
        ],
        [
         "Chesapeake",
         2,
         1,
         2,
         1,
         1,
         3,
         1,
         0
        ],
        [
         "Malaga",
         2,
         0,
         8,
         2,
         2,
         2,
         6,
         3
        ],
        [
         "Eregli",
         2,
         0,
         0,
         0,
         0,
         1,
         1,
         1
        ],
        [
         "Kotka",
         2,
         5,
         2,
         0,
         0,
         2,
         7,
         1
        ],
        [
         "Mostyn",
         2,
         6,
         4,
         3,
         3,
         6,
         3,
         2
        ],
        [
         "Goteborg Anchorage",
         2,
         2,
         6,
         3,
         2,
         3,
         5,
         3
        ],
        [
         "Knarrevik",
         2,
         0,
         1,
         0,
         2,
         0,
         1,
         0
        ],
        [
         "Corpus Christi",
         2,
         4,
         8,
         4,
         4,
         2,
         8,
         3
        ],
        [
         "Amsterdam",
         2,
         1,
         9,
         6,
         5,
         0,
         7,
         2
        ],
        [
         "Aberdeen",
         2,
         3,
         2,
         1,
         2,
         1,
         4,
         1
        ],
        [
         "Heysham",
         2,
         2,
         1,
         1,
         2,
         2,
         1,
         1
        ],
        [
         "Great Bitter Lake",
         2,
         2,
         2,
         1,
         0,
         2,
         4,
         3
        ],
        [
         "Kyle of Lochalsh",
         2,
         6,
         0,
         0,
         0,
         1,
         7,
         4
        ],
        [
         "Barrow in Furness",
         2,
         4,
         0,
         0,
         3,
         3,
         0,
         0
        ],
        [
         "Rotterdam Anchorage",
         2,
         1,
         2,
         0,
         2,
         1,
         2,
         0
        ],
        [
         "Lowestoft",
         2,
         1,
         0,
         0,
         1,
         1,
         1,
         0
        ],
        [
         "Houston",
         2,
         0,
         2,
         1,
         2,
         0,
         2,
         1
        ],
        [
         "La Coruna (A Coruna)",
         2,
         1,
         8,
         7,
         1,
         6,
         4,
         0
        ],
        [
         "Stura",
         2,
         3,
         3,
         1,
         3,
         2,
         3,
         1
        ],
        [
         "Algeciras Anchorage",
         2,
         1,
         2,
         0,
         2,
         0,
         3,
         0
        ],
        [
         "Fawley",
         2,
         0,
         1,
         0,
         1,
         1,
         1,
         1
        ],
        [
         "Milford Docks",
         2,
         0,
         4,
         1,
         2,
         3,
         1,
         1
        ],
        [
         "Bruichladdich",
         2,
         1,
         3,
         2,
         1,
         5,
         0,
         0
        ],
        [
         "Sauda",
         2,
         0,
         0,
         0,
         0,
         0,
         2,
         1
        ],
        [
         "Dumyat (Damietta)",
         2,
         0,
         1,
         0,
         0,
         0,
         3,
         1
        ],
        [
         "Marin",
         1,
         0,
         1,
         0,
         0,
         1,
         1,
         1
        ],
        [
         "Brunswick",
         1,
         0,
         3,
         1,
         0,
         0,
         4,
         2
        ],
        [
         "Come By Chance",
         1,
         0,
         1,
         1,
         1,
         1,
         0,
         0
        ],
        [
         "Vila do CondePort/Barcarena",
         1,
         0,
         0,
         0,
         1,
         0,
         0,
         0
        ],
        [
         "Brunsbuttel",
         1,
         1,
         6,
         2,
         3,
         0,
         5,
         2
        ],
        [
         "Portland",
         1,
         0,
         0,
         0,
         0,
         1,
         0,
         0
        ],
        [
         "Londonderry",
         1,
         0,
         1,
         1,
         0,
         0,
         2,
         0
        ],
        [
         "Ashdod",
         1,
         1,
         3,
         1,
         2,
         1,
         2,
         0
        ],
        [
         "Destrehan",
         1,
         1,
         0,
         0,
         1,
         0,
         1,
         0
        ],
        [
         "Falmouth Anchorage",
         1,
         0,
         1,
         0,
         0,
         1,
         1,
         0
        ],
        [
         "Harstad",
         1,
         0,
         0,
         0,
         1,
         0,
         0,
         0
        ],
        [
         "Castellon de la Plana",
         1,
         2,
         2,
         2,
         1,
         0,
         4,
         2
        ],
        [
         "Lerwick",
         1,
         0,
         2,
         0,
         1,
         2,
         0,
         0
        ],
        [
         "Marsaxlokk Anchorage",
         1,
         0,
         0,
         0,
         0,
         0,
         1,
         0
        ],
        [
         "la Pallice",
         1,
         0,
         4,
         3,
         0,
         1,
         4,
         1
        ],
        [
         "Drammen",
         1,
         0,
         0,
         0,
         0,
         0,
         1,
         1
        ],
        [
         "Devonport",
         1,
         0,
         0,
         0,
         0,
         1,
         0,
         0
        ],
        [
         "Suape Anchorage",
         1,
         0,
         0,
         0,
         0,
         0,
         1,
         1
        ],
        [
         "Escravos",
         1,
         0,
         1,
         0,
         0,
         0,
         2,
         0
        ],
        [
         "Sullom Voe",
         1,
         1,
         3,
         2,
         0,
         1,
         4,
         3
        ],
        [
         "Port Allen",
         1,
         1,
         6,
         4,
         2,
         1,
         5,
         2
        ],
        [
         "Klaipeda",
         1,
         1,
         0,
         0,
         0,
         1,
         1,
         0
        ],
        [
         "Sluiskil",
         1,
         0,
         0,
         0,
         1,
         0,
         0,
         0
        ],
        [
         "Grande Anse QC",
         1,
         0,
         1,
         0,
         0,
         2,
         0,
         0
        ],
        [
         "Southampton",
         1,
         1,
         11,
         7,
         0,
         3,
         10,
         5
        ],
        [
         "Zona Comun Anchorage",
         1,
         1,
         1,
         1,
         0,
         0,
         3,
         0
        ],
        [
         "Quebec",
         1,
         0,
         0,
         0,
         0,
         0,
         1,
         0
        ],
        [
         "Vigo",
         1,
         2,
         1,
         0,
         0,
         1,
         3,
         1
        ],
        [
         "Gibraltar West Anchorage",
         1,
         2,
         2,
         1,
         1,
         0,
         4,
         1
        ],
        [
         "Wilmington, NC",
         1,
         0,
         0,
         0,
         0,
         0,
         1,
         0
        ],
        [
         "Dover",
         1,
         0,
         2,
         1,
         1,
         1,
         1,
         0
        ],
        [
         "Kaliningrad",
         1,
         1,
         1,
         0,
         2,
         1,
         0,
         0
        ],
        [
         "Brest",
         1,
         0,
         0,
         0,
         1,
         0,
         0,
         0
        ],
        [
         "Bermeo",
         1,
         0,
         2,
         1,
         0,
         2,
         1,
         0
        ],
        [
         "Drogheda",
         1,
         1,
         1,
         1,
         1,
         1,
         1,
         0
        ],
        [
         "Lorient",
         1,
         0,
         0,
         0,
         0,
         0,
         1,
         0
        ],
        [
         "Santa Apolonia",
         1,
         1,
         3,
         3,
         0,
         0,
         5,
         2
        ],
        [
         "Les Sables-d'Olonne",
         1,
         1,
         0,
         0,
         0,
         1,
         1,
         1
        ],
        [
         "Yali Island",
         1,
         0,
         0,
         0,
         0,
         0,
         1,
         1
        ],
        [
         "Avonmouth",
         1,
         1,
         1,
         0,
         0,
         2,
         1,
         1
        ],
        [
         "Hanstholm",
         1,
         0,
         1,
         1,
         1,
         0,
         1,
         1
        ],
        [
         "Whitegate",
         1,
         0,
         0,
         0,
         1,
         0,
         0,
         0
        ],
        [
         "Saint Margaret's Hope",
         1,
         0,
         0,
         0,
         0,
         1,
         0,
         0
        ],
        [
         "Dagenham",
         1,
         0,
         0,
         0,
         1,
         0,
         0,
         0
        ],
        [
         "Tanger Med",
         1,
         0,
         0,
         0,
         1,
         0,
         0,
         0
        ],
        [
         "Cardiff",
         1,
         1,
         0,
         0,
         0,
         0,
         2,
         2
        ],
        [
         "El Dekheila",
         1,
         0,
         0,
         0,
         1,
         0,
         0,
         0
        ],
        [
         "El Iskandariya (Alexandria)",
         1,
         1,
         0,
         0,
         0,
         1,
         1,
         1
        ],
        [
         "Cork",
         1,
         1,
         1,
         0,
         0,
         0,
         3,
         1
        ],
        [
         "Hamburg",
         1,
         0,
         1,
         1,
         1,
         0,
         1,
         1
        ],
        [
         "IJmuiden/Velsen",
         1,
         0,
         0,
         0,
         1,
         0,
         0,
         0
        ],
        [
         "Saltburn",
         1,
         0,
         0,
         0,
         0,
         1,
         0,
         0
        ],
        [
         "Kyleakin",
         1,
         0,
         1,
         1,
         0,
         0,
         2,
         1
        ],
        [
         "Hartlepool",
         1,
         0,
         0,
         0,
         1,
         0,
         0,
         0
        ],
        [
         "Rushbrooke",
         1,
         0,
         0,
         0,
         0,
         0,
         1,
         0
        ],
        [
         "Solent Anchorage",
         1,
         0,
         0,
         0,
         0,
         1,
         0,
         0
        ],
        [
         "Skikda",
         1,
         0,
         0,
         0,
         0,
         0,
         1,
         0
        ],
        [
         "Bethioua Anchorage",
         1,
         0,
         0,
         0,
         0,
         0,
         1,
         0
        ],
        [
         "Valencia",
         1,
         0,
         0,
         0,
         1,
         0,
         0,
         0
        ],
        [
         "Beauharnois Lock",
         1,
         0,
         0,
         0,
         0,
         0,
         1,
         0
        ],
        [
         "Portsmouth",
         1,
         1,
         2,
         2,
         2,
         0,
         2,
         1
        ],
        [
         "Halifax",
         1,
         0,
         0,
         0,
         0,
         1,
         0,
         0
        ],
        [
         "Port-Cartier",
         1,
         0,
         0,
         0,
         0,
         0,
         1,
         0
        ],
        [
         "London Thames Anchorage",
         1,
         0,
         0,
         0,
         0,
         1,
         0,
         0
        ],
        [
         "Gulf of Finland",
         1,
         0,
         0,
         0,
         0,
         0,
         1,
         0
        ],
        [
         "Istanbul Anchorage",
         1,
         0,
         0,
         0,
         0,
         0,
         1,
         0
        ],
        [
         "Penzance",
         1,
         0,
         0,
         0,
         0,
         1,
         0,
         0
        ],
        [
         "Troon",
         1,
         0,
         2,
         1,
         2,
         0,
         1,
         0
        ],
        [
         "Darrow",
         1,
         1,
         2,
         1,
         2,
         0,
         2,
         0
        ],
        [
         "English Harbour",
         1,
         0,
         0,
         0,
         0,
         1,
         0,
         0
        ],
        [
         "Genova",
         1,
         0,
         0,
         0,
         1,
         0,
         0,
         0
        ],
        [
         "Mostaganem",
         1,
         1,
         0,
         0,
         0,
         0,
         2,
         1
        ],
        [
         "Saint Helier",
         1,
         0,
         0,
         0,
         0,
         0,
         1,
         0
        ],
        [
         "Kobenhavn",
         1,
         0,
         0,
         0,
         0,
         0,
         1,
         0
        ],
        [
         "Fredrikstad",
         1,
         0,
         0,
         0,
         0,
         1,
         0,
         0
        ],
        [
         "Reykjavik",
         1,
         0,
         2,
         2,
         0,
         3,
         0,
         0
        ],
        [
         "Dun Laoghaire",
         1,
         1,
         1,
         1,
         1,
         0,
         2,
         2
        ],
        [
         "Brodick, Isle of Arran",
         1,
         0,
         0,
         0,
         1,
         0,
         0,
         0
        ],
        [
         "Fethiye",
         1,
         0,
         0,
         0,
         0,
         0,
         1,
         0
        ],
        [
         "Marina di Carrara",
         1,
         0,
         0,
         0,
         0,
         1,
         0,
         0
        ],
        [
         "Gullfaks",
         1,
         0,
         1,
         1,
         0,
         1,
         1,
         1
        ],
        [
         "Ardrossan",
         1,
         0,
         0,
         0,
         1,
         0,
         0,
         0
        ],
        [
         "Isle of Grain",
         1,
         0,
         0,
         0,
         1,
         0,
         0,
         0
        ],
        [
         "Dartmouth",
         1,
         0,
         0,
         0,
         0,
         1,
         0,
         0
        ],
        [
         "Pembroke",
         1,
         0,
         0,
         0,
         1,
         0,
         0,
         0
        ],
        [
         "Hound Point",
         0,
         1,
         2,
         0,
         1,
         0,
         2,
         0
        ],
        [
         "Zeebrugge",
         0,
         1,
         0,
         0,
         0,
         0,
         1,
         0
        ],
        [
         "Ostrica",
         0,
         1,
         0,
         0,
         0,
         1,
         0,
         0
        ],
        [
         "Baie Comeau",
         0,
         0,
         6,
         4,
         0,
         2,
         4,
         2
        ],
        [
         "Itaqui",
         0,
         0,
         1,
         0,
         0,
         0,
         1,
         0
        ],
        [
         "Vila do Conde Anchorage",
         0,
         0,
         1,
         0,
         0,
         0,
         1,
         0
        ],
        [
         "Palm Beach",
         0,
         0,
         1,
         0,
         1,
         0,
         0,
         0
        ],
        [
         "Limerick",
         0,
         1,
         6,
         1,
         1,
         4,
         2,
         1
        ],
        [
         "IJmuiden/Velsen Anchorage",
         0,
         1,
         0,
         0,
         0,
         1,
         0,
         0
        ],
        [
         "Limas",
         0,
         1,
         0,
         0,
         1,
         0,
         0,
         0
        ],
        [
         "Immingham",
         0,
         0,
         1,
         1,
         1,
         0,
         0,
         0
        ],
        [
         "Escombreras",
         0,
         0,
         1,
         0,
         0,
         0,
         1,
         0
        ],
        [
         "Tarragona",
         0,
         1,
         0,
         0,
         0,
         0,
         1,
         0
        ],
        [
         "Port Talbot",
         0,
         0,
         3,
         2,
         0,
         1,
         2,
         0
        ],
        [
         "Ferrol Anchorage",
         0,
         2,
         2,
         2,
         1,
         1,
         2,
         1
        ],
        [
         "Sainte-Victoire-de-Sorel",
         0,
         0,
         2,
         0,
         0,
         0,
         2,
         0
        ],
        [
         "Rostock",
         0,
         0,
         2,
         2,
         0,
         0,
         2,
         1
        ],
        [
         "Macapa Anchorage",
         0,
         1,
         0,
         0,
         0,
         0,
         1,
         1
        ],
        [
         "Bremen",
         0,
         0,
         1,
         1,
         0,
         0,
         1,
         1
        ],
        [
         "Aughinish Island",
         0,
         0,
         2,
         0,
         0,
         0,
         2,
         2
        ],
        [
         "Bethioua",
         0,
         7,
         7,
         3,
         4,
         2,
         8,
         7
        ],
        [
         "Sarroch (Porto Foxi)",
         0,
         1,
         0,
         0,
         0,
         0,
         1,
         0
        ],
        [
         "Fleetwood",
         0,
         1,
         0,
         0,
         1,
         0,
         0,
         0
        ],
        [
         "Westhinder Anchorage",
         0,
         0,
         4,
         2,
         2,
         1,
         1,
         0
        ],
        [
         "New Orleans Anchorage",
         0,
         1,
         1,
         0,
         0,
         0,
         2,
         1
        ],
        [
         "Skagen Anchorage",
         0,
         1,
         3,
         0,
         2,
         0,
         2,
         1
        ],
        [
         "Newport",
         0,
         1,
         3,
         1,
         0,
         3,
         1,
         1
        ],
        [
         "Abidjan",
         0,
         1,
         0,
         0,
         0,
         0,
         1,
         1
        ],
        [
         "Wilmington",
         0,
         1,
         1,
         0,
         1,
         0,
         1,
         1
        ],
        [
         "Barking Riverside",
         0,
         0,
         3,
         2,
         0,
         1,
         2,
         0
        ],
        [
         "Diliskelesi",
         0,
         1,
         1,
         1,
         0,
         1,
         1,
         0
        ],
        [
         "Port Arthur",
         0,
         1,
         0,
         0,
         0,
         0,
         1,
         0
        ],
        [
         "Gibraltar",
         0,
         0,
         2,
         0,
         1,
         1,
         0,
         0
        ],
        [
         "Oban",
         0,
         0,
         1,
         0,
         0,
         0,
         1,
         1
        ],
        [
         "Wilhelmshaven Anchorage",
         0,
         1,
         0,
         0,
         0,
         1,
         0,
         0
        ],
        [
         "New York Anchorage",
         0,
         0,
         1,
         1,
         0,
         0,
         1,
         1
        ],
        [
         "Salerno",
         0,
         1,
         0,
         0,
         0,
         1,
         0,
         0
        ],
        [
         "Kiel",
         0,
         0,
         1,
         0,
         0,
         0,
         1,
         0
        ],
        [
         "Constanta",
         0,
         1,
         1,
         0,
         0,
         0,
         2,
         0
        ],
        [
         "Balder",
         0,
         0,
         1,
         1,
         1,
         0,
         0,
         0
        ],
        [
         "Terneuzen",
         0,
         0,
         1,
         0,
         0,
         0,
         1,
         1
        ],
        [
         "Ust'-Luga",
         0,
         0,
         1,
         0,
         0,
         0,
         1,
         1
        ],
        [
         "Mobile",
         0,
         0,
         1,
         1,
         1,
         0,
         0,
         0
        ],
        [
         "Liepaja",
         0,
         0,
         1,
         0,
         0,
         0,
         1,
         0
        ],
        [
         "Gdynia",
         0,
         0,
         1,
         1,
         0,
         0,
         1,
         1
        ],
        [
         "Shoreham-by-Sea",
         0,
         0,
         1,
         1,
         0,
         1,
         0,
         0
        ],
        [
         "Lennox Field",
         0,
         5,
         5,
         0,
         3,
         2,
         5,
         4
        ],
        [
         "Aviles",
         0,
         0,
         2,
         1,
         0,
         0,
         2,
         1
        ],
        [
         "Cromarty Firth",
         0,
         0,
         2,
         1,
         0,
         2,
         0,
         0
        ],
        [
         "Rio Grande",
         0,
         0,
         1,
         1,
         0,
         0,
         1,
         1
        ],
        [
         "Torbay Anchorage",
         0,
         0,
         1,
         0,
         0,
         0,
         1,
         0
        ],
        [
         "Bremerhaven",
         0,
         0,
         3,
         2,
         0,
         0,
         3,
         1
        ],
        [
         "Ringaskiddy",
         0,
         1,
         3,
         2,
         1,
         0,
         3,
         1
        ],
        [
         "Milford Haven",
         0,
         2,
         1,
         0,
         0,
         2,
         1,
         0
        ],
        [
         "Gent (Ghent)",
         0,
         0,
         1,
         0,
         0,
         0,
         1,
         0
        ],
        [
         "Aasgard",
         0,
         0,
         2,
         2,
         0,
         2,
         0,
         0
        ],
        [
         "Gdansk",
         0,
         0,
         1,
         0,
         1,
         0,
         0,
         0
        ],
        [
         "Casablanca",
         0,
         1,
         0,
         0,
         0,
         0,
         1,
         0
        ],
        [
         "Catcher Development",
         0,
         1,
         0,
         0,
         0,
         0,
         1,
         1
        ],
        [
         "Lisbon",
         0,
         0,
         1,
         1,
         0,
         0,
         1,
         0
        ],
        [
         "Tetney Terminal",
         0,
         1,
         0,
         0,
         0,
         1,
         0,
         0
        ],
        [
         "St. Lambert Lock",
         0,
         1,
         0,
         0,
         0,
         0,
         1,
         0
        ],
        [
         "Harwich",
         0,
         0,
         1,
         0,
         0,
         1,
         0,
         0
        ],
        [
         "Oran Dry Port",
         0,
         0,
         1,
         0,
         0,
         0,
         1,
         0
        ],
        [
         "Santarem",
         0,
         1,
         0,
         0,
         0,
         1,
         0,
         0
        ],
        [
         "Workington",
         0,
         1,
         1,
         0,
         0,
         2,
         0,
         0
        ],
        [
         "Ramsey",
         0,
         1,
         1,
         0,
         0,
         1,
         1,
         0
        ],
        [
         "Laayoune",
         0,
         0,
         1,
         0,
         0,
         0,
         1,
         0
        ],
        [
         "Belledune",
         0,
         0,
         1,
         1,
         0,
         1,
         0,
         0
        ],
        [
         "Uig",
         0,
         1,
         0,
         0,
         0,
         1,
         0,
         0
        ],
        [
         "The Sound",
         0,
         0,
         1,
         0,
         0,
         1,
         0,
         0
        ],
        [
         "Karabiga",
         0,
         0,
         1,
         0,
         1,
         0,
         0,
         0
        ],
        [
         "Dumyat (Damietta) Anchorage",
         0,
         1,
         0,
         0,
         1,
         0,
         0,
         0
        ],
        [
         "Fos-sur-Mer",
         0,
         1,
         0,
         0,
         1,
         0,
         0,
         0
        ],
        [
         "Freeport, Grand Bahama",
         0,
         0,
         3,
         0,
         0,
         0,
         3,
         0
        ],
        [
         "Sagunto",
         0,
         1,
         0,
         0,
         0,
         0,
         1,
         0
        ],
        [
         "Rouen",
         0,
         1,
         0,
         0,
         0,
         0,
         1,
         0
        ],
        [
         "Falmouth",
         0,
         1,
         1,
         0,
         0,
         1,
         1,
         0
        ],
        [
         "Reserve",
         0,
         0,
         1,
         0,
         0,
         0,
         1,
         0
        ],
        [
         "Parnu",
         0,
         0,
         1,
         0,
         0,
         0,
         1,
         1
        ],
        [
         "Tonnay-Charente",
         0,
         2,
         0,
         0,
         1,
         1,
         0,
         0
        ],
        [
         "Finnart",
         0,
         1,
         0,
         0,
         0,
         1,
         0,
         0
        ],
        [
         "South Morecambe Field",
         0,
         1,
         1,
         0,
         0,
         0,
         2,
         2
        ],
        [
         "Pascagoula",
         0,
         1,
         0,
         0,
         0,
         0,
         1,
         1
        ],
        [
         "Nafplion",
         0,
         0,
         1,
         0,
         0,
         0,
         1,
         0
        ],
        [
         "Hereke",
         0,
         0,
         1,
         1,
         1,
         0,
         0,
         0
        ],
        [
         "Clydebank",
         0,
         0,
         1,
         0,
         0,
         0,
         1,
         0
        ],
        [
         "Aarhus",
         0,
         0,
         1,
         1,
         1,
         0,
         0,
         0
        ],
        [
         "Huelva",
         0,
         0,
         1,
         0,
         0,
         0,
         1,
         0
        ],
        [
         "Corpus Christi Anchorage",
         0,
         0,
         1,
         1,
         0,
         0,
         1,
         0
        ],
        [
         "Kinsale",
         0,
         0,
         1,
         1,
         0,
         0,
         1,
         0
        ],
        [
         "Goteborg",
         0,
         0,
         1,
         1,
         1,
         0,
         0,
         0
        ],
        [
         "Whitehaven",
         0,
         1,
         0,
         0,
         1,
         0,
         0,
         0
        ],
        [
         "Ross-Parry Field",
         0,
         0,
         1,
         1,
         0,
         1,
         0,
         0
        ],
        [
         "Holy Loch",
         0,
         1,
         0,
         0,
         0,
         1,
         0,
         0
        ],
        [
         "Ballylumford",
         0,
         0,
         1,
         0,
         1,
         0,
         0,
         0
        ],
        [
         "Sariseki",
         0,
         0,
         1,
         1,
         1,
         0,
         0,
         0
        ],
        [
         "Port Ellen",
         0,
         1,
         0,
         0,
         1,
         0,
         0,
         0
        ],
        [
         "Scrabster",
         0,
         0,
         1,
         1,
         0,
         0,
         1,
         0
        ],
        [
         "Haugesund",
         0,
         0,
         3,
         3,
         0,
         2,
         1,
         0
        ],
        [
         "Greenore",
         0,
         1,
         0,
         0,
         0,
         0,
         1,
         1
        ],
        [
         "Villa Constitucion",
         0,
         0,
         1,
         1,
         0,
         1,
         0,
         0
        ],
        [
         "Freeport OPL",
         0,
         1,
         0,
         0,
         1,
         0,
         0,
         0
        ],
        [
         "Grangemouth",
         0,
         0,
         1,
         0,
         0,
         0,
         1,
         0
        ],
        [
         "Galway",
         0,
         0,
         1,
         0,
         0,
         1,
         0,
         0
        ],
        [
         "Torquay",
         0,
         1,
         0,
         0,
         0,
         0,
         1,
         1
        ],
        [
         "Malta OPL",
         0,
         0,
         1,
         1,
         0,
         1,
         0,
         0
        ],
        [
         "Dakar",
         0,
         0,
         1,
         1,
         0,
         0,
         1,
         0
        ],
        [
         "Bangor",
         0,
         1,
         0,
         0,
         0,
         1,
         0,
         0
        ],
        [
         "AcuPort/Sao Joao da Barra",
         0,
         0,
         1,
         0,
         1,
         0,
         0,
         0
        ],
        [
         "Syros (Syra) Anchorage",
         0,
         0,
         1,
         1,
         0,
         0,
         1,
         0
        ],
        [
         "Waterford",
         0,
         2,
         0,
         0,
         0,
         2,
         0,
         0
        ],
        [
         "Cadiz",
         0,
         0,
         1,
         0,
         0,
         0,
         1,
         0
        ],
        [
         "North Alwyn Field",
         0,
         0,
         1,
         0,
         0,
         1,
         0,
         0
        ],
        [
         "Gabes",
         0,
         0,
         1,
         1,
         0,
         1,
         0,
         0
        ],
        [
         "Port Penrhyn",
         0,
         0,
         1,
         0,
         0,
         1,
         0,
         0
        ],
        [
         "Dordrecht",
         0,
         0,
         1,
         0,
         0,
         0,
         1,
         0
        ],
        [
         "Hellevoetsluis",
         0,
         1,
         0,
         0,
         0,
         0,
         1,
         1
        ],
        [
         "Dunmore East",
         0,
         1,
         0,
         0,
         0,
         1,
         0,
         0
        ],
        [
         "Stornoway",
         0,
         1,
         0,
         0,
         1,
         0,
         0,
         0
        ],
        [
         "Bergen",
         0,
         1,
         0,
         0,
         0,
         1,
         0,
         0
        ],
        [
         "Great Yarmouth",
         0,
         1,
         0,
         0,
         0,
         1,
         0,
         0
        ],
        [
         "Cowes",
         0,
         0,
         1,
         0,
         0,
         0,
         1,
         0
        ]
       ],
       "datasetInfos": [],
       "dbfsResultPath": null,
       "isJsonSchema": true,
       "metadata": {},
       "overflow": false,
       "plotOptions": {
        "customPlotOptions": {},
        "displayType": "table",
        "pivotAggregation": null,
        "pivotColumns": null,
        "xColumns": null,
        "yColumns": null
       },
       "removedWidgets": [],
       "schema": [
        {
         "metadata": "{}",
         "name": "Prior_Place",
         "type": "\"string\""
        },
        {
         "metadata": "{}",
         "name": "Morning_Arrival_Count",
         "type": "\"long\""
        },
        {
         "metadata": "{}",
         "name": "Afternoon_Arrival_Count",
         "type": "\"long\""
        },
        {
         "metadata": "{}",
         "name": "Evening_Arrival_Count",
         "type": "\"long\""
        },
        {
         "metadata": "{}",
         "name": "Night_Arrival_Count",
         "type": "\"long\""
        },
        {
         "metadata": "{}",
         "name": "Morning_Departure_Count",
         "type": "\"long\""
        },
        {
         "metadata": "{}",
         "name": "Afternoon_Departure_Count",
         "type": "\"long\""
        },
        {
         "metadata": "{}",
         "name": "Evening_Departure_Count",
         "type": "\"long\""
        },
        {
         "metadata": "{}",
         "name": "Night_Departure_Count",
         "type": "\"long\""
        }
       ],
       "type": "table"
      }
     },
     "output_type": "display_data"
    }
   ],
   "source": [
    "%sql\n",
    "SELECT \n",
    "  Prior_Place,\n",
    "  SUM(CASE WHEN HOUR(`Arrived_at`) >= 6 AND HOUR(`Arrived_at`) < 12 THEN 1 ELSE 0 END) AS Morning_Arrival_Count,\n",
    "  SUM(CASE WHEN HOUR(`Arrived_at`) >= 12 AND HOUR(`Arrived_at`) < 18 THEN 1 ELSE 0 END) AS Afternoon_Arrival_Count,\n",
    "  SUM(CASE WHEN HOUR(`Arrived_at`) >= 18 OR HOUR(`Arrived_at`) < 6 THEN 1 ELSE 0 END) AS Evening_Arrival_Count,\n",
    "  SUM(CASE WHEN HOUR(`Arrived_at`) < 6 THEN 1 ELSE 0 END) AS Night_Arrival_Count,\n",
    "  SUM(CASE WHEN HOUR(`Sailed_at`) >= 6 AND HOUR(`Sailed_at`) < 12 THEN 1 ELSE 0 END) AS Morning_Departure_Count,\n",
    "  SUM(CASE WHEN HOUR(`Sailed_at`) >= 12 AND HOUR(`Sailed_at`) < 18 THEN 1 ELSE 0 END) AS Afternoon_Departure_Count,\n",
    "  SUM(CASE WHEN HOUR(`Sailed_at`) >= 18 OR HOUR(`Sailed_at`) < 6 THEN 1 ELSE 0 END) AS Evening_Departure_Count,\n",
    "  SUM(CASE WHEN HOUR(`Sailed_at`) < 6 THEN 1 ELSE 0 END) AS Night_Departure_Count\n",
    "FROM ShipSparkTable\n",
    "GROUP BY Prior_Place\n",
    "order by 2 desc"
   ]
  },
  {
   "cell_type": "code",
   "execution_count": 0,
   "metadata": {
    "application/vnd.databricks.v1+cell": {
     "cellMetadata": {
      "byteLimit": 2048000,
      "implicitDf": true,
      "rowLimit": 10000
     },
     "inputWidgets": {},
     "nuid": "539c8eea-1f38-4ca0-99ba-f10012fe9f90",
     "showTitle": false,
     "title": ""
    }
   },
   "outputs": [
    {
     "output_type": "display_data",
     "data": {
      "text/html": [
       "<style scoped>\n",
       "  .table-result-container {\n",
       "    max-height: 300px;\n",
       "    overflow: auto;\n",
       "  }\n",
       "  table, th, td {\n",
       "    border: 1px solid black;\n",
       "    border-collapse: collapse;\n",
       "  }\n",
       "  th, td {\n",
       "    padding: 5px;\n",
       "  }\n",
       "  th {\n",
       "    text-align: left;\n",
       "  }\n",
       "</style><div class='table-result-container'><table class='table-result'><thead style='background-color: white'><tr><th>Prior_Place</th><th>Monday_Arrival_Count</th><th>Tuesday_Arrival_Count</th><th>Wednesday_Arrival_Count</th><th>Thursday_Arrival_Count</th><th>Friday_Arrival_Count</th><th>Saturday_Arrival_Count</th><th>Sunday_Arrival_Count</th><th>Monday_Departure_Count</th><th>Tuesday_Departure_Count</th><th>Wednesday_Departure_Count</th><th>Thursday_Departure_Count</th><th>Friday_Departure_Count</th><th>Saturday_Departure_Count</th><th>Sunday_Departure_Count</th></tr></thead><tbody><tr><td>Liverpool</td><td>458</td><td>478</td><td>519</td><td>492</td><td>484</td><td>481</td><td>513</td><td>463</td><td>488</td><td>506</td><td>502</td><td>473</td><td>482</td><td>511</td></tr><tr><td>Birkenhead</td><td>313</td><td>330</td><td>402</td><td>383</td><td>342</td><td>340</td><td>341</td><td>298</td><td>341</td><td>389</td><td>384</td><td>337</td><td>348</td><td>354</td></tr><tr><td>Dublin</td><td>142</td><td>268</td><td>263</td><td>281</td><td>265</td><td>267</td><td>119</td><td>129</td><td>269</td><td>270</td><td>271</td><td>282</td><td>249</td><td>135</td></tr><tr><td>Belfast</td><td>137</td><td>166</td><td>164</td><td>170</td><td>170</td><td>113</td><td>111</td><td>82</td><td>174</td><td>170</td><td>168</td><td>168</td><td>158</td><td>111</td></tr><tr><td>Eastham</td><td>54</td><td>51</td><td>49</td><td>67</td><td>51</td><td>44</td><td>41</td><td>62</td><td>59</td><td>43</td><td>71</td><td>48</td><td>39</td><td>35</td></tr><tr><td>Douglas</td><td>44</td><td>30</td><td>25</td><td>45</td><td>46</td><td>44</td><td>34</td><td>44</td><td>29</td><td>26</td><td>45</td><td>46</td><td>44</td><td>34</td></tr><tr><td>Bilbao</td><td>23</td><td>18</td><td>18</td><td>14</td><td>17</td><td>11</td><td>10</td><td>15</td><td>19</td><td>22</td><td>16</td><td>15</td><td>13</td><td>11</td></tr><tr><td>Antwerpen</td><td>19</td><td>11</td><td>10</td><td>10</td><td>13</td><td>14</td><td>16</td><td>16</td><td>19</td><td>9</td><td>12</td><td>15</td><td>12</td><td>10</td></tr><tr><td>Rotterdam</td><td>13</td><td>19</td><td>18</td><td>23</td><td>16</td><td>21</td><td>16</td><td>17</td><td>12</td><td>19</td><td>19</td><td>17</td><td>21</td><td>21</td></tr><tr><td>Dunkerque</td><td>11</td><td>6</td><td>1</td><td>2</td><td>1</td><td>3</td><td>8</td><td>7</td><td>14</td><td>2</td><td>2</td><td>2</td><td>2</td><td>3</td></tr><tr><td>Holyhead</td><td>11</td><td>12</td><td>12</td><td>11</td><td>14</td><td>10</td><td>13</td><td>15</td><td>15</td><td>12</td><td>7</td><td>15</td><td>8</td><td>11</td></tr><tr><td>Bromborough</td><td>10</td><td>10</td><td>3</td><td>7</td><td>10</td><td>4</td><td>4</td><td>9</td><td>12</td><td>3</td><td>6</td><td>13</td><td>2</td><td>3</td></tr><tr><td>Villagarcia de Arosa</td><td>10</td><td>8</td><td>1</td><td>0</td><td>1</td><td>0</td><td>6</td><td>0</td><td>3</td><td>9</td><td>9</td><td>3</td><td>1</td><td>1</td></tr><tr><td>Santander</td><td>9</td><td>1</td><td>2</td><td>0</td><td>0</td><td>0</td><td>0</td><td>8</td><td>1</td><td>2</td><td>0</td><td>0</td><td>1</td><td>0</td></tr><tr><td>Le Havre</td><td>9</td><td>7</td><td>4</td><td>3</td><td>15</td><td>9</td><td>18</td><td>18</td><td>9</td><td>6</td><td>5</td><td>5</td><td>14</td><td>8</td></tr><tr><td>Aveiro</td><td>6</td><td>13</td><td>4</td><td>1</td><td>1</td><td>2</td><td>3</td><td>1</td><td>2</td><td>12</td><td>7</td><td>5</td><td>3</td><td>0</td></tr><tr><td>Sines</td><td>6</td><td>3</td><td>3</td><td>9</td><td>12</td><td>4</td><td>2</td><td>6</td><td>4</td><td>3</td><td>5</td><td>6</td><td>8</td><td>7</td></tr><tr><td>Runcorn</td><td>6</td><td>7</td><td>12</td><td>7</td><td>4</td><td>2</td><td>1</td><td>6</td><td>7</td><td>10</td><td>8</td><td>5</td><td>2</td><td>1</td></tr><tr><td>Ellesmere Port</td><td>5</td><td>4</td><td>4</td><td>4</td><td>2</td><td>5</td><td>4</td><td>4</td><td>5</td><td>6</td><td>3</td><td>2</td><td>6</td><td>2</td></tr><tr><td>Stanlow</td><td>5</td><td>5</td><td>7</td><td>5</td><td>6</td><td>3</td><td>4</td><td>1</td><td>6</td><td>7</td><td>7</td><td>4</td><td>7</td><td>3</td></tr><tr><td>Baie Comeau</td><td>4</td><td>1</td><td>0</td><td>0</td><td>0</td><td>0</td><td>1</td><td>1</td><td>0</td><td>2</td><td>1</td><td>1</td><td>1</td><td>0</td></tr><tr><td>Limerick</td><td>4</td><td>1</td><td>1</td><td>0</td><td>0</td><td>0</td><td>1</td><td>0</td><td>1</td><td>4</td><td>1</td><td>1</td><td>0</td><td>0</td></tr><tr><td>Bethioua</td><td>4</td><td>1</td><td>3</td><td>2</td><td>1</td><td>2</td><td>1</td><td>1</td><td>1</td><td>5</td><td>0</td><td>3</td><td>3</td><td>1</td></tr><tr><td>Ferrol</td><td>3</td><td>2</td><td>3</td><td>1</td><td>4</td><td>2</td><td>3</td><td>1</td><td>3</td><td>3</td><td>4</td><td>3</td><td>3</td><td>1</td></tr><tr><td>Saint-Nazaire</td><td>3</td><td>1</td><td>2</td><td>4</td><td>3</td><td>0</td><td>3</td><td>0</td><td>3</td><td>5</td><td>1</td><td>1</td><td>5</td><td>1</td></tr><tr><td>Garston</td><td>3</td><td>3</td><td>2</td><td>2</td><td>3</td><td>1</td><td>0</td><td>2</td><td>5</td><td>2</td><td>1</td><td>3</td><td>1</td><td>0</td></tr><tr><td>Corpus Christi</td><td>3</td><td>3</td><td>2</td><td>1</td><td>0</td><td>1</td><td>4</td><td>3</td><td>4</td><td>1</td><td>3</td><td>3</td><td>0</td><td>0</td></tr><tr><td>Las Palmas de Gran Canaria</td><td>3</td><td>3</td><td>0</td><td>0</td><td>2</td><td>3</td><td>2</td><td>2</td><td>2</td><td>3</td><td>1</td><td>4</td><td>0</td><td>1</td></tr><tr><td>Barrow in Furness</td><td>3</td><td>2</td><td>0</td><td>0</td><td>1</td><td>0</td><td>0</td><td>1</td><td>0</td><td>2</td><td>2</td><td>0</td><td>1</td><td>0</td></tr><tr><td>Gijon</td><td>2</td><td>1</td><td>1</td><td>2</td><td>2</td><td>2</td><td>3</td><td>2</td><td>4</td><td>3</td><td>0</td><td>2</td><td>1</td><td>1</td></tr><tr><td>Ingleside</td><td>2</td><td>2</td><td>3</td><td>3</td><td>1</td><td>2</td><td>2</td><td>0</td><td>3</td><td>0</td><td>4</td><td>2</td><td>3</td><td>3</td></tr><tr><td>Fairview Cove</td><td>2</td><td>1</td><td>3</td><td>3</td><td>2</td><td>2</td><td>3</td><td>3</td><td>0</td><td>4</td><td>2</td><td>3</td><td>1</td><td>3</td></tr><tr><td>Glasgow</td><td>2</td><td>3</td><td>0</td><td>1</td><td>3</td><td>0</td><td>1</td><td>1</td><td>2</td><td>1</td><td>0</td><td>4</td><td>2</td><td>0</td></tr><tr><td>Portbury</td><td>2</td><td>3</td><td>2</td><td>2</td><td>2</td><td>1</td><td>2</td><td>2</td><td>0</td><td>3</td><td>5</td><td>4</td><td>0</td><td>0</td></tr><tr><td>Malaga</td><td>2</td><td>0</td><td>4</td><td>1</td><td>1</td><td>0</td><td>2</td><td>0</td><td>3</td><td>1</td><td>1</td><td>4</td><td>1</td><td>0</td></tr><tr><td>Montreal</td><td>2</td><td>0</td><td>3</td><td>2</td><td>3</td><td>1</td><td>1</td><td>1</td><td>0</td><td>2</td><td>2</td><td>4</td><td>2</td><td>1</td></tr><tr><td>Ceuta</td><td>2</td><td>0</td><td>4</td><td>1</td><td>3</td><td>1</td><td>3</td><td>1</td><td>3</td><td>3</td><td>1</td><td>4</td><td>1</td><td>1</td></tr><tr><td>Kotka</td><td>2</td><td>1</td><td>2</td><td>1</td><td>1</td><td>1</td><td>1</td><td>0</td><td>0</td><td>2</td><td>2</td><td>4</td><td>1</td><td>0</td></tr><tr><td>Odda</td><td>2</td><td>4</td><td>1</td><td>0</td><td>1</td><td>3</td><td>3</td><td>1</td><td>2</td><td>5</td><td>4</td><td>2</td><td>0</td><td>0</td></tr><tr><td>Newport</td><td>2</td><td>0</td><td>0</td><td>0</td><td>0</td><td>1</td><td>1</td><td>1</td><td>1</td><td>0</td><td>1</td><td>0</td><td>0</td><td>1</td></tr><tr><td>Larne</td><td>2</td><td>9</td><td>5</td><td>1</td><td>9</td><td>3</td><td>4</td><td>4</td><td>4</td><td>8</td><td>3</td><td>4</td><td>6</td><td>4</td></tr><tr><td>Dundalk</td><td>2</td><td>0</td><td>4</td><td>1</td><td>1</td><td>3</td><td>1</td><td>1</td><td>1</td><td>1</td><td>4</td><td>1</td><td>3</td><td>1</td></tr><tr><td>Aberdeen</td><td>2</td><td>1</td><td>0</td><td>1</td><td>0</td><td>0</td><td>3</td><td>1</td><td>1</td><td>1</td><td>1</td><td>0</td><td>3</td><td>0</td></tr><tr><td>Heysham</td><td>2</td><td>0</td><td>0</td><td>0</td><td>2</td><td>1</td><td>0</td><td>0</td><td>2</td><td>2</td><td>0</td><td>1</td><td>0</td><td>0</td></tr><tr><td>Great Bitter Lake</td><td>2</td><td>1</td><td>1</td><td>2</td><td>0</td><td>0</td><td>0</td><td>1</td><td>0</td><td>2</td><td>1</td><td>0</td><td>2</td><td>0</td></tr><tr><td>New Ross</td><td>2</td><td>3</td><td>0</td><td>0</td><td>1</td><td>3</td><td>3</td><td>1</td><td>3</td><td>1</td><td>2</td><td>0</td><td>1</td><td>4</td></tr><tr><td>Millom Field</td><td>2</td><td>1</td><td>1</td><td>0</td><td>1</td><td>2</td><td>0</td><td>1</td><td>0</td><td>2</td><td>1</td><td>1</td><td>1</td><td>1</td></tr><tr><td>Rotterdam Anchorage</td><td>2</td><td>1</td><td>0</td><td>0</td><td>1</td><td>0</td><td>1</td><td>0</td><td>2</td><td>2</td><td>0</td><td>0</td><td>0</td><td>1</td></tr><tr><td>Greenock</td><td>2</td><td>3</td><td>6</td><td>1</td><td>2</td><td>4</td><td>5</td><td>3</td><td>3</td><td>5</td><td>2</td><td>3</td><td>3</td><td>4</td></tr><tr><td>Sharpness</td><td>2</td><td>0</td><td>1</td><td>0</td><td>0</td><td>0</td><td>0</td><td>0</td><td>1</td><td>1</td><td>1</td><td>0</td><td>0</td><td>0</td></tr><tr><td>La Coruna (A Coruna)</td><td>2</td><td>0</td><td>2</td><td>4</td><td>2</td><td>1</td><td>0</td><td>2</td><td>0</td><td>2</td><td>5</td><td>1</td><td>0</td><td>1</td></tr><tr><td>Lennox Field</td><td>2</td><td>1</td><td>1</td><td>1</td><td>0</td><td>4</td><td>1</td><td>2</td><td>2</td><td>0</td><td>1</td><td>2</td><td>2</td><td>1</td></tr><tr><td>Leixoes</td><td>2</td><td>4</td><td>3</td><td>33</td><td>4</td><td>3</td><td>2</td><td>0</td><td>2</td><td>3</td><td>22</td><td>15</td><td>6</td><td>3</td></tr><tr><td>Algeciras Anchorage</td><td>2</td><td>0</td><td>0</td><td>0</td><td>1</td><td>1</td><td>1</td><td>1</td><td>0</td><td>0</td><td>1</td><td>0</td><td>0</td><td>3</td></tr><tr><td>Milford Docks</td><td>2</td><td>0</td><td>4</td><td>0</td><td>0</td><td>0</td><td>0</td><td>1</td><td>1</td><td>1</td><td>0</td><td>2</td><td>0</td><td>1</td></tr><tr><td>Vlissingen</td><td>2</td><td>0</td><td>2</td><td>1</td><td>3</td><td>1</td><td>1</td><td>1</td><td>2</td><td>1</td><td>0</td><td>3</td><td>2</td><td>1</td></tr><tr><td>Darrow</td><td>2</td><td>1</td><td>0</td><td>0</td><td>1</td><td>0</td><td>0</td><td>1</td><td>0</td><td>0</td><td>1</td><td>2</td><td>0</td><td>0</td></tr><tr><td>Come By Chance</td><td>1</td><td>1</td><td>0</td><td>0</td><td>0</td><td>0</td><td>0</td><td>0</td><td>0</td><td>1</td><td>0</td><td>1</td><td>0</td><td>0</td></tr><tr><td>Vila do CondePort/Barcarena</td><td>1</td><td>0</td><td>0</td><td>0</td><td>0</td><td>0</td><td>0</td><td>0</td><td>0</td><td>0</td><td>1</td><td>0</td><td>0</td><td>0</td></tr><tr><td>Portland</td><td>1</td><td>0</td><td>0</td><td>0</td><td>0</td><td>0</td><td>0</td><td>1</td><td>0</td><td>0</td><td>0</td><td>0</td><td>0</td><td>0</td></tr><tr><td>Londonderry</td><td>1</td><td>0</td><td>0</td><td>0</td><td>0</td><td>0</td><td>1</td><td>0</td><td>0</td><td>0</td><td>0</td><td>2</td><td>0</td><td>0</td></tr><tr><td>Harstad</td><td>1</td><td>0</td><td>0</td><td>0</td><td>0</td><td>0</td><td>0</td><td>1</td><td>0</td><td>0</td><td>0</td><td>0</td><td>0</td><td>0</td></tr><tr><td>Rosslare Harbour</td><td>1</td><td>1</td><td>2</td><td>4</td><td>3</td><td>2</td><td>3</td><td>1</td><td>3</td><td>1</td><td>1</td><td>3</td><td>3</td><td>4</td></tr><tr><td>Eregli</td><td>1</td><td>0</td><td>0</td><td>0</td><td>0</td><td>1</td><td>0</td><td>0</td><td>0</td><td>0</td><td>0</td><td>1</td><td>1</td><td>0</td></tr><tr><td>la Pallice</td><td>1</td><td>1</td><td>1</td><td>0</td><td>0</td><td>1</td><td>1</td><td>0</td><td>0</td><td>1</td><td>1</td><td>1</td><td>2</td><td>0</td></tr><tr><td>Tarragona</td><td>1</td><td>0</td><td>0</td><td>0</td><td>0</td><td>0</td><td>0</td><td>1</td><td>0</td><td>0</td><td>0</td><td>0</td><td>0</td><td>0</td></tr><tr><td>Port Talbot</td><td>1</td><td>0</td><td>0</td><td>0</td><td>1</td><td>1</td><td>0</td><td>1</td><td>0</td><td>0</td><td>1</td><td>0</td><td>0</td><td>1</td></tr><tr><td>Mostyn</td><td>1</td><td>1</td><td>2</td><td>2</td><td>1</td><td>2</td><td>3</td><td>0</td><td>3</td><td>5</td><td>0</td><td>1</td><td>1</td><td>2</td></tr><tr><td>Sainte-Victoire-de-Sorel</td><td>1</td><td>0</td><td>0</td><td>0</td><td>0</td><td>0</td><td>1</td><td>1</td><td>0</td><td>0</td><td>0</td><td>1</td><td>0</td><td>0</td></tr><tr><td>Goteborg Anchorage</td><td>1</td><td>4</td><td>0</td><td>2</td><td>1</td><td>1</td><td>1</td><td>1</td><td>2</td><td>1</td><td>2</td><td>3</td><td>1</td><td>0</td></tr><tr><td>Suape Anchorage</td><td>1</td><td>0</td><td>0</td><td>0</td><td>0</td><td>0</td><td>0</td><td>1</td><td>0</td><td>0</td><td>0</td><td>0</td><td>0</td><td>0</td></tr><tr><td>Skagen Anchorage</td><td>1</td><td>0</td><td>1</td><td>2</td><td>0</td><td>0</td><td>0</td><td>0</td><td>0</td><td>0</td><td>1</td><td>0</td><td>2</td><td>1</td></tr><tr><td>Sullom Voe</td><td>1</td><td>0</td><td>2</td><td>0</td><td>1</td><td>1</td><td>0</td><td>1</td><td>0</td><td>1</td><td>1</td><td>1</td><td>0</td><td>1</td></tr><tr><td>Douglas Field</td><td>1</td><td>0</td><td>6</td><td>1</td><td>2</td><td>0</td><td>3</td><td>1</td><td>1</td><td>2</td><td>6</td><td>1</td><td>0</td><td>2</td></tr><tr><td>Fishguard</td><td>1</td><td>0</td><td>3</td><td>0</td><td>0</td><td>0</td><td>1</td><td>1</td><td>0</td><td>2</td><td>0</td><td>0</td><td>1</td><td>1</td></tr><tr><td>Port Arthur</td><td>1</td><td>0</td><td>0</td><td>0</td><td>0</td><td>0</td><td>0</td><td>0</td><td>0</td><td>0</td><td>0</td><td>0</td><td>1</td><td>0</td></tr><tr><td>Cobh</td><td>1</td><td>0</td><td>5</td><td>1</td><td>2</td><td>0</td><td>0</td><td>1</td><td>0</td><td>5</td><td>1</td><td>2</td><td>0</td><td>0</td></tr><tr><td>Grande Anse QC</td><td>1</td><td>0</td><td>0</td><td>1</td><td>0</td><td>0</td><td>0</td><td>0</td><td>0</td><td>0</td><td>0</td><td>1</td><td>0</td><td>1</td></tr><tr><td>Kyle of Lochalsh</td><td>1</td><td>1</td><td>1</td><td>1</td><td>1</td><td>3</td><td>0</td><td>0</td><td>2</td><td>1</td><td>2</td><td>0</td><td>2</td><td>1</td></tr><tr><td>Southampton</td><td>1</td><td>1</td><td>2</td><td>3</td><td>1</td><td>2</td><td>3</td><td>1</td><td>3</td><td>1</td><td>1</td><td>2</td><td>2</td><td>3</td></tr><tr><td>Zona Comun Anchorage</td><td>1</td><td>0</td><td>2</td><td>0</td><td>0</td><td>0</td><td>0</td><td>0</td><td>0</td><td>0</td><td>0</td><td>2</td><td>0</td><td>1</td></tr><tr><td>Vigo</td><td>1</td><td>0</td><td>1</td><td>0</td><td>1</td><td>1</td><td>0</td><td>0</td><td>1</td><td>0</td><td>1</td><td>1</td><td>0</td><td>1</td></tr><tr><td>Gibraltar West Anchorage</td><td>1</td><td>2</td><td>0</td><td>2</td><td>0</td><td>0</td><td>0</td><td>1</td><td>2</td><td>0</td><td>0</td><td>2</td><td>0</td><td>0</td></tr><tr><td>Lowestoft</td><td>1</td><td>1</td><td>0</td><td>0</td><td>0</td><td>1</td><td>0</td><td>1</td><td>1</td><td>0</td><td>0</td><td>0</td><td>0</td><td>1</td></tr><tr><td>Dover</td><td>1</td><td>0</td><td>0</td><td>0</td><td>1</td><td>0</td><td>1</td><td>2</td><td>0</td><td>1</td><td>0</td><td>0</td><td>0</td><td>0</td></tr><tr><td>Terneuzen</td><td>1</td><td>0</td><td>0</td><td>0</td><td>0</td><td>0</td><td>0</td><td>0</td><td>1</td><td>0</td><td>0</td><td>0</td><td>0</td><td>0</td></tr><tr><td>Houston</td><td>1</td><td>0</td><td>2</td><td>0</td><td>0</td><td>1</td><td>0</td><td>1</td><td>0</td><td>1</td><td>0</td><td>2</td><td>0</td><td>0</td></tr><tr><td>Bermeo</td><td>1</td><td>0</td><td>0</td><td>1</td><td>0</td><td>1</td><td>0</td><td>0</td><td>0</td><td>2</td><td>0</td><td>0</td><td>0</td><td>1</td></tr><tr><td>Torbay Anchorage</td><td>1</td><td>0</td><td>0</td><td>0</td><td>0</td><td>0</td><td>0</td><td>0</td><td>1</td><td>0</td><td>0</td><td>0</td><td>0</td><td>0</td></tr><tr><td>Les Sables-d'Olonne</td><td>1</td><td>0</td><td>0</td><td>1</td><td>0</td><td>0</td><td>0</td><td>1</td><td>0</td><td>0</td><td>0</td><td>0</td><td>1</td><td>0</td></tr><tr><td>Mongstad</td><td>1</td><td>0</td><td>2</td><td>1</td><td>1</td><td>2</td><td>0</td><td>2</td><td>1</td><td>0</td><td>0</td><td>2</td><td>1</td><td>1</td></tr><tr><td>Gent (Ghent)</td><td>1</td><td>0</td><td>0</td><td>0</td><td>0</td><td>0</td><td>0</td><td>0</td><td>0</td><td>0</td><td>0</td><td>1</td><td>0</td><td>0</td></tr><tr><td>Avonmouth</td><td>1</td><td>0</td><td>0</td><td>1</td><td>0</td><td>1</td><td>0</td><td>1</td><td>1</td><td>0</td><td>0</td><td>0</td><td>0</td><td>1</td></tr><tr><td>Stura</td><td>1</td><td>0</td><td>2</td><td>2</td><td>0</td><td>2</td><td>1</td><td>1</td><td>2</td><td>0</td><td>1</td><td>1</td><td>2</td><td>1</td></tr><tr><td>Tanger Med</td><td>1</td><td>0</td><td>0</td><td>0</td><td>0</td><td>0</td><td>0</td><td>0</td><td>0</td><td>0</td><td>0</td><td>1</td><td>0</td><td>0</td></tr><tr><td>El Dekheila</td><td>1</td><td>0</td><td>0</td><td>0</td><td>0</td><td>0</td><td>0</td><td>0</td><td>1</td><td>0</td><td>0</td><td>0</td><td>0</td><td>0</td></tr><tr><td>Ramsey</td><td>1</td><td>0</td><td>1</td><td>0</td><td>0</td><td>0</td><td>0</td><td>0</td><td>0</td><td>2</td><td>0</td><td>0</td><td>0</td><td>0</td></tr><tr><td>Derince</td><td>1</td><td>1</td><td>0</td><td>0</td><td>1</td><td>0</td><td>1</td><td>0</td><td>0</td><td>1</td><td>1</td><td>1</td><td>1</td><td>0</td></tr><tr><td>Hamburg</td><td>1</td><td>0</td><td>1</td><td>0</td><td>0</td><td>0</td><td>0</td><td>0</td><td>0</td><td>1</td><td>1</td><td>0</td><td>0</td><td>0</td></tr><tr><td>Uig</td><td>1</td><td>0</td><td>0</td><td>0</td><td>0</td><td>0</td><td>0</td><td>0</td><td>0</td><td>1</td><td>0</td><td>0</td><td>0</td><td>0</td></tr><tr><td>Saltburn</td><td>1</td><td>0</td><td>0</td><td>0</td><td>0</td><td>0</td><td>0</td><td>0</td><td>1</td><td>0</td><td>0</td><td>0</td><td>0</td><td>0</td></tr><tr><td>Hartlepool</td><td>1</td><td>0</td><td>0</td><td>0</td><td>0</td><td>0</td><td>0</td><td>0</td><td>0</td><td>0</td><td>0</td><td>1</td><td>0</td><td>0</td></tr><tr><td>Rushbrooke</td><td>1</td><td>0</td><td>0</td><td>0</td><td>0</td><td>0</td><td>0</td><td>1</td><td>0</td><td>0</td><td>0</td><td>0</td><td>0</td><td>0</td></tr><tr><td>Solent Anchorage</td><td>1</td><td>0</td><td>0</td><td>0</td><td>0</td><td>0</td><td>0</td><td>1</td><td>0</td><td>0</td><td>0</td><td>0</td><td>0</td><td>0</td></tr><tr><td>Skikda</td><td>1</td><td>0</td><td>0</td><td>0</td><td>0</td><td>0</td><td>0</td><td>0</td><td>0</td><td>0</td><td>0</td><td>0</td><td>1</td><td>0</td></tr><tr><td>Sauda</td><td>1</td><td>1</td><td>0</td><td>0</td><td>0</td><td>0</td><td>0</td><td>0</td><td>0</td><td>0</td><td>1</td><td>0</td><td>1</td><td>0</td></tr><tr><td>Reserve</td><td>1</td><td>0</td><td>0</td><td>0</td><td>0</td><td>0</td><td>0</td><td>0</td><td>0</td><td>0</td><td>0</td><td>1</td><td>0</td><td>0</td></tr><tr><td>Parnu</td><td>1</td><td>0</td><td>0</td><td>0</td><td>0</td><td>0</td><td>0</td><td>0</td><td>0</td><td>0</td><td>1</td><td>0</td><td>0</td><td>0</td></tr><tr><td>Finnart</td><td>1</td><td>0</td><td>0</td><td>0</td><td>0</td><td>0</td><td>0</td><td>0</td><td>0</td><td>0</td><td>0</td><td>1</td><td>0</td><td>0</td></tr><tr><td>Goteborg</td><td>1</td><td>0</td><td>0</td><td>0</td><td>0</td><td>0</td><td>0</td><td>0</td><td>1</td><td>0</td><td>0</td><td>0</td><td>0</td><td>0</td></tr><tr><td>Port-Cartier</td><td>1</td><td>0</td><td>0</td><td>0</td><td>0</td><td>0</td><td>0</td><td>0</td><td>0</td><td>0</td><td>1</td><td>0</td><td>0</td><td>0</td></tr><tr><td>Sariseki</td><td>1</td><td>0</td><td>0</td><td>0</td><td>0</td><td>0</td><td>0</td><td>0</td><td>1</td><td>0</td><td>0</td><td>0</td><td>0</td><td>0</td></tr><tr><td>null</td><td>1</td><td>1</td><td>0</td><td>1</td><td>0</td><td>0</td><td>3</td><td>0</td><td>0</td><td>2</td><td>0</td><td>1</td><td>0</td><td>3</td></tr><tr><td>Istanbul Anchorage</td><td>1</td><td>0</td><td>0</td><td>0</td><td>0</td><td>0</td><td>0</td><td>0</td><td>0</td><td>0</td><td>0</td><td>0</td><td>0</td><td>1</td></tr><tr><td>Troon</td><td>1</td><td>0</td><td>0</td><td>2</td><td>0</td><td>0</td><td>0</td><td>2</td><td>0</td><td>0</td><td>0</td><td>0</td><td>0</td><td>1</td></tr><tr><td>Saint Helier</td><td>1</td><td>0</td><td>0</td><td>0</td><td>0</td><td>0</td><td>0</td><td>0</td><td>0</td><td>1</td><td>0</td><td>0</td><td>0</td><td>0</td></tr><tr><td>Reykjavik</td><td>1</td><td>0</td><td>0</td><td>0</td><td>1</td><td>0</td><td>1</td><td>1</td><td>0</td><td>0</td><td>0</td><td>1</td><td>0</td><td>1</td></tr><tr><td>Dun Laoghaire</td><td>1</td><td>0</td><td>1</td><td>0</td><td>0</td><td>1</td><td>0</td><td>0</td><td>0</td><td>0</td><td>0</td><td>0</td><td>0</td><td>3</td></tr><tr><td>Fethiye</td><td>1</td><td>0</td><td>0</td><td>0</td><td>0</td><td>0</td><td>0</td><td>0</td><td>1</td><td>0</td><td>0</td><td>0</td><td>0</td><td>0</td></tr><tr><td>Gullfaks</td><td>1</td><td>0</td><td>0</td><td>0</td><td>0</td><td>1</td><td>0</td><td>1</td><td>0</td><td>1</td><td>0</td><td>0</td><td>0</td><td>0</td></tr><tr><td>Hellevoetsluis</td><td>1</td><td>0</td><td>0</td><td>0</td><td>0</td><td>0</td><td>0</td><td>0</td><td>0</td><td>1</td><td>0</td><td>0</td><td>0</td><td>0</td></tr><tr><td>Isle of Grain</td><td>1</td><td>0</td><td>0</td><td>0</td><td>0</td><td>0</td><td>0</td><td>0</td><td>0</td><td>1</td><td>0</td><td>0</td><td>0</td><td>0</td></tr><tr><td>Cowes</td><td>1</td><td>0</td><td>0</td><td>0</td><td>0</td><td>0</td><td>0</td><td>0</td><td>1</td><td>0</td><td>0</td><td>0</td><td>0</td><td>0</td></tr><tr><td>Marin</td><td>0</td><td>0</td><td>0</td><td>1</td><td>1</td><td>0</td><td>0</td><td>0</td><td>0</td><td>1</td><td>0</td><td>0</td><td>1</td><td>0</td></tr><tr><td>Brunswick</td><td>0</td><td>1</td><td>0</td><td>2</td><td>1</td><td>0</td><td>0</td><td>1</td><td>1</td><td>0</td><td>0</td><td>1</td><td>0</td><td>1</td></tr><tr><td>Savannah</td><td>0</td><td>0</td><td>1</td><td>1</td><td>4</td><td>1</td><td>1</td><td>0</td><td>3</td><td>1</td><td>3</td><td>0</td><td>1</td><td>0</td></tr><tr><td>Hound Point</td><td>0</td><td>0</td><td>2</td><td>0</td><td>1</td><td>0</td><td>0</td><td>0</td><td>0</td><td>0</td><td>1</td><td>0</td><td>1</td><td>1</td></tr><tr><td>Glensanda</td><td>0</td><td>3</td><td>2</td><td>0</td><td>3</td><td>1</td><td>2</td><td>2</td><td>1</td><td>3</td><td>2</td><td>0</td><td>1</td><td>2</td></tr><tr><td>Zeebrugge</td><td>0</td><td>1</td><td>0</td><td>0</td><td>0</td><td>0</td><td>0</td><td>0</td><td>0</td><td>0</td><td>1</td><td>0</td><td>0</td><td>0</td></tr><tr><td>Algeciras</td><td>0</td><td>0</td><td>1</td><td>0</td><td>0</td><td>0</td><td>1</td><td>0</td><td>0</td><td>1</td><td>1</td><td>0</td><td>0</td><td>0</td></tr><tr><td>St. Bride's Bay</td><td>0</td><td>1</td><td>0</td><td>0</td><td>0</td><td>1</td><td>1</td><td>1</td><td>0</td><td>0</td><td>1</td><td>0</td><td>0</td><td>1</td></tr><tr><td>Setubal</td><td>0</td><td>2</td><td>3</td><td>5</td><td>3</td><td>3</td><td>3</td><td>3</td><td>5</td><td>2</td><td>2</td><td>1</td><td>3</td><td>3</td></tr><tr><td>Ostrica</td><td>0</td><td>0</td><td>0</td><td>0</td><td>0</td><td>0</td><td>1</td><td>0</td><td>0</td><td>1</td><td>0</td><td>0</td><td>0</td><td>0</td></tr><tr><td>Itaqui</td><td>0</td><td>0</td><td>0</td><td>0</td><td>0</td><td>1</td><td>0</td><td>0</td><td>0</td><td>0</td><td>0</td><td>1</td><td>0</td><td>0</td></tr><tr><td>Vila do Conde Anchorage</td><td>0</td><td>0</td><td>1</td><td>0</td><td>0</td><td>0</td><td>0</td><td>0</td><td>0</td><td>0</td><td>0</td><td>0</td><td>1</td><td>0</td></tr><tr><td>Palm Beach</td><td>0</td><td>0</td><td>0</td><td>0</td><td>1</td><td>0</td><td>0</td><td>0</td><td>1</td><td>0</td><td>0</td><td>0</td><td>0</td><td>0</td></tr><tr><td>IJmuiden/Velsen Anchorage</td><td>0</td><td>0</td><td>0</td><td>0</td><td>0</td><td>0</td><td>1</td><td>0</td><td>1</td><td>0</td><td>0</td><td>0</td><td>0</td><td>0</td></tr><tr><td>Brunsbuttel</td><td>0</td><td>1</td><td>0</td><td>3</td><td>1</td><td>1</td><td>2</td><td>2</td><td>1</td><td>0</td><td>1</td><td>2</td><td>1</td><td>1</td></tr><tr><td>Hamilton Field</td><td>0</td><td>0</td><td>1</td><td>0</td><td>2</td><td>1</td><td>2</td><td>2</td><td>1</td><td>1</td><td>1</td><td>0</td><td>1</td><td>0</td></tr><tr><td>Chesapeake</td><td>0</td><td>3</td><td>0</td><td>0</td><td>1</td><td>0</td><td>1</td><td>1</td><td>0</td><td>0</td><td>2</td><td>0</td><td>1</td><td>1</td></tr><tr><td>Ashdod</td><td>0</td><td>2</td><td>2</td><td>0</td><td>1</td><td>0</td><td>0</td><td>0</td><td>0</td><td>2</td><td>2</td><td>0</td><td>1</td><td>0</td></tr><tr><td>Limas</td><td>0</td><td>1</td><td>0</td><td>0</td><td>0</td><td>0</td><td>0</td><td>0</td><td>0</td><td>0</td><td>0</td><td>0</td><td>0</td><td>1</td></tr><tr><td>Destrehan</td><td>0</td><td>0</td><td>0</td><td>0</td><td>1</td><td>0</td><td>1</td><td>0</td><td>0</td><td>0</td><td>1</td><td>0</td><td>1</td><td>0</td></tr><tr><td>Falmouth Anchorage</td><td>0</td><td>0</td><td>1</td><td>0</td><td>0</td><td>0</td><td>1</td><td>1</td><td>0</td><td>0</td><td>1</td><td>0</td><td>0</td><td>0</td></tr><tr><td>Immingham</td><td>0</td><td>0</td><td>0</td><td>0</td><td>1</td><td>0</td><td>0</td><td>0</td><td>0</td><td>0</td><td>0</td><td>0</td><td>0</td><td>1</td></tr><tr><td>Castellon de la Plana</td><td>0</td><td>0</td><td>0</td><td>1</td><td>3</td><td>1</td><td>0</td><td>0</td><td>0</td><td>0</td><td>0</td><td>2</td><td>3</td><td>0</td></tr><tr><td>Lerwick</td><td>0</td><td>0</td><td>0</td><td>1</td><td>1</td><td>0</td><td>1</td><td>0</td><td>0</td><td>0</td><td>0</td><td>2</td><td>0</td><td>1</td></tr><tr><td>Escombreras</td><td>0</td><td>0</td><td>0</td><td>1</td><td>0</td><td>0</td><td>0</td><td>0</td><td>0</td><td>0</td><td>0</td><td>1</td><td>0</td><td>0</td></tr><tr><td>Marsaxlokk Anchorage</td><td>0</td><td>0</td><td>0</td><td>1</td><td>0</td><td>0</td><td>0</td><td>0</td><td>0</td><td>0</td><td>0</td><td>1</td><td>0</td><td>0</td></tr><tr><td>Ferrol Anchorage</td><td>0</td><td>1</td><td>1</td><td>1</td><td>1</td><td>0</td><td>0</td><td>0</td><td>0</td><td>1</td><td>1</td><td>1</td><td>1</td><td>0</td></tr><tr><td>Teesport</td><td>0</td><td>2</td><td>0</td><td>0</td><td>0</td><td>2</td><td>1</td><td>1</td><td>0</td><td>1</td><td>2</td><td>0</td><td>0</td><td>1</td></tr><tr><td>Rostock</td><td>0</td><td>0</td><td>0</td><td>2</td><td>0</td><td>0</td><td>0</td><td>0</td><td>0</td><td>0</td><td>0</td><td>0</td><td>2</td><td>0</td></tr><tr><td>Drammen</td><td>0</td><td>0</td><td>0</td><td>0</td><td>1</td><td>0</td><td>0</td><td>0</td><td>1</td><td>0</td><td>0</td><td>0</td><td>0</td><td>0</td></tr><tr><td>Macapa Anchorage</td><td>0</td><td>1</td><td>0</td><td>0</td><td>0</td><td>0</td><td>0</td><td>0</td><td>0</td><td>1</td><td>0</td><td>0</td><td>0</td><td>0</td></tr><tr><td>Devonport</td><td>0</td><td>0</td><td>1</td><td>0</td><td>0</td><td>0</td><td>0</td><td>0</td><td>0</td><td>1</td><td>0</td><td>0</td><td>0</td><td>0</td></tr><tr><td>Bremen</td><td>0</td><td>1</td><td>0</td><td>0</td><td>0</td><td>0</td><td>0</td><td>0</td><td>0</td><td>0</td><td>0</td><td>0</td><td>1</td><td>0</td></tr><tr><td>Aughinish Island</td><td>0</td><td>0</td><td>0</td><td>0</td><td>0</td><td>1</td><td>1</td><td>0</td><td>0</td><td>0</td><td>0</td><td>1</td><td>1</td><td>0</td></tr><tr><td>Sarroch (Porto Foxi)</td><td>0</td><td>0</td><td>1</td><td>0</td><td>0</td><td>0</td><td>0</td><td>0</td><td>0</td><td>0</td><td>1</td><td>0</td><td>0</td><td>0</td></tr><tr><td>Fleetwood</td><td>0</td><td>0</td><td>0</td><td>0</td><td>0</td><td>0</td><td>1</td><td>1</td><td>0</td><td>0</td><td>0</td><td>0</td><td>0</td><td>0</td></tr><tr><td>Westhinder Anchorage</td><td>0</td><td>0</td><td>0</td><td>0</td><td>2</td><td>1</td><td>1</td><td>0</td><td>0</td><td>1</td><td>0</td><td>0</td><td>2</td><td>1</td></tr><tr><td>New Orleans Anchorage</td><td>0</td><td>1</td><td>1</td><td>0</td><td>0</td><td>0</td><td>0</td><td>0</td><td>1</td><td>0</td><td>0</td><td>0</td><td>0</td><td>1</td></tr><tr><td>Knarrevik</td><td>0</td><td>0</td><td>0</td><td>0</td><td>2</td><td>0</td><td>1</td><td>2</td><td>0</td><td>0</td><td>1</td><td>0</td><td>0</td><td>0</td></tr><tr><td>Escravos</td><td>0</td><td>0</td><td>0</td><td>0</td><td>1</td><td>1</td><td>0</td><td>1</td><td>1</td><td>0</td><td>0</td><td>0</td><td>0</td><td>0</td></tr><tr><td>Abidjan</td><td>0</td><td>0</td><td>1</td><td>0</td><td>0</td><td>0</td><td>0</td><td>1</td><td>0</td><td>0</td><td>0</td><td>0</td><td>0</td><td>0</td></tr><tr><td>Wilmington</td><td>0</td><td>0</td><td>0</td><td>0</td><td>0</td><td>1</td><td>1</td><td>0</td><td>1</td><td>1</td><td>0</td><td>0</td><td>0</td><td>0</td></tr><tr><td>Port Allen</td><td>0</td><td>4</td><td>0</td><td>1</td><td>2</td><td>0</td><td>1</td><td>0</td><td>1</td><td>0</td><td>2</td><td>2</td><td>2</td><td>1</td></tr><tr><td>Klaipeda</td><td>0</td><td>1</td><td>0</td><td>0</td><td>0</td><td>1</td><td>0</td><td>1</td><td>0</td><td>0</td><td>0</td><td>0</td><td>0</td><td>1</td></tr><tr><td>Amsterdam</td><td>0</td><td>1</td><td>2</td><td>1</td><td>2</td><td>1</td><td>5</td><td>2</td><td>3</td><td>1</td><td>1</td><td>2</td><td>0</td><td>3</td></tr><tr><td>Barking Riverside</td><td>0</td><td>1</td><td>0</td><td>0</td><td>1</td><td>0</td><td>1</td><td>1</td><td>0</td><td>1</td><td>0</td><td>0</td><td>1</td><td>0</td></tr><tr><td>Diliskelesi</td><td>0</td><td>0</td><td>0</td><td>0</td><td>1</td><td>1</td><td>0</td><td>0</td><td>1</td><td>0</td><td>1</td><td>0</td><td>0</td><td>0</td></tr><tr><td>Wicklow</td><td>0</td><td>2</td><td>3</td><td>2</td><td>4</td><td>2</td><td>2</td><td>3</td><td>0</td><td>1</td><td>4</td><td>4</td><td>3</td><td>0</td></tr><tr><td>Gibraltar</td><td>0</td><td>0</td><td>0</td><td>1</td><td>0</td><td>1</td><td>0</td><td>1</td><td>0</td><td>1</td><td>0</td><td>0</td><td>0</td><td>0</td></tr><tr><td>Sluiskil</td><td>0</td><td>1</td><td>0</td><td>0</td><td>0</td><td>0</td><td>0</td><td>0</td><td>0</td><td>1</td><td>0</td><td>0</td><td>0</td><td>0</td></tr><tr><td>Oban</td><td>0</td><td>0</td><td>0</td><td>1</td><td>0</td><td>0</td><td>0</td><td>0</td><td>1</td><td>0</td><td>0</td><td>0</td><td>0</td><td>0</td></tr><tr><td>Wilhelmshaven Anchorage</td><td>0</td><td>0</td><td>0</td><td>0</td><td>0</td><td>0</td><td>1</td><td>0</td><td>0</td><td>1</td><td>0</td><td>0</td><td>0</td><td>0</td></tr><tr><td>Quebec</td><td>0</td><td>0</td><td>0</td><td>0</td><td>0</td><td>0</td><td>1</td><td>0</td><td>0</td><td>0</td><td>0</td><td>0</td><td>1</td><td>0</td></tr><tr><td>New York Anchorage</td><td>0</td><td>0</td><td>1</td><td>0</td><td>0</td><td>0</td><td>0</td><td>0</td><td>0</td><td>1</td><td>0</td><td>0</td><td>0</td><td>0</td></tr><tr><td>Salerno</td><td>0</td><td>1</td><td>0</td><td>0</td><td>0</td><td>0</td><td>0</td><td>0</td><td>0</td><td>0</td><td>0</td><td>0</td><td>0</td><td>1</td></tr><tr><td>Wilmington, NC</td><td>0</td><td>0</td><td>0</td><td>1</td><td>0</td><td>0</td><td>0</td><td>0</td><td>1</td><td>0</td><td>0</td><td>0</td><td>0</td><td>0</td></tr><tr><td>Kiel</td><td>0</td><td>0</td><td>0</td><td>0</td><td>0</td><td>0</td><td>1</td><td>0</td><td>0</td><td>1</td><td>0</td><td>0</td><td>0</td><td>0</td></tr><tr><td>Constanta</td><td>0</td><td>0</td><td>0</td><td>1</td><td>0</td><td>0</td><td>1</td><td>0</td><td>0</td><td>1</td><td>0</td><td>0</td><td>1</td><td>0</td></tr><tr><td>Balder</td><td>0</td><td>0</td><td>1</td><td>0</td><td>0</td><td>0</td><td>0</td><td>0</td><td>0</td><td>0</td><td>1</td><td>0</td><td>0</td><td>0</td></tr><tr><td>Kaliningrad</td><td>0</td><td>1</td><td>0</td><td>1</td><td>1</td><td>0</td><td>0</td><td>1</td><td>1</td><td>0</td><td>1</td><td>0</td><td>0</td><td>0</td></tr><tr><td>Warrenpoint</td><td>0</td><td>4</td><td>1</td><td>3</td><td>1</td><td>5</td><td>1</td><td>1</td><td>2</td><td>3</td><td>3</td><td>2</td><td>2</td><td>2</td></tr><tr><td>Ust'-Luga</td><td>0</td><td>0</td><td>1</td><td>0</td><td>0</td><td>0</td><td>0</td><td>0</td><td>0</td><td>0</td><td>0</td><td>0</td><td>0</td><td>1</td></tr><tr><td>Mobile</td><td>0</td><td>0</td><td>0</td><td>1</td><td>0</td><td>0</td><td>0</td><td>0</td><td>0</td><td>0</td><td>0</td><td>0</td><td>1</td><td>0</td></tr><tr><td>Liepaja</td><td>0</td><td>0</td><td>0</td><td>0</td><td>0</td><td>0</td><td>1</td><td>1</td><td>0</td><td>0</td><td>0</td><td>0</td><td>0</td><td>0</td></tr><tr><td>Gdynia</td><td>0</td><td>0</td><td>1</td><td>0</td><td>0</td><td>0</td><td>0</td><td>0</td><td>0</td><td>0</td><td>0</td><td>1</td><td>0</td><td>0</td></tr><tr><td>Shoreham-by-Sea</td><td>0</td><td>0</td><td>0</td><td>1</td><td>0</td><td>0</td><td>0</td><td>0</td><td>0</td><td>0</td><td>0</td><td>1</td><td>0</td><td>0</td></tr><tr><td>Brest</td><td>0</td><td>1</td><td>0</td><td>0</td><td>0</td><td>0</td><td>0</td><td>0</td><td>0</td><td>0</td><td>0</td><td>1</td><td>0</td><td>0</td></tr><tr><td>Aviles</td><td>0</td><td>1</td><td>0</td><td>0</td><td>0</td><td>1</td><td>0</td><td>0</td><td>0</td><td>1</td><td>0</td><td>0</td><td>0</td><td>1</td></tr><tr><td>Drogheda</td><td>0</td><td>0</td><td>1</td><td>2</td><td>0</td><td>0</td><td>0</td><td>0</td><td>0</td><td>0</td><td>0</td><td>2</td><td>1</td><td>0</td></tr><tr><td>Cromarty Firth</td><td>0</td><td>0</td><td>0</td><td>1</td><td>1</td><td>0</td><td>0</td><td>0</td><td>0</td><td>0</td><td>0</td><td>1</td><td>1</td><td>0</td></tr><tr><td>Rio Grande</td><td>0</td><td>0</td><td>1</td><td>0</td><td>0</td><td>0</td><td>0</td><td>0</td><td>0</td><td>1</td><td>0</td><td>0</td><td>0</td><td>0</td></tr><tr><td>Lorient</td><td>0</td><td>0</td><td>0</td><td>1</td><td>0</td><td>0</td><td>0</td><td>0</td><td>0</td><td>0</td><td>0</td><td>1</td><td>0</td><td>0</td></tr><tr><td>Santa Apolonia</td><td>0</td><td>1</td><td>0</td><td>1</td><td>3</td><td>0</td><td>0</td><td>0</td><td>1</td><td>1</td><td>0</td><td>2</td><td>0</td><td>1</td></tr><tr><td>Bremerhaven</td><td>0</td><td>0</td><td>1</td><td>0</td><td>1</td><td>1</td><td>0</td><td>0</td><td>0</td><td>1</td><td>0</td><td>0</td><td>1</td><td>1</td></tr><tr><td>Ringaskiddy</td><td>0</td><td>0</td><td>0</td><td>0</td><td>2</td><td>0</td><td>2</td><td>1</td><td>1</td><td>0</td><td>0</td><td>0</td><td>0</td><td>2</td></tr><tr><td>Yali Island</td><td>0</td><td>0</td><td>0</td><td>0</td><td>0</td><td>0</td><td>1</td><td>0</td><td>0</td><td>0</td><td>0</td><td>1</td><td>0</td><td>0</td></tr><tr><td>Milford Haven</td><td>0</td><td>0</td><td>1</td><td>1</td><td>1</td><td>0</td><td>0</td><td>0</td><td>0</td><td>0</td><td>0</td><td>1</td><td>2</td><td>0</td></tr><tr><td>Aasgard</td><td>0</td><td>0</td><td>2</td><td>0</td><td>0</td><td>0</td><td>0</td><td>0</td><td>0</td><td>0</td><td>2</td><td>0</td><td>0</td><td>0</td></tr><tr><td>Gdansk</td><td>0</td><td>0</td><td>1</td><td>0</td><td>0</td><td>0</td><td>0</td><td>0</td><td>0</td><td>0</td><td>0</td><td>0</td><td>1</td><td>0</td></tr><tr><td>Casablanca</td><td>0</td><td>0</td><td>0</td><td>0</td><td>0</td><td>1</td><td>0</td><td>0</td><td>1</td><td>0</td><td>0</td><td>0</td><td>0</td><td>0</td></tr><tr><td>Catcher Development</td><td>0</td><td>0</td><td>0</td><td>0</td><td>0</td><td>1</td><td>0</td><td>1</td><td>0</td><td>0</td><td>0</td><td>0</td><td>0</td><td>0</td></tr><tr><td>Hanstholm</td><td>0</td><td>1</td><td>1</td><td>0</td><td>0</td><td>0</td><td>0</td><td>0</td><td>0</td><td>1</td><td>1</td><td>0</td><td>0</td><td>0</td></tr><tr><td>Whitegate</td><td>0</td><td>0</td><td>0</td><td>0</td><td>0</td><td>0</td><td>1</td><td>0</td><td>0</td><td>1</td><td>0</td><td>0</td><td>0</td><td>0</td></tr><tr><td>Saint Margaret's Hope</td><td>0</td><td>0</td><td>0</td><td>0</td><td>0</td><td>0</td><td>1</td><td>0</td><td>0</td><td>0</td><td>0</td><td>0</td><td>1</td><td>0</td></tr><tr><td>Dagenham</td><td>0</td><td>0</td><td>0</td><td>0</td><td>0</td><td>0</td><td>1</td><td>1</td><td>0</td><td>0</td><td>0</td><td>0</td><td>0</td><td>0</td></tr><tr><td>Lisbon</td><td>0</td><td>0</td><td>1</td><td>0</td><td>0</td><td>0</td><td>0</td><td>0</td><td>0</td><td>0</td><td>1</td><td>0</td><td>0</td><td>0</td></tr><tr><td>Tetney Terminal</td><td>0</td><td>1</td><td>0</td><td>0</td><td>0</td><td>0</td><td>0</td><td>0</td><td>0</td><td>0</td><td>1</td><td>0</td><td>0</td><td>0</td></tr><tr><td>St. Lambert Lock</td><td>0</td><td>0</td><td>0</td><td>0</td><td>0</td><td>0</td><td>1</td><td>0</td><td>0</td><td>0</td><td>0</td><td>0</td><td>0</td><td>1</td></tr><tr><td>Harwich</td><td>0</td><td>1</td><td>0</td><td>0</td><td>0</td><td>0</td><td>0</td><td>0</td><td>0</td><td>0</td><td>1</td><td>0</td><td>0</td><td>0</td></tr><tr><td>Cardiff</td><td>0</td><td>0</td><td>1</td><td>0</td><td>0</td><td>1</td><td>0</td><td>1</td><td>0</td><td>0</td><td>1</td><td>0</td><td>0</td><td>0</td></tr><tr><td>Oran Dry Port</td><td>0</td><td>0</td><td>0</td><td>1</td><td>0</td><td>0</td><td>0</td><td>1</td><td>0</td><td>0</td><td>0</td><td>0</td><td>0</td><td>0</td></tr><tr><td>Santarem</td><td>0</td><td>1</td><td>0</td><td>0</td><td>0</td><td>0</td><td>0</td><td>0</td><td>0</td><td>0</td><td>1</td><td>0</td><td>0</td><td>0</td></tr><tr><td>El Iskandariya (Alexandria)</td><td>0</td><td>1</td><td>0</td><td>0</td><td>0</td><td>0</td><td>1</td><td>0</td><td>0</td><td>0</td><td>0</td><td>2</td><td>0</td><td>0</td></tr><tr><td>Workington</td><td>0</td><td>1</td><td>0</td><td>0</td><td>0</td><td>0</td><td>1</td><td>1</td><td>0</td><td>1</td><td>0</td><td>0</td><td>0</td><td>0</td></tr><tr><td>Fawley</td><td>0</td><td>1</td><td>0</td><td>0</td><td>1</td><td>1</td><td>0</td><td>0</td><td>0</td><td>0</td><td>1</td><td>0</td><td>0</td><td>2</td></tr><tr><td>Laayoune</td><td>0</td><td>0</td><td>1</td><td>0</td><td>0</td><td>0</td><td>0</td><td>0</td><td>0</td><td>0</td><td>0</td><td>1</td><td>0</td><td>0</td></tr><tr><td>Belledune</td><td>0</td><td>0</td><td>0</td><td>0</td><td>1</td><td>0</td><td>0</td><td>0</td><td>0</td><td>0</td><td>1</td><td>0</td><td>0</td><td>0</td></tr><tr><td>Cork</td><td>0</td><td>1</td><td>1</td><td>0</td><td>0</td><td>1</td><td>0</td><td>0</td><td>0</td><td>1</td><td>1</td><td>0</td><td>1</td><td>0</td></tr><tr><td>IJmuiden/Velsen</td><td>0</td><td>0</td><td>0</td><td>0</td><td>1</td><td>0</td><td>0</td><td>0</td><td>0</td><td>0</td><td>0</td><td>0</td><td>1</td><td>0</td></tr><tr><td>The Sound</td><td>0</td><td>1</td><td>0</td><td>0</td><td>0</td><td>0</td><td>0</td><td>0</td><td>0</td><td>0</td><td>0</td><td>1</td><td>0</td><td>0</td></tr><tr><td>Karabiga</td><td>0</td><td>1</td><td>0</td><td>0</td><td>0</td><td>0</td><td>0</td><td>0</td><td>0</td><td>1</td><td>0</td><td>0</td><td>0</td><td>0</td></tr><tr><td>Kyleakin</td><td>0</td><td>0</td><td>0</td><td>0</td><td>0</td><td>1</td><td>1</td><td>1</td><td>0</td><td>0</td><td>0</td><td>0</td><td>1</td><td>0</td></tr><tr><td>Dumyat (Damietta) Anchorage</td><td>0</td><td>0</td><td>0</td><td>0</td><td>0</td><td>1</td><td>0</td><td>0</td><td>0</td><td>0</td><td>0</td><td>1</td><td>0</td><td>0</td></tr><tr><td>Fos-sur-Mer</td><td>0</td><td>0</td><td>0</td><td>0</td><td>0</td><td>0</td><td>1</td><td>0</td><td>1</td><td>0</td><td>0</td><td>0</td><td>0</td><td>0</td></tr><tr><td>Freeport, Grand Bahama</td><td>0</td><td>0</td><td>0</td><td>0</td><td>0</td><td>3</td><td>0</td><td>0</td><td>0</td><td>0</td><td>3</td><td>0</td><td>0</td><td>0</td></tr><tr><td>Bruichladdich</td><td>0</td><td>3</td><td>0</td><td>1</td><td>1</td><td>1</td><td>0</td><td>1</td><td>1</td><td>0</td><td>3</td><td>0</td><td>1</td><td>0</td></tr><tr><td>Sagunto</td><td>0</td><td>0</td><td>0</td><td>0</td><td>0</td><td>1</td><td>0</td><td>0</td><td>0</td><td>0</td><td>1</td><td>0</td><td>0</td><td>0</td></tr><tr><td>Rouen</td><td>0</td><td>0</td><td>0</td><td>0</td><td>1</td><td>0</td><td>0</td><td>1</td><td>0</td><td>0</td><td>0</td><td>0</td><td>0</td><td>0</td></tr><tr><td>Bethioua Anchorage</td><td>0</td><td>0</td><td>1</td><td>0</td><td>0</td><td>0</td><td>0</td><td>0</td><td>0</td><td>0</td><td>1</td><td>0</td><td>0</td><td>0</td></tr><tr><td>Falmouth</td><td>0</td><td>0</td><td>0</td><td>0</td><td>0</td><td>1</td><td>1</td><td>1</td><td>0</td><td>0</td><td>0</td><td>0</td><td>0</td><td>1</td></tr><tr><td>Valencia</td><td>0</td><td>0</td><td>0</td><td>1</td><td>0</td><td>0</td><td>0</td><td>0</td><td>0</td><td>0</td><td>0</td><td>0</td><td>0</td><td>1</td></tr><tr><td>Beauharnois Lock</td><td>0</td><td>1</td><td>0</td><td>0</td><td>0</td><td>0</td><td>0</td><td>0</td><td>0</td><td>0</td><td>0</td><td>1</td><td>0</td><td>0</td></tr><tr><td>Portsmouth</td><td>0</td><td>1</td><td>0</td><td>2</td><td>0</td><td>0</td><td>1</td><td>2</td><td>1</td><td>0</td><td>1</td><td>0</td><td>0</td><td>0</td></tr><tr><td>Dumyat (Damietta)</td><td>0</td><td>0</td><td>1</td><td>0</td><td>0</td><td>0</td><td>2</td><td>1</td><td>0</td><td>1</td><td>0</td><td>0</td><td>1</td><td>0</td></tr><tr><td>Tonnay-Charente</td><td>0</td><td>1</td><td>0</td><td>0</td><td>0</td><td>0</td><td>1</td><td>0</td><td>1</td><td>0</td><td>0</td><td>0</td><td>1</td><td>0</td></tr><tr><td>South Morecambe Field</td><td>0</td><td>0</td><td>1</td><td>0</td><td>1</td><td>0</td><td>0</td><td>0</td><td>0</td><td>0</td><td>1</td><td>0</td><td>0</td><td>1</td></tr><tr><td>Pascagoula</td><td>0</td><td>0</td><td>1</td><td>0</td><td>0</td><td>0</td><td>0</td><td>0</td><td>0</td><td>0</td><td>1</td><td>0</td><td>0</td><td>0</td></tr><tr><td>Halifax</td><td>0</td><td>0</td><td>0</td><td>1</td><td>0</td><td>0</td><td>0</td><td>0</td><td>0</td><td>1</td><td>0</td><td>0</td><td>0</td><td>0</td></tr><tr><td>Nafplion</td><td>0</td><td>0</td><td>0</td><td>0</td><td>0</td><td>0</td><td>1</td><td>0</td><td>1</td><td>0</td><td>0</td><td>0</td><td>0</td><td>0</td></tr><tr><td>Hereke</td><td>0</td><td>0</td><td>0</td><td>0</td><td>0</td><td>1</td><td>0</td><td>0</td><td>0</td><td>0</td><td>0</td><td>1</td><td>0</td><td>0</td></tr><tr><td>Clydebank</td><td>0</td><td>0</td><td>0</td><td>0</td><td>0</td><td>0</td><td>1</td><td>1</td><td>0</td><td>0</td><td>0</td><td>0</td><td>0</td><td>0</td></tr><tr><td>Aarhus</td><td>0</td><td>0</td><td>0</td><td>0</td><td>0</td><td>1</td><td>0</td><td>0</td><td>0</td><td>1</td><td>0</td><td>0</td><td>0</td><td>0</td></tr><tr><td>Huelva</td><td>0</td><td>0</td><td>0</td><td>1</td><td>0</td><td>0</td><td>0</td><td>0</td><td>0</td><td>0</td><td>0</td><td>1</td><td>0</td><td>0</td></tr><tr><td>Corpus Christi Anchorage</td><td>0</td><td>0</td><td>0</td><td>0</td><td>1</td><td>0</td><td>0</td><td>0</td><td>0</td><td>0</td><td>0</td><td>0</td><td>1</td><td>0</td></tr><tr><td>Kinsale</td><td>0</td><td>0</td><td>0</td><td>0</td><td>1</td><td>0</td><td>0</td><td>0</td><td>0</td><td>0</td><td>0</td><td>0</td><td>0</td><td>1</td></tr><tr><td>Whitehaven</td><td>0</td><td>0</td><td>0</td><td>1</td><td>0</td><td>0</td><td>0</td><td>0</td><td>0</td><td>1</td><td>0</td><td>0</td><td>0</td><td>0</td></tr><tr><td>Ross-Parry Field</td><td>0</td><td>0</td><td>0</td><td>1</td><td>0</td><td>0</td><td>0</td><td>0</td><td>0</td><td>0</td><td>0</td><td>1</td><td>0</td><td>0</td></tr><tr><td>Holy Loch</td><td>0</td><td>0</td><td>0</td><td>0</td><td>0</td><td>0</td><td>1</td><td>0</td><td>0</td><td>0</td><td>0</td><td>0</td><td>0</td><td>1</td></tr><tr><td>Ballylumford</td><td>0</td><td>0</td><td>0</td><td>0</td><td>1</td><td>0</td><td>0</td><td>0</td><td>1</td><td>0</td><td>0</td><td>0</td><td>0</td><td>0</td></tr><tr><td>London Thames Anchorage</td><td>0</td><td>0</td><td>0</td><td>0</td><td>1</td><td>0</td><td>0</td><td>0</td><td>0</td><td>0</td><td>0</td><td>0</td><td>1</td><td>0</td></tr><tr><td>Port Ellen</td><td>0</td><td>0</td><td>0</td><td>0</td><td>0</td><td>1</td><td>0</td><td>0</td><td>0</td><td>0</td><td>0</td><td>0</td><td>0</td><td>1</td></tr><tr><td>Scrabster</td><td>0</td><td>0</td><td>1</td><td>0</td><td>0</td><td>0</td><td>0</td><td>0</td><td>0</td><td>1</td><td>0</td><td>0</td><td>0</td><td>0</td></tr><tr><td>Haugesund</td><td>0</td><td>1</td><td>1</td><td>1</td><td>0</td><td>0</td><td>0</td><td>0</td><td>1</td><td>1</td><td>1</td><td>0</td><td>0</td><td>0</td></tr><tr><td>Greenore</td><td>0</td><td>0</td><td>0</td><td>0</td><td>0</td><td>1</td><td>0</td><td>0</td><td>0</td><td>1</td><td>0</td><td>0</td><td>0</td><td>0</td></tr><tr><td>Villa Constitucion</td><td>0</td><td>0</td><td>0</td><td>0</td><td>1</td><td>0</td><td>0</td><td>0</td><td>0</td><td>0</td><td>1</td><td>0</td><td>0</td><td>0</td></tr><tr><td>Freeport OPL</td><td>0</td><td>0</td><td>0</td><td>0</td><td>0</td><td>1</td><td>0</td><td>0</td><td>1</td><td>0</td><td>0</td><td>0</td><td>0</td><td>0</td></tr><tr><td>Grangemouth</td><td>0</td><td>0</td><td>1</td><td>0</td><td>0</td><td>0</td><td>0</td><td>0</td><td>0</td><td>0</td><td>1</td><td>0</td><td>0</td><td>0</td></tr><tr><td>Gulf of Finland</td><td>0</td><td>0</td><td>1</td><td>0</td><td>0</td><td>0</td><td>0</td><td>0</td><td>0</td><td>0</td><td>1</td><td>0</td><td>0</td><td>0</td></tr><tr><td>Galway</td><td>0</td><td>0</td><td>0</td><td>0</td><td>0</td><td>0</td><td>1</td><td>0</td><td>1</td><td>0</td><td>0</td><td>0</td><td>0</td><td>0</td></tr><tr><td>Penzance</td><td>0</td><td>0</td><td>0</td><td>0</td><td>1</td><td>0</td><td>0</td><td>0</td><td>1</td><td>0</td><td>0</td><td>0</td><td>0</td><td>0</td></tr><tr><td>Torquay</td><td>0</td><td>0</td><td>0</td><td>1</td><td>0</td><td>0</td><td>0</td><td>0</td><td>0</td><td>0</td><td>0</td><td>0</td><td>0</td><td>1</td></tr><tr><td>English Harbour</td><td>0</td><td>1</td><td>0</td><td>0</td><td>0</td><td>0</td><td>0</td><td>0</td><td>0</td><td>0</td><td>0</td><td>0</td><td>0</td><td>1</td></tr><tr><td>Malta OPL</td><td>0</td><td>0</td><td>0</td><td>0</td><td>0</td><td>0</td><td>1</td><td>1</td><td>0</td><td>0</td><td>0</td><td>0</td><td>0</td><td>0</td></tr><tr><td>Dakar</td><td>0</td><td>0</td><td>0</td><td>1</td><td>0</td><td>0</td><td>0</td><td>0</td><td>0</td><td>0</td><td>1</td><td>0</td><td>0</td><td>0</td></tr><tr><td>Genova</td><td>0</td><td>0</td><td>0</td><td>0</td><td>0</td><td>0</td><td>1</td><td>0</td><td>0</td><td>1</td><td>0</td><td>0</td><td>0</td><td>0</td></tr><tr><td>Mostaganem</td><td>0</td><td>0</td><td>0</td><td>2</td><td>0</td><td>0</td><td>0</td><td>0</td><td>0</td><td>0</td><td>0</td><td>0</td><td>1</td><td>1</td></tr><tr><td>Bangor</td><td>0</td><td>0</td><td>0</td><td>1</td><td>0</td><td>0</td><td>0</td><td>0</td><td>0</td><td>0</td><td>1</td><td>0</td><td>0</td><td>0</td></tr><tr><td>AcuPort/Sao Joao da Barra</td><td>0</td><td>0</td><td>0</td><td>0</td><td>1</td><td>0</td><td>0</td><td>0</td><td>0</td><td>0</td><td>0</td><td>0</td><td>0</td><td>1</td></tr><tr><td>Kobenhavn</td><td>0</td><td>0</td><td>0</td><td>0</td><td>0</td><td>1</td><td>0</td><td>0</td><td>0</td><td>0</td><td>0</td><td>0</td><td>1</td><td>0</td></tr><tr><td>Fredrikstad</td><td>0</td><td>0</td><td>1</td><td>0</td><td>0</td><td>0</td><td>0</td><td>0</td><td>0</td><td>1</td><td>0</td><td>0</td><td>0</td><td>0</td></tr><tr><td>Syros (Syra) Anchorage</td><td>0</td><td>0</td><td>0</td><td>0</td><td>1</td><td>0</td><td>0</td><td>0</td><td>0</td><td>1</td><td>0</td><td>0</td><td>0</td><td>0</td></tr><tr><td>Brodick, Isle of Arran</td><td>0</td><td>1</td><td>0</td><td>0</td><td>0</td><td>0</td><td>0</td><td>0</td><td>0</td><td>1</td><td>0</td><td>0</td><td>0</td><td>0</td></tr><tr><td>Marina di Carrara</td><td>0</td><td>0</td><td>0</td><td>0</td><td>0</td><td>1</td><td>0</td><td>1</td><td>0</td><td>0</td><td>0</td><td>0</td><td>0</td><td>0</td></tr><tr><td>Waterford</td><td>0</td><td>0</td><td>0</td><td>1</td><td>0</td><td>1</td><td>0</td><td>0</td><td>1</td><td>0</td><td>0</td><td>1</td><td>0</td><td>0</td></tr><tr><td>Cadiz</td><td>0</td><td>1</td><td>0</td><td>0</td><td>0</td><td>0</td><td>0</td><td>0</td><td>0</td><td>0</td><td>0</td><td>0</td><td>1</td><td>0</td></tr><tr><td>North Alwyn Field</td><td>0</td><td>0</td><td>0</td><td>0</td><td>0</td><td>0</td><td>1</td><td>1</td><td>0</td><td>0</td><td>0</td><td>0</td><td>0</td><td>0</td></tr><tr><td>Gabes</td><td>0</td><td>0</td><td>0</td><td>0</td><td>0</td><td>0</td><td>1</td><td>0</td><td>0</td><td>1</td><td>0</td><td>0</td><td>0</td><td>0</td></tr><tr><td>Port Penrhyn</td><td>0</td><td>0</td><td>0</td><td>0</td><td>1</td><td>0</td><td>0</td><td>0</td><td>1</td><td>0</td><td>0</td><td>0</td><td>0</td><td>0</td></tr><tr><td>Dordrecht</td><td>0</td><td>0</td><td>0</td><td>0</td><td>1</td><td>0</td><td>0</td><td>0</td><td>0</td><td>0</td><td>0</td><td>0</td><td>0</td><td>1</td></tr><tr><td>Dunmore East</td><td>0</td><td>0</td><td>1</td><td>0</td><td>0</td><td>0</td><td>0</td><td>0</td><td>0</td><td>0</td><td>1</td><td>0</td><td>0</td><td>0</td></tr><tr><td>Portishead</td><td>0</td><td>0</td><td>2</td><td>1</td><td>0</td><td>0</td><td>0</td><td>1</td><td>1</td><td>0</td><td>0</td><td>1</td><td>0</td><td>0</td></tr><tr><td>Ardrossan</td><td>0</td><td>0</td><td>1</td><td>0</td><td>0</td><td>0</td><td>0</td><td>0</td><td>0</td><td>0</td><td>0</td><td>0</td><td>0</td><td>1</td></tr><tr><td>Stornoway</td><td>0</td><td>0</td><td>1</td><td>0</td><td>0</td><td>0</td><td>0</td><td>1</td><td>0</td><td>0</td><td>0</td><td>0</td><td>0</td><td>0</td></tr><tr><td>Dartmouth</td><td>0</td><td>0</td><td>0</td><td>1</td><td>0</td><td>0</td><td>0</td><td>0</td><td>0</td><td>0</td><td>1</td><td>0</td><td>0</td><td>0</td></tr><tr><td>Pembroke</td><td>0</td><td>0</td><td>0</td><td>1</td><td>0</td><td>0</td><td>0</td><td>0</td><td>0</td><td>0</td><td>0</td><td>1</td><td>0</td><td>0</td></tr><tr><td>Bergen</td><td>0</td><td>0</td><td>0</td><td>0</td><td>0</td><td>1</td><td>0</td><td>1</td><td>0</td><td>0</td><td>0</td><td>0</td><td>0</td><td>0</td></tr><tr><td>Great Yarmouth</td><td>0</td><td>0</td><td>1</td><td>0</td><td>0</td><td>0</td><td>0</td><td>0</td><td>1</td><td>0</td><td>0</td><td>0</td><td>0</td><td>0</td></tr></tbody></table></div>"
      ]
     },
     "metadata": {
      "application/vnd.databricks.v1+output": {
       "addedWidgets": {},
       "aggData": [],
       "aggError": "",
       "aggOverflow": false,
       "aggSchema": [],
       "aggSeriesLimitReached": false,
       "aggType": "",
       "arguments": {},
       "columnCustomDisplayInfos": {},
       "data": [
        [
         "Liverpool",
         458,
         478,
         519,
         492,
         484,
         481,
         513,
         463,
         488,
         506,
         502,
         473,
         482,
         511
        ],
        [
         "Birkenhead",
         313,
         330,
         402,
         383,
         342,
         340,
         341,
         298,
         341,
         389,
         384,
         337,
         348,
         354
        ],
        [
         "Dublin",
         142,
         268,
         263,
         281,
         265,
         267,
         119,
         129,
         269,
         270,
         271,
         282,
         249,
         135
        ],
        [
         "Belfast",
         137,
         166,
         164,
         170,
         170,
         113,
         111,
         82,
         174,
         170,
         168,
         168,
         158,
         111
        ],
        [
         "Eastham",
         54,
         51,
         49,
         67,
         51,
         44,
         41,
         62,
         59,
         43,
         71,
         48,
         39,
         35
        ],
        [
         "Douglas",
         44,
         30,
         25,
         45,
         46,
         44,
         34,
         44,
         29,
         26,
         45,
         46,
         44,
         34
        ],
        [
         "Bilbao",
         23,
         18,
         18,
         14,
         17,
         11,
         10,
         15,
         19,
         22,
         16,
         15,
         13,
         11
        ],
        [
         "Antwerpen",
         19,
         11,
         10,
         10,
         13,
         14,
         16,
         16,
         19,
         9,
         12,
         15,
         12,
         10
        ],
        [
         "Rotterdam",
         13,
         19,
         18,
         23,
         16,
         21,
         16,
         17,
         12,
         19,
         19,
         17,
         21,
         21
        ],
        [
         "Dunkerque",
         11,
         6,
         1,
         2,
         1,
         3,
         8,
         7,
         14,
         2,
         2,
         2,
         2,
         3
        ],
        [
         "Holyhead",
         11,
         12,
         12,
         11,
         14,
         10,
         13,
         15,
         15,
         12,
         7,
         15,
         8,
         11
        ],
        [
         "Bromborough",
         10,
         10,
         3,
         7,
         10,
         4,
         4,
         9,
         12,
         3,
         6,
         13,
         2,
         3
        ],
        [
         "Villagarcia de Arosa",
         10,
         8,
         1,
         0,
         1,
         0,
         6,
         0,
         3,
         9,
         9,
         3,
         1,
         1
        ],
        [
         "Santander",
         9,
         1,
         2,
         0,
         0,
         0,
         0,
         8,
         1,
         2,
         0,
         0,
         1,
         0
        ],
        [
         "Le Havre",
         9,
         7,
         4,
         3,
         15,
         9,
         18,
         18,
         9,
         6,
         5,
         5,
         14,
         8
        ],
        [
         "Aveiro",
         6,
         13,
         4,
         1,
         1,
         2,
         3,
         1,
         2,
         12,
         7,
         5,
         3,
         0
        ],
        [
         "Sines",
         6,
         3,
         3,
         9,
         12,
         4,
         2,
         6,
         4,
         3,
         5,
         6,
         8,
         7
        ],
        [
         "Runcorn",
         6,
         7,
         12,
         7,
         4,
         2,
         1,
         6,
         7,
         10,
         8,
         5,
         2,
         1
        ],
        [
         "Ellesmere Port",
         5,
         4,
         4,
         4,
         2,
         5,
         4,
         4,
         5,
         6,
         3,
         2,
         6,
         2
        ],
        [
         "Stanlow",
         5,
         5,
         7,
         5,
         6,
         3,
         4,
         1,
         6,
         7,
         7,
         4,
         7,
         3
        ],
        [
         "Baie Comeau",
         4,
         1,
         0,
         0,
         0,
         0,
         1,
         1,
         0,
         2,
         1,
         1,
         1,
         0
        ],
        [
         "Limerick",
         4,
         1,
         1,
         0,
         0,
         0,
         1,
         0,
         1,
         4,
         1,
         1,
         0,
         0
        ],
        [
         "Bethioua",
         4,
         1,
         3,
         2,
         1,
         2,
         1,
         1,
         1,
         5,
         0,
         3,
         3,
         1
        ],
        [
         "Ferrol",
         3,
         2,
         3,
         1,
         4,
         2,
         3,
         1,
         3,
         3,
         4,
         3,
         3,
         1
        ],
        [
         "Saint-Nazaire",
         3,
         1,
         2,
         4,
         3,
         0,
         3,
         0,
         3,
         5,
         1,
         1,
         5,
         1
        ],
        [
         "Garston",
         3,
         3,
         2,
         2,
         3,
         1,
         0,
         2,
         5,
         2,
         1,
         3,
         1,
         0
        ],
        [
         "Corpus Christi",
         3,
         3,
         2,
         1,
         0,
         1,
         4,
         3,
         4,
         1,
         3,
         3,
         0,
         0
        ],
        [
         "Las Palmas de Gran Canaria",
         3,
         3,
         0,
         0,
         2,
         3,
         2,
         2,
         2,
         3,
         1,
         4,
         0,
         1
        ],
        [
         "Barrow in Furness",
         3,
         2,
         0,
         0,
         1,
         0,
         0,
         1,
         0,
         2,
         2,
         0,
         1,
         0
        ],
        [
         "Gijon",
         2,
         1,
         1,
         2,
         2,
         2,
         3,
         2,
         4,
         3,
         0,
         2,
         1,
         1
        ],
        [
         "Ingleside",
         2,
         2,
         3,
         3,
         1,
         2,
         2,
         0,
         3,
         0,
         4,
         2,
         3,
         3
        ],
        [
         "Fairview Cove",
         2,
         1,
         3,
         3,
         2,
         2,
         3,
         3,
         0,
         4,
         2,
         3,
         1,
         3
        ],
        [
         "Glasgow",
         2,
         3,
         0,
         1,
         3,
         0,
         1,
         1,
         2,
         1,
         0,
         4,
         2,
         0
        ],
        [
         "Portbury",
         2,
         3,
         2,
         2,
         2,
         1,
         2,
         2,
         0,
         3,
         5,
         4,
         0,
         0
        ],
        [
         "Malaga",
         2,
         0,
         4,
         1,
         1,
         0,
         2,
         0,
         3,
         1,
         1,
         4,
         1,
         0
        ],
        [
         "Montreal",
         2,
         0,
         3,
         2,
         3,
         1,
         1,
         1,
         0,
         2,
         2,
         4,
         2,
         1
        ],
        [
         "Ceuta",
         2,
         0,
         4,
         1,
         3,
         1,
         3,
         1,
         3,
         3,
         1,
         4,
         1,
         1
        ],
        [
         "Kotka",
         2,
         1,
         2,
         1,
         1,
         1,
         1,
         0,
         0,
         2,
         2,
         4,
         1,
         0
        ],
        [
         "Odda",
         2,
         4,
         1,
         0,
         1,
         3,
         3,
         1,
         2,
         5,
         4,
         2,
         0,
         0
        ],
        [
         "Newport",
         2,
         0,
         0,
         0,
         0,
         1,
         1,
         1,
         1,
         0,
         1,
         0,
         0,
         1
        ],
        [
         "Larne",
         2,
         9,
         5,
         1,
         9,
         3,
         4,
         4,
         4,
         8,
         3,
         4,
         6,
         4
        ],
        [
         "Dundalk",
         2,
         0,
         4,
         1,
         1,
         3,
         1,
         1,
         1,
         1,
         4,
         1,
         3,
         1
        ],
        [
         "Aberdeen",
         2,
         1,
         0,
         1,
         0,
         0,
         3,
         1,
         1,
         1,
         1,
         0,
         3,
         0
        ],
        [
         "Heysham",
         2,
         0,
         0,
         0,
         2,
         1,
         0,
         0,
         2,
         2,
         0,
         1,
         0,
         0
        ],
        [
         "Great Bitter Lake",
         2,
         1,
         1,
         2,
         0,
         0,
         0,
         1,
         0,
         2,
         1,
         0,
         2,
         0
        ],
        [
         "New Ross",
         2,
         3,
         0,
         0,
         1,
         3,
         3,
         1,
         3,
         1,
         2,
         0,
         1,
         4
        ],
        [
         "Millom Field",
         2,
         1,
         1,
         0,
         1,
         2,
         0,
         1,
         0,
         2,
         1,
         1,
         1,
         1
        ],
        [
         "Rotterdam Anchorage",
         2,
         1,
         0,
         0,
         1,
         0,
         1,
         0,
         2,
         2,
         0,
         0,
         0,
         1
        ],
        [
         "Greenock",
         2,
         3,
         6,
         1,
         2,
         4,
         5,
         3,
         3,
         5,
         2,
         3,
         3,
         4
        ],
        [
         "Sharpness",
         2,
         0,
         1,
         0,
         0,
         0,
         0,
         0,
         1,
         1,
         1,
         0,
         0,
         0
        ],
        [
         "La Coruna (A Coruna)",
         2,
         0,
         2,
         4,
         2,
         1,
         0,
         2,
         0,
         2,
         5,
         1,
         0,
         1
        ],
        [
         "Lennox Field",
         2,
         1,
         1,
         1,
         0,
         4,
         1,
         2,
         2,
         0,
         1,
         2,
         2,
         1
        ],
        [
         "Leixoes",
         2,
         4,
         3,
         33,
         4,
         3,
         2,
         0,
         2,
         3,
         22,
         15,
         6,
         3
        ],
        [
         "Algeciras Anchorage",
         2,
         0,
         0,
         0,
         1,
         1,
         1,
         1,
         0,
         0,
         1,
         0,
         0,
         3
        ],
        [
         "Milford Docks",
         2,
         0,
         4,
         0,
         0,
         0,
         0,
         1,
         1,
         1,
         0,
         2,
         0,
         1
        ],
        [
         "Vlissingen",
         2,
         0,
         2,
         1,
         3,
         1,
         1,
         1,
         2,
         1,
         0,
         3,
         2,
         1
        ],
        [
         "Darrow",
         2,
         1,
         0,
         0,
         1,
         0,
         0,
         1,
         0,
         0,
         1,
         2,
         0,
         0
        ],
        [
         "Come By Chance",
         1,
         1,
         0,
         0,
         0,
         0,
         0,
         0,
         0,
         1,
         0,
         1,
         0,
         0
        ],
        [
         "Vila do CondePort/Barcarena",
         1,
         0,
         0,
         0,
         0,
         0,
         0,
         0,
         0,
         0,
         1,
         0,
         0,
         0
        ],
        [
         "Portland",
         1,
         0,
         0,
         0,
         0,
         0,
         0,
         1,
         0,
         0,
         0,
         0,
         0,
         0
        ],
        [
         "Londonderry",
         1,
         0,
         0,
         0,
         0,
         0,
         1,
         0,
         0,
         0,
         0,
         2,
         0,
         0
        ],
        [
         "Harstad",
         1,
         0,
         0,
         0,
         0,
         0,
         0,
         1,
         0,
         0,
         0,
         0,
         0,
         0
        ],
        [
         "Rosslare Harbour",
         1,
         1,
         2,
         4,
         3,
         2,
         3,
         1,
         3,
         1,
         1,
         3,
         3,
         4
        ],
        [
         "Eregli",
         1,
         0,
         0,
         0,
         0,
         1,
         0,
         0,
         0,
         0,
         0,
         1,
         1,
         0
        ],
        [
         "la Pallice",
         1,
         1,
         1,
         0,
         0,
         1,
         1,
         0,
         0,
         1,
         1,
         1,
         2,
         0
        ],
        [
         "Tarragona",
         1,
         0,
         0,
         0,
         0,
         0,
         0,
         1,
         0,
         0,
         0,
         0,
         0,
         0
        ],
        [
         "Port Talbot",
         1,
         0,
         0,
         0,
         1,
         1,
         0,
         1,
         0,
         0,
         1,
         0,
         0,
         1
        ],
        [
         "Mostyn",
         1,
         1,
         2,
         2,
         1,
         2,
         3,
         0,
         3,
         5,
         0,
         1,
         1,
         2
        ],
        [
         "Sainte-Victoire-de-Sorel",
         1,
         0,
         0,
         0,
         0,
         0,
         1,
         1,
         0,
         0,
         0,
         1,
         0,
         0
        ],
        [
         "Goteborg Anchorage",
         1,
         4,
         0,
         2,
         1,
         1,
         1,
         1,
         2,
         1,
         2,
         3,
         1,
         0
        ],
        [
         "Suape Anchorage",
         1,
         0,
         0,
         0,
         0,
         0,
         0,
         1,
         0,
         0,
         0,
         0,
         0,
         0
        ],
        [
         "Skagen Anchorage",
         1,
         0,
         1,
         2,
         0,
         0,
         0,
         0,
         0,
         0,
         1,
         0,
         2,
         1
        ],
        [
         "Sullom Voe",
         1,
         0,
         2,
         0,
         1,
         1,
         0,
         1,
         0,
         1,
         1,
         1,
         0,
         1
        ],
        [
         "Douglas Field",
         1,
         0,
         6,
         1,
         2,
         0,
         3,
         1,
         1,
         2,
         6,
         1,
         0,
         2
        ],
        [
         "Fishguard",
         1,
         0,
         3,
         0,
         0,
         0,
         1,
         1,
         0,
         2,
         0,
         0,
         1,
         1
        ],
        [
         "Port Arthur",
         1,
         0,
         0,
         0,
         0,
         0,
         0,
         0,
         0,
         0,
         0,
         0,
         1,
         0
        ],
        [
         "Cobh",
         1,
         0,
         5,
         1,
         2,
         0,
         0,
         1,
         0,
         5,
         1,
         2,
         0,
         0
        ],
        [
         "Grande Anse QC",
         1,
         0,
         0,
         1,
         0,
         0,
         0,
         0,
         0,
         0,
         0,
         1,
         0,
         1
        ],
        [
         "Kyle of Lochalsh",
         1,
         1,
         1,
         1,
         1,
         3,
         0,
         0,
         2,
         1,
         2,
         0,
         2,
         1
        ],
        [
         "Southampton",
         1,
         1,
         2,
         3,
         1,
         2,
         3,
         1,
         3,
         1,
         1,
         2,
         2,
         3
        ],
        [
         "Zona Comun Anchorage",
         1,
         0,
         2,
         0,
         0,
         0,
         0,
         0,
         0,
         0,
         0,
         2,
         0,
         1
        ],
        [
         "Vigo",
         1,
         0,
         1,
         0,
         1,
         1,
         0,
         0,
         1,
         0,
         1,
         1,
         0,
         1
        ],
        [
         "Gibraltar West Anchorage",
         1,
         2,
         0,
         2,
         0,
         0,
         0,
         1,
         2,
         0,
         0,
         2,
         0,
         0
        ],
        [
         "Lowestoft",
         1,
         1,
         0,
         0,
         0,
         1,
         0,
         1,
         1,
         0,
         0,
         0,
         0,
         1
        ],
        [
         "Dover",
         1,
         0,
         0,
         0,
         1,
         0,
         1,
         2,
         0,
         1,
         0,
         0,
         0,
         0
        ],
        [
         "Terneuzen",
         1,
         0,
         0,
         0,
         0,
         0,
         0,
         0,
         1,
         0,
         0,
         0,
         0,
         0
        ],
        [
         "Houston",
         1,
         0,
         2,
         0,
         0,
         1,
         0,
         1,
         0,
         1,
         0,
         2,
         0,
         0
        ],
        [
         "Bermeo",
         1,
         0,
         0,
         1,
         0,
         1,
         0,
         0,
         0,
         2,
         0,
         0,
         0,
         1
        ],
        [
         "Torbay Anchorage",
         1,
         0,
         0,
         0,
         0,
         0,
         0,
         0,
         1,
         0,
         0,
         0,
         0,
         0
        ],
        [
         "Les Sables-d'Olonne",
         1,
         0,
         0,
         1,
         0,
         0,
         0,
         1,
         0,
         0,
         0,
         0,
         1,
         0
        ],
        [
         "Mongstad",
         1,
         0,
         2,
         1,
         1,
         2,
         0,
         2,
         1,
         0,
         0,
         2,
         1,
         1
        ],
        [
         "Gent (Ghent)",
         1,
         0,
         0,
         0,
         0,
         0,
         0,
         0,
         0,
         0,
         0,
         1,
         0,
         0
        ],
        [
         "Avonmouth",
         1,
         0,
         0,
         1,
         0,
         1,
         0,
         1,
         1,
         0,
         0,
         0,
         0,
         1
        ],
        [
         "Stura",
         1,
         0,
         2,
         2,
         0,
         2,
         1,
         1,
         2,
         0,
         1,
         1,
         2,
         1
        ],
        [
         "Tanger Med",
         1,
         0,
         0,
         0,
         0,
         0,
         0,
         0,
         0,
         0,
         0,
         1,
         0,
         0
        ],
        [
         "El Dekheila",
         1,
         0,
         0,
         0,
         0,
         0,
         0,
         0,
         1,
         0,
         0,
         0,
         0,
         0
        ],
        [
         "Ramsey",
         1,
         0,
         1,
         0,
         0,
         0,
         0,
         0,
         0,
         2,
         0,
         0,
         0,
         0
        ],
        [
         "Derince",
         1,
         1,
         0,
         0,
         1,
         0,
         1,
         0,
         0,
         1,
         1,
         1,
         1,
         0
        ],
        [
         "Hamburg",
         1,
         0,
         1,
         0,
         0,
         0,
         0,
         0,
         0,
         1,
         1,
         0,
         0,
         0
        ],
        [
         "Uig",
         1,
         0,
         0,
         0,
         0,
         0,
         0,
         0,
         0,
         1,
         0,
         0,
         0,
         0
        ],
        [
         "Saltburn",
         1,
         0,
         0,
         0,
         0,
         0,
         0,
         0,
         1,
         0,
         0,
         0,
         0,
         0
        ],
        [
         "Hartlepool",
         1,
         0,
         0,
         0,
         0,
         0,
         0,
         0,
         0,
         0,
         0,
         1,
         0,
         0
        ],
        [
         "Rushbrooke",
         1,
         0,
         0,
         0,
         0,
         0,
         0,
         1,
         0,
         0,
         0,
         0,
         0,
         0
        ],
        [
         "Solent Anchorage",
         1,
         0,
         0,
         0,
         0,
         0,
         0,
         1,
         0,
         0,
         0,
         0,
         0,
         0
        ],
        [
         "Skikda",
         1,
         0,
         0,
         0,
         0,
         0,
         0,
         0,
         0,
         0,
         0,
         0,
         1,
         0
        ],
        [
         "Sauda",
         1,
         1,
         0,
         0,
         0,
         0,
         0,
         0,
         0,
         0,
         1,
         0,
         1,
         0
        ],
        [
         "Reserve",
         1,
         0,
         0,
         0,
         0,
         0,
         0,
         0,
         0,
         0,
         0,
         1,
         0,
         0
        ],
        [
         "Parnu",
         1,
         0,
         0,
         0,
         0,
         0,
         0,
         0,
         0,
         0,
         1,
         0,
         0,
         0
        ],
        [
         "Finnart",
         1,
         0,
         0,
         0,
         0,
         0,
         0,
         0,
         0,
         0,
         0,
         1,
         0,
         0
        ],
        [
         "Goteborg",
         1,
         0,
         0,
         0,
         0,
         0,
         0,
         0,
         1,
         0,
         0,
         0,
         0,
         0
        ],
        [
         "Port-Cartier",
         1,
         0,
         0,
         0,
         0,
         0,
         0,
         0,
         0,
         0,
         1,
         0,
         0,
         0
        ],
        [
         "Sariseki",
         1,
         0,
         0,
         0,
         0,
         0,
         0,
         0,
         1,
         0,
         0,
         0,
         0,
         0
        ],
        [
         null,
         1,
         1,
         0,
         1,
         0,
         0,
         3,
         0,
         0,
         2,
         0,
         1,
         0,
         3
        ],
        [
         "Istanbul Anchorage",
         1,
         0,
         0,
         0,
         0,
         0,
         0,
         0,
         0,
         0,
         0,
         0,
         0,
         1
        ],
        [
         "Troon",
         1,
         0,
         0,
         2,
         0,
         0,
         0,
         2,
         0,
         0,
         0,
         0,
         0,
         1
        ],
        [
         "Saint Helier",
         1,
         0,
         0,
         0,
         0,
         0,
         0,
         0,
         0,
         1,
         0,
         0,
         0,
         0
        ],
        [
         "Reykjavik",
         1,
         0,
         0,
         0,
         1,
         0,
         1,
         1,
         0,
         0,
         0,
         1,
         0,
         1
        ],
        [
         "Dun Laoghaire",
         1,
         0,
         1,
         0,
         0,
         1,
         0,
         0,
         0,
         0,
         0,
         0,
         0,
         3
        ],
        [
         "Fethiye",
         1,
         0,
         0,
         0,
         0,
         0,
         0,
         0,
         1,
         0,
         0,
         0,
         0,
         0
        ],
        [
         "Gullfaks",
         1,
         0,
         0,
         0,
         0,
         1,
         0,
         1,
         0,
         1,
         0,
         0,
         0,
         0
        ],
        [
         "Hellevoetsluis",
         1,
         0,
         0,
         0,
         0,
         0,
         0,
         0,
         0,
         1,
         0,
         0,
         0,
         0
        ],
        [
         "Isle of Grain",
         1,
         0,
         0,
         0,
         0,
         0,
         0,
         0,
         0,
         1,
         0,
         0,
         0,
         0
        ],
        [
         "Cowes",
         1,
         0,
         0,
         0,
         0,
         0,
         0,
         0,
         1,
         0,
         0,
         0,
         0,
         0
        ],
        [
         "Marin",
         0,
         0,
         0,
         1,
         1,
         0,
         0,
         0,
         0,
         1,
         0,
         0,
         1,
         0
        ],
        [
         "Brunswick",
         0,
         1,
         0,
         2,
         1,
         0,
         0,
         1,
         1,
         0,
         0,
         1,
         0,
         1
        ],
        [
         "Savannah",
         0,
         0,
         1,
         1,
         4,
         1,
         1,
         0,
         3,
         1,
         3,
         0,
         1,
         0
        ],
        [
         "Hound Point",
         0,
         0,
         2,
         0,
         1,
         0,
         0,
         0,
         0,
         0,
         1,
         0,
         1,
         1
        ],
        [
         "Glensanda",
         0,
         3,
         2,
         0,
         3,
         1,
         2,
         2,
         1,
         3,
         2,
         0,
         1,
         2
        ],
        [
         "Zeebrugge",
         0,
         1,
         0,
         0,
         0,
         0,
         0,
         0,
         0,
         0,
         1,
         0,
         0,
         0
        ],
        [
         "Algeciras",
         0,
         0,
         1,
         0,
         0,
         0,
         1,
         0,
         0,
         1,
         1,
         0,
         0,
         0
        ],
        [
         "St. Bride's Bay",
         0,
         1,
         0,
         0,
         0,
         1,
         1,
         1,
         0,
         0,
         1,
         0,
         0,
         1
        ],
        [
         "Setubal",
         0,
         2,
         3,
         5,
         3,
         3,
         3,
         3,
         5,
         2,
         2,
         1,
         3,
         3
        ],
        [
         "Ostrica",
         0,
         0,
         0,
         0,
         0,
         0,
         1,
         0,
         0,
         1,
         0,
         0,
         0,
         0
        ],
        [
         "Itaqui",
         0,
         0,
         0,
         0,
         0,
         1,
         0,
         0,
         0,
         0,
         0,
         1,
         0,
         0
        ],
        [
         "Vila do Conde Anchorage",
         0,
         0,
         1,
         0,
         0,
         0,
         0,
         0,
         0,
         0,
         0,
         0,
         1,
         0
        ],
        [
         "Palm Beach",
         0,
         0,
         0,
         0,
         1,
         0,
         0,
         0,
         1,
         0,
         0,
         0,
         0,
         0
        ],
        [
         "IJmuiden/Velsen Anchorage",
         0,
         0,
         0,
         0,
         0,
         0,
         1,
         0,
         1,
         0,
         0,
         0,
         0,
         0
        ],
        [
         "Brunsbuttel",
         0,
         1,
         0,
         3,
         1,
         1,
         2,
         2,
         1,
         0,
         1,
         2,
         1,
         1
        ],
        [
         "Hamilton Field",
         0,
         0,
         1,
         0,
         2,
         1,
         2,
         2,
         1,
         1,
         1,
         0,
         1,
         0
        ],
        [
         "Chesapeake",
         0,
         3,
         0,
         0,
         1,
         0,
         1,
         1,
         0,
         0,
         2,
         0,
         1,
         1
        ],
        [
         "Ashdod",
         0,
         2,
         2,
         0,
         1,
         0,
         0,
         0,
         0,
         2,
         2,
         0,
         1,
         0
        ],
        [
         "Limas",
         0,
         1,
         0,
         0,
         0,
         0,
         0,
         0,
         0,
         0,
         0,
         0,
         0,
         1
        ],
        [
         "Destrehan",
         0,
         0,
         0,
         0,
         1,
         0,
         1,
         0,
         0,
         0,
         1,
         0,
         1,
         0
        ],
        [
         "Falmouth Anchorage",
         0,
         0,
         1,
         0,
         0,
         0,
         1,
         1,
         0,
         0,
         1,
         0,
         0,
         0
        ],
        [
         "Immingham",
         0,
         0,
         0,
         0,
         1,
         0,
         0,
         0,
         0,
         0,
         0,
         0,
         0,
         1
        ],
        [
         "Castellon de la Plana",
         0,
         0,
         0,
         1,
         3,
         1,
         0,
         0,
         0,
         0,
         0,
         2,
         3,
         0
        ],
        [
         "Lerwick",
         0,
         0,
         0,
         1,
         1,
         0,
         1,
         0,
         0,
         0,
         0,
         2,
         0,
         1
        ],
        [
         "Escombreras",
         0,
         0,
         0,
         1,
         0,
         0,
         0,
         0,
         0,
         0,
         0,
         1,
         0,
         0
        ],
        [
         "Marsaxlokk Anchorage",
         0,
         0,
         0,
         1,
         0,
         0,
         0,
         0,
         0,
         0,
         0,
         1,
         0,
         0
        ],
        [
         "Ferrol Anchorage",
         0,
         1,
         1,
         1,
         1,
         0,
         0,
         0,
         0,
         1,
         1,
         1,
         1,
         0
        ],
        [
         "Teesport",
         0,
         2,
         0,
         0,
         0,
         2,
         1,
         1,
         0,
         1,
         2,
         0,
         0,
         1
        ],
        [
         "Rostock",
         0,
         0,
         0,
         2,
         0,
         0,
         0,
         0,
         0,
         0,
         0,
         0,
         2,
         0
        ],
        [
         "Drammen",
         0,
         0,
         0,
         0,
         1,
         0,
         0,
         0,
         1,
         0,
         0,
         0,
         0,
         0
        ],
        [
         "Macapa Anchorage",
         0,
         1,
         0,
         0,
         0,
         0,
         0,
         0,
         0,
         1,
         0,
         0,
         0,
         0
        ],
        [
         "Devonport",
         0,
         0,
         1,
         0,
         0,
         0,
         0,
         0,
         0,
         1,
         0,
         0,
         0,
         0
        ],
        [
         "Bremen",
         0,
         1,
         0,
         0,
         0,
         0,
         0,
         0,
         0,
         0,
         0,
         0,
         1,
         0
        ],
        [
         "Aughinish Island",
         0,
         0,
         0,
         0,
         0,
         1,
         1,
         0,
         0,
         0,
         0,
         1,
         1,
         0
        ],
        [
         "Sarroch (Porto Foxi)",
         0,
         0,
         1,
         0,
         0,
         0,
         0,
         0,
         0,
         0,
         1,
         0,
         0,
         0
        ],
        [
         "Fleetwood",
         0,
         0,
         0,
         0,
         0,
         0,
         1,
         1,
         0,
         0,
         0,
         0,
         0,
         0
        ],
        [
         "Westhinder Anchorage",
         0,
         0,
         0,
         0,
         2,
         1,
         1,
         0,
         0,
         1,
         0,
         0,
         2,
         1
        ],
        [
         "New Orleans Anchorage",
         0,
         1,
         1,
         0,
         0,
         0,
         0,
         0,
         1,
         0,
         0,
         0,
         0,
         1
        ],
        [
         "Knarrevik",
         0,
         0,
         0,
         0,
         2,
         0,
         1,
         2,
         0,
         0,
         1,
         0,
         0,
         0
        ],
        [
         "Escravos",
         0,
         0,
         0,
         0,
         1,
         1,
         0,
         1,
         1,
         0,
         0,
         0,
         0,
         0
        ],
        [
         "Abidjan",
         0,
         0,
         1,
         0,
         0,
         0,
         0,
         1,
         0,
         0,
         0,
         0,
         0,
         0
        ],
        [
         "Wilmington",
         0,
         0,
         0,
         0,
         0,
         1,
         1,
         0,
         1,
         1,
         0,
         0,
         0,
         0
        ],
        [
         "Port Allen",
         0,
         4,
         0,
         1,
         2,
         0,
         1,
         0,
         1,
         0,
         2,
         2,
         2,
         1
        ],
        [
         "Klaipeda",
         0,
         1,
         0,
         0,
         0,
         1,
         0,
         1,
         0,
         0,
         0,
         0,
         0,
         1
        ],
        [
         "Amsterdam",
         0,
         1,
         2,
         1,
         2,
         1,
         5,
         2,
         3,
         1,
         1,
         2,
         0,
         3
        ],
        [
         "Barking Riverside",
         0,
         1,
         0,
         0,
         1,
         0,
         1,
         1,
         0,
         1,
         0,
         0,
         1,
         0
        ],
        [
         "Diliskelesi",
         0,
         0,
         0,
         0,
         1,
         1,
         0,
         0,
         1,
         0,
         1,
         0,
         0,
         0
        ],
        [
         "Wicklow",
         0,
         2,
         3,
         2,
         4,
         2,
         2,
         3,
         0,
         1,
         4,
         4,
         3,
         0
        ],
        [
         "Gibraltar",
         0,
         0,
         0,
         1,
         0,
         1,
         0,
         1,
         0,
         1,
         0,
         0,
         0,
         0
        ],
        [
         "Sluiskil",
         0,
         1,
         0,
         0,
         0,
         0,
         0,
         0,
         0,
         1,
         0,
         0,
         0,
         0
        ],
        [
         "Oban",
         0,
         0,
         0,
         1,
         0,
         0,
         0,
         0,
         1,
         0,
         0,
         0,
         0,
         0
        ],
        [
         "Wilhelmshaven Anchorage",
         0,
         0,
         0,
         0,
         0,
         0,
         1,
         0,
         0,
         1,
         0,
         0,
         0,
         0
        ],
        [
         "Quebec",
         0,
         0,
         0,
         0,
         0,
         0,
         1,
         0,
         0,
         0,
         0,
         0,
         1,
         0
        ],
        [
         "New York Anchorage",
         0,
         0,
         1,
         0,
         0,
         0,
         0,
         0,
         0,
         1,
         0,
         0,
         0,
         0
        ],
        [
         "Salerno",
         0,
         1,
         0,
         0,
         0,
         0,
         0,
         0,
         0,
         0,
         0,
         0,
         0,
         1
        ],
        [
         "Wilmington, NC",
         0,
         0,
         0,
         1,
         0,
         0,
         0,
         0,
         1,
         0,
         0,
         0,
         0,
         0
        ],
        [
         "Kiel",
         0,
         0,
         0,
         0,
         0,
         0,
         1,
         0,
         0,
         1,
         0,
         0,
         0,
         0
        ],
        [
         "Constanta",
         0,
         0,
         0,
         1,
         0,
         0,
         1,
         0,
         0,
         1,
         0,
         0,
         1,
         0
        ],
        [
         "Balder",
         0,
         0,
         1,
         0,
         0,
         0,
         0,
         0,
         0,
         0,
         1,
         0,
         0,
         0
        ],
        [
         "Kaliningrad",
         0,
         1,
         0,
         1,
         1,
         0,
         0,
         1,
         1,
         0,
         1,
         0,
         0,
         0
        ],
        [
         "Warrenpoint",
         0,
         4,
         1,
         3,
         1,
         5,
         1,
         1,
         2,
         3,
         3,
         2,
         2,
         2
        ],
        [
         "Ust'-Luga",
         0,
         0,
         1,
         0,
         0,
         0,
         0,
         0,
         0,
         0,
         0,
         0,
         0,
         1
        ],
        [
         "Mobile",
         0,
         0,
         0,
         1,
         0,
         0,
         0,
         0,
         0,
         0,
         0,
         0,
         1,
         0
        ],
        [
         "Liepaja",
         0,
         0,
         0,
         0,
         0,
         0,
         1,
         1,
         0,
         0,
         0,
         0,
         0,
         0
        ],
        [
         "Gdynia",
         0,
         0,
         1,
         0,
         0,
         0,
         0,
         0,
         0,
         0,
         0,
         1,
         0,
         0
        ],
        [
         "Shoreham-by-Sea",
         0,
         0,
         0,
         1,
         0,
         0,
         0,
         0,
         0,
         0,
         0,
         1,
         0,
         0
        ],
        [
         "Brest",
         0,
         1,
         0,
         0,
         0,
         0,
         0,
         0,
         0,
         0,
         0,
         1,
         0,
         0
        ],
        [
         "Aviles",
         0,
         1,
         0,
         0,
         0,
         1,
         0,
         0,
         0,
         1,
         0,
         0,
         0,
         1
        ],
        [
         "Drogheda",
         0,
         0,
         1,
         2,
         0,
         0,
         0,
         0,
         0,
         0,
         0,
         2,
         1,
         0
        ],
        [
         "Cromarty Firth",
         0,
         0,
         0,
         1,
         1,
         0,
         0,
         0,
         0,
         0,
         0,
         1,
         1,
         0
        ],
        [
         "Rio Grande",
         0,
         0,
         1,
         0,
         0,
         0,
         0,
         0,
         0,
         1,
         0,
         0,
         0,
         0
        ],
        [
         "Lorient",
         0,
         0,
         0,
         1,
         0,
         0,
         0,
         0,
         0,
         0,
         0,
         1,
         0,
         0
        ],
        [
         "Santa Apolonia",
         0,
         1,
         0,
         1,
         3,
         0,
         0,
         0,
         1,
         1,
         0,
         2,
         0,
         1
        ],
        [
         "Bremerhaven",
         0,
         0,
         1,
         0,
         1,
         1,
         0,
         0,
         0,
         1,
         0,
         0,
         1,
         1
        ],
        [
         "Ringaskiddy",
         0,
         0,
         0,
         0,
         2,
         0,
         2,
         1,
         1,
         0,
         0,
         0,
         0,
         2
        ],
        [
         "Yali Island",
         0,
         0,
         0,
         0,
         0,
         0,
         1,
         0,
         0,
         0,
         0,
         1,
         0,
         0
        ],
        [
         "Milford Haven",
         0,
         0,
         1,
         1,
         1,
         0,
         0,
         0,
         0,
         0,
         0,
         1,
         2,
         0
        ],
        [
         "Aasgard",
         0,
         0,
         2,
         0,
         0,
         0,
         0,
         0,
         0,
         0,
         2,
         0,
         0,
         0
        ],
        [
         "Gdansk",
         0,
         0,
         1,
         0,
         0,
         0,
         0,
         0,
         0,
         0,
         0,
         0,
         1,
         0
        ],
        [
         "Casablanca",
         0,
         0,
         0,
         0,
         0,
         1,
         0,
         0,
         1,
         0,
         0,
         0,
         0,
         0
        ],
        [
         "Catcher Development",
         0,
         0,
         0,
         0,
         0,
         1,
         0,
         1,
         0,
         0,
         0,
         0,
         0,
         0
        ],
        [
         "Hanstholm",
         0,
         1,
         1,
         0,
         0,
         0,
         0,
         0,
         0,
         1,
         1,
         0,
         0,
         0
        ],
        [
         "Whitegate",
         0,
         0,
         0,
         0,
         0,
         0,
         1,
         0,
         0,
         1,
         0,
         0,
         0,
         0
        ],
        [
         "Saint Margaret's Hope",
         0,
         0,
         0,
         0,
         0,
         0,
         1,
         0,
         0,
         0,
         0,
         0,
         1,
         0
        ],
        [
         "Dagenham",
         0,
         0,
         0,
         0,
         0,
         0,
         1,
         1,
         0,
         0,
         0,
         0,
         0,
         0
        ],
        [
         "Lisbon",
         0,
         0,
         1,
         0,
         0,
         0,
         0,
         0,
         0,
         0,
         1,
         0,
         0,
         0
        ],
        [
         "Tetney Terminal",
         0,
         1,
         0,
         0,
         0,
         0,
         0,
         0,
         0,
         0,
         1,
         0,
         0,
         0
        ],
        [
         "St. Lambert Lock",
         0,
         0,
         0,
         0,
         0,
         0,
         1,
         0,
         0,
         0,
         0,
         0,
         0,
         1
        ],
        [
         "Harwich",
         0,
         1,
         0,
         0,
         0,
         0,
         0,
         0,
         0,
         0,
         1,
         0,
         0,
         0
        ],
        [
         "Cardiff",
         0,
         0,
         1,
         0,
         0,
         1,
         0,
         1,
         0,
         0,
         1,
         0,
         0,
         0
        ],
        [
         "Oran Dry Port",
         0,
         0,
         0,
         1,
         0,
         0,
         0,
         1,
         0,
         0,
         0,
         0,
         0,
         0
        ],
        [
         "Santarem",
         0,
         1,
         0,
         0,
         0,
         0,
         0,
         0,
         0,
         0,
         1,
         0,
         0,
         0
        ],
        [
         "El Iskandariya (Alexandria)",
         0,
         1,
         0,
         0,
         0,
         0,
         1,
         0,
         0,
         0,
         0,
         2,
         0,
         0
        ],
        [
         "Workington",
         0,
         1,
         0,
         0,
         0,
         0,
         1,
         1,
         0,
         1,
         0,
         0,
         0,
         0
        ],
        [
         "Fawley",
         0,
         1,
         0,
         0,
         1,
         1,
         0,
         0,
         0,
         0,
         1,
         0,
         0,
         2
        ],
        [
         "Laayoune",
         0,
         0,
         1,
         0,
         0,
         0,
         0,
         0,
         0,
         0,
         0,
         1,
         0,
         0
        ],
        [
         "Belledune",
         0,
         0,
         0,
         0,
         1,
         0,
         0,
         0,
         0,
         0,
         1,
         0,
         0,
         0
        ],
        [
         "Cork",
         0,
         1,
         1,
         0,
         0,
         1,
         0,
         0,
         0,
         1,
         1,
         0,
         1,
         0
        ],
        [
         "IJmuiden/Velsen",
         0,
         0,
         0,
         0,
         1,
         0,
         0,
         0,
         0,
         0,
         0,
         0,
         1,
         0
        ],
        [
         "The Sound",
         0,
         1,
         0,
         0,
         0,
         0,
         0,
         0,
         0,
         0,
         0,
         1,
         0,
         0
        ],
        [
         "Karabiga",
         0,
         1,
         0,
         0,
         0,
         0,
         0,
         0,
         0,
         1,
         0,
         0,
         0,
         0
        ],
        [
         "Kyleakin",
         0,
         0,
         0,
         0,
         0,
         1,
         1,
         1,
         0,
         0,
         0,
         0,
         1,
         0
        ],
        [
         "Dumyat (Damietta) Anchorage",
         0,
         0,
         0,
         0,
         0,
         1,
         0,
         0,
         0,
         0,
         0,
         1,
         0,
         0
        ],
        [
         "Fos-sur-Mer",
         0,
         0,
         0,
         0,
         0,
         0,
         1,
         0,
         1,
         0,
         0,
         0,
         0,
         0
        ],
        [
         "Freeport, Grand Bahama",
         0,
         0,
         0,
         0,
         0,
         3,
         0,
         0,
         0,
         0,
         3,
         0,
         0,
         0
        ],
        [
         "Bruichladdich",
         0,
         3,
         0,
         1,
         1,
         1,
         0,
         1,
         1,
         0,
         3,
         0,
         1,
         0
        ],
        [
         "Sagunto",
         0,
         0,
         0,
         0,
         0,
         1,
         0,
         0,
         0,
         0,
         1,
         0,
         0,
         0
        ],
        [
         "Rouen",
         0,
         0,
         0,
         0,
         1,
         0,
         0,
         1,
         0,
         0,
         0,
         0,
         0,
         0
        ],
        [
         "Bethioua Anchorage",
         0,
         0,
         1,
         0,
         0,
         0,
         0,
         0,
         0,
         0,
         1,
         0,
         0,
         0
        ],
        [
         "Falmouth",
         0,
         0,
         0,
         0,
         0,
         1,
         1,
         1,
         0,
         0,
         0,
         0,
         0,
         1
        ],
        [
         "Valencia",
         0,
         0,
         0,
         1,
         0,
         0,
         0,
         0,
         0,
         0,
         0,
         0,
         0,
         1
        ],
        [
         "Beauharnois Lock",
         0,
         1,
         0,
         0,
         0,
         0,
         0,
         0,
         0,
         0,
         0,
         1,
         0,
         0
        ],
        [
         "Portsmouth",
         0,
         1,
         0,
         2,
         0,
         0,
         1,
         2,
         1,
         0,
         1,
         0,
         0,
         0
        ],
        [
         "Dumyat (Damietta)",
         0,
         0,
         1,
         0,
         0,
         0,
         2,
         1,
         0,
         1,
         0,
         0,
         1,
         0
        ],
        [
         "Tonnay-Charente",
         0,
         1,
         0,
         0,
         0,
         0,
         1,
         0,
         1,
         0,
         0,
         0,
         1,
         0
        ],
        [
         "South Morecambe Field",
         0,
         0,
         1,
         0,
         1,
         0,
         0,
         0,
         0,
         0,
         1,
         0,
         0,
         1
        ],
        [
         "Pascagoula",
         0,
         0,
         1,
         0,
         0,
         0,
         0,
         0,
         0,
         0,
         1,
         0,
         0,
         0
        ],
        [
         "Halifax",
         0,
         0,
         0,
         1,
         0,
         0,
         0,
         0,
         0,
         1,
         0,
         0,
         0,
         0
        ],
        [
         "Nafplion",
         0,
         0,
         0,
         0,
         0,
         0,
         1,
         0,
         1,
         0,
         0,
         0,
         0,
         0
        ],
        [
         "Hereke",
         0,
         0,
         0,
         0,
         0,
         1,
         0,
         0,
         0,
         0,
         0,
         1,
         0,
         0
        ],
        [
         "Clydebank",
         0,
         0,
         0,
         0,
         0,
         0,
         1,
         1,
         0,
         0,
         0,
         0,
         0,
         0
        ],
        [
         "Aarhus",
         0,
         0,
         0,
         0,
         0,
         1,
         0,
         0,
         0,
         1,
         0,
         0,
         0,
         0
        ],
        [
         "Huelva",
         0,
         0,
         0,
         1,
         0,
         0,
         0,
         0,
         0,
         0,
         0,
         1,
         0,
         0
        ],
        [
         "Corpus Christi Anchorage",
         0,
         0,
         0,
         0,
         1,
         0,
         0,
         0,
         0,
         0,
         0,
         0,
         1,
         0
        ],
        [
         "Kinsale",
         0,
         0,
         0,
         0,
         1,
         0,
         0,
         0,
         0,
         0,
         0,
         0,
         0,
         1
        ],
        [
         "Whitehaven",
         0,
         0,
         0,
         1,
         0,
         0,
         0,
         0,
         0,
         1,
         0,
         0,
         0,
         0
        ],
        [
         "Ross-Parry Field",
         0,
         0,
         0,
         1,
         0,
         0,
         0,
         0,
         0,
         0,
         0,
         1,
         0,
         0
        ],
        [
         "Holy Loch",
         0,
         0,
         0,
         0,
         0,
         0,
         1,
         0,
         0,
         0,
         0,
         0,
         0,
         1
        ],
        [
         "Ballylumford",
         0,
         0,
         0,
         0,
         1,
         0,
         0,
         0,
         1,
         0,
         0,
         0,
         0,
         0
        ],
        [
         "London Thames Anchorage",
         0,
         0,
         0,
         0,
         1,
         0,
         0,
         0,
         0,
         0,
         0,
         0,
         1,
         0
        ],
        [
         "Port Ellen",
         0,
         0,
         0,
         0,
         0,
         1,
         0,
         0,
         0,
         0,
         0,
         0,
         0,
         1
        ],
        [
         "Scrabster",
         0,
         0,
         1,
         0,
         0,
         0,
         0,
         0,
         0,
         1,
         0,
         0,
         0,
         0
        ],
        [
         "Haugesund",
         0,
         1,
         1,
         1,
         0,
         0,
         0,
         0,
         1,
         1,
         1,
         0,
         0,
         0
        ],
        [
         "Greenore",
         0,
         0,
         0,
         0,
         0,
         1,
         0,
         0,
         0,
         1,
         0,
         0,
         0,
         0
        ],
        [
         "Villa Constitucion",
         0,
         0,
         0,
         0,
         1,
         0,
         0,
         0,
         0,
         0,
         1,
         0,
         0,
         0
        ],
        [
         "Freeport OPL",
         0,
         0,
         0,
         0,
         0,
         1,
         0,
         0,
         1,
         0,
         0,
         0,
         0,
         0
        ],
        [
         "Grangemouth",
         0,
         0,
         1,
         0,
         0,
         0,
         0,
         0,
         0,
         0,
         1,
         0,
         0,
         0
        ],
        [
         "Gulf of Finland",
         0,
         0,
         1,
         0,
         0,
         0,
         0,
         0,
         0,
         0,
         1,
         0,
         0,
         0
        ],
        [
         "Galway",
         0,
         0,
         0,
         0,
         0,
         0,
         1,
         0,
         1,
         0,
         0,
         0,
         0,
         0
        ],
        [
         "Penzance",
         0,
         0,
         0,
         0,
         1,
         0,
         0,
         0,
         1,
         0,
         0,
         0,
         0,
         0
        ],
        [
         "Torquay",
         0,
         0,
         0,
         1,
         0,
         0,
         0,
         0,
         0,
         0,
         0,
         0,
         0,
         1
        ],
        [
         "English Harbour",
         0,
         1,
         0,
         0,
         0,
         0,
         0,
         0,
         0,
         0,
         0,
         0,
         0,
         1
        ],
        [
         "Malta OPL",
         0,
         0,
         0,
         0,
         0,
         0,
         1,
         1,
         0,
         0,
         0,
         0,
         0,
         0
        ],
        [
         "Dakar",
         0,
         0,
         0,
         1,
         0,
         0,
         0,
         0,
         0,
         0,
         1,
         0,
         0,
         0
        ],
        [
         "Genova",
         0,
         0,
         0,
         0,
         0,
         0,
         1,
         0,
         0,
         1,
         0,
         0,
         0,
         0
        ],
        [
         "Mostaganem",
         0,
         0,
         0,
         2,
         0,
         0,
         0,
         0,
         0,
         0,
         0,
         0,
         1,
         1
        ],
        [
         "Bangor",
         0,
         0,
         0,
         1,
         0,
         0,
         0,
         0,
         0,
         0,
         1,
         0,
         0,
         0
        ],
        [
         "AcuPort/Sao Joao da Barra",
         0,
         0,
         0,
         0,
         1,
         0,
         0,
         0,
         0,
         0,
         0,
         0,
         0,
         1
        ],
        [
         "Kobenhavn",
         0,
         0,
         0,
         0,
         0,
         1,
         0,
         0,
         0,
         0,
         0,
         0,
         1,
         0
        ],
        [
         "Fredrikstad",
         0,
         0,
         1,
         0,
         0,
         0,
         0,
         0,
         0,
         1,
         0,
         0,
         0,
         0
        ],
        [
         "Syros (Syra) Anchorage",
         0,
         0,
         0,
         0,
         1,
         0,
         0,
         0,
         0,
         1,
         0,
         0,
         0,
         0
        ],
        [
         "Brodick, Isle of Arran",
         0,
         1,
         0,
         0,
         0,
         0,
         0,
         0,
         0,
         1,
         0,
         0,
         0,
         0
        ],
        [
         "Marina di Carrara",
         0,
         0,
         0,
         0,
         0,
         1,
         0,
         1,
         0,
         0,
         0,
         0,
         0,
         0
        ],
        [
         "Waterford",
         0,
         0,
         0,
         1,
         0,
         1,
         0,
         0,
         1,
         0,
         0,
         1,
         0,
         0
        ],
        [
         "Cadiz",
         0,
         1,
         0,
         0,
         0,
         0,
         0,
         0,
         0,
         0,
         0,
         0,
         1,
         0
        ],
        [
         "North Alwyn Field",
         0,
         0,
         0,
         0,
         0,
         0,
         1,
         1,
         0,
         0,
         0,
         0,
         0,
         0
        ],
        [
         "Gabes",
         0,
         0,
         0,
         0,
         0,
         0,
         1,
         0,
         0,
         1,
         0,
         0,
         0,
         0
        ],
        [
         "Port Penrhyn",
         0,
         0,
         0,
         0,
         1,
         0,
         0,
         0,
         1,
         0,
         0,
         0,
         0,
         0
        ],
        [
         "Dordrecht",
         0,
         0,
         0,
         0,
         1,
         0,
         0,
         0,
         0,
         0,
         0,
         0,
         0,
         1
        ],
        [
         "Dunmore East",
         0,
         0,
         1,
         0,
         0,
         0,
         0,
         0,
         0,
         0,
         1,
         0,
         0,
         0
        ],
        [
         "Portishead",
         0,
         0,
         2,
         1,
         0,
         0,
         0,
         1,
         1,
         0,
         0,
         1,
         0,
         0
        ],
        [
         "Ardrossan",
         0,
         0,
         1,
         0,
         0,
         0,
         0,
         0,
         0,
         0,
         0,
         0,
         0,
         1
        ],
        [
         "Stornoway",
         0,
         0,
         1,
         0,
         0,
         0,
         0,
         1,
         0,
         0,
         0,
         0,
         0,
         0
        ],
        [
         "Dartmouth",
         0,
         0,
         0,
         1,
         0,
         0,
         0,
         0,
         0,
         0,
         1,
         0,
         0,
         0
        ],
        [
         "Pembroke",
         0,
         0,
         0,
         1,
         0,
         0,
         0,
         0,
         0,
         0,
         0,
         1,
         0,
         0
        ],
        [
         "Bergen",
         0,
         0,
         0,
         0,
         0,
         1,
         0,
         1,
         0,
         0,
         0,
         0,
         0,
         0
        ],
        [
         "Great Yarmouth",
         0,
         0,
         1,
         0,
         0,
         0,
         0,
         0,
         1,
         0,
         0,
         0,
         0,
         0
        ]
       ],
       "datasetInfos": [],
       "dbfsResultPath": null,
       "isJsonSchema": true,
       "metadata": {},
       "overflow": false,
       "plotOptions": {
        "customPlotOptions": {},
        "displayType": "table",
        "pivotAggregation": null,
        "pivotColumns": null,
        "xColumns": null,
        "yColumns": null
       },
       "removedWidgets": [],
       "schema": [
        {
         "metadata": "{}",
         "name": "Prior_Place",
         "type": "\"string\""
        },
        {
         "metadata": "{}",
         "name": "Monday_Arrival_Count",
         "type": "\"long\""
        },
        {
         "metadata": "{}",
         "name": "Tuesday_Arrival_Count",
         "type": "\"long\""
        },
        {
         "metadata": "{}",
         "name": "Wednesday_Arrival_Count",
         "type": "\"long\""
        },
        {
         "metadata": "{}",
         "name": "Thursday_Arrival_Count",
         "type": "\"long\""
        },
        {
         "metadata": "{}",
         "name": "Friday_Arrival_Count",
         "type": "\"long\""
        },
        {
         "metadata": "{}",
         "name": "Saturday_Arrival_Count",
         "type": "\"long\""
        },
        {
         "metadata": "{}",
         "name": "Sunday_Arrival_Count",
         "type": "\"long\""
        },
        {
         "metadata": "{}",
         "name": "Monday_Departure_Count",
         "type": "\"long\""
        },
        {
         "metadata": "{}",
         "name": "Tuesday_Departure_Count",
         "type": "\"long\""
        },
        {
         "metadata": "{}",
         "name": "Wednesday_Departure_Count",
         "type": "\"long\""
        },
        {
         "metadata": "{}",
         "name": "Thursday_Departure_Count",
         "type": "\"long\""
        },
        {
         "metadata": "{}",
         "name": "Friday_Departure_Count",
         "type": "\"long\""
        },
        {
         "metadata": "{}",
         "name": "Saturday_Departure_Count",
         "type": "\"long\""
        },
        {
         "metadata": "{}",
         "name": "Sunday_Departure_Count",
         "type": "\"long\""
        }
       ],
       "type": "table"
      }
     },
     "output_type": "display_data"
    }
   ],
   "source": [
    "%sql\n",
    "SELECT \n",
    "  Prior_Place,\n",
    "  SUM(CASE WHEN DAYOFWEEK(`Arrived_at`) = 2 THEN 1 ELSE 0 END) AS Monday_Arrival_Count,\n",
    "  SUM(CASE WHEN DAYOFWEEK(`Arrived_at`) = 3 THEN 1 ELSE 0 END) AS Tuesday_Arrival_Count,\n",
    "  SUM(CASE WHEN DAYOFWEEK(`Arrived_at`) = 4 THEN 1 ELSE 0 END) AS Wednesday_Arrival_Count,\n",
    "  SUM(CASE WHEN DAYOFWEEK(`Arrived_at`) = 5 THEN 1 ELSE 0 END) AS Thursday_Arrival_Count,\n",
    "  SUM(CASE WHEN DAYOFWEEK(`Arrived_at`) = 6 THEN 1 ELSE 0 END) AS Friday_Arrival_Count,\n",
    "  SUM(CASE WHEN DAYOFWEEK(`Arrived_at`) = 7 THEN 1 ELSE 0 END) AS Saturday_Arrival_Count,\n",
    "  SUM(CASE WHEN DAYOFWEEK(`Arrived_at`) = 1 THEN 1 ELSE 0 END) AS Sunday_Arrival_Count,\n",
    "  SUM(CASE WHEN DAYOFWEEK(`Sailed_at`) = 2 THEN 1 ELSE 0 END) AS Monday_Departure_Count,\n",
    "  SUM(CASE WHEN DAYOFWEEK(`Sailed_at`) = 3 THEN 1 ELSE 0 END) AS Tuesday_Departure_Count,\n",
    "  SUM(CASE WHEN DAYOFWEEK(`Sailed_at`) = 4 THEN 1 ELSE 0 END) AS Wednesday_Departure_Count,\n",
    "  SUM(CASE WHEN DAYOFWEEK(`Sailed_at`) = 5 THEN 1 ELSE 0 END) AS Thursday_Departure_Count,\n",
    "  SUM(CASE WHEN DAYOFWEEK(`Sailed_at`) = 6 THEN 1 ELSE 0 END) AS Friday_Departure_Count,\n",
    "  SUM(CASE WHEN DAYOFWEEK(`Sailed_at`) = 7 THEN 1 ELSE 0 END) AS Saturday_Departure_Count,\n",
    "  SUM(CASE WHEN DAYOFWEEK(`Sailed_at`) = 1 THEN 1 ELSE 0 END) AS Sunday_Departure_Count\n",
    "FROM ShipSparkTable\n",
    "GROUP BY Prior_Place\n",
    "ORDER BY Monday_Arrival_Count DESC\n"
   ]
  },
  {
   "cell_type": "markdown",
   "metadata": {
    "application/vnd.databricks.v1+cell": {
     "cellMetadata": {
      "byteLimit": 2048000,
      "rowLimit": 10000
     },
     "inputWidgets": {},
     "nuid": "9fecd3a6-ab2c-443a-afaa-fa68e1824283",
     "showTitle": false,
     "title": ""
    }
   },
   "source": [
    "\n",
    "### 05. How can we cluster the Flag (Column C) to the last port prior to arrival (Column H), column D,  column F, G and I.J?\n"
   ]
  },
  {
   "cell_type": "markdown",
   "metadata": {
    "application/vnd.databricks.v1+cell": {
     "cellMetadata": {
      "byteLimit": 2048000,
      "rowLimit": 10000
     },
     "inputWidgets": {},
     "nuid": "d3d3a5dc-5834-40c4-9c90-7030f3e9afe5",
     "showTitle": false,
     "title": ""
    }
   },
   "source": [
    "##### 1. Considering Flags represent country , we can determine how much ships  are comming to Liverpool Street  and depending upon weight of ship we can determine size"
   ]
  },
  {
   "cell_type": "code",
   "execution_count": 0,
   "metadata": {
    "application/vnd.databricks.v1+cell": {
     "cellMetadata": {
      "byteLimit": 2048000,
      "implicitDf": true,
      "rowLimit": 10000
     },
     "inputWidgets": {},
     "nuid": "537c9fd3-c8b9-405c-9c43-0e92c804b185",
     "showTitle": false,
     "title": ""
    }
   },
   "outputs": [
    {
     "output_type": "display_data",
     "data": {
      "text/html": [
       "<style scoped>\n",
       "  .table-result-container {\n",
       "    max-height: 300px;\n",
       "    overflow: auto;\n",
       "  }\n",
       "  table, th, td {\n",
       "    border: 1px solid black;\n",
       "    border-collapse: collapse;\n",
       "  }\n",
       "  th, td {\n",
       "    padding: 5px;\n",
       "  }\n",
       "  th {\n",
       "    text-align: left;\n",
       "  }\n",
       "</style><div class='table-result-container'><table class='table-result'><thead style='background-color: white'><tr><th>Flag</th><th>min_Gross_Tonnes</th><th>max_Gross_Tonnes</th><th>min_DWT</th><th>max_DWT</th><th>Count_of_Ships</th></tr></thead><tbody><tr><td>Isle of Man</td><td>277.0</td><td>43672.0</td><td>260.0</td><td>82561.0</td><td>1185</td></tr><tr><td>Cyprus</td><td>2446.0</td><td>42000.0</td><td>697.0</td><td>77997.0</td><td>1008</td></tr><tr><td>Netherlands</td><td>38.98830409356725</td><td>99902.0</td><td>8.123076923076923</td><td>23317.0</td><td>683</td></tr><tr><td>Denmark (Int. Register)</td><td>118.0</td><td>25189.0</td><td>18.0</td><td>39522.0</td><td>595</td></tr><tr><td>Bermuda</td><td>17464.0</td><td>149215.0</td><td>6722.0</td><td>54155.0</td><td>288</td></tr><tr><td>Malta</td><td>306.0</td><td>130818.0</td><td>223.0</td><td>164565.0</td><td>271</td></tr><tr><td>Madeira</td><td>2461.0</td><td>60148.0</td><td>3691.0</td><td>112038.0</td><td>181</td></tr><tr><td>Antigua & Barbuda</td><td>1262.0</td><td>11864.0</td><td>1008.0</td><td>17110.0</td><td>142</td></tr><tr><td>Panama</td><td>1793.0</td><td>86071.0</td><td>1437.0</td><td>85802.0</td><td>140</td></tr><tr><td>Liberia</td><td>851.0</td><td>85431.0</td><td>1280.0</td><td>164608.0</td><td>137</td></tr><tr><td>Marshall Islands</td><td>7341.0</td><td>85421.0</td><td>6200.0</td><td>163216.0</td><td>136</td></tr><tr><td>Jordan</td><td>14759.0</td><td>14759.0</td><td>5066.0</td><td>5066.0</td><td>116</td></tr><tr><td>Bahamas</td><td>1599.0</td><td>92250.0</td><td>536.0</td><td>157048.0</td><td>106</td></tr><tr><td>Norway (Int. Register)</td><td>38.98830409356725</td><td>93147.0</td><td>8.123076923076923</td><td>157644.0</td><td>67</td></tr><tr><td>Barbados</td><td>1512.0</td><td>31251.0</td><td>2386.0</td><td>55651.0</td><td>42</td></tr><tr><td>Latvia</td><td>852.0</td><td>2820.0</td><td>1102.0</td><td>4106.0</td><td>40</td></tr><tr><td>Gibraltar</td><td>38.98830409356725</td><td>11935.0</td><td>8.123076923076923</td><td>18000.0</td><td>37</td></tr><tr><td>Singapore</td><td>4644.0</td><td>62826.0</td><td>3000.0</td><td>114139.0</td><td>36</td></tr><tr><td>Portugal</td><td>2597.0</td><td>55877.0</td><td>3850.0</td><td>68043.0</td><td>23</td></tr><tr><td>Republic of Ireland</td><td>349.53034134007584</td><td>2999.0</td><td>171.23102753525856</td><td>5094.0</td><td>21</td></tr><tr><td>Germany</td><td>485.0</td><td>39174.0</td><td>187.0</td><td>40879.0</td><td>17</td></tr><tr><td>Hong Kong, S.A.R., China</td><td>19796.0</td><td>36403.0</td><td>23500.0</td><td>63526.0</td><td>11</td></tr><tr><td>Belgium</td><td>2066.0</td><td>29218.0</td><td>2802.0</td><td>50630.0</td><td>10</td></tr><tr><td>Greece</td><td>29442.0</td><td>154381.0</td><td>52941.0</td><td>299284.0</td><td>9</td></tr><tr><td>Finland</td><td>38.98830409356725</td><td>62000.0</td><td>8.123076923076923</td><td>111413.0</td><td>9</td></tr><tr><td>Cayman Islands</td><td>476.0</td><td>34626.0</td><td>227.0</td><td>61302.0</td><td>5</td></tr><tr><td>Estonia</td><td>852.0</td><td>852.0</td><td>1260.0</td><td>1260.0</td><td>5</td></tr><tr><td>Spain</td><td>627.0</td><td>3995.0</td><td>372.0</td><td>5750.0</td><td>4</td></tr><tr><td>Italy</td><td>21966.0</td><td>113307.0</td><td>8765.0</td><td>50922.0</td><td>4</td></tr><tr><td>St. Vincent & Grenadines</td><td>1143.0</td><td>2846.0</td><td>1454.0</td><td>4746.0</td><td>4</td></tr><tr><td>Turkey</td><td>2222.0</td><td>7246.0</td><td>3542.0</td><td>12089.0</td><td>3</td></tr><tr><td>France</td><td>38.98830409356725</td><td>7280.0</td><td>8.123076923076923</td><td>8.123076923076923</td><td>3</td></tr><tr><td>Thailand</td><td>19891.0</td><td>33044.0</td><td>30195.0</td><td>57000.0</td><td>3</td></tr><tr><td>Belize</td><td>1896.0</td><td>23235.0</td><td>3297.0</td><td>37278.0</td><td>3</td></tr><tr><td>Togo</td><td>3345.0</td><td>3345.0</td><td>2500.0</td><td>2500.0</td><td>3</td></tr><tr><td>Denmark</td><td>218.0</td><td>218.0</td><td>2702.0</td><td>2702.0</td><td>3</td></tr><tr><td>Croatia</td><td>25494.0</td><td>30638.0</td><td>38700.0</td><td>52725.0</td><td>2</td></tr><tr><td>Lithuania</td><td>1719.0</td><td>1909.0</td><td>2250.0</td><td>2350.0</td><td>2</td></tr><tr><td>Venezuela</td><td>252.0</td><td>252.0</td><td>182.0</td><td>182.0</td><td>2</td></tr><tr><td>Wallis & Futuna</td><td>9988.0</td><td>10944.0</td><td>1377.0</td><td>1441.0</td><td>2</td></tr><tr><td>Luxembourg</td><td>2451.0</td><td>2451.0</td><td>3584.0</td><td>3600.0</td><td>2</td></tr><tr><td>Sweden</td><td>11548.0</td><td>11548.0</td><td>17653.0</td><td>17653.0</td><td>2</td></tr><tr><td>Philippines</td><td>24842.0</td><td>24868.0</td><td>39000.0</td><td>39388.0</td><td>2</td></tr><tr><td>Gabon</td><td>62241.0</td><td>62241.0</td><td>116104.0</td><td>116104.0</td><td>1</td></tr><tr><td>Seychelles</td><td>22346.0</td><td>22346.0</td><td>37500.0</td><td>37500.0</td><td>1</td></tr><tr><td>Egypt</td><td>33234.0</td><td>33234.0</td><td>57320.0</td><td>57320.0</td><td>1</td></tr><tr><td>Switzerland</td><td>34314.0</td><td>34314.0</td><td>60696.0</td><td>60696.0</td><td>1</td></tr><tr><td>Cook Islands</td><td>28553.0</td><td>28553.0</td><td>47045.0</td><td>47045.0</td><td>1</td></tr><tr><td>Brazil</td><td>26374.0</td><td>26374.0</td><td>34022.0</td><td>34022.0</td><td>1</td></tr><tr><td>South Korea</td><td>35832.0</td><td>35832.0</td><td>63590.0</td><td>63590.0</td><td>1</td></tr><tr><td>Libya</td><td>84735.0</td><td>84735.0</td><td>164787.0</td><td>164787.0</td><td>1</td></tr><tr><td>U.S.A.</td><td>38.98830409356725</td><td>38.98830409356725</td><td>8.123076923076923</td><td>8.123076923076923</td><td>1</td></tr><tr><td>Poland</td><td>38.98830409356725</td><td>38.98830409356725</td><td>8.123076923076923</td><td>8.123076923076923</td><td>1</td></tr></tbody></table></div>"
      ]
     },
     "metadata": {
      "application/vnd.databricks.v1+output": {
       "addedWidgets": {},
       "aggData": [],
       "aggError": "",
       "aggOverflow": false,
       "aggSchema": [],
       "aggSeriesLimitReached": false,
       "aggType": "",
       "arguments": {},
       "columnCustomDisplayInfos": {},
       "data": [
        [
         "Isle of Man",
         277.0,
         43672.0,
         260.0,
         82561.0,
         1185
        ],
        [
         "Cyprus",
         2446.0,
         42000.0,
         697.0,
         77997.0,
         1008
        ],
        [
         "Netherlands",
         38.98830409356725,
         99902.0,
         8.123076923076923,
         23317.0,
         683
        ],
        [
         "Denmark (Int. Register)",
         118.0,
         25189.0,
         18.0,
         39522.0,
         595
        ],
        [
         "Bermuda",
         17464.0,
         149215.0,
         6722.0,
         54155.0,
         288
        ],
        [
         "Malta",
         306.0,
         130818.0,
         223.0,
         164565.0,
         271
        ],
        [
         "Madeira",
         2461.0,
         60148.0,
         3691.0,
         112038.0,
         181
        ],
        [
         "Antigua & Barbuda",
         1262.0,
         11864.0,
         1008.0,
         17110.0,
         142
        ],
        [
         "Panama",
         1793.0,
         86071.0,
         1437.0,
         85802.0,
         140
        ],
        [
         "Liberia",
         851.0,
         85431.0,
         1280.0,
         164608.0,
         137
        ],
        [
         "Marshall Islands",
         7341.0,
         85421.0,
         6200.0,
         163216.0,
         136
        ],
        [
         "Jordan",
         14759.0,
         14759.0,
         5066.0,
         5066.0,
         116
        ],
        [
         "Bahamas",
         1599.0,
         92250.0,
         536.0,
         157048.0,
         106
        ],
        [
         "Norway (Int. Register)",
         38.98830409356725,
         93147.0,
         8.123076923076923,
         157644.0,
         67
        ],
        [
         "Barbados",
         1512.0,
         31251.0,
         2386.0,
         55651.0,
         42
        ],
        [
         "Latvia",
         852.0,
         2820.0,
         1102.0,
         4106.0,
         40
        ],
        [
         "Gibraltar",
         38.98830409356725,
         11935.0,
         8.123076923076923,
         18000.0,
         37
        ],
        [
         "Singapore",
         4644.0,
         62826.0,
         3000.0,
         114139.0,
         36
        ],
        [
         "Portugal",
         2597.0,
         55877.0,
         3850.0,
         68043.0,
         23
        ],
        [
         "Republic of Ireland",
         349.53034134007584,
         2999.0,
         171.23102753525856,
         5094.0,
         21
        ],
        [
         "Germany",
         485.0,
         39174.0,
         187.0,
         40879.0,
         17
        ],
        [
         "Hong Kong, S.A.R., China",
         19796.0,
         36403.0,
         23500.0,
         63526.0,
         11
        ],
        [
         "Belgium",
         2066.0,
         29218.0,
         2802.0,
         50630.0,
         10
        ],
        [
         "Greece",
         29442.0,
         154381.0,
         52941.0,
         299284.0,
         9
        ],
        [
         "Finland",
         38.98830409356725,
         62000.0,
         8.123076923076923,
         111413.0,
         9
        ],
        [
         "Cayman Islands",
         476.0,
         34626.0,
         227.0,
         61302.0,
         5
        ],
        [
         "Estonia",
         852.0,
         852.0,
         1260.0,
         1260.0,
         5
        ],
        [
         "Spain",
         627.0,
         3995.0,
         372.0,
         5750.0,
         4
        ],
        [
         "Italy",
         21966.0,
         113307.0,
         8765.0,
         50922.0,
         4
        ],
        [
         "St. Vincent & Grenadines",
         1143.0,
         2846.0,
         1454.0,
         4746.0,
         4
        ],
        [
         "Turkey",
         2222.0,
         7246.0,
         3542.0,
         12089.0,
         3
        ],
        [
         "France",
         38.98830409356725,
         7280.0,
         8.123076923076923,
         8.123076923076923,
         3
        ],
        [
         "Thailand",
         19891.0,
         33044.0,
         30195.0,
         57000.0,
         3
        ],
        [
         "Belize",
         1896.0,
         23235.0,
         3297.0,
         37278.0,
         3
        ],
        [
         "Togo",
         3345.0,
         3345.0,
         2500.0,
         2500.0,
         3
        ],
        [
         "Denmark",
         218.0,
         218.0,
         2702.0,
         2702.0,
         3
        ],
        [
         "Croatia",
         25494.0,
         30638.0,
         38700.0,
         52725.0,
         2
        ],
        [
         "Lithuania",
         1719.0,
         1909.0,
         2250.0,
         2350.0,
         2
        ],
        [
         "Venezuela",
         252.0,
         252.0,
         182.0,
         182.0,
         2
        ],
        [
         "Wallis & Futuna",
         9988.0,
         10944.0,
         1377.0,
         1441.0,
         2
        ],
        [
         "Luxembourg",
         2451.0,
         2451.0,
         3584.0,
         3600.0,
         2
        ],
        [
         "Sweden",
         11548.0,
         11548.0,
         17653.0,
         17653.0,
         2
        ],
        [
         "Philippines",
         24842.0,
         24868.0,
         39000.0,
         39388.0,
         2
        ],
        [
         "Gabon",
         62241.0,
         62241.0,
         116104.0,
         116104.0,
         1
        ],
        [
         "Seychelles",
         22346.0,
         22346.0,
         37500.0,
         37500.0,
         1
        ],
        [
         "Egypt",
         33234.0,
         33234.0,
         57320.0,
         57320.0,
         1
        ],
        [
         "Switzerland",
         34314.0,
         34314.0,
         60696.0,
         60696.0,
         1
        ],
        [
         "Cook Islands",
         28553.0,
         28553.0,
         47045.0,
         47045.0,
         1
        ],
        [
         "Brazil",
         26374.0,
         26374.0,
         34022.0,
         34022.0,
         1
        ],
        [
         "South Korea",
         35832.0,
         35832.0,
         63590.0,
         63590.0,
         1
        ],
        [
         "Libya",
         84735.0,
         84735.0,
         164787.0,
         164787.0,
         1
        ],
        [
         "U.S.A.",
         38.98830409356725,
         38.98830409356725,
         8.123076923076923,
         8.123076923076923,
         1
        ],
        [
         "Poland",
         38.98830409356725,
         38.98830409356725,
         8.123076923076923,
         8.123076923076923,
         1
        ]
       ],
       "datasetInfos": [],
       "dbfsResultPath": null,
       "isJsonSchema": true,
       "metadata": {},
       "overflow": false,
       "plotOptions": {
        "customPlotOptions": {},
        "displayType": "table",
        "pivotAggregation": null,
        "pivotColumns": null,
        "xColumns": null,
        "yColumns": null
       },
       "removedWidgets": [],
       "schema": [
        {
         "metadata": "{}",
         "name": "Flag",
         "type": "\"string\""
        },
        {
         "metadata": "{}",
         "name": "min_Gross_Tonnes",
         "type": "\"double\""
        },
        {
         "metadata": "{}",
         "name": "max_Gross_Tonnes",
         "type": "\"double\""
        },
        {
         "metadata": "{}",
         "name": "min_DWT",
         "type": "\"double\""
        },
        {
         "metadata": "{}",
         "name": "max_DWT",
         "type": "\"double\""
        },
        {
         "metadata": "{}",
         "name": "Count_of_Ships",
         "type": "\"long\""
        }
       ],
       "type": "table"
      }
     },
     "output_type": "display_data"
    }
   ],
   "source": [
    "%sql\n",
    "select Flag,min(Gross_Tonnes) as min_Gross_Tonnes,max(Gross_Tonnes) as max_Gross_Tonnes,min(DWT) as min_DWT,max(DWT) as max_DWT,count(Prior_Place) as Count_of_Ships from ShipSparkTable\n",
    "where Flag!='U.K.'\n",
    "group by all\n",
    "order by 6 desc"
   ]
  },
  {
   "cell_type": "markdown",
   "metadata": {
    "application/vnd.databricks.v1+cell": {
     "cellMetadata": {
      "byteLimit": 2048000,
      "rowLimit": 10000
     },
     "inputWidgets": {},
     "nuid": "9ab5f0b3-95ad-4b30-bc2d-5d7acd3e0869",
     "showTitle": false,
     "title": ""
    }
   },
   "source": [
    "#### 2. Considering Flags represent country , we can determine how much ships  are comming to Liverpool Street  and at which time of the day "
   ]
  },
  {
   "cell_type": "code",
   "execution_count": 0,
   "metadata": {
    "application/vnd.databricks.v1+cell": {
     "cellMetadata": {
      "byteLimit": 2048000,
      "implicitDf": true,
      "rowLimit": 10000
     },
     "inputWidgets": {},
     "nuid": "20a1ea3c-5a0b-4fcd-9536-517a53a2e5dc",
     "showTitle": false,
     "title": ""
    }
   },
   "outputs": [
    {
     "output_type": "display_data",
     "data": {
      "text/html": [
       "<style scoped>\n",
       "  .table-result-container {\n",
       "    max-height: 300px;\n",
       "    overflow: auto;\n",
       "  }\n",
       "  table, th, td {\n",
       "    border: 1px solid black;\n",
       "    border-collapse: collapse;\n",
       "  }\n",
       "  th, td {\n",
       "    padding: 5px;\n",
       "  }\n",
       "  th {\n",
       "    text-align: left;\n",
       "  }\n",
       "</style><div class='table-result-container'><table class='table-result'><thead style='background-color: white'><tr><th>Flag</th><th>Morning_Arrival_Count</th><th>Afternoon_Arrival_Count</th><th>Evening_Arrival_Count</th><th>Night_Arrival_Count</th><th>Morning_Departure_Count</th><th>Afternoon_Departure_Count</th><th>Evening_Departure_Count</th><th>Night_Departure_Count</th></tr></thead><tbody><tr><td>U.K.</td><td>1377</td><td>1906</td><td>2265</td><td>1015</td><td>2353</td><td>1143</td><td>2052</td><td>971</td></tr><tr><td>Isle of Man</td><td>262</td><td>450</td><td>473</td><td>309</td><td>340</td><td>120</td><td>725</td><td>192</td></tr><tr><td>Cyprus</td><td>197</td><td>254</td><td>557</td><td>280</td><td>388</td><td>50</td><td>570</td><td>137</td></tr><tr><td>Netherlands</td><td>147</td><td>172</td><td>364</td><td>268</td><td>249</td><td>129</td><td>305</td><td>70</td></tr><tr><td>Malta</td><td>89</td><td>72</td><td>110</td><td>51</td><td>93</td><td>59</td><td>119</td><td>42</td></tr><tr><td>Madeira</td><td>57</td><td>49</td><td>75</td><td>32</td><td>58</td><td>50</td><td>73</td><td>29</td></tr><tr><td>Antigua & Barbuda</td><td>50</td><td>31</td><td>61</td><td>29</td><td>26</td><td>34</td><td>82</td><td>30</td></tr><tr><td>Denmark (Int. Register)</td><td>46</td><td>103</td><td>446</td><td>122</td><td>144</td><td>31</td><td>420</td><td>403</td></tr><tr><td>Panama</td><td>43</td><td>38</td><td>59</td><td>25</td><td>49</td><td>39</td><td>52</td><td>22</td></tr><tr><td>Marshall Islands</td><td>41</td><td>35</td><td>60</td><td>27</td><td>36</td><td>30</td><td>70</td><td>29</td></tr><tr><td>Bahamas</td><td>37</td><td>14</td><td>55</td><td>43</td><td>18</td><td>43</td><td>45</td><td>9</td></tr><tr><td>Liberia</td><td>34</td><td>31</td><td>72</td><td>38</td><td>27</td><td>32</td><td>78</td><td>31</td></tr><tr><td>Barbados</td><td>18</td><td>9</td><td>15</td><td>5</td><td>4</td><td>11</td><td>27</td><td>8</td></tr><tr><td>Latvia</td><td>14</td><td>15</td><td>11</td><td>2</td><td>2</td><td>18</td><td>20</td><td>5</td></tr><tr><td>Norway (Int. Register)</td><td>13</td><td>20</td><td>34</td><td>22</td><td>12</td><td>23</td><td>32</td><td>10</td></tr><tr><td>Bermuda</td><td>13</td><td>152</td><td>123</td><td>120</td><td>76</td><td>8</td><td>204</td><td>1</td></tr><tr><td>Singapore</td><td>12</td><td>9</td><td>15</td><td>9</td><td>7</td><td>8</td><td>21</td><td>8</td></tr><tr><td>Gibraltar</td><td>12</td><td>13</td><td>12</td><td>7</td><td>12</td><td>7</td><td>18</td><td>9</td></tr><tr><td>Republic of Ireland</td><td>7</td><td>5</td><td>9</td><td>3</td><td>5</td><td>8</td><td>8</td><td>3</td></tr><tr><td>Portugal</td><td>6</td><td>8</td><td>9</td><td>4</td><td>3</td><td>10</td><td>10</td><td>4</td></tr><tr><td>Germany</td><td>5</td><td>6</td><td>6</td><td>5</td><td>2</td><td>4</td><td>11</td><td>5</td></tr><tr><td>Belgium</td><td>4</td><td>0</td><td>6</td><td>2</td><td>1</td><td>3</td><td>6</td><td>2</td></tr><tr><td>Finland</td><td>3</td><td>2</td><td>5</td><td>2</td><td>2</td><td>4</td><td>4</td><td>0</td></tr><tr><td>Cayman Islands</td><td>3</td><td>1</td><td>1</td><td>1</td><td>1</td><td>0</td><td>4</td><td>2</td></tr><tr><td>France</td><td>2</td><td>1</td><td>0</td><td>0</td><td>2</td><td>1</td><td>0</td><td>0</td></tr><tr><td>Belize</td><td>2</td><td>0</td><td>1</td><td>0</td><td>0</td><td>0</td><td>3</td><td>2</td></tr><tr><td>Wallis & Futuna</td><td>2</td><td>0</td><td>0</td><td>0</td><td>0</td><td>1</td><td>1</td><td>0</td></tr><tr><td>Hong Kong, S.A.R., China</td><td>1</td><td>3</td><td>7</td><td>4</td><td>4</td><td>0</td><td>7</td><td>3</td></tr><tr><td>Turkey</td><td>1</td><td>1</td><td>1</td><td>1</td><td>0</td><td>1</td><td>2</td><td>0</td></tr><tr><td>Jordan</td><td>1</td><td>10</td><td>105</td><td>19</td><td>10</td><td>6</td><td>100</td><td>79</td></tr><tr><td>Greece</td><td>1</td><td>7</td><td>1</td><td>1</td><td>4</td><td>4</td><td>1</td><td>1</td></tr><tr><td>Spain</td><td>1</td><td>2</td><td>1</td><td>0</td><td>1</td><td>3</td><td>0</td><td>0</td></tr><tr><td>Estonia</td><td>1</td><td>2</td><td>2</td><td>1</td><td>0</td><td>2</td><td>3</td><td>0</td></tr><tr><td>Togo</td><td>1</td><td>0</td><td>2</td><td>1</td><td>1</td><td>1</td><td>1</td><td>0</td></tr><tr><td>Italy</td><td>1</td><td>0</td><td>3</td><td>3</td><td>1</td><td>3</td><td>0</td><td>0</td></tr><tr><td>Sweden</td><td>1</td><td>0</td><td>1</td><td>1</td><td>0</td><td>0</td><td>2</td><td>1</td></tr><tr><td>Philippines</td><td>1</td><td>1</td><td>0</td><td>0</td><td>1</td><td>1</td><td>0</td><td>0</td></tr><tr><td>U.S.A.</td><td>1</td><td>0</td><td>0</td><td>0</td><td>1</td><td>0</td><td>0</td><td>0</td></tr><tr><td>South Korea</td><td>1</td><td>0</td><td>0</td><td>0</td><td>0</td><td>1</td><td>0</td><td>0</td></tr><tr><td>Croatia</td><td>0</td><td>1</td><td>1</td><td>1</td><td>0</td><td>0</td><td>2</td><td>1</td></tr><tr><td>Gabon</td><td>0</td><td>0</td><td>1</td><td>0</td><td>0</td><td>0</td><td>1</td><td>0</td></tr><tr><td>Thailand</td><td>0</td><td>1</td><td>2</td><td>0</td><td>0</td><td>0</td><td>3</td><td>1</td></tr><tr><td>Seychelles</td><td>0</td><td>0</td><td>1</td><td>1</td><td>1</td><td>0</td><td>0</td><td>0</td></tr><tr><td>Brazil</td><td>0</td><td>0</td><td>1</td><td>0</td><td>0</td><td>0</td><td>1</td><td>0</td></tr><tr><td>St. Vincent & Grenadines</td><td>0</td><td>0</td><td>4</td><td>1</td><td>0</td><td>2</td><td>2</td><td>0</td></tr><tr><td>Egypt</td><td>0</td><td>0</td><td>1</td><td>0</td><td>0</td><td>0</td><td>1</td><td>1</td></tr><tr><td>Lithuania</td><td>0</td><td>1</td><td>1</td><td>1</td><td>0</td><td>0</td><td>2</td><td>2</td></tr><tr><td>Venezuela</td><td>0</td><td>0</td><td>2</td><td>0</td><td>0</td><td>0</td><td>2</td><td>0</td></tr><tr><td>Switzerland</td><td>0</td><td>1</td><td>0</td><td>0</td><td>0</td><td>0</td><td>1</td><td>0</td></tr><tr><td>Cook Islands</td><td>0</td><td>0</td><td>1</td><td>1</td><td>0</td><td>0</td><td>1</td><td>0</td></tr><tr><td>Luxembourg</td><td>0</td><td>0</td><td>2</td><td>1</td><td>0</td><td>0</td><td>2</td><td>1</td></tr><tr><td>Libya</td><td>0</td><td>0</td><td>1</td><td>0</td><td>1</td><td>0</td><td>0</td><td>0</td></tr><tr><td>Poland</td><td>0</td><td>0</td><td>1</td><td>1</td><td>0</td><td>0</td><td>1</td><td>1</td></tr><tr><td>Denmark</td><td>0</td><td>2</td><td>1</td><td>0</td><td>1</td><td>2</td><td>0</td><td>0</td></tr></tbody></table></div>"
      ]
     },
     "metadata": {
      "application/vnd.databricks.v1+output": {
       "addedWidgets": {},
       "aggData": [],
       "aggError": "",
       "aggOverflow": false,
       "aggSchema": [],
       "aggSeriesLimitReached": false,
       "aggType": "",
       "arguments": {},
       "columnCustomDisplayInfos": {},
       "data": [
        [
         "U.K.",
         1377,
         1906,
         2265,
         1015,
         2353,
         1143,
         2052,
         971
        ],
        [
         "Isle of Man",
         262,
         450,
         473,
         309,
         340,
         120,
         725,
         192
        ],
        [
         "Cyprus",
         197,
         254,
         557,
         280,
         388,
         50,
         570,
         137
        ],
        [
         "Netherlands",
         147,
         172,
         364,
         268,
         249,
         129,
         305,
         70
        ],
        [
         "Malta",
         89,
         72,
         110,
         51,
         93,
         59,
         119,
         42
        ],
        [
         "Madeira",
         57,
         49,
         75,
         32,
         58,
         50,
         73,
         29
        ],
        [
         "Antigua & Barbuda",
         50,
         31,
         61,
         29,
         26,
         34,
         82,
         30
        ],
        [
         "Denmark (Int. Register)",
         46,
         103,
         446,
         122,
         144,
         31,
         420,
         403
        ],
        [
         "Panama",
         43,
         38,
         59,
         25,
         49,
         39,
         52,
         22
        ],
        [
         "Marshall Islands",
         41,
         35,
         60,
         27,
         36,
         30,
         70,
         29
        ],
        [
         "Bahamas",
         37,
         14,
         55,
         43,
         18,
         43,
         45,
         9
        ],
        [
         "Liberia",
         34,
         31,
         72,
         38,
         27,
         32,
         78,
         31
        ],
        [
         "Barbados",
         18,
         9,
         15,
         5,
         4,
         11,
         27,
         8
        ],
        [
         "Latvia",
         14,
         15,
         11,
         2,
         2,
         18,
         20,
         5
        ],
        [
         "Norway (Int. Register)",
         13,
         20,
         34,
         22,
         12,
         23,
         32,
         10
        ],
        [
         "Bermuda",
         13,
         152,
         123,
         120,
         76,
         8,
         204,
         1
        ],
        [
         "Singapore",
         12,
         9,
         15,
         9,
         7,
         8,
         21,
         8
        ],
        [
         "Gibraltar",
         12,
         13,
         12,
         7,
         12,
         7,
         18,
         9
        ],
        [
         "Republic of Ireland",
         7,
         5,
         9,
         3,
         5,
         8,
         8,
         3
        ],
        [
         "Portugal",
         6,
         8,
         9,
         4,
         3,
         10,
         10,
         4
        ],
        [
         "Germany",
         5,
         6,
         6,
         5,
         2,
         4,
         11,
         5
        ],
        [
         "Belgium",
         4,
         0,
         6,
         2,
         1,
         3,
         6,
         2
        ],
        [
         "Finland",
         3,
         2,
         5,
         2,
         2,
         4,
         4,
         0
        ],
        [
         "Cayman Islands",
         3,
         1,
         1,
         1,
         1,
         0,
         4,
         2
        ],
        [
         "France",
         2,
         1,
         0,
         0,
         2,
         1,
         0,
         0
        ],
        [
         "Belize",
         2,
         0,
         1,
         0,
         0,
         0,
         3,
         2
        ],
        [
         "Wallis & Futuna",
         2,
         0,
         0,
         0,
         0,
         1,
         1,
         0
        ],
        [
         "Hong Kong, S.A.R., China",
         1,
         3,
         7,
         4,
         4,
         0,
         7,
         3
        ],
        [
         "Turkey",
         1,
         1,
         1,
         1,
         0,
         1,
         2,
         0
        ],
        [
         "Jordan",
         1,
         10,
         105,
         19,
         10,
         6,
         100,
         79
        ],
        [
         "Greece",
         1,
         7,
         1,
         1,
         4,
         4,
         1,
         1
        ],
        [
         "Spain",
         1,
         2,
         1,
         0,
         1,
         3,
         0,
         0
        ],
        [
         "Estonia",
         1,
         2,
         2,
         1,
         0,
         2,
         3,
         0
        ],
        [
         "Togo",
         1,
         0,
         2,
         1,
         1,
         1,
         1,
         0
        ],
        [
         "Italy",
         1,
         0,
         3,
         3,
         1,
         3,
         0,
         0
        ],
        [
         "Sweden",
         1,
         0,
         1,
         1,
         0,
         0,
         2,
         1
        ],
        [
         "Philippines",
         1,
         1,
         0,
         0,
         1,
         1,
         0,
         0
        ],
        [
         "U.S.A.",
         1,
         0,
         0,
         0,
         1,
         0,
         0,
         0
        ],
        [
         "South Korea",
         1,
         0,
         0,
         0,
         0,
         1,
         0,
         0
        ],
        [
         "Croatia",
         0,
         1,
         1,
         1,
         0,
         0,
         2,
         1
        ],
        [
         "Gabon",
         0,
         0,
         1,
         0,
         0,
         0,
         1,
         0
        ],
        [
         "Thailand",
         0,
         1,
         2,
         0,
         0,
         0,
         3,
         1
        ],
        [
         "Seychelles",
         0,
         0,
         1,
         1,
         1,
         0,
         0,
         0
        ],
        [
         "Brazil",
         0,
         0,
         1,
         0,
         0,
         0,
         1,
         0
        ],
        [
         "St. Vincent & Grenadines",
         0,
         0,
         4,
         1,
         0,
         2,
         2,
         0
        ],
        [
         "Egypt",
         0,
         0,
         1,
         0,
         0,
         0,
         1,
         1
        ],
        [
         "Lithuania",
         0,
         1,
         1,
         1,
         0,
         0,
         2,
         2
        ],
        [
         "Venezuela",
         0,
         0,
         2,
         0,
         0,
         0,
         2,
         0
        ],
        [
         "Switzerland",
         0,
         1,
         0,
         0,
         0,
         0,
         1,
         0
        ],
        [
         "Cook Islands",
         0,
         0,
         1,
         1,
         0,
         0,
         1,
         0
        ],
        [
         "Luxembourg",
         0,
         0,
         2,
         1,
         0,
         0,
         2,
         1
        ],
        [
         "Libya",
         0,
         0,
         1,
         0,
         1,
         0,
         0,
         0
        ],
        [
         "Poland",
         0,
         0,
         1,
         1,
         0,
         0,
         1,
         1
        ],
        [
         "Denmark",
         0,
         2,
         1,
         0,
         1,
         2,
         0,
         0
        ]
       ],
       "datasetInfos": [],
       "dbfsResultPath": null,
       "isJsonSchema": true,
       "metadata": {},
       "overflow": false,
       "plotOptions": {
        "customPlotOptions": {},
        "displayType": "table",
        "pivotAggregation": null,
        "pivotColumns": null,
        "xColumns": null,
        "yColumns": null
       },
       "removedWidgets": [],
       "schema": [
        {
         "metadata": "{}",
         "name": "Flag",
         "type": "\"string\""
        },
        {
         "metadata": "{}",
         "name": "Morning_Arrival_Count",
         "type": "\"long\""
        },
        {
         "metadata": "{}",
         "name": "Afternoon_Arrival_Count",
         "type": "\"long\""
        },
        {
         "metadata": "{}",
         "name": "Evening_Arrival_Count",
         "type": "\"long\""
        },
        {
         "metadata": "{}",
         "name": "Night_Arrival_Count",
         "type": "\"long\""
        },
        {
         "metadata": "{}",
         "name": "Morning_Departure_Count",
         "type": "\"long\""
        },
        {
         "metadata": "{}",
         "name": "Afternoon_Departure_Count",
         "type": "\"long\""
        },
        {
         "metadata": "{}",
         "name": "Evening_Departure_Count",
         "type": "\"long\""
        },
        {
         "metadata": "{}",
         "name": "Night_Departure_Count",
         "type": "\"long\""
        }
       ],
       "type": "table"
      }
     },
     "output_type": "display_data"
    }
   ],
   "source": [
    "%sql\n",
    "SELECT \n",
    "  Flag,\n",
    "  SUM(CASE WHEN HOUR(`Arrived_at`) >= 6 AND HOUR(`Arrived_at`) < 12 THEN 1 ELSE 0 END) AS Morning_Arrival_Count,\n",
    "  SUM(CASE WHEN HOUR(`Arrived_at`) >= 12 AND HOUR(`Arrived_at`) < 18 THEN 1 ELSE 0 END) AS Afternoon_Arrival_Count,\n",
    "  SUM(CASE WHEN HOUR(`Arrived_at`) >= 18 OR HOUR(`Arrived_at`) < 6 THEN 1 ELSE 0 END) AS Evening_Arrival_Count,\n",
    "  SUM(CASE WHEN HOUR(`Arrived_at`) < 6 THEN 1 ELSE 0 END) AS Night_Arrival_Count,\n",
    "  SUM(CASE WHEN HOUR(`Sailed_at`) >= 6 AND HOUR(`Sailed_at`) < 12 THEN 1 ELSE 0 END) AS Morning_Departure_Count,\n",
    "  SUM(CASE WHEN HOUR(`Sailed_at`) >= 12 AND HOUR(`Sailed_at`) < 18 THEN 1 ELSE 0 END) AS Afternoon_Departure_Count,\n",
    "  SUM(CASE WHEN HOUR(`Sailed_at`) >= 18 OR HOUR(`Sailed_at`) < 6 THEN 1 ELSE 0 END) AS Evening_Departure_Count,\n",
    "  SUM(CASE WHEN HOUR(`Sailed_at`) < 6 THEN 1 ELSE 0 END) AS Night_Departure_Count\n",
    "FROM ShipSparkTable\n",
    "GROUP BY Flag\n",
    "order by 2 desc"
   ]
  },
  {
   "cell_type": "markdown",
   "metadata": {
    "application/vnd.databricks.v1+cell": {
     "cellMetadata": {
      "byteLimit": 2048000,
      "rowLimit": 10000
     },
     "inputWidgets": {},
     "nuid": "0344cac5-1bec-4877-bb77-0e244a36e9e2",
     "showTitle": false,
     "title": ""
    }
   },
   "source": [
    "####3. Understanding the average docking times for ships from different countries can assist in efficient planning and resource allocation at the port. "
   ]
  },
  {
   "cell_type": "code",
   "execution_count": 0,
   "metadata": {
    "application/vnd.databricks.v1+cell": {
     "cellMetadata": {
      "byteLimit": 2048000,
      "implicitDf": true,
      "rowLimit": 10000
     },
     "inputWidgets": {},
     "nuid": "141d1c2f-b24e-4c3b-a41f-8e3ef9db1db8",
     "showTitle": false,
     "title": ""
    }
   },
   "outputs": [
    {
     "output_type": "display_data",
     "data": {
      "text/html": [
       "<style scoped>\n",
       "  .table-result-container {\n",
       "    max-height: 300px;\n",
       "    overflow: auto;\n",
       "  }\n",
       "  table, th, td {\n",
       "    border: 1px solid black;\n",
       "    border-collapse: collapse;\n",
       "  }\n",
       "  th, td {\n",
       "    padding: 5px;\n",
       "  }\n",
       "  th {\n",
       "    text-align: left;\n",
       "  }\n",
       "</style><div class='table-result-container'><table class='table-result'><thead style='background-color: white'><tr><th>Flag</th><th>Hours</th><th>Minutes</th></tr></thead><tbody><tr><td>Togo</td><td>2019</td><td>53</td></tr><tr><td>Republic of Ireland</td><td>416</td><td>33</td></tr><tr><td>Croatia</td><td>288</td><td>12</td></tr><tr><td>Hong Kong, S.A.R., China</td><td>249</td><td>45</td></tr><tr><td>South Korea</td><td>223</td><td>28</td></tr><tr><td>Cayman Islands</td><td>211</td><td>55</td></tr><tr><td>Panama</td><td>157</td><td>21</td></tr><tr><td>Switzerland</td><td>150</td><td>29</td></tr><tr><td>Egypt</td><td>148</td><td>31</td></tr><tr><td>Thailand</td><td>141</td><td>8</td></tr><tr><td>Venezuela</td><td>122</td><td>45</td></tr><tr><td>Barbados</td><td>115</td><td>12</td></tr><tr><td>Denmark</td><td>108</td><td>2</td></tr><tr><td>Marshall Islands</td><td>93</td><td>19</td></tr><tr><td>Singapore</td><td>89</td><td>10</td></tr><tr><td>Philippines</td><td>83</td><td>51</td></tr><tr><td>Liberia</td><td>69</td><td>54</td></tr><tr><td>France</td><td>64</td><td>29</td></tr><tr><td>Portugal</td><td>63</td><td>31</td></tr><tr><td>Cook Islands</td><td>62</td><td>23</td></tr><tr><td>Finland</td><td>61</td><td>26</td></tr><tr><td>U.K.</td><td>60</td><td>1</td></tr><tr><td>Malta</td><td>57</td><td>55</td></tr><tr><td>Seychelles</td><td>57</td><td>45</td></tr><tr><td>Belize</td><td>57</td><td>56</td></tr><tr><td>Greece</td><td>53</td><td>38</td></tr><tr><td>Belgium</td><td>51</td><td>51</td></tr><tr><td>Spain</td><td>48</td><td>31</td></tr><tr><td>Norway (Int. Register)</td><td>46</td><td>26</td></tr><tr><td>Gabon</td><td>44</td><td>57</td></tr><tr><td>Bahamas</td><td>43</td><td>17</td></tr><tr><td>Lithuania</td><td>42</td><td>9</td></tr><tr><td>Gibraltar</td><td>41</td><td>1</td></tr><tr><td>St. Vincent & Grenadines</td><td>39</td><td>40</td></tr><tr><td>Antigua & Barbuda</td><td>38</td><td>19</td></tr><tr><td>Libya</td><td>36</td><td>2</td></tr><tr><td>Turkey</td><td>35</td><td>41</td></tr><tr><td>Germany</td><td>30</td><td>24</td></tr><tr><td>Latvia</td><td>30</td><td>26</td></tr><tr><td>Madeira</td><td>30</td><td>34</td></tr><tr><td>Italy</td><td>27</td><td>25</td></tr><tr><td>U.S.A.</td><td>25</td><td>7</td></tr><tr><td>Netherlands</td><td>24</td><td>37</td></tr><tr><td>Luxembourg</td><td>24</td><td>20</td></tr><tr><td>Poland</td><td>24</td><td>16</td></tr><tr><td>Brazil</td><td>23</td><td>22</td></tr><tr><td>Estonia</td><td>18</td><td>38</td></tr><tr><td>Sweden</td><td>18</td><td>6</td></tr><tr><td>Cyprus</td><td>14</td><td>25</td></tr><tr><td>Jordan</td><td>13</td><td>22</td></tr><tr><td>Isle of Man</td><td>13</td><td>50</td></tr><tr><td>Wallis & Futuna</td><td>12</td><td>40</td></tr><tr><td>Denmark (Int. Register)</td><td>11</td><td>46</td></tr><tr><td>Bermuda</td><td>8</td><td>42</td></tr></tbody></table></div>"
      ]
     },
     "metadata": {
      "application/vnd.databricks.v1+output": {
       "addedWidgets": {},
       "aggData": [],
       "aggError": "",
       "aggOverflow": false,
       "aggSchema": [],
       "aggSeriesLimitReached": false,
       "aggType": "",
       "arguments": {},
       "columnCustomDisplayInfos": {},
       "data": [
        [
         "Togo",
         2019,
         53
        ],
        [
         "Republic of Ireland",
         416,
         33
        ],
        [
         "Croatia",
         288,
         12
        ],
        [
         "Hong Kong, S.A.R., China",
         249,
         45
        ],
        [
         "South Korea",
         223,
         28
        ],
        [
         "Cayman Islands",
         211,
         55
        ],
        [
         "Panama",
         157,
         21
        ],
        [
         "Switzerland",
         150,
         29
        ],
        [
         "Egypt",
         148,
         31
        ],
        [
         "Thailand",
         141,
         8
        ],
        [
         "Venezuela",
         122,
         45
        ],
        [
         "Barbados",
         115,
         12
        ],
        [
         "Denmark",
         108,
         2
        ],
        [
         "Marshall Islands",
         93,
         19
        ],
        [
         "Singapore",
         89,
         10
        ],
        [
         "Philippines",
         83,
         51
        ],
        [
         "Liberia",
         69,
         54
        ],
        [
         "France",
         64,
         29
        ],
        [
         "Portugal",
         63,
         31
        ],
        [
         "Cook Islands",
         62,
         23
        ],
        [
         "Finland",
         61,
         26
        ],
        [
         "U.K.",
         60,
         1
        ],
        [
         "Malta",
         57,
         55
        ],
        [
         "Seychelles",
         57,
         45
        ],
        [
         "Belize",
         57,
         56
        ],
        [
         "Greece",
         53,
         38
        ],
        [
         "Belgium",
         51,
         51
        ],
        [
         "Spain",
         48,
         31
        ],
        [
         "Norway (Int. Register)",
         46,
         26
        ],
        [
         "Gabon",
         44,
         57
        ],
        [
         "Bahamas",
         43,
         17
        ],
        [
         "Lithuania",
         42,
         9
        ],
        [
         "Gibraltar",
         41,
         1
        ],
        [
         "St. Vincent & Grenadines",
         39,
         40
        ],
        [
         "Antigua & Barbuda",
         38,
         19
        ],
        [
         "Libya",
         36,
         2
        ],
        [
         "Turkey",
         35,
         41
        ],
        [
         "Germany",
         30,
         24
        ],
        [
         "Latvia",
         30,
         26
        ],
        [
         "Madeira",
         30,
         34
        ],
        [
         "Italy",
         27,
         25
        ],
        [
         "U.S.A.",
         25,
         7
        ],
        [
         "Netherlands",
         24,
         37
        ],
        [
         "Luxembourg",
         24,
         20
        ],
        [
         "Poland",
         24,
         16
        ],
        [
         "Brazil",
         23,
         22
        ],
        [
         "Estonia",
         18,
         38
        ],
        [
         "Sweden",
         18,
         6
        ],
        [
         "Cyprus",
         14,
         25
        ],
        [
         "Jordan",
         13,
         22
        ],
        [
         "Isle of Man",
         13,
         50
        ],
        [
         "Wallis & Futuna",
         12,
         40
        ],
        [
         "Denmark (Int. Register)",
         11,
         46
        ],
        [
         "Bermuda",
         8,
         42
        ]
       ],
       "datasetInfos": [],
       "dbfsResultPath": null,
       "isJsonSchema": true,
       "metadata": {},
       "overflow": false,
       "plotOptions": {
        "customPlotOptions": {},
        "displayType": "table",
        "pivotAggregation": null,
        "pivotColumns": null,
        "xColumns": null,
        "yColumns": null
       },
       "removedWidgets": [],
       "schema": [
        {
         "metadata": "{}",
         "name": "Flag",
         "type": "\"string\""
        },
        {
         "metadata": "{}",
         "name": "Hours",
         "type": "\"integer\""
        },
        {
         "metadata": "{}",
         "name": "Minutes",
         "type": "\"integer\""
        }
       ],
       "type": "table"
      }
     },
     "output_type": "display_data"
    }
   ],
   "source": [
    "%sql\n",
    "SELECT Flag,\n",
    "        CAST(AVG(Docking_Time_Hours) AS INT) as Hours, \n",
    "        \n",
    "        CAST((AVG(Docking_Time_Hours) - CAST(AVG(Docking_Time_Hours) AS INT)) * 60 AS INT) as Minutes\n",
    "FROM \n",
    "    ShipSparkTable\n",
    "group by Flag\n",
    "order by 2 desc"
   ]
  },
  {
   "cell_type": "markdown",
   "metadata": {
    "application/vnd.databricks.v1+cell": {
     "cellMetadata": {
      "byteLimit": 2048000,
      "rowLimit": 10000
     },
     "inputWidgets": {},
     "nuid": "fa297711-01ef-4d82-a067-e86b1c675203",
     "showTitle": false,
     "title": ""
    }
   },
   "source": [
    "### More Strategic Analysis :\n",
    "\n",
    "1. **Efficiency Analysis Based on Time of Day**:\n",
    "   - Evaluate the port's ability to handle ships at different times of the day. This assessment should compare the port's capabilities at these times to maximize efficiency and throughput.\n",
    "   - Consider the potential for redistributing ship arrivals and departures to less busy times, if feasible, to balance the workload and reduce congestion.\n",
    "\n",
    "2. **Comparative Analysis with Nearby Ports**:\n",
    "   - Examine the types of vessels, traffic, and capacities at Liverpool Port in contrast to neighboring ports. This analysis can uncover opportunities for collaborative load sharing or specialization based on each port's strengths and capacities.\n",
    "   - Such a comparative study will help in identifying areas where Liverpool Port can complement or leverage nearby port facilities to optimize traffic.\n",
    "\n"
   ]
  },
  {
   "cell_type": "markdown",
   "metadata": {
    "application/vnd.databricks.v1+cell": {
     "cellMetadata": {},
     "inputWidgets": {},
     "nuid": "23ad7376-2e3d-488c-b550-7ecc9052b684",
     "showTitle": false,
     "title": ""
    }
   },
   "source": [
    "### Data Integration\n",
    "  - By adding diffrent source like travel time or distance\n",
    "####Travel Time or Distance Travel vs. Docking Time Analysis:\n",
    "  - Compare the time traveled by ships from their prior port to the docking time at Liverpool.\n",
    "  - Longer travel times might be associated with specific regions or vessel types"
   ]
  },
  {
   "cell_type": "code",
   "execution_count": 0,
   "metadata": {
    "application/vnd.databricks.v1+cell": {
     "cellMetadata": {
      "byteLimit": 2048000,
      "rowLimit": 10000
     },
     "inputWidgets": {},
     "nuid": "037b44de-4f0b-493e-a320-30fb5a7f865d",
     "showTitle": false,
     "title": ""
    }
   },
   "outputs": [],
   "source": [
    "from geopy.geocoders import Nominatim\n",
    "from geopy.distance import geodesic\n",
    "from geopy.exc import GeocoderTimedOut\n",
    "from geopy.geocoders import Photon\n",
    "\n",
    "def find_port_coordinates(port_name):\n",
    "    \"\"\"Find the coordinates of a port using geocoding.\"\"\"\n",
    "    #geolocator = Nominatim(user_agent=\"geoapiExercises\")\n",
    "    geolocator = Photon(user_agent=\"measurements\")\n",
    "\n",
    "    try:\n",
    "        location = geolocator.geocode(port_name)\n",
    "        if location:\n",
    "            return (location.latitude, location.longitude)\n",
    "        else:\n",
    "            return None\n",
    "    except GeocoderTimedOut:\n",
    "        return None\n",
    "\n",
    "def calculate_distance_between_ports(port1, port2):\n",
    "    \"\"\"Calculate the distance between two ports.\"\"\"\n",
    "    coords_port1 = find_port_coordinates(port1)\n",
    "    coords_port2 = find_port_coordinates(port2)\n",
    "\n",
    "    if coords_port1 and coords_port2:\n",
    "        distance = geodesic(coords_port1, coords_port2).kilometers\n",
    "        return distance\n",
    "    else:\n",
    "        return \"Could not find the location of one or both ports.\"\n",
    "\n",
    "\n"
   ]
  },
  {
   "cell_type": "code",
   "execution_count": 0,
   "metadata": {
    "application/vnd.databricks.v1+cell": {
     "cellMetadata": {
      "byteLimit": 2048000,
      "rowLimit": 10000
     },
     "inputWidgets": {},
     "nuid": "df45b865-5f4a-44c8-adac-90f74ee4960c",
     "showTitle": false,
     "title": ""
    }
   },
   "outputs": [
    {
     "output_type": "stream",
     "name": "stdout",
     "output_type": "stream",
     "text": [
      "Distance: 2.953989195498422 km\n"
     ]
    }
   ],
   "source": [
    "\n",
    "distance = calculate_distance_between_ports(\"Liverpool\", \"Birkenhead\")\n",
    "print(f\"Distance: {distance} km\")"
   ]
  }
 ],
 "metadata": {
  "application/vnd.databricks.v1+notebook": {
   "dashboards": [
    {
     "elements": [],
     "globalVars": {},
     "guid": "",
     "layoutOption": {
      "grid": true,
      "stack": true
     },
     "nuid": "3f3f480b-0c33-491a-9246-5a19b3715882",
     "origId": 1763043210773560,
     "title": "Untitled",
     "version": "DashboardViewV1",
     "width": 1024
    }
   ],
   "language": "python",
   "notebookMetadata": {
    "mostRecentlyExecutedCommandWithImplicitDF": {
     "commandId": 1763043210773563,
     "dataframes": [
      "_sqldf"
     ]
    },
    "pythonIndentUnit": 4
   },
   "notebookName": "Ship Data Analysis",
   "widgets": {}
  }
 },
 "nbformat": 4,
 "nbformat_minor": 0
}
