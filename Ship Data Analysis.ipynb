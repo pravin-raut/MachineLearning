{
 "cells": [
  {
   "cell_type": "code",
   "execution_count": 0,
   "metadata": {
    "application/vnd.databricks.v1+cell": {
     "cellMetadata": {
      "byteLimit": 2048000,
      "rowLimit": 10000
     },
     "inputWidgets": {},
     "nuid": "149b479c-8c16-425c-a48b-6a60667bb5eb",
     "showTitle": false,
     "title": ""
    }
   },
   "outputs": [
    {
     "output_type": "stream",
     "name": "stdout",
     "output_type": "stream",
     "text": [
      "Requirement already satisfied: openpyxl in /local_disk0/.ephemeral_nfs/envs/pythonEnv-dadfa8db-f693-405d-a906-fb45f18b948f/lib/python3.9/site-packages (3.1.2)\r\nRequirement already satisfied: et-xmlfile in /local_disk0/.ephemeral_nfs/envs/pythonEnv-dadfa8db-f693-405d-a906-fb45f18b948f/lib/python3.9/site-packages (from openpyxl) (1.1.0)\r\n\u001B[33mWARNING: You are using pip version 21.2.4; however, version 23.3.1 is available.\r\nYou should consider upgrading via the '/local_disk0/.ephemeral_nfs/envs/pythonEnv-dadfa8db-f693-405d-a906-fb45f18b948f/bin/python -m pip install --upgrade pip' command.\u001B[0m\r\nRequirement already satisfied: geopy in /local_disk0/.ephemeral_nfs/envs/pythonEnv-dadfa8db-f693-405d-a906-fb45f18b948f/lib/python3.9/site-packages (2.4.0)\r\nRequirement already satisfied: geographiclib<3,>=1.52 in /local_disk0/.ephemeral_nfs/envs/pythonEnv-dadfa8db-f693-405d-a906-fb45f18b948f/lib/python3.9/site-packages (from geopy) (2.0)\r\n\u001B[33mWARNING: You are using pip version 21.2.4; however, version 23.3.1 is available.\r\nYou should consider upgrading via the '/local_disk0/.ephemeral_nfs/envs/pythonEnv-dadfa8db-f693-405d-a906-fb45f18b948f/bin/python -m pip install --upgrade pip' command.\u001B[0m\r\n"
     ]
    }
   ],
   "source": [
    "!pip install openpyxl\n",
    "!pip install geopy"
   ]
  },
  {
   "cell_type": "code",
   "execution_count": 0,
   "metadata": {
    "application/vnd.databricks.v1+cell": {
     "cellMetadata": {
      "byteLimit": 2048000,
      "rowLimit": 10000
     },
     "inputWidgets": {},
     "nuid": "99ca5223-ea16-4b0e-9217-0cc6f94683e5",
     "showTitle": false,
     "title": ""
    }
   },
   "outputs": [],
   "source": [
    "import pandas as pd\n",
    "import numpy as np\n"
   ]
  },
  {
   "cell_type": "code",
   "execution_count": 0,
   "metadata": {
    "application/vnd.databricks.v1+cell": {
     "cellMetadata": {
      "byteLimit": 2048000,
      "rowLimit": 10000
     },
     "inputWidgets": {},
     "nuid": "a4eb4cbf-9c60-4900-9924-23966e55d433",
     "showTitle": false,
     "title": ""
    }
   },
   "outputs": [
    {
     "output_type": "display_data",
     "data": {
      "text/html": [
       "<div>\n",
       "<style scoped>\n",
       "    .dataframe tbody tr th:only-of-type {\n",
       "        vertical-align: middle;\n",
       "    }\n",
       "\n",
       "    .dataframe tbody tr th {\n",
       "        vertical-align: top;\n",
       "    }\n",
       "\n",
       "    .dataframe thead th {\n",
       "        text-align: right;\n",
       "    }\n",
       "</style>\n",
       "<table border=\"1\" class=\"dataframe\">\n",
       "  <thead>\n",
       "    <tr style=\"text-align: right;\">\n",
       "      <th></th>\n",
       "      <th>Name</th>\n",
       "      <th>IMO</th>\n",
       "      <th>Flag</th>\n",
       "      <th>LLI Vessel Type</th>\n",
       "      <th>Company contact</th>\n",
       "      <th>Gross Tonnes</th>\n",
       "      <th>DWT</th>\n",
       "      <th>Prior Place</th>\n",
       "      <th>Arrived at</th>\n",
       "      <th>Sailed at</th>\n",
       "    </tr>\n",
       "  </thead>\n",
       "  <tbody>\n",
       "    <tr>\n",
       "      <th>0</th>\n",
       "      <td>Stena Foreteller</td>\n",
       "      <td>9214666</td>\n",
       "      <td>Denmark (Int. Register)</td>\n",
       "      <td>roll on roll off with container capacity</td>\n",
       "      <td>Stena Line Service AB</td>\n",
       "      <td>24688</td>\n",
       "      <td>11644</td>\n",
       "      <td>Belfast</td>\n",
       "      <td>01/09/2023 22:45:04 GMT</td>\n",
       "      <td>02/09/2023 03:07:21 GMT</td>\n",
       "    </tr>\n",
       "    <tr>\n",
       "      <th>1</th>\n",
       "      <td>Royal Iris of the Mersey</td>\n",
       "      <td>8633712</td>\n",
       "      <td>U.K.</td>\n",
       "      <td>ferry</td>\n",
       "      <td>Mersey Ferries Limited</td>\n",
       "      <td>464</td>\n",
       "      <td>—</td>\n",
       "      <td>Birkenhead</td>\n",
       "      <td>01/09/2023 21:33:55 GMT</td>\n",
       "      <td>02/09/2023 08:36:41 GMT</td>\n",
       "    </tr>\n",
       "    <tr>\n",
       "      <th>2</th>\n",
       "      <td>Seatruck Power</td>\n",
       "      <td>9506215</td>\n",
       "      <td>Isle of Man</td>\n",
       "      <td>Roll On Roll Off</td>\n",
       "      <td>Seatruck Ferries Holding Limited</td>\n",
       "      <td>19722</td>\n",
       "      <td>5600</td>\n",
       "      <td>Dublin</td>\n",
       "      <td>01/09/2023 19:57:09 GMT</td>\n",
       "      <td>02/09/2023 00:54:45 GMT</td>\n",
       "    </tr>\n",
       "    <tr>\n",
       "      <th>3</th>\n",
       "      <td>Manannan</td>\n",
       "      <td>9176072</td>\n",
       "      <td>Isle of Man</td>\n",
       "      <td>passenger ro/ro</td>\n",
       "      <td>Isle of Man Steam Packet Company Limited</td>\n",
       "      <td>5743</td>\n",
       "      <td>800</td>\n",
       "      <td>Douglas</td>\n",
       "      <td>01/09/2023 17:51:25 GMT</td>\n",
       "      <td>01/09/2023 19:12:38 GMT</td>\n",
       "    </tr>\n",
       "    <tr>\n",
       "      <th>4</th>\n",
       "      <td>Stena Embla</td>\n",
       "      <td>9807322</td>\n",
       "      <td>Cyprus</td>\n",
       "      <td>passenger ro/ro</td>\n",
       "      <td>Bocom Leasing Management Hong Kong Company Lim...</td>\n",
       "      <td>42000</td>\n",
       "      <td>9748</td>\n",
       "      <td>Belfast</td>\n",
       "      <td>01/09/2023 17:19:36 GMT</td>\n",
       "      <td>01/09/2023 21:30:43 GMT</td>\n",
       "    </tr>\n",
       "  </tbody>\n",
       "</table>\n",
       "</div>"
      ]
     },
     "metadata": {
      "application/vnd.databricks.v1+output": {
       "addedWidgets": {},
       "arguments": {},
       "data": "<div>\n<style scoped>\n    .dataframe tbody tr th:only-of-type {\n        vertical-align: middle;\n    }\n\n    .dataframe tbody tr th {\n        vertical-align: top;\n    }\n\n    .dataframe thead th {\n        text-align: right;\n    }\n</style>\n<table border=\"1\" class=\"dataframe\">\n  <thead>\n    <tr style=\"text-align: right;\">\n      <th></th>\n      <th>Name</th>\n      <th>IMO</th>\n      <th>Flag</th>\n      <th>LLI Vessel Type</th>\n      <th>Company contact</th>\n      <th>Gross Tonnes</th>\n      <th>DWT</th>\n      <th>Prior Place</th>\n      <th>Arrived at</th>\n      <th>Sailed at</th>\n    </tr>\n  </thead>\n  <tbody>\n    <tr>\n      <th>0</th>\n      <td>Stena Foreteller</td>\n      <td>9214666</td>\n      <td>Denmark (Int. Register)</td>\n      <td>roll on roll off with container capacity</td>\n      <td>Stena Line Service AB</td>\n      <td>24688</td>\n      <td>11644</td>\n      <td>Belfast</td>\n      <td>01/09/2023 22:45:04 GMT</td>\n      <td>02/09/2023 03:07:21 GMT</td>\n    </tr>\n    <tr>\n      <th>1</th>\n      <td>Royal Iris of the Mersey</td>\n      <td>8633712</td>\n      <td>U.K.</td>\n      <td>ferry</td>\n      <td>Mersey Ferries Limited</td>\n      <td>464</td>\n      <td>—</td>\n      <td>Birkenhead</td>\n      <td>01/09/2023 21:33:55 GMT</td>\n      <td>02/09/2023 08:36:41 GMT</td>\n    </tr>\n    <tr>\n      <th>2</th>\n      <td>Seatruck Power</td>\n      <td>9506215</td>\n      <td>Isle of Man</td>\n      <td>Roll On Roll Off</td>\n      <td>Seatruck Ferries Holding Limited</td>\n      <td>19722</td>\n      <td>5600</td>\n      <td>Dublin</td>\n      <td>01/09/2023 19:57:09 GMT</td>\n      <td>02/09/2023 00:54:45 GMT</td>\n    </tr>\n    <tr>\n      <th>3</th>\n      <td>Manannan</td>\n      <td>9176072</td>\n      <td>Isle of Man</td>\n      <td>passenger ro/ro</td>\n      <td>Isle of Man Steam Packet Company Limited</td>\n      <td>5743</td>\n      <td>800</td>\n      <td>Douglas</td>\n      <td>01/09/2023 17:51:25 GMT</td>\n      <td>01/09/2023 19:12:38 GMT</td>\n    </tr>\n    <tr>\n      <th>4</th>\n      <td>Stena Embla</td>\n      <td>9807322</td>\n      <td>Cyprus</td>\n      <td>passenger ro/ro</td>\n      <td>Bocom Leasing Management Hong Kong Company Lim...</td>\n      <td>42000</td>\n      <td>9748</td>\n      <td>Belfast</td>\n      <td>01/09/2023 17:19:36 GMT</td>\n      <td>01/09/2023 21:30:43 GMT</td>\n    </tr>\n  </tbody>\n</table>\n</div>",
       "datasetInfos": [],
       "metadata": {},
       "removedWidgets": [],
       "textData": null,
       "type": "htmlSandbox"
      }
     },
     "output_type": "display_data"
    }
   ],
   "source": [
    "url = 'https://raw.githubusercontent.com/pravin-raut/MachineLearning/Master/dataset/Liverpool.xlsx'\n",
    "shipdf = pd.read_excel(url)\n",
    "shipdf.head(5)"
   ]
  },
  {
   "cell_type": "markdown",
   "metadata": {
    "application/vnd.databricks.v1+cell": {
     "cellMetadata": {
      "byteLimit": 2048000,
      "rowLimit": 10000
     },
     "inputWidgets": {},
     "nuid": "ad929333-e15d-4f75-b8ed-9a175b548a30",
     "showTitle": false,
     "title": ""
    }
   },
   "source": [
    "\n",
    "### Data Cleaning "
   ]
  },
  {
   "cell_type": "code",
   "execution_count": 0,
   "metadata": {
    "application/vnd.databricks.v1+cell": {
     "cellMetadata": {
      "byteLimit": 2048000,
      "rowLimit": 10000
     },
     "inputWidgets": {},
     "nuid": "4334bf73-cca5-41a0-a2d0-102a25a42939",
     "showTitle": false,
     "title": ""
    }
   },
   "outputs": [
    {
     "output_type": "display_data",
     "data": {
      "text/html": [
       "<div>\n",
       "<style scoped>\n",
       "    .dataframe tbody tr th:only-of-type {\n",
       "        vertical-align: middle;\n",
       "    }\n",
       "\n",
       "    .dataframe tbody tr th {\n",
       "        vertical-align: top;\n",
       "    }\n",
       "\n",
       "    .dataframe thead th {\n",
       "        text-align: right;\n",
       "    }\n",
       "</style>\n",
       "<table border=\"1\" class=\"dataframe\">\n",
       "  <thead>\n",
       "    <tr style=\"text-align: right;\">\n",
       "      <th></th>\n",
       "      <th>Name</th>\n",
       "      <th>IMO</th>\n",
       "      <th>Flag</th>\n",
       "      <th>LLI Vessel Type</th>\n",
       "      <th>Company contact</th>\n",
       "      <th>Gross Tonnes</th>\n",
       "      <th>DWT</th>\n",
       "      <th>Prior Place</th>\n",
       "      <th>Arrived at</th>\n",
       "      <th>Sailed at</th>\n",
       "    </tr>\n",
       "  </thead>\n",
       "  <tbody>\n",
       "    <tr>\n",
       "      <th>0</th>\n",
       "      <td>Stena Foreteller</td>\n",
       "      <td>9214666.0</td>\n",
       "      <td>Denmark (Int. Register)</td>\n",
       "      <td>roll on roll off with container capacity</td>\n",
       "      <td>Stena Line Service AB</td>\n",
       "      <td>24688.0</td>\n",
       "      <td>11644.0</td>\n",
       "      <td>Belfast</td>\n",
       "      <td>01/09/2023 22:45:04 GMT</td>\n",
       "      <td>02/09/2023 03:07:21 GMT</td>\n",
       "    </tr>\n",
       "    <tr>\n",
       "      <th>1</th>\n",
       "      <td>Royal Iris of the Mersey</td>\n",
       "      <td>8633712.0</td>\n",
       "      <td>U.K.</td>\n",
       "      <td>ferry</td>\n",
       "      <td>Mersey Ferries Limited</td>\n",
       "      <td>464.0</td>\n",
       "      <td>NaN</td>\n",
       "      <td>Birkenhead</td>\n",
       "      <td>01/09/2023 21:33:55 GMT</td>\n",
       "      <td>02/09/2023 08:36:41 GMT</td>\n",
       "    </tr>\n",
       "    <tr>\n",
       "      <th>2</th>\n",
       "      <td>Seatruck Power</td>\n",
       "      <td>9506215.0</td>\n",
       "      <td>Isle of Man</td>\n",
       "      <td>Roll On Roll Off</td>\n",
       "      <td>Seatruck Ferries Holding Limited</td>\n",
       "      <td>19722.0</td>\n",
       "      <td>5600.0</td>\n",
       "      <td>Dublin</td>\n",
       "      <td>01/09/2023 19:57:09 GMT</td>\n",
       "      <td>02/09/2023 00:54:45 GMT</td>\n",
       "    </tr>\n",
       "    <tr>\n",
       "      <th>3</th>\n",
       "      <td>Manannan</td>\n",
       "      <td>9176072.0</td>\n",
       "      <td>Isle of Man</td>\n",
       "      <td>passenger ro/ro</td>\n",
       "      <td>Isle of Man Steam Packet Company Limited</td>\n",
       "      <td>5743.0</td>\n",
       "      <td>800.0</td>\n",
       "      <td>Douglas</td>\n",
       "      <td>01/09/2023 17:51:25 GMT</td>\n",
       "      <td>01/09/2023 19:12:38 GMT</td>\n",
       "    </tr>\n",
       "    <tr>\n",
       "      <th>4</th>\n",
       "      <td>Stena Embla</td>\n",
       "      <td>9807322.0</td>\n",
       "      <td>Cyprus</td>\n",
       "      <td>passenger ro/ro</td>\n",
       "      <td>Bocom Leasing Management Hong Kong Company Lim...</td>\n",
       "      <td>42000.0</td>\n",
       "      <td>9748.0</td>\n",
       "      <td>Belfast</td>\n",
       "      <td>01/09/2023 17:19:36 GMT</td>\n",
       "      <td>01/09/2023 21:30:43 GMT</td>\n",
       "    </tr>\n",
       "  </tbody>\n",
       "</table>\n",
       "</div>"
      ]
     },
     "metadata": {
      "application/vnd.databricks.v1+output": {
       "addedWidgets": {},
       "arguments": {},
       "data": "<div>\n<style scoped>\n    .dataframe tbody tr th:only-of-type {\n        vertical-align: middle;\n    }\n\n    .dataframe tbody tr th {\n        vertical-align: top;\n    }\n\n    .dataframe thead th {\n        text-align: right;\n    }\n</style>\n<table border=\"1\" class=\"dataframe\">\n  <thead>\n    <tr style=\"text-align: right;\">\n      <th></th>\n      <th>Name</th>\n      <th>IMO</th>\n      <th>Flag</th>\n      <th>LLI Vessel Type</th>\n      <th>Company contact</th>\n      <th>Gross Tonnes</th>\n      <th>DWT</th>\n      <th>Prior Place</th>\n      <th>Arrived at</th>\n      <th>Sailed at</th>\n    </tr>\n  </thead>\n  <tbody>\n    <tr>\n      <th>0</th>\n      <td>Stena Foreteller</td>\n      <td>9214666.0</td>\n      <td>Denmark (Int. Register)</td>\n      <td>roll on roll off with container capacity</td>\n      <td>Stena Line Service AB</td>\n      <td>24688.0</td>\n      <td>11644.0</td>\n      <td>Belfast</td>\n      <td>01/09/2023 22:45:04 GMT</td>\n      <td>02/09/2023 03:07:21 GMT</td>\n    </tr>\n    <tr>\n      <th>1</th>\n      <td>Royal Iris of the Mersey</td>\n      <td>8633712.0</td>\n      <td>U.K.</td>\n      <td>ferry</td>\n      <td>Mersey Ferries Limited</td>\n      <td>464.0</td>\n      <td>NaN</td>\n      <td>Birkenhead</td>\n      <td>01/09/2023 21:33:55 GMT</td>\n      <td>02/09/2023 08:36:41 GMT</td>\n    </tr>\n    <tr>\n      <th>2</th>\n      <td>Seatruck Power</td>\n      <td>9506215.0</td>\n      <td>Isle of Man</td>\n      <td>Roll On Roll Off</td>\n      <td>Seatruck Ferries Holding Limited</td>\n      <td>19722.0</td>\n      <td>5600.0</td>\n      <td>Dublin</td>\n      <td>01/09/2023 19:57:09 GMT</td>\n      <td>02/09/2023 00:54:45 GMT</td>\n    </tr>\n    <tr>\n      <th>3</th>\n      <td>Manannan</td>\n      <td>9176072.0</td>\n      <td>Isle of Man</td>\n      <td>passenger ro/ro</td>\n      <td>Isle of Man Steam Packet Company Limited</td>\n      <td>5743.0</td>\n      <td>800.0</td>\n      <td>Douglas</td>\n      <td>01/09/2023 17:51:25 GMT</td>\n      <td>01/09/2023 19:12:38 GMT</td>\n    </tr>\n    <tr>\n      <th>4</th>\n      <td>Stena Embla</td>\n      <td>9807322.0</td>\n      <td>Cyprus</td>\n      <td>passenger ro/ro</td>\n      <td>Bocom Leasing Management Hong Kong Company Lim...</td>\n      <td>42000.0</td>\n      <td>9748.0</td>\n      <td>Belfast</td>\n      <td>01/09/2023 17:19:36 GMT</td>\n      <td>01/09/2023 21:30:43 GMT</td>\n    </tr>\n  </tbody>\n</table>\n</div>",
       "datasetInfos": [],
       "metadata": {},
       "removedWidgets": [],
       "textData": null,
       "type": "htmlSandbox"
      }
     },
     "output_type": "display_data"
    }
   ],
   "source": [
    "shipdf.replace(\"—\", np.nan, inplace=True)\n",
    "shipdf.head(5)"
   ]
  },
  {
   "cell_type": "code",
   "execution_count": 0,
   "metadata": {
    "application/vnd.databricks.v1+cell": {
     "cellMetadata": {
      "byteLimit": 2048000,
      "rowLimit": 10000
     },
     "inputWidgets": {},
     "nuid": "1f382906-9a75-4393-bbf6-eae9293607d0",
     "showTitle": false,
     "title": ""
    }
   },
   "outputs": [],
   "source": [
    "shipdf['Arrived at'] = pd.to_datetime(shipdf['Arrived at'].str.replace(' GMT', ''), format='%d/%m/%Y %H:%M:%S')\n",
    "shipdf['Sailed at'] = pd.to_datetime(shipdf['Sailed at'].str.replace(' GMT', ''), format='%d/%m/%Y %H:%M:%S')\n"
   ]
  },
  {
   "cell_type": "code",
   "execution_count": 0,
   "metadata": {
    "application/vnd.databricks.v1+cell": {
     "cellMetadata": {
      "byteLimit": 2048000,
      "rowLimit": 10000
     },
     "inputWidgets": {},
     "nuid": "c5f4af41-2493-4b75-accf-bf811d863215",
     "showTitle": false,
     "title": ""
    }
   },
   "outputs": [],
   "source": [
    "import pandas as pd\n",
    "from pyspark.sql import SparkSession\n",
    "\n",
    "# Replace spaces with underscores in column names\n",
    "shipdf.columns = [c.replace(' ', '_') for c in shipdf.columns]\n",
    "\n",
    "# Create a Spark DataFrame from the Pandas DataFrame\n",
    "ship_spark_df = spark.createDataFrame(shipdf)\n"
   ]
  },
  {
   "cell_type": "markdown",
   "metadata": {
    "application/vnd.databricks.v1+cell": {
     "cellMetadata": {
      "byteLimit": 2048000,
      "rowLimit": 10000
     },
     "inputWidgets": {},
     "nuid": "1fdb061f-e9d0-439b-a053-6838ee4c8457",
     "showTitle": false,
     "title": ""
    }
   },
   "source": [
    "#### Feature Extraction , calculating Docking Time"
   ]
  },
  {
   "cell_type": "code",
   "execution_count": 0,
   "metadata": {
    "application/vnd.databricks.v1+cell": {
     "cellMetadata": {
      "byteLimit": 2048000,
      "rowLimit": 10000
     },
     "inputWidgets": {},
     "nuid": "66e1d38d-c891-4ed8-ae02-7f7c46ebf930",
     "showTitle": false,
     "title": ""
    }
   },
   "outputs": [],
   "source": [
    "from pyspark.sql.functions import unix_timestamp, col\n",
    "\n",
    "ship_spark_df = ship_spark_df.withColumn(\n",
    "    \"Docking_Time_Hours\",\n",
    "    (unix_timestamp(\"Sailed_at\") - unix_timestamp(\"Arrived_at\")) / 3600\n",
    ")\n"
   ]
  },
  {
   "cell_type": "code",
   "execution_count": 0,
   "metadata": {
    "application/vnd.databricks.v1+cell": {
     "cellMetadata": {
      "byteLimit": 2048000,
      "rowLimit": 10000
     },
     "inputWidgets": {},
     "nuid": "ed0db217-4e50-48e4-b639-730a1f741736",
     "showTitle": false,
     "title": ""
    }
   },
   "outputs": [],
   "source": [
    "# Save the DataFrame as a permanent table\n",
    "ship_spark_df.write.mode(\"overwrite\").saveAsTable(\"ShipSparkTable\")\n"
   ]
  },
  {
   "cell_type": "markdown",
   "metadata": {
    "application/vnd.databricks.v1+cell": {
     "cellMetadata": {
      "byteLimit": 2048000,
      "rowLimit": 10000
     },
     "inputWidgets": {},
     "nuid": "e2c0f562-406c-44b0-84b0-29f80129a1d0",
     "showTitle": false,
     "title": ""
    }
   },
   "source": [
    "### 01. What is average docking time of the ship?"
   ]
  },
  {
   "cell_type": "code",
   "execution_count": 0,
   "metadata": {
    "application/vnd.databricks.v1+cell": {
     "cellMetadata": {
      "byteLimit": 2048000,
      "implicitDf": true,
      "rowLimit": 10000
     },
     "inputWidgets": {},
     "nuid": "f83407fa-71a5-48e1-a00c-068b45013b3d",
     "showTitle": false,
     "title": ""
    }
   },
   "outputs": [
    {
     "output_type": "display_data",
     "data": {
      "text/html": [
       "<style scoped>\n",
       "  .table-result-container {\n",
       "    max-height: 300px;\n",
       "    overflow: auto;\n",
       "  }\n",
       "  table, th, td {\n",
       "    border: 1px solid black;\n",
       "    border-collapse: collapse;\n",
       "  }\n",
       "  th, td {\n",
       "    padding: 5px;\n",
       "  }\n",
       "  th {\n",
       "    text-align: left;\n",
       "  }\n",
       "</style><div class='table-result-container'><table class='table-result'><thead style='background-color: white'><tr><th>Hours</th><th>Minutes</th></tr></thead><tbody><tr><td>46</td><td>26</td></tr></tbody></table></div>"
      ]
     },
     "metadata": {
      "application/vnd.databricks.v1+output": {
       "addedWidgets": {},
       "aggData": [],
       "aggError": "",
       "aggOverflow": false,
       "aggSchema": [],
       "aggSeriesLimitReached": false,
       "aggType": "",
       "arguments": {},
       "columnCustomDisplayInfos": {},
       "data": [
        [
         46,
         26
        ]
       ],
       "datasetInfos": [],
       "dbfsResultPath": null,
       "isJsonSchema": true,
       "metadata": {},
       "overflow": false,
       "plotOptions": {
        "customPlotOptions": {},
        "displayType": "table",
        "pivotAggregation": null,
        "pivotColumns": null,
        "xColumns": null,
        "yColumns": null
       },
       "removedWidgets": [],
       "schema": [
        {
         "metadata": "{}",
         "name": "Hours",
         "type": "\"integer\""
        },
        {
         "metadata": "{}",
         "name": "Minutes",
         "type": "\"integer\""
        }
       ],
       "type": "table"
      }
     },
     "output_type": "display_data"
    }
   ],
   "source": [
    "%sql\n",
    "SELECT \n",
    "        CAST(AVG(Docking_Time_Hours) AS INT) as Hours, \n",
    "        \n",
    "        CAST((AVG(Docking_Time_Hours) - CAST(AVG(Docking_Time_Hours) AS INT)) * 60 AS INT) as Minutes\n",
    "FROM \n",
    "    ShipSparkTable\n"
   ]
  },
  {
   "cell_type": "markdown",
   "metadata": {
    "application/vnd.databricks.v1+cell": {
     "cellMetadata": {
      "byteLimit": 2048000,
      "rowLimit": 10000
     },
     "inputWidgets": {},
     "nuid": "40bef8a4-2ca2-42ce-a368-dabbce2ae086",
     "showTitle": false,
     "title": ""
    }
   },
   "source": [
    "\n",
    "### 02. How the gross Tonnes can be co-related with docking time e.g., for ships we don’t have Gross Tonnes or DWT?"
   ]
  },
  {
   "cell_type": "markdown",
   "metadata": {
    "application/vnd.databricks.v1+cell": {
     "cellMetadata": {
      "byteLimit": 2048000,
      "rowLimit": 10000
     },
     "inputWidgets": {},
     "nuid": "3b6ae2cf-bbb7-4536-b241-6147cb5dddbb",
     "showTitle": false,
     "title": ""
    }
   },
   "source": [
    "#### Analysis Method\n",
    "1. To explore the relationship between a ship's Gross Tonnes and its docking time, I conducted a scatter plot analysis. The data was limited to docking times of up to 1000 hours to focus on the most relevant range and exclude extreme outliers.\n",
    "\n"
   ]
  },
  {
   "cell_type": "code",
   "execution_count": 0,
   "metadata": {
    "application/vnd.databricks.v1+cell": {
     "cellMetadata": {
      "byteLimit": 2048000,
      "rowLimit": 10000
     },
     "inputWidgets": {},
     "nuid": "5c6fe644-c968-448b-abe6-42b0e4dc974d",
     "showTitle": false,
     "title": ""
    }
   },
   "outputs": [
    {
     "output_type": "display_data",
     "data": {
      "image/png": "[encoded data removed]"
     },
     "metadata": {
      "application/vnd.databricks.v1+output": {
       "addedWidgets": {},
       "arguments": {},
       "data": "data:image/png;base64,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\n",
       "datasetInfos": [],
       "metadata": {},
       "removedWidgets": [],
       "type": "image"
      }
     },
     "output_type": "display_data"
    }
   ],
   "source": [
    "import matplotlib.pyplot as plt\n",
    "ship_pandas_df = ship_spark_df.toPandas()\n",
    "\n",
    "filtered_shipdf = ship_pandas_df[ship_pandas_df['Docking_Time_Hours'] <= 1000].copy()\n",
    "filtered_shipdf.dropna(inplace=True)\n",
    "\n",
    "# Scatter plot of Gross Tonnes vs. Docking Time (Hours)\n",
    "plt.figure(figsize=(12, 6))  # Width: 12 inches, Height: 6 inches\n",
    "\n",
    "plt.scatter( filtered_shipdf['Docking_Time_Hours'],filtered_shipdf['Gross_Tonnes'])\n",
    "\n",
    "plt.xlabel('Docking_Time_Hours')\n",
    "plt.ylabel('Gross_Tonnes')\n",
    "plt.title('Scatter Plot of Gross Tonnes vs. Docking Time')\n",
    "plt.show()\n"
   ]
  },
  {
   "cell_type": "markdown",
   "metadata": {
    "application/vnd.databricks.v1+cell": {
     "cellMetadata": {
      "byteLimit": 2048000,
      "rowLimit": 10000
     },
     "inputWidgets": {},
     "nuid": "fd90cb76-210f-4a43-a68c-0af97fda21e7",
     "showTitle": false,
     "title": ""
    }
   },
   "source": [
    "##### Outcome of Analysis\n",
    "- The scatter plot analysis between Docking Time (Hours) and Gross Tonnes reveals no direct linear relationship between these two variables.\n",
    "- Instances are noted where ships with higher Gross Tonnes values have relatively short docking times, particularly less than 200 hours. This indicates that larger ships don't necessarily spend a longer time docked.\n",
    "- Focusing on \"Lara 1\" as a specific example:\n",
    "  - Despite its Gross Tonnes and DWT values remaining constant across different port visits, the docking time for each visit varies.\n",
    "  - There's no apparent pattern linking the dates of \"Lara 1's\" visits to the Liverpool port with the duration of its stay.\n",
    "- These observations suggest that the size of a ship, as indicated by its Gross Tonnes and DWT, does not have a straightforward or consistent impact on its docking time.\n",
    "- Other factors, perhaps related to port operations, external conditions, might be more influential in determining how long a ship stays docked."
   ]
  },
  {
   "cell_type": "markdown",
   "metadata": {
    "application/vnd.databricks.v1+cell": {
     "cellMetadata": {
      "byteLimit": 2048000,
      "rowLimit": 10000
     },
     "inputWidgets": {},
     "nuid": "2e932f8f-9904-430b-9e07-c856bc38274a",
     "showTitle": false,
     "title": ""
    }
   },
   "source": [
    "\n",
    "*Further Analysis*:\n",
    "To illustrate the variation in docking time for a ship with consistent Gross Tonnes and DWT, I have queried the data for \"Lara 1\"."
   ]
  },
  {
   "cell_type": "code",
   "execution_count": 0,
   "metadata": {
    "application/vnd.databricks.v1+cell": {
     "cellMetadata": {
      "byteLimit": 2048000,
      "implicitDf": true,
      "rowLimit": 10000
     },
     "inputWidgets": {},
     "nuid": "6763703f-b2e6-48f5-80c6-046fc9b33878",
     "showTitle": false,
     "title": ""
    }
   },
   "outputs": [
    {
     "output_type": "display_data",
     "data": {
      "text/html": [
       "<style scoped>\n",
       "  .table-result-container {\n",
       "    max-height: 300px;\n",
       "    overflow: auto;\n",
       "  }\n",
       "  table, th, td {\n",
       "    border: 1px solid black;\n",
       "    border-collapse: collapse;\n",
       "  }\n",
       "  th, td {\n",
       "    padding: 5px;\n",
       "  }\n",
       "  th {\n",
       "    text-align: left;\n",
       "  }\n",
       "</style><div class='table-result-container'><table class='table-result'><thead style='background-color: white'><tr><th>Docking_Time_Hours</th><th>Name</th><th>Flag</th><th>LLI_Vessel_Type</th><th>Gross_Tonnes</th><th>DWT</th><th>Prior_Place</th></tr></thead><tbody><tr><td>1446.4472222222223</td><td>Lara 1</td><td>Panama</td><td>crane barge</td><td>1793.0</td><td>2346.0</td><td>Ellesmere Port</td></tr><tr><td>92.37555555555555</td><td>Lara 1</td><td>Panama</td><td>crane barge</td><td>1793.0</td><td>2346.0</td><td>Ellesmere Port</td></tr><tr><td>212.66305555555556</td><td>Lara 1</td><td>Panama</td><td>crane barge</td><td>1793.0</td><td>2346.0</td><td>Ellesmere Port</td></tr><tr><td>103.63305555555556</td><td>Lara 1</td><td>Panama</td><td>crane barge</td><td>1793.0</td><td>2346.0</td><td>Ellesmere Port</td></tr><tr><td>1364.7183333333332</td><td>Lara 1</td><td>Panama</td><td>crane barge</td><td>1793.0</td><td>2346.0</td><td>Birkenhead</td></tr></tbody></table></div>"
      ]
     },
     "metadata": {
      "application/vnd.databricks.v1+output": {
       "addedWidgets": {},
       "aggData": [],
       "aggError": "",
       "aggOverflow": false,
       "aggSchema": [],
       "aggSeriesLimitReached": false,
       "aggType": "",
       "arguments": {},
       "columnCustomDisplayInfos": {},
       "data": [
        [
         1446.4472222222223,
         "Lara 1",
         "Panama",
         "crane barge",
         1793.0,
         2346.0,
         "Ellesmere Port"
        ],
        [
         92.37555555555555,
         "Lara 1",
         "Panama",
         "crane barge",
         1793.0,
         2346.0,
         "Ellesmere Port"
        ],
        [
         212.66305555555556,
         "Lara 1",
         "Panama",
         "crane barge",
         1793.0,
         2346.0,
         "Ellesmere Port"
        ],
        [
         103.63305555555556,
         "Lara 1",
         "Panama",
         "crane barge",
         1793.0,
         2346.0,
         "Ellesmere Port"
        ],
        [
         1364.7183333333332,
         "Lara 1",
         "Panama",
         "crane barge",
         1793.0,
         2346.0,
         "Birkenhead"
        ]
       ],
       "datasetInfos": [],
       "dbfsResultPath": null,
       "isJsonSchema": true,
       "metadata": {},
       "overflow": false,
       "plotOptions": {
        "customPlotOptions": {},
        "displayType": "table",
        "pivotAggregation": null,
        "pivotColumns": null,
        "xColumns": null,
        "yColumns": null
       },
       "removedWidgets": [],
       "schema": [
        {
         "metadata": "{}",
         "name": "Docking_Time_Hours",
         "type": "\"double\""
        },
        {
         "metadata": "{}",
         "name": "Name",
         "type": "\"string\""
        },
        {
         "metadata": "{}",
         "name": "Flag",
         "type": "\"string\""
        },
        {
         "metadata": "{}",
         "name": "LLI_Vessel_Type",
         "type": "\"string\""
        },
        {
         "metadata": "{}",
         "name": "Gross_Tonnes",
         "type": "\"double\""
        },
        {
         "metadata": "{}",
         "name": "DWT",
         "type": "\"double\""
        },
        {
         "metadata": "{}",
         "name": "Prior_Place",
         "type": "\"string\""
        }
       ],
       "type": "table"
      }
     },
     "output_type": "display_data"
    }
   ],
   "source": [
    "%sql\n",
    "-- Diffrent docking time for same gross tonnes and DWT\n",
    "select Docking_Time_Hours,Name,Flag,LLI_Vessel_Type,Gross_Tonnes,DWT,Prior_Place from ShipSparkTable where Name='Lara 1' limit 5"
   ]
  },
  {
   "cell_type": "markdown",
   "metadata": {
    "application/vnd.databricks.v1+cell": {
     "cellMetadata": {
      "byteLimit": 2048000,
      "rowLimit": 10000
     },
     "inputWidgets": {},
     "nuid": "39f519c3-1509-4623-aa99-34377db1862a",
     "showTitle": false,
     "title": ""
    }
   },
   "source": [
    "#### Data Imputation for Gross Tonnes\n",
    "To fill missing Gross Tonnes data, it's a good idea to use the LLI Vessel Type. This works well because ships of the same type usually have similar sizes and weights. So, this method provides a realistic way to fill in missing information, making sure it matches the actual size and weight of the ships."
   ]
  },
  {
   "cell_type": "code",
   "execution_count": 0,
   "metadata": {
    "application/vnd.databricks.v1+cell": {
     "cellMetadata": {
      "byteLimit": 2048000,
      "implicitDf": true,
      "rowLimit": 10000
     },
     "inputWidgets": {},
     "nuid": "643f7bd3-127b-4f33-9880-818aeb26bc07",
     "showTitle": false,
     "title": ""
    }
   },
   "outputs": [
    {
     "output_type": "display_data",
     "data": {
      "text/html": [
       "<style scoped>\n",
       "  .table-result-container {\n",
       "    max-height: 300px;\n",
       "    overflow: auto;\n",
       "  }\n",
       "  table, th, td {\n",
       "    border: 1px solid black;\n",
       "    border-collapse: collapse;\n",
       "  }\n",
       "  th, td {\n",
       "    padding: 5px;\n",
       "  }\n",
       "  th {\n",
       "    text-align: left;\n",
       "  }\n",
       "</style><div class='table-result-container'><table class='table-result'><thead style='background-color: white'><tr><th>num_affected_rows</th><th>num_updated_rows</th><th>num_deleted_rows</th><th>num_inserted_rows</th></tr></thead><tbody><tr><td>598</td><td>598</td><td>0</td><td>0</td></tr></tbody></table></div>"
      ]
     },
     "metadata": {
      "application/vnd.databricks.v1+output": {
       "addedWidgets": {},
       "aggData": [],
       "aggError": "",
       "aggOverflow": false,
       "aggSchema": [],
       "aggSeriesLimitReached": false,
       "aggType": "",
       "arguments": {},
       "columnCustomDisplayInfos": {},
       "data": [
        [
         598,
         598,
         0,
         0
        ]
       ],
       "datasetInfos": [],
       "dbfsResultPath": null,
       "isJsonSchema": true,
       "metadata": {},
       "overflow": false,
       "plotOptions": {
        "customPlotOptions": {},
        "displayType": "table",
        "pivotAggregation": null,
        "pivotColumns": null,
        "xColumns": null,
        "yColumns": null
       },
       "removedWidgets": [],
       "schema": [
        {
         "metadata": "{}",
         "name": "num_affected_rows",
         "type": "\"long\""
        },
        {
         "metadata": "{}",
         "name": "num_updated_rows",
         "type": "\"long\""
        },
        {
         "metadata": "{}",
         "name": "num_deleted_rows",
         "type": "\"long\""
        },
        {
         "metadata": "{}",
         "name": "num_inserted_rows",
         "type": "\"long\""
        }
       ],
       "type": "table"
      }
     },
     "output_type": "display_data"
    }
   ],
   "source": [
    "%sql\n",
    "merge into ShipSparkTable as Target\n",
    "using (\n",
    "  select LLI_Vessel_Type,avg(Gross_Tonnes) as avg_gross_tonnes from ShipSparkTable where Gross_Tonnes is not null\n",
    "group by all\n",
    ") as source\n",
    "on Target.LLI_Vessel_Type=source.LLI_Vessel_Type and Target.Gross_Tonnes is null\n",
    "when matched then\n",
    "update set  Target.Gross_Tonnes=source.avg_gross_tonnes\n"
   ]
  },
  {
   "cell_type": "markdown",
   "metadata": {
    "application/vnd.databricks.v1+cell": {
     "cellMetadata": {
      "byteLimit": 2048000,
      "rowLimit": 10000
     },
     "inputWidgets": {},
     "nuid": "6a27c87d-c43e-42eb-bb1a-9c946ef8f8cb",
     "showTitle": false,
     "title": ""
    }
   },
   "source": [
    "#### Data Imputation for DWT\n",
    "To estimate missing DWT (Deadweight Tonnage) data, it's practical to consider each ship's type. Generally, ships of the same type, when loaded to their full capacity, tend to carry similar weights. So, using the ship type to update missing DWT values is likely to provide a good estimate, reflecting what each ship type can typically carry when fully loaded. This approach helps ensure that the data for each ship's carrying capacity is realistic and consistent with others of the same type."
   ]
  },
  {
   "cell_type": "code",
   "execution_count": 0,
   "metadata": {
    "application/vnd.databricks.v1+cell": {
     "cellMetadata": {
      "byteLimit": 2048000,
      "implicitDf": true,
      "rowLimit": 10000
     },
     "inputWidgets": {},
     "nuid": "a1b64216-daf1-40fa-ae7c-1c463e5e77ad",
     "showTitle": false,
     "title": ""
    }
   },
   "outputs": [
    {
     "output_type": "display_data",
     "data": {
      "text/html": [
       "<style scoped>\n",
       "  .table-result-container {\n",
       "    max-height: 300px;\n",
       "    overflow: auto;\n",
       "  }\n",
       "  table, th, td {\n",
       "    border: 1px solid black;\n",
       "    border-collapse: collapse;\n",
       "  }\n",
       "  th, td {\n",
       "    padding: 5px;\n",
       "  }\n",
       "  th {\n",
       "    text-align: left;\n",
       "  }\n",
       "</style><div class='table-result-container'><table class='table-result'><thead style='background-color: white'><tr><th>num_affected_rows</th><th>num_updated_rows</th><th>num_deleted_rows</th><th>num_inserted_rows</th></tr></thead><tbody><tr><td>1174</td><td>1174</td><td>0</td><td>0</td></tr></tbody></table></div>"
      ]
     },
     "metadata": {
      "application/vnd.databricks.v1+output": {
       "addedWidgets": {},
       "aggData": [],
       "aggError": "",
       "aggOverflow": false,
       "aggSchema": [],
       "aggSeriesLimitReached": false,
       "aggType": "",
       "arguments": {},
       "columnCustomDisplayInfos": {},
       "data": [
        [
         1174,
         1174,
         0,
         0
        ]
       ],
       "datasetInfos": [],
       "dbfsResultPath": null,
       "isJsonSchema": true,
       "metadata": {},
       "overflow": false,
       "plotOptions": {
        "customPlotOptions": {},
        "displayType": "table",
        "pivotAggregation": null,
        "pivotColumns": null,
        "xColumns": null,
        "yColumns": null
       },
       "removedWidgets": [],
       "schema": [
        {
         "metadata": "{}",
         "name": "num_affected_rows",
         "type": "\"long\""
        },
        {
         "metadata": "{}",
         "name": "num_updated_rows",
         "type": "\"long\""
        },
        {
         "metadata": "{}",
         "name": "num_deleted_rows",
         "type": "\"long\""
        },
        {
         "metadata": "{}",
         "name": "num_inserted_rows",
         "type": "\"long\""
        }
       ],
       "type": "table"
      }
     },
     "output_type": "display_data"
    }
   ],
   "source": [
    "%sql\n",
    "merge into ShipSparkTable as Target\n",
    "using (\n",
    "  select LLI_Vessel_Type,avg(DWT) as avg_DWT from ShipSparkTable where DWT is not null\n",
    "group by all\n",
    ") as source\n",
    "on Target.LLI_Vessel_Type=source.LLI_Vessel_Type and Target.DWT is null\n",
    "when matched then\n",
    "update set  Target.DWT=source.avg_DWT\n"
   ]
  },
  {
   "cell_type": "markdown",
   "metadata": {
    "application/vnd.databricks.v1+cell": {
     "cellMetadata": {
      "byteLimit": 2048000,
      "rowLimit": 10000
     },
     "inputWidgets": {},
     "nuid": "45d3752b-ae4d-442a-baa6-fb885fe2b3ab",
     "showTitle": false,
     "title": ""
    }
   },
   "source": [
    "Records where Gross_Tonnes is still missing\n",
    "  - Given that there are four different ships classified as pilot ships, each with distinct names, it would be more accurate to verify their weights individually and obtain this information from reliable sources. Pilot ships, being specialized vessels, can vary in size and weight, even among ships of the same classification. \n",
    "  - Manual update needs to be made as data is not available for similar Vessel Type"
   ]
  },
  {
   "cell_type": "code",
   "execution_count": 0,
   "metadata": {
    "application/vnd.databricks.v1+cell": {
     "cellMetadata": {
      "byteLimit": 2048000,
      "implicitDf": true,
      "rowLimit": 10000
     },
     "inputWidgets": {},
     "nuid": "3ddcbe5e-553f-48d5-a98e-2ce614cbbbf2",
     "showTitle": false,
     "title": ""
    }
   },
   "outputs": [
    {
     "output_type": "display_data",
     "data": {
      "text/html": [
       "<style scoped>\n",
       "  .table-result-container {\n",
       "    max-height: 300px;\n",
       "    overflow: auto;\n",
       "  }\n",
       "  table, th, td {\n",
       "    border: 1px solid black;\n",
       "    border-collapse: collapse;\n",
       "  }\n",
       "  th, td {\n",
       "    padding: 5px;\n",
       "  }\n",
       "  th {\n",
       "    text-align: left;\n",
       "  }\n",
       "</style><div class='table-result-container'><table class='table-result'><thead style='background-color: white'><tr><th>name</th><th>LLI_Vessel_Type</th><th>count(1)</th></tr></thead><tbody><tr><td>TURNSTONE</td><td>pilot ship</td><td>1</td></tr><tr><td>RAZORBILL</td><td>pilot ship</td><td>472</td></tr><tr><td>PETREL</td><td>pilot ship</td><td>430</td></tr><tr><td>KITTIWAKE</td><td>pilot ship</td><td>486</td></tr></tbody></table></div>"
      ]
     },
     "metadata": {
      "application/vnd.databricks.v1+output": {
       "addedWidgets": {},
       "aggData": [],
       "aggError": "",
       "aggOverflow": false,
       "aggSchema": [],
       "aggSeriesLimitReached": false,
       "aggType": "",
       "arguments": {},
       "columnCustomDisplayInfos": {},
       "data": [
        [
         "TURNSTONE",
         "pilot ship",
         1
        ],
        [
         "RAZORBILL",
         "pilot ship",
         472
        ],
        [
         "PETREL",
         "pilot ship",
         430
        ],
        [
         "KITTIWAKE",
         "pilot ship",
         486
        ]
       ],
       "datasetInfos": [],
       "dbfsResultPath": null,
       "isJsonSchema": true,
       "metadata": {},
       "overflow": false,
       "plotOptions": {
        "customPlotOptions": {},
        "displayType": "table",
        "pivotAggregation": null,
        "pivotColumns": null,
        "xColumns": null,
        "yColumns": null
       },
       "removedWidgets": [],
       "schema": [
        {
         "metadata": "{}",
         "name": "name",
         "type": "\"string\""
        },
        {
         "metadata": "{}",
         "name": "LLI_Vessel_Type",
         "type": "\"string\""
        },
        {
         "metadata": "{\"__autoGeneratedAlias\":\"true\"}",
         "name": "count(1)",
         "type": "\"long\""
        }
       ],
       "type": "table"
      }
     },
     "output_type": "display_data"
    }
   ],
   "source": [
    "%sql\n",
    "-- Records where Gross_Tonnes is still missing\n",
    "select  name,LLI_Vessel_Type,count(*) from ShipSparkTable where Gross_Tonnes is null\n",
    "group by all"
   ]
  },
  {
   "cell_type": "markdown",
   "metadata": {
    "application/vnd.databricks.v1+cell": {
     "cellMetadata": {
      "byteLimit": 2048000,
      "rowLimit": 10000
     },
     "inputWidgets": {},
     "nuid": "7317f6a1-ca8b-49cb-8060-547eb8078e4f",
     "showTitle": false,
     "title": ""
    }
   },
   "source": [
    "Records where DWT is still missing\n",
    "- For the mentioned categories like pusher tugs, pilot ships, unspecified vessel types, naval vessels, fishery protection boats, drill platforms, and trawlers, it's important to recognize that these are often smaller or support vessels. They are typically used to assist or accompany larger ships and have unique operational roles. Because of their specialized functions and variations in design and capacity, a customized approach should be taken for each individual vessel type when estimating missing DWT data. \n",
    "- Manual update needs to be made as data is not available for similar Vessel Type"
   ]
  },
  {
   "cell_type": "code",
   "execution_count": 0,
   "metadata": {
    "application/vnd.databricks.v1+cell": {
     "cellMetadata": {
      "byteLimit": 2048000,
      "implicitDf": true,
      "rowLimit": 10000
     },
     "inputWidgets": {},
     "nuid": "f572968b-f541-4a3e-bb03-65553557ca18",
     "showTitle": false,
     "title": ""
    }
   },
   "outputs": [
    {
     "output_type": "display_data",
     "data": {
      "text/html": [
       "<style scoped>\n",
       "  .table-result-container {\n",
       "    max-height: 300px;\n",
       "    overflow: auto;\n",
       "  }\n",
       "  table, th, td {\n",
       "    border: 1px solid black;\n",
       "    border-collapse: collapse;\n",
       "  }\n",
       "  th, td {\n",
       "    padding: 5px;\n",
       "  }\n",
       "  th {\n",
       "    text-align: left;\n",
       "  }\n",
       "</style><div class='table-result-container'><table class='table-result'><thead style='background-color: white'><tr><th>LLI_Vessel_Type</th><th>count(1)</th></tr></thead><tbody><tr><td>pusher tug</td><td>27</td></tr><tr><td>pilot ship</td><td>1389</td></tr><tr><td>Vessel Type (unspecified)</td><td>179</td></tr><tr><td>Naval Vessel</td><td>4</td></tr><tr><td>fishery protection</td><td>2</td></tr><tr><td>drill platform</td><td>1</td></tr><tr><td>trawler (All types)</td><td>2</td></tr></tbody></table></div>"
      ]
     },
     "metadata": {
      "application/vnd.databricks.v1+output": {
       "addedWidgets": {},
       "aggData": [],
       "aggError": "",
       "aggOverflow": false,
       "aggSchema": [],
       "aggSeriesLimitReached": false,
       "aggType": "",
       "arguments": {},
       "columnCustomDisplayInfos": {},
       "data": [
        [
         "pusher tug",
         27
        ],
        [
         "pilot ship",
         1389
        ],
        [
         "Vessel Type (unspecified)",
         179
        ],
        [
         "Naval Vessel",
         4
        ],
        [
         "fishery protection",
         2
        ],
        [
         "drill platform",
         1
        ],
        [
         "trawler (All types)",
         2
        ]
       ],
       "datasetInfos": [],
       "dbfsResultPath": null,
       "isJsonSchema": true,
       "metadata": {},
       "overflow": false,
       "plotOptions": {
        "customPlotOptions": {},
        "displayType": "table",
        "pivotAggregation": null,
        "pivotColumns": null,
        "xColumns": null,
        "yColumns": null
       },
       "removedWidgets": [],
       "schema": [
        {
         "metadata": "{}",
         "name": "LLI_Vessel_Type",
         "type": "\"string\""
        },
        {
         "metadata": "{\"__autoGeneratedAlias\":\"true\"}",
         "name": "count(1)",
         "type": "\"long\""
        }
       ],
       "type": "table"
      }
     },
     "output_type": "display_data"
    }
   ],
   "source": [
    "%sql\n",
    "-- Records where DWT is missing\n",
    "select  LLI_Vessel_Type,count(*) from ShipSparkTable where DWT is null\n",
    "group by all"
   ]
  },
  {
   "cell_type": "markdown",
   "metadata": {
    "application/vnd.databricks.v1+cell": {
     "cellMetadata": {
      "byteLimit": 2048000,
      "rowLimit": 10000
     },
     "inputWidgets": {},
     "nuid": "909bfec0-874d-4986-bff6-ee2dfae4a45a",
     "showTitle": false,
     "title": ""
    }
   },
   "source": [
    "\n",
    "### 03. How the Vessel Type (column D) can be co-related with docking time and Gross Tonnes or DWT?\n",
    "\n"
   ]
  },
  {
   "cell_type": "markdown",
   "metadata": {
    "application/vnd.databricks.v1+cell": {
     "cellMetadata": {
      "byteLimit": 2048000,
      "rowLimit": 10000
     },
     "inputWidgets": {},
     "nuid": "0e4c7f35-fe0e-44f8-ade2-c36cc79e3956",
     "showTitle": false,
     "title": ""
    }
   },
   "source": [
    "##### 1. Analyzing the docking times of different vessel types, particularly focusing on a single month, allows for more effective berth planning and allocation based on the trends and patterns observed in the data."
   ]
  },
  {
   "cell_type": "code",
   "execution_count": 0,
   "metadata": {
    "application/vnd.databricks.v1+cell": {
     "cellMetadata": {
      "byteLimit": 2048000,
      "implicitDf": true,
      "rowLimit": 10000
     },
     "inputWidgets": {},
     "nuid": "77bbefb2-a4e0-4ddc-ba41-386806921ea4",
     "showTitle": false,
     "title": ""
    }
   },
   "outputs": [
    {
     "output_type": "display_data",
     "data": {
      "text/html": [
       "<style scoped>\n",
       "  .table-result-container {\n",
       "    max-height: 300px;\n",
       "    overflow: auto;\n",
       "  }\n",
       "  table, th, td {\n",
       "    border: 1px solid black;\n",
       "    border-collapse: collapse;\n",
       "  }\n",
       "  th, td {\n",
       "    padding: 5px;\n",
       "  }\n",
       "  th {\n",
       "    text-align: left;\n",
       "  }\n",
       "</style><div class='table-result-container'><table class='table-result'><thead style='background-color: white'><tr><th>LLI_Vessel_Type</th><th>Hours</th><th>Minutes</th></tr></thead><tbody><tr><td>support</td><td>2027</td><td>26</td></tr><tr><td>yacht</td><td>645</td><td>44</td></tr><tr><td>crane barge</td><td>298</td><td>38</td></tr><tr><td>bulk carrier</td><td>170</td><td>22</td></tr><tr><td>Vessel Type (unspecified)</td><td>166</td><td>31</td></tr></tbody></table></div>"
      ]
     },
     "metadata": {
      "application/vnd.databricks.v1+output": {
       "addedWidgets": {},
       "aggData": [],
       "aggError": "",
       "aggOverflow": false,
       "aggSchema": [],
       "aggSeriesLimitReached": false,
       "aggType": "",
       "arguments": {},
       "columnCustomDisplayInfos": {},
       "data": [
        [
         "support",
         2027,
         26
        ],
        [
         "yacht",
         645,
         44
        ],
        [
         "crane barge",
         298,
         38
        ],
        [
         "bulk carrier",
         170,
         22
        ],
        [
         "Vessel Type (unspecified)",
         166,
         31
        ]
       ],
       "datasetInfos": [],
       "dbfsResultPath": null,
       "isJsonSchema": true,
       "metadata": {},
       "overflow": false,
       "plotOptions": {
        "customPlotOptions": {},
        "displayType": "table",
        "pivotAggregation": null,
        "pivotColumns": null,
        "xColumns": null,
        "yColumns": null
       },
       "removedWidgets": [],
       "schema": [
        {
         "metadata": "{}",
         "name": "LLI_Vessel_Type",
         "type": "\"string\""
        },
        {
         "metadata": "{}",
         "name": "Hours",
         "type": "\"integer\""
        },
        {
         "metadata": "{}",
         "name": "Minutes",
         "type": "\"integer\""
        }
       ],
       "type": "table"
      }
     },
     "output_type": "display_data"
    }
   ],
   "source": [
    "%sql\n",
    "SELECT \n",
    "    LLI_Vessel_Type,\n",
    "        CAST(AVG(Docking_Time_Hours) AS INT) as Hours, \n",
    "                CAST((AVG(Docking_Time_Hours) - CAST(AVG(Docking_Time_Hours) AS INT)) * 60 AS INT) as Minutes\n",
    "FROM \n",
    "    ShipSparkTable\n",
    "     where cast(Arrived_at as date) BETWEEN '2023-01-01' and '2023-01-30'\n",
    "group by LLI_Vessel_Type order by 2 desc\n",
    "limit 5"
   ]
  },
  {
   "cell_type": "markdown",
   "metadata": {
    "application/vnd.databricks.v1+cell": {
     "cellMetadata": {
      "byteLimit": 2048000,
      "rowLimit": 10000
     },
     "inputWidgets": {},
     "nuid": "fe677c9b-25bc-444d-aab8-4d474ee210bb",
     "showTitle": false,
     "title": ""
    }
   },
   "source": [
    "##### 2. Knowing the frequency of each vessel type, combined with their size range (Gross Tonnes), aids in better resource allocation"
   ]
  },
  {
   "cell_type": "code",
   "execution_count": 0,
   "metadata": {
    "application/vnd.databricks.v1+cell": {
     "cellMetadata": {
      "byteLimit": 2048000,
      "implicitDf": true,
      "rowLimit": 10000
     },
     "inputWidgets": {},
     "nuid": "d7079151-34d6-4f02-91fd-932edc4c7c69",
     "showTitle": false,
     "title": ""
    }
   },
   "outputs": [
    {
     "output_type": "display_data",
     "data": {
      "text/html": [
       "<style scoped>\n",
       "  .table-result-container {\n",
       "    max-height: 300px;\n",
       "    overflow: auto;\n",
       "  }\n",
       "  table, th, td {\n",
       "    border: 1px solid black;\n",
       "    border-collapse: collapse;\n",
       "  }\n",
       "  th, td {\n",
       "    padding: 5px;\n",
       "  }\n",
       "  th {\n",
       "    text-align: left;\n",
       "  }\n",
       "</style><div class='table-result-container'><table class='table-result'><thead style='background-color: white'><tr><th>LLI_Vessel_Type</th><th>Min_Gross_Tonnes</th><th>Max_Gross_Tonnes</th><th>Avg_Gross_Tonnes</th><th>count_vessel</th></tr></thead><tbody><tr><td>crude oil tanker</td><td>56500.0</td><td>154381.0</td><td>71130.17</td><td>89</td></tr><tr><td>passenger (cruise)</td><td>693.0</td><td>149215.0</td><td>67655.17</td><td>94</td></tr><tr><td>bulk carrier</td><td>3092.0</td><td>45843.0</td><td>30056.64</td><td>203</td></tr><tr><td>roll on roll off with container capacity</td><td>7606.0</td><td>100430.0</td><td>29447.3</td><td>608</td></tr><tr><td>passenger ro/ro</td><td>2382.0</td><td>63621.0</td><td>27557.72</td><td>1326</td></tr></tbody></table></div>"
      ]
     },
     "metadata": {
      "application/vnd.databricks.v1+output": {
       "addedWidgets": {},
       "aggData": [],
       "aggError": "",
       "aggOverflow": false,
       "aggSchema": [],
       "aggSeriesLimitReached": false,
       "aggType": "",
       "arguments": {},
       "columnCustomDisplayInfos": {},
       "data": [
        [
         "crude oil tanker",
         56500.0,
         154381.0,
         71130.17,
         89
        ],
        [
         "passenger (cruise)",
         693.0,
         149215.0,
         67655.17,
         94
        ],
        [
         "bulk carrier",
         3092.0,
         45843.0,
         30056.64,
         203
        ],
        [
         "roll on roll off with container capacity",
         7606.0,
         100430.0,
         29447.3,
         608
        ],
        [
         "passenger ro/ro",
         2382.0,
         63621.0,
         27557.72,
         1326
        ]
       ],
       "datasetInfos": [],
       "dbfsResultPath": null,
       "isJsonSchema": true,
       "metadata": {},
       "overflow": false,
       "plotOptions": {
        "customPlotOptions": {},
        "displayType": "table",
        "pivotAggregation": null,
        "pivotColumns": null,
        "xColumns": null,
        "yColumns": null
       },
       "removedWidgets": [],
       "schema": [
        {
         "metadata": "{}",
         "name": "LLI_Vessel_Type",
         "type": "\"string\""
        },
        {
         "metadata": "{}",
         "name": "Min_Gross_Tonnes",
         "type": "\"double\""
        },
        {
         "metadata": "{}",
         "name": "Max_Gross_Tonnes",
         "type": "\"double\""
        },
        {
         "metadata": "{}",
         "name": "Avg_Gross_Tonnes",
         "type": "\"double\""
        },
        {
         "metadata": "{}",
         "name": "count_vessel",
         "type": "\"long\""
        }
       ],
       "type": "table"
      }
     },
     "output_type": "display_data"
    }
   ],
   "source": [
    "%sql\n",
    "SELECT \n",
    "    LLI_Vessel_Type,\n",
    "    MIN(Gross_Tonnes) AS Min_Gross_Tonnes,\n",
    "    MAX(Gross_Tonnes) AS Max_Gross_Tonnes,\n",
    "    ROUND(AVG(Gross_Tonnes), 2) AS Avg_Gross_Tonnes,\n",
    "    count(LLI_Vessel_Type) as count_vessel\n",
    "FROM ShipSparkTable\n",
    "GROUP BY LLI_Vessel_Type\n",
    "\n",
    "ORDER BY Avg_Gross_Tonnes DESC\n",
    "limit 5\n",
    "\n",
    ";\n"
   ]
  },
  {
   "cell_type": "markdown",
   "metadata": {
    "application/vnd.databricks.v1+cell": {
     "cellMetadata": {
      "byteLimit": 2048000,
      "rowLimit": 10000
     },
     "inputWidgets": {},
     "nuid": "4f784173-116a-4dc2-9187-7a3b5fb9d5c0",
     "showTitle": false,
     "title": ""
    }
   },
   "source": [
    "### 04. How can we cluster the last port prior to arrival (Column H) with column F, G and I, J?\n"
   ]
  },
  {
   "cell_type": "markdown",
   "metadata": {
    "application/vnd.databricks.v1+cell": {
     "cellMetadata": {
      "byteLimit": 2048000,
      "rowLimit": 10000
     },
     "inputWidgets": {},
     "nuid": "facb8570-f2ee-4b57-81f8-61fac69f3702",
     "showTitle": false,
     "title": ""
    }
   },
   "source": [
    "Expected Output\n",
    "1. By analyzing the minimum and maximum Gross Tonnes and DWT, we get a clear picture of the range of vessel sizes coming from each prior port. This indicates the capacity and types of ships the prior ports can handle.\n",
    "2. The count of ships from each prior port helps understand the volume of traffic. More ships from a particular port can indicate a stronger commercial or trading relationship.\n",
    "3. Ports handling larger vessels (with higher Gross Tonnes and DWT) are likely to be larger and better equipped. This data helps estimate the infrastructure and capacity of these prior ports.\n",
    "4. Knowing the range and frequency of vessels from each port can aid in strategic decision-making for resource allocation, logistical planning, and enhancing operational efficiency at the Liverpool Port.\n",
    "5. Identifying the most frequented prior ports can help in analyzing key trade routes, understanding market dynamics, and planning for future trade engagements."
   ]
  },
  {
   "cell_type": "code",
   "execution_count": 0,
   "metadata": {
    "application/vnd.databricks.v1+cell": {
     "cellMetadata": {
      "byteLimit": 2048000,
      "implicitDf": true,
      "rowLimit": 10000
     },
     "inputWidgets": {},
     "nuid": "b4b3d6cb-72b8-49d0-8b19-c671d2fcbf83",
     "showTitle": false,
     "title": ""
    }
   },
   "outputs": [
    {
     "output_type": "display_data",
     "data": {
      "text/html": [
       "<style scoped>\n",
       "  .table-result-container {\n",
       "    max-height: 300px;\n",
       "    overflow: auto;\n",
       "  }\n",
       "  table, th, td {\n",
       "    border: 1px solid black;\n",
       "    border-collapse: collapse;\n",
       "  }\n",
       "  th, td {\n",
       "    padding: 5px;\n",
       "  }\n",
       "  th {\n",
       "    text-align: left;\n",
       "  }\n",
       "</style><div class='table-result-container'><table class='table-result'><thead style='background-color: white'><tr><th>Prior_place</th><th>min_Gross_Tonnes</th><th>max_Gross_Tonnes</th><th>min_DWT</th><th>max_DWT</th><th>Count_of_Ships</th></tr></thead><tbody><tr><td>Liverpool</td><td>20.0</td><td>59652.0</td><td>5.0</td><td>81987.0</td><td>3425</td></tr><tr><td>Birkenhead</td><td>25.0</td><td>62826.0</td><td>5.0</td><td>114139.0</td><td>2451</td></tr><tr><td>Dublin</td><td>38.98830409356725</td><td>43062.0</td><td>8.123076923076923</td><td>81758.0</td><td>1605</td></tr><tr><td>Belfast</td><td>38.98830409356725</td><td>142714.0</td><td>8.123076923076923</td><td>82362.0</td><td>1031</td></tr><tr><td>Eastham</td><td>26.192307692307693</td><td>12164.0</td><td>8.123076923076923</td><td>17653.0</td><td>357</td></tr></tbody></table></div>"
      ]
     },
     "metadata": {
      "application/vnd.databricks.v1+output": {
       "addedWidgets": {},
       "aggData": [],
       "aggError": "",
       "aggOverflow": false,
       "aggSchema": [],
       "aggSeriesLimitReached": false,
       "aggType": "",
       "arguments": {},
       "columnCustomDisplayInfos": {},
       "data": [
        [
         "Liverpool",
         20.0,
         59652.0,
         5.0,
         81987.0,
         3425
        ],
        [
         "Birkenhead",
         25.0,
         62826.0,
         5.0,
         114139.0,
         2451
        ],
        [
         "Dublin",
         38.98830409356725,
         43062.0,
         8.123076923076923,
         81758.0,
         1605
        ],
        [
         "Belfast",
         38.98830409356725,
         142714.0,
         8.123076923076923,
         82362.0,
         1031
        ],
        [
         "Eastham",
         26.192307692307693,
         12164.0,
         8.123076923076923,
         17653.0,
         357
        ]
       ],
       "datasetInfos": [],
       "dbfsResultPath": null,
       "isJsonSchema": true,
       "metadata": {},
       "overflow": false,
       "plotOptions": {
        "customPlotOptions": {},
        "displayType": "table",
        "pivotAggregation": null,
        "pivotColumns": null,
        "xColumns": null,
        "yColumns": null
       },
       "removedWidgets": [],
       "schema": [
        {
         "metadata": "{}",
         "name": "Prior_place",
         "type": "\"string\""
        },
        {
         "metadata": "{}",
         "name": "min_Gross_Tonnes",
         "type": "\"double\""
        },
        {
         "metadata": "{}",
         "name": "max_Gross_Tonnes",
         "type": "\"double\""
        },
        {
         "metadata": "{}",
         "name": "min_DWT",
         "type": "\"double\""
        },
        {
         "metadata": "{}",
         "name": "max_DWT",
         "type": "\"double\""
        },
        {
         "metadata": "{}",
         "name": "Count_of_Ships",
         "type": "\"long\""
        }
       ],
       "type": "table"
      }
     },
     "output_type": "display_data"
    }
   ],
   "source": [
    "%sql\n",
    "select Prior_place,min(Gross_Tonnes) as min_Gross_Tonnes,max(Gross_Tonnes) as max_Gross_Tonnes,min(DWT) as min_DWT,max(DWT) as max_DWT,count(Prior_Place) as Count_of_Ships from ShipSparkTable\n",
    "group by all\n",
    "\n",
    "order by 6 desc\n",
    "limit 5\n"
   ]
  },
  {
   "cell_type": "markdown",
   "metadata": {
    "application/vnd.databricks.v1+cell": {
     "cellMetadata": {
      "byteLimit": 2048000,
      "rowLimit": 10000
     },
     "inputWidgets": {},
     "nuid": "7ed9cce5-00dd-40b4-8cda-babd58bb8804",
     "showTitle": false,
     "title": ""
    }
   },
   "source": [
    "1. The results show which times of day are most common for ships arriving from or departing to each prior port. This information could be useful for understanding and managing port traffic, scheduling, and operational planning.\n",
    "2. Similar data analyses can also be conducted based on the day of the week or the day of the month. This approach helps identify which specific days tend to be the busiest at the port. Such insights are valuable for effective planning and resource allocation, ensuring the port's operations are optimized for peak times.\n"
   ]
  },
  {
   "cell_type": "code",
   "execution_count": 0,
   "metadata": {
    "application/vnd.databricks.v1+cell": {
     "cellMetadata": {
      "byteLimit": 2048000,
      "implicitDf": true,
      "rowLimit": 10000
     },
     "inputWidgets": {},
     "nuid": "190e338b-53b0-4fc9-a1ae-59d88872b8aa",
     "showTitle": false,
     "title": ""
    }
   },
   "outputs": [
    {
     "output_type": "display_data",
     "data": {
      "text/html": [
       "<style scoped>\n",
       "  .table-result-container {\n",
       "    max-height: 300px;\n",
       "    overflow: auto;\n",
       "  }\n",
       "  table, th, td {\n",
       "    border: 1px solid black;\n",
       "    border-collapse: collapse;\n",
       "  }\n",
       "  th, td {\n",
       "    padding: 5px;\n",
       "  }\n",
       "  th {\n",
       "    text-align: left;\n",
       "  }\n",
       "</style><div class='table-result-container'><table class='table-result'><thead style='background-color: white'><tr><th>Prior_Place</th><th>Morning_Arrival_Count</th><th>Afternoon_Arrival_Count</th><th>Evening_Arrival_Count</th><th>Night_Arrival_Count</th><th>Morning_Departure_Count</th><th>Afternoon_Departure_Count</th><th>Evening_Departure_Count</th><th>Night_Departure_Count</th></tr></thead><tbody><tr><td>Liverpool</td><td>840</td><td>1142</td><td>1443</td><td>704</td><td>1295</td><td>702</td><td>1428</td><td>679</td></tr><tr><td>Birkenhead</td><td>490</td><td>875</td><td>1086</td><td>453</td><td>1155</td><td>410</td><td>886</td><td>511</td></tr><tr><td>Belfast</td><td>203</td><td>217</td><td>611</td><td>243</td><td>347</td><td>52</td><td>632</td><td>233</td></tr><tr><td>Dublin</td><td>155</td><td>496</td><td>954</td><td>632</td><td>484</td><td>101</td><td>1020</td><td>321</td></tr><tr><td>Eastham</td><td>137</td><td>112</td><td>108</td><td>69</td><td>140</td><td>102</td><td>115</td><td>44</td></tr></tbody></table></div>"
      ]
     },
     "metadata": {
      "application/vnd.databricks.v1+output": {
       "addedWidgets": {},
       "aggData": [],
       "aggError": "",
       "aggOverflow": false,
       "aggSchema": [],
       "aggSeriesLimitReached": false,
       "aggType": "",
       "arguments": {},
       "columnCustomDisplayInfos": {},
       "data": [
        [
         "Liverpool",
         840,
         1142,
         1443,
         704,
         1295,
         702,
         1428,
         679
        ],
        [
         "Birkenhead",
         490,
         875,
         1086,
         453,
         1155,
         410,
         886,
         511
        ],
        [
         "Belfast",
         203,
         217,
         611,
         243,
         347,
         52,
         632,
         233
        ],
        [
         "Dublin",
         155,
         496,
         954,
         632,
         484,
         101,
         1020,
         321
        ],
        [
         "Eastham",
         137,
         112,
         108,
         69,
         140,
         102,
         115,
         44
        ]
       ],
       "datasetInfos": [],
       "dbfsResultPath": null,
       "isJsonSchema": true,
       "metadata": {},
       "overflow": false,
       "plotOptions": {
        "customPlotOptions": {},
        "displayType": "table",
        "pivotAggregation": null,
        "pivotColumns": null,
        "xColumns": null,
        "yColumns": null
       },
       "removedWidgets": [],
       "schema": [
        {
         "metadata": "{}",
         "name": "Prior_Place",
         "type": "\"string\""
        },
        {
         "metadata": "{}",
         "name": "Morning_Arrival_Count",
         "type": "\"long\""
        },
        {
         "metadata": "{}",
         "name": "Afternoon_Arrival_Count",
         "type": "\"long\""
        },
        {
         "metadata": "{}",
         "name": "Evening_Arrival_Count",
         "type": "\"long\""
        },
        {
         "metadata": "{}",
         "name": "Night_Arrival_Count",
         "type": "\"long\""
        },
        {
         "metadata": "{}",
         "name": "Morning_Departure_Count",
         "type": "\"long\""
        },
        {
         "metadata": "{}",
         "name": "Afternoon_Departure_Count",
         "type": "\"long\""
        },
        {
         "metadata": "{}",
         "name": "Evening_Departure_Count",
         "type": "\"long\""
        },
        {
         "metadata": "{}",
         "name": "Night_Departure_Count",
         "type": "\"long\""
        }
       ],
       "type": "table"
      }
     },
     "output_type": "display_data"
    }
   ],
   "source": [
    "%sql\n",
    "SELECT \n",
    "  Prior_Place,\n",
    "  SUM(CASE WHEN HOUR(`Arrived_at`) >= 6 AND HOUR(`Arrived_at`) < 12 THEN 1 ELSE 0 END) AS Morning_Arrival_Count,\n",
    "  SUM(CASE WHEN HOUR(`Arrived_at`) >= 12 AND HOUR(`Arrived_at`) < 18 THEN 1 ELSE 0 END) AS Afternoon_Arrival_Count,\n",
    "  SUM(CASE WHEN HOUR(`Arrived_at`) >= 18 OR HOUR(`Arrived_at`) < 6 THEN 1 ELSE 0 END) AS Evening_Arrival_Count,\n",
    "  SUM(CASE WHEN HOUR(`Arrived_at`) < 6 THEN 1 ELSE 0 END) AS Night_Arrival_Count,\n",
    "  SUM(CASE WHEN HOUR(`Sailed_at`) >= 6 AND HOUR(`Sailed_at`) < 12 THEN 1 ELSE 0 END) AS Morning_Departure_Count,\n",
    "  SUM(CASE WHEN HOUR(`Sailed_at`) >= 12 AND HOUR(`Sailed_at`) < 18 THEN 1 ELSE 0 END) AS Afternoon_Departure_Count,\n",
    "  SUM(CASE WHEN HOUR(`Sailed_at`) >= 18 OR HOUR(`Sailed_at`) < 6 THEN 1 ELSE 0 END) AS Evening_Departure_Count,\n",
    "  SUM(CASE WHEN HOUR(`Sailed_at`) < 6 THEN 1 ELSE 0 END) AS Night_Departure_Count\n",
    "FROM ShipSparkTable\n",
    "GROUP BY Prior_Place\n",
    "\n",
    "\n",
    "order by 2 desc\n",
    "limit 5"
   ]
  },
  {
   "cell_type": "code",
   "execution_count": 0,
   "metadata": {
    "application/vnd.databricks.v1+cell": {
     "cellMetadata": {
      "byteLimit": 2048000,
      "implicitDf": true,
      "rowLimit": 10000
     },
     "inputWidgets": {},
     "nuid": "539c8eea-1f38-4ca0-99ba-f10012fe9f90",
     "showTitle": false,
     "title": ""
    }
   },
   "outputs": [
    {
     "output_type": "display_data",
     "data": {
      "text/html": [
       "<style scoped>\n",
       "  .table-result-container {\n",
       "    max-height: 300px;\n",
       "    overflow: auto;\n",
       "  }\n",
       "  table, th, td {\n",
       "    border: 1px solid black;\n",
       "    border-collapse: collapse;\n",
       "  }\n",
       "  th, td {\n",
       "    padding: 5px;\n",
       "  }\n",
       "  th {\n",
       "    text-align: left;\n",
       "  }\n",
       "</style><div class='table-result-container'><table class='table-result'><thead style='background-color: white'><tr><th>Prior_Place</th><th>Monday_Arrival_Count</th><th>Tuesday_Arrival_Count</th><th>Wednesday_Arrival_Count</th><th>Thursday_Arrival_Count</th><th>Friday_Arrival_Count</th><th>Saturday_Arrival_Count</th><th>Sunday_Arrival_Count</th><th>Monday_Departure_Count</th><th>Tuesday_Departure_Count</th><th>Wednesday_Departure_Count</th><th>Thursday_Departure_Count</th><th>Friday_Departure_Count</th><th>Saturday_Departure_Count</th><th>Sunday_Departure_Count</th></tr></thead><tbody><tr><td>Liverpool</td><td>458</td><td>478</td><td>519</td><td>492</td><td>484</td><td>481</td><td>513</td><td>463</td><td>488</td><td>506</td><td>502</td><td>473</td><td>482</td><td>511</td></tr><tr><td>Birkenhead</td><td>313</td><td>330</td><td>402</td><td>383</td><td>342</td><td>340</td><td>341</td><td>298</td><td>341</td><td>389</td><td>384</td><td>337</td><td>348</td><td>354</td></tr><tr><td>Dublin</td><td>142</td><td>268</td><td>263</td><td>281</td><td>265</td><td>267</td><td>119</td><td>129</td><td>269</td><td>270</td><td>271</td><td>282</td><td>249</td><td>135</td></tr><tr><td>Belfast</td><td>137</td><td>166</td><td>164</td><td>170</td><td>170</td><td>113</td><td>111</td><td>82</td><td>174</td><td>170</td><td>168</td><td>168</td><td>158</td><td>111</td></tr><tr><td>Eastham</td><td>54</td><td>51</td><td>49</td><td>67</td><td>51</td><td>44</td><td>41</td><td>62</td><td>59</td><td>43</td><td>71</td><td>48</td><td>39</td><td>35</td></tr></tbody></table></div>"
      ]
     },
     "metadata": {
      "application/vnd.databricks.v1+output": {
       "addedWidgets": {},
       "aggData": [],
       "aggError": "",
       "aggOverflow": false,
       "aggSchema": [],
       "aggSeriesLimitReached": false,
       "aggType": "",
       "arguments": {},
       "columnCustomDisplayInfos": {},
       "data": [
        [
         "Liverpool",
         458,
         478,
         519,
         492,
         484,
         481,
         513,
         463,
         488,
         506,
         502,
         473,
         482,
         511
        ],
        [
         "Birkenhead",
         313,
         330,
         402,
         383,
         342,
         340,
         341,
         298,
         341,
         389,
         384,
         337,
         348,
         354
        ],
        [
         "Dublin",
         142,
         268,
         263,
         281,
         265,
         267,
         119,
         129,
         269,
         270,
         271,
         282,
         249,
         135
        ],
        [
         "Belfast",
         137,
         166,
         164,
         170,
         170,
         113,
         111,
         82,
         174,
         170,
         168,
         168,
         158,
         111
        ],
        [
         "Eastham",
         54,
         51,
         49,
         67,
         51,
         44,
         41,
         62,
         59,
         43,
         71,
         48,
         39,
         35
        ]
       ],
       "datasetInfos": [],
       "dbfsResultPath": null,
       "isJsonSchema": true,
       "metadata": {},
       "overflow": false,
       "plotOptions": {
        "customPlotOptions": {},
        "displayType": "table",
        "pivotAggregation": null,
        "pivotColumns": null,
        "xColumns": null,
        "yColumns": null
       },
       "removedWidgets": [],
       "schema": [
        {
         "metadata": "{}",
         "name": "Prior_Place",
         "type": "\"string\""
        },
        {
         "metadata": "{}",
         "name": "Monday_Arrival_Count",
         "type": "\"long\""
        },
        {
         "metadata": "{}",
         "name": "Tuesday_Arrival_Count",
         "type": "\"long\""
        },
        {
         "metadata": "{}",
         "name": "Wednesday_Arrival_Count",
         "type": "\"long\""
        },
        {
         "metadata": "{}",
         "name": "Thursday_Arrival_Count",
         "type": "\"long\""
        },
        {
         "metadata": "{}",
         "name": "Friday_Arrival_Count",
         "type": "\"long\""
        },
        {
         "metadata": "{}",
         "name": "Saturday_Arrival_Count",
         "type": "\"long\""
        },
        {
         "metadata": "{}",
         "name": "Sunday_Arrival_Count",
         "type": "\"long\""
        },
        {
         "metadata": "{}",
         "name": "Monday_Departure_Count",
         "type": "\"long\""
        },
        {
         "metadata": "{}",
         "name": "Tuesday_Departure_Count",
         "type": "\"long\""
        },
        {
         "metadata": "{}",
         "name": "Wednesday_Departure_Count",
         "type": "\"long\""
        },
        {
         "metadata": "{}",
         "name": "Thursday_Departure_Count",
         "type": "\"long\""
        },
        {
         "metadata": "{}",
         "name": "Friday_Departure_Count",
         "type": "\"long\""
        },
        {
         "metadata": "{}",
         "name": "Saturday_Departure_Count",
         "type": "\"long\""
        },
        {
         "metadata": "{}",
         "name": "Sunday_Departure_Count",
         "type": "\"long\""
        }
       ],
       "type": "table"
      }
     },
     "output_type": "display_data"
    }
   ],
   "source": [
    "%sql\n",
    "SELECT \n",
    "  Prior_Place,\n",
    "  SUM(CASE WHEN DAYOFWEEK(`Arrived_at`) = 2 THEN 1 ELSE 0 END) AS Monday_Arrival_Count,\n",
    "  SUM(CASE WHEN DAYOFWEEK(`Arrived_at`) = 3 THEN 1 ELSE 0 END) AS Tuesday_Arrival_Count,\n",
    "  SUM(CASE WHEN DAYOFWEEK(`Arrived_at`) = 4 THEN 1 ELSE 0 END) AS Wednesday_Arrival_Count,\n",
    "  SUM(CASE WHEN DAYOFWEEK(`Arrived_at`) = 5 THEN 1 ELSE 0 END) AS Thursday_Arrival_Count,\n",
    "  SUM(CASE WHEN DAYOFWEEK(`Arrived_at`) = 6 THEN 1 ELSE 0 END) AS Friday_Arrival_Count,\n",
    "  SUM(CASE WHEN DAYOFWEEK(`Arrived_at`) = 7 THEN 1 ELSE 0 END) AS Saturday_Arrival_Count,\n",
    "  SUM(CASE WHEN DAYOFWEEK(`Arrived_at`) = 1 THEN 1 ELSE 0 END) AS Sunday_Arrival_Count,\n",
    "  SUM(CASE WHEN DAYOFWEEK(`Sailed_at`) = 2 THEN 1 ELSE 0 END) AS Monday_Departure_Count,\n",
    "  SUM(CASE WHEN DAYOFWEEK(`Sailed_at`) = 3 THEN 1 ELSE 0 END) AS Tuesday_Departure_Count,\n",
    "  SUM(CASE WHEN DAYOFWEEK(`Sailed_at`) = 4 THEN 1 ELSE 0 END) AS Wednesday_Departure_Count,\n",
    "  SUM(CASE WHEN DAYOFWEEK(`Sailed_at`) = 5 THEN 1 ELSE 0 END) AS Thursday_Departure_Count,\n",
    "  SUM(CASE WHEN DAYOFWEEK(`Sailed_at`) = 6 THEN 1 ELSE 0 END) AS Friday_Departure_Count,\n",
    "  SUM(CASE WHEN DAYOFWEEK(`Sailed_at`) = 7 THEN 1 ELSE 0 END) AS Saturday_Departure_Count,\n",
    "  SUM(CASE WHEN DAYOFWEEK(`Sailed_at`) = 1 THEN 1 ELSE 0 END) AS Sunday_Departure_Count\n",
    "FROM ShipSparkTable\n",
    "GROUP BY Prior_Place\n",
    "\n",
    "ORDER BY Monday_Arrival_Count DESC\n",
    "limit 5\n"
   ]
  },
  {
   "cell_type": "markdown",
   "metadata": {
    "application/vnd.databricks.v1+cell": {
     "cellMetadata": {
      "byteLimit": 2048000,
      "rowLimit": 10000
     },
     "inputWidgets": {},
     "nuid": "9fecd3a6-ab2c-443a-afaa-fa68e1824283",
     "showTitle": false,
     "title": ""
    }
   },
   "source": [
    "\n",
    "### 05. How can we cluster the Flag (Column C) to the last port prior to arrival (Column H), column D,  column F, G and I.J?\n"
   ]
  },
  {
   "cell_type": "markdown",
   "metadata": {
    "application/vnd.databricks.v1+cell": {
     "cellMetadata": {
      "byteLimit": 2048000,
      "rowLimit": 10000
     },
     "inputWidgets": {},
     "nuid": "d3d3a5dc-5834-40c4-9c90-7030f3e9afe5",
     "showTitle": false,
     "title": ""
    }
   },
   "source": [
    "##### 1. Considering Flags represent country , we can determine how much ships  are comming to Liverpool Street  and depending upon weight of ship we can determine size"
   ]
  },
  {
   "cell_type": "code",
   "execution_count": 0,
   "metadata": {
    "application/vnd.databricks.v1+cell": {
     "cellMetadata": {
      "byteLimit": 2048000,
      "implicitDf": true,
      "rowLimit": 10000
     },
     "inputWidgets": {},
     "nuid": "537c9fd3-c8b9-405c-9c43-0e92c804b185",
     "showTitle": false,
     "title": ""
    }
   },
   "outputs": [
    {
     "output_type": "display_data",
     "data": {
      "text/html": [
       "<style scoped>\n",
       "  .table-result-container {\n",
       "    max-height: 300px;\n",
       "    overflow: auto;\n",
       "  }\n",
       "  table, th, td {\n",
       "    border: 1px solid black;\n",
       "    border-collapse: collapse;\n",
       "  }\n",
       "  th, td {\n",
       "    padding: 5px;\n",
       "  }\n",
       "  th {\n",
       "    text-align: left;\n",
       "  }\n",
       "</style><div class='table-result-container'><table class='table-result'><thead style='background-color: white'><tr><th>Flag</th><th>min_Gross_Tonnes</th><th>max_Gross_Tonnes</th><th>min_DWT</th><th>max_DWT</th><th>Count_of_Ships</th></tr></thead><tbody><tr><td>Isle of Man</td><td>277.0</td><td>43672.0</td><td>260.0</td><td>82561.0</td><td>1185</td></tr><tr><td>Cyprus</td><td>2446.0</td><td>42000.0</td><td>697.0</td><td>77997.0</td><td>1008</td></tr><tr><td>Netherlands</td><td>38.98830409356725</td><td>99902.0</td><td>8.123076923076923</td><td>23317.0</td><td>683</td></tr><tr><td>Denmark (Int. Register)</td><td>118.0</td><td>25189.0</td><td>18.0</td><td>39522.0</td><td>595</td></tr><tr><td>Bermuda</td><td>17464.0</td><td>149215.0</td><td>6722.0</td><td>54155.0</td><td>288</td></tr></tbody></table></div>"
      ]
     },
     "metadata": {
      "application/vnd.databricks.v1+output": {
       "addedWidgets": {},
       "aggData": [],
       "aggError": "",
       "aggOverflow": false,
       "aggSchema": [],
       "aggSeriesLimitReached": false,
       "aggType": "",
       "arguments": {},
       "columnCustomDisplayInfos": {},
       "data": [
        [
         "Isle of Man",
         277.0,
         43672.0,
         260.0,
         82561.0,
         1185
        ],
        [
         "Cyprus",
         2446.0,
         42000.0,
         697.0,
         77997.0,
         1008
        ],
        [
         "Netherlands",
         38.98830409356725,
         99902.0,
         8.123076923076923,
         23317.0,
         683
        ],
        [
         "Denmark (Int. Register)",
         118.0,
         25189.0,
         18.0,
         39522.0,
         595
        ],
        [
         "Bermuda",
         17464.0,
         149215.0,
         6722.0,
         54155.0,
         288
        ]
       ],
       "datasetInfos": [],
       "dbfsResultPath": null,
       "isJsonSchema": true,
       "metadata": {},
       "overflow": false,
       "plotOptions": {
        "customPlotOptions": {},
        "displayType": "table",
        "pivotAggregation": null,
        "pivotColumns": null,
        "xColumns": null,
        "yColumns": null
       },
       "removedWidgets": [],
       "schema": [
        {
         "metadata": "{}",
         "name": "Flag",
         "type": "\"string\""
        },
        {
         "metadata": "{}",
         "name": "min_Gross_Tonnes",
         "type": "\"double\""
        },
        {
         "metadata": "{}",
         "name": "max_Gross_Tonnes",
         "type": "\"double\""
        },
        {
         "metadata": "{}",
         "name": "min_DWT",
         "type": "\"double\""
        },
        {
         "metadata": "{}",
         "name": "max_DWT",
         "type": "\"double\""
        },
        {
         "metadata": "{}",
         "name": "Count_of_Ships",
         "type": "\"long\""
        }
       ],
       "type": "table"
      }
     },
     "output_type": "display_data"
    }
   ],
   "source": [
    "%sql\n",
    "select Flag,min(Gross_Tonnes) as min_Gross_Tonnes,max(Gross_Tonnes) as max_Gross_Tonnes,min(DWT) as min_DWT,max(DWT) as max_DWT,count(Prior_Place) as Count_of_Ships from ShipSparkTable\n",
    "where Flag!='U.K.'\n",
    "group by all\n",
    "\n",
    "order by 6 desc\n",
    "limit 5\n"
   ]
  },
  {
   "cell_type": "markdown",
   "metadata": {
    "application/vnd.databricks.v1+cell": {
     "cellMetadata": {
      "byteLimit": 2048000,
      "rowLimit": 10000
     },
     "inputWidgets": {},
     "nuid": "9ab5f0b3-95ad-4b30-bc2d-5d7acd3e0869",
     "showTitle": false,
     "title": ""
    }
   },
   "source": [
    "#### 2. Considering Flags represent country , we can determine how much ships  are comming to Liverpool Street  and at which time of the day "
   ]
  },
  {
   "cell_type": "code",
   "execution_count": 0,
   "metadata": {
    "application/vnd.databricks.v1+cell": {
     "cellMetadata": {
      "byteLimit": 2048000,
      "implicitDf": true,
      "rowLimit": 10000
     },
     "inputWidgets": {},
     "nuid": "20a1ea3c-5a0b-4fcd-9536-517a53a2e5dc",
     "showTitle": false,
     "title": ""
    }
   },
   "outputs": [
    {
     "output_type": "display_data",
     "data": {
      "text/html": [
       "<style scoped>\n",
       "  .table-result-container {\n",
       "    max-height: 300px;\n",
       "    overflow: auto;\n",
       "  }\n",
       "  table, th, td {\n",
       "    border: 1px solid black;\n",
       "    border-collapse: collapse;\n",
       "  }\n",
       "  th, td {\n",
       "    padding: 5px;\n",
       "  }\n",
       "  th {\n",
       "    text-align: left;\n",
       "  }\n",
       "</style><div class='table-result-container'><table class='table-result'><thead style='background-color: white'><tr><th>Flag</th><th>Morning_Arrival_Count</th><th>Afternoon_Arrival_Count</th><th>Evening_Arrival_Count</th><th>Night_Arrival_Count</th><th>Morning_Departure_Count</th><th>Afternoon_Departure_Count</th><th>Evening_Departure_Count</th><th>Night_Departure_Count</th></tr></thead><tbody><tr><td>U.K.</td><td>1377</td><td>1906</td><td>2265</td><td>1015</td><td>2353</td><td>1143</td><td>2052</td><td>971</td></tr><tr><td>Isle of Man</td><td>262</td><td>450</td><td>473</td><td>309</td><td>340</td><td>120</td><td>725</td><td>192</td></tr><tr><td>Cyprus</td><td>197</td><td>254</td><td>557</td><td>280</td><td>388</td><td>50</td><td>570</td><td>137</td></tr><tr><td>Netherlands</td><td>147</td><td>172</td><td>364</td><td>268</td><td>249</td><td>129</td><td>305</td><td>70</td></tr><tr><td>Malta</td><td>89</td><td>72</td><td>110</td><td>51</td><td>93</td><td>59</td><td>119</td><td>42</td></tr></tbody></table></div>"
      ]
     },
     "metadata": {
      "application/vnd.databricks.v1+output": {
       "addedWidgets": {},
       "aggData": [],
       "aggError": "",
       "aggOverflow": false,
       "aggSchema": [],
       "aggSeriesLimitReached": false,
       "aggType": "",
       "arguments": {},
       "columnCustomDisplayInfos": {},
       "data": [
        [
         "U.K.",
         1377,
         1906,
         2265,
         1015,
         2353,
         1143,
         2052,
         971
        ],
        [
         "Isle of Man",
         262,
         450,
         473,
         309,
         340,
         120,
         725,
         192
        ],
        [
         "Cyprus",
         197,
         254,
         557,
         280,
         388,
         50,
         570,
         137
        ],
        [
         "Netherlands",
         147,
         172,
         364,
         268,
         249,
         129,
         305,
         70
        ],
        [
         "Malta",
         89,
         72,
         110,
         51,
         93,
         59,
         119,
         42
        ]
       ],
       "datasetInfos": [],
       "dbfsResultPath": null,
       "isJsonSchema": true,
       "metadata": {},
       "overflow": false,
       "plotOptions": {
        "customPlotOptions": {},
        "displayType": "table",
        "pivotAggregation": null,
        "pivotColumns": null,
        "xColumns": null,
        "yColumns": null
       },
       "removedWidgets": [],
       "schema": [
        {
         "metadata": "{}",
         "name": "Flag",
         "type": "\"string\""
        },
        {
         "metadata": "{}",
         "name": "Morning_Arrival_Count",
         "type": "\"long\""
        },
        {
         "metadata": "{}",
         "name": "Afternoon_Arrival_Count",
         "type": "\"long\""
        },
        {
         "metadata": "{}",
         "name": "Evening_Arrival_Count",
         "type": "\"long\""
        },
        {
         "metadata": "{}",
         "name": "Night_Arrival_Count",
         "type": "\"long\""
        },
        {
         "metadata": "{}",
         "name": "Morning_Departure_Count",
         "type": "\"long\""
        },
        {
         "metadata": "{}",
         "name": "Afternoon_Departure_Count",
         "type": "\"long\""
        },
        {
         "metadata": "{}",
         "name": "Evening_Departure_Count",
         "type": "\"long\""
        },
        {
         "metadata": "{}",
         "name": "Night_Departure_Count",
         "type": "\"long\""
        }
       ],
       "type": "table"
      }
     },
     "output_type": "display_data"
    }
   ],
   "source": [
    "%sql\n",
    "SELECT \n",
    "  Flag,\n",
    "  SUM(CASE WHEN HOUR(`Arrived_at`) >= 6 AND HOUR(`Arrived_at`) < 12 THEN 1 ELSE 0 END) AS Morning_Arrival_Count,\n",
    "  SUM(CASE WHEN HOUR(`Arrived_at`) >= 12 AND HOUR(`Arrived_at`) < 18 THEN 1 ELSE 0 END) AS Afternoon_Arrival_Count,\n",
    "  SUM(CASE WHEN HOUR(`Arrived_at`) >= 18 OR HOUR(`Arrived_at`) < 6 THEN 1 ELSE 0 END) AS Evening_Arrival_Count,\n",
    "  SUM(CASE WHEN HOUR(`Arrived_at`) < 6 THEN 1 ELSE 0 END) AS Night_Arrival_Count,\n",
    "  SUM(CASE WHEN HOUR(`Sailed_at`) >= 6 AND HOUR(`Sailed_at`) < 12 THEN 1 ELSE 0 END) AS Morning_Departure_Count,\n",
    "  SUM(CASE WHEN HOUR(`Sailed_at`) >= 12 AND HOUR(`Sailed_at`) < 18 THEN 1 ELSE 0 END) AS Afternoon_Departure_Count,\n",
    "  SUM(CASE WHEN HOUR(`Sailed_at`) >= 18 OR HOUR(`Sailed_at`) < 6 THEN 1 ELSE 0 END) AS Evening_Departure_Count,\n",
    "  SUM(CASE WHEN HOUR(`Sailed_at`) < 6 THEN 1 ELSE 0 END) AS Night_Departure_Count\n",
    "FROM ShipSparkTable\n",
    "GROUP BY Flag\n",
    "\n",
    "order by 2 desc\n",
    "limit 5\n"
   ]
  },
  {
   "cell_type": "markdown",
   "metadata": {
    "application/vnd.databricks.v1+cell": {
     "cellMetadata": {
      "byteLimit": 2048000,
      "rowLimit": 10000
     },
     "inputWidgets": {},
     "nuid": "0344cac5-1bec-4877-bb77-0e244a36e9e2",
     "showTitle": false,
     "title": ""
    }
   },
   "source": [
    "####3. Understanding the average docking times for ships from different countries can assist in efficient planning and resource allocation at the port. "
   ]
  },
  {
   "cell_type": "code",
   "execution_count": 0,
   "metadata": {
    "application/vnd.databricks.v1+cell": {
     "cellMetadata": {
      "byteLimit": 2048000,
      "implicitDf": true,
      "rowLimit": 10000
     },
     "inputWidgets": {},
     "nuid": "141d1c2f-b24e-4c3b-a41f-8e3ef9db1db8",
     "showTitle": false,
     "title": ""
    }
   },
   "outputs": [
    {
     "output_type": "display_data",
     "data": {
      "text/html": [
       "<style scoped>\n",
       "  .table-result-container {\n",
       "    max-height: 300px;\n",
       "    overflow: auto;\n",
       "  }\n",
       "  table, th, td {\n",
       "    border: 1px solid black;\n",
       "    border-collapse: collapse;\n",
       "  }\n",
       "  th, td {\n",
       "    padding: 5px;\n",
       "  }\n",
       "  th {\n",
       "    text-align: left;\n",
       "  }\n",
       "</style><div class='table-result-container'><table class='table-result'><thead style='background-color: white'><tr><th>Flag</th><th>Hours</th><th>Minutes</th></tr></thead><tbody><tr><td>Togo</td><td>2019</td><td>53</td></tr><tr><td>Republic of Ireland</td><td>416</td><td>33</td></tr><tr><td>Croatia</td><td>288</td><td>12</td></tr><tr><td>Hong Kong, S.A.R., China</td><td>249</td><td>45</td></tr><tr><td>South Korea</td><td>223</td><td>28</td></tr></tbody></table></div>"
      ]
     },
     "metadata": {
      "application/vnd.databricks.v1+output": {
       "addedWidgets": {},
       "aggData": [],
       "aggError": "",
       "aggOverflow": false,
       "aggSchema": [],
       "aggSeriesLimitReached": false,
       "aggType": "",
       "arguments": {},
       "columnCustomDisplayInfos": {},
       "data": [
        [
         "Togo",
         2019,
         53
        ],
        [
         "Republic of Ireland",
         416,
         33
        ],
        [
         "Croatia",
         288,
         12
        ],
        [
         "Hong Kong, S.A.R., China",
         249,
         45
        ],
        [
         "South Korea",
         223,
         28
        ]
       ],
       "datasetInfos": [],
       "dbfsResultPath": null,
       "isJsonSchema": true,
       "metadata": {},
       "overflow": false,
       "plotOptions": {
        "customPlotOptions": {},
        "displayType": "table",
        "pivotAggregation": null,
        "pivotColumns": null,
        "xColumns": null,
        "yColumns": null
       },
       "removedWidgets": [],
       "schema": [
        {
         "metadata": "{}",
         "name": "Flag",
         "type": "\"string\""
        },
        {
         "metadata": "{}",
         "name": "Hours",
         "type": "\"integer\""
        },
        {
         "metadata": "{}",
         "name": "Minutes",
         "type": "\"integer\""
        }
       ],
       "type": "table"
      }
     },
     "output_type": "display_data"
    }
   ],
   "source": [
    "%sql\n",
    "SELECT Flag,\n",
    "        CAST(AVG(Docking_Time_Hours) AS INT) as Hours, \n",
    "        \n",
    "        CAST((AVG(Docking_Time_Hours) - CAST(AVG(Docking_Time_Hours) AS INT)) * 60 AS INT) as Minutes\n",
    "FROM \n",
    "    ShipSparkTable\n",
    "group by Flag\n",
    "order by 2 desc\n",
    "\n",
    "limit 5\n"
   ]
  },
  {
   "cell_type": "markdown",
   "metadata": {
    "application/vnd.databricks.v1+cell": {
     "cellMetadata": {
      "byteLimit": 2048000,
      "rowLimit": 10000
     },
     "inputWidgets": {},
     "nuid": "fa297711-01ef-4d82-a067-e86b1c675203",
     "showTitle": false,
     "title": ""
    }
   },
   "source": [
    "### More Strategic Analysis :\n",
    "\n",
    "1. **Efficiency Analysis Based on Time of Day**:\n",
    "   - Evaluate the port's ability to handle ships at different times of the day. This assessment should compare the port's capabilities at these times to maximize efficiency and throughput.\n",
    "   - Consider the potential for redistributing ship arrivals and departures to less busy times, if feasible, to balance the workload and reduce congestion.\n",
    "\n",
    "2. **Comparative Analysis with Nearby Ports**:\n",
    "   - Examine the types of vessels, traffic, and capacities at Liverpool Port in contrast to neighboring ports. This analysis can uncover opportunities for collaborative load sharing or specialization based on each port's strengths and capacities.\n",
    "   - Such a comparative study will help in identifying areas where Liverpool Port can complement or leverage nearby port facilities to optimize traffic.\n",
    "\n"
   ]
  },
  {
   "cell_type": "markdown",
   "metadata": {
    "application/vnd.databricks.v1+cell": {
     "cellMetadata": {
      "byteLimit": 2048000,
      "rowLimit": 10000
     },
     "inputWidgets": {},
     "nuid": "23ad7376-2e3d-488c-b550-7ecc9052b684",
     "showTitle": false,
     "title": ""
    }
   },
   "source": [
    "### Data Integration\n",
    "  - By adding diffrent source like travel time or distance\n",
    "####Travel Time or Distance Travel vs. Docking Time Analysis:\n",
    "  - Compare the time traveled by ships from their prior port to the docking time at Liverpool.\n",
    "  - Longer travel times might be associated with specific regions or vessel types"
   ]
  },
  {
   "cell_type": "code",
   "execution_count": 0,
   "metadata": {
    "application/vnd.databricks.v1+cell": {
     "cellMetadata": {
      "byteLimit": 2048000,
      "rowLimit": 10000
     },
     "inputWidgets": {},
     "nuid": "037b44de-4f0b-493e-a320-30fb5a7f865d",
     "showTitle": false,
     "title": ""
    }
   },
   "outputs": [],
   "source": [
    "from geopy.geocoders import Nominatim\n",
    "from geopy.distance import geodesic\n",
    "from geopy.exc import GeocoderTimedOut\n",
    "from geopy.geocoders import Photon\n",
    "\n",
    "def find_port_coordinates(port_name):\n",
    "    \"\"\"Find the coordinates of a port using geocoding.\"\"\"\n",
    "    #geolocator = Nominatim(user_agent=\"geoapiExercises\")\n",
    "    geolocator = Photon(user_agent=\"measurements\")\n",
    "\n",
    "    try:\n",
    "        location = geolocator.geocode(port_name)\n",
    "        if location:\n",
    "            return (location.latitude, location.longitude)\n",
    "        else:\n",
    "            return None\n",
    "    except GeocoderTimedOut:\n",
    "        return None\n",
    "\n",
    "def calculate_distance_between_ports(port1, port2):\n",
    "    \"\"\"Calculate the distance between two ports.\"\"\"\n",
    "    coords_port1 = find_port_coordinates(port1)\n",
    "    coords_port2 = find_port_coordinates(port2)\n",
    "\n",
    "    if coords_port1 and coords_port2:\n",
    "        distance = geodesic(coords_port1, coords_port2).kilometers\n",
    "        return distance\n",
    "    else:\n",
    "        return \"Could not find the location of one or both ports.\"\n",
    "\n",
    "\n"
   ]
  },
  {
   "cell_type": "code",
   "execution_count": 0,
   "metadata": {
    "application/vnd.databricks.v1+cell": {
     "cellMetadata": {
      "byteLimit": 2048000,
      "rowLimit": 10000
     },
     "inputWidgets": {},
     "nuid": "df45b865-5f4a-44c8-adac-90f74ee4960c",
     "showTitle": false,
     "title": ""
    }
   },
   "outputs": [
    {
     "output_type": "stream",
     "name": "stdout",
     "output_type": "stream",
     "text": [
      "Distance: 2.953989195498422 km\n"
     ]
    }
   ],
   "source": [
    "\n",
    "distance = calculate_distance_between_ports(\"Liverpool\", \"Birkenhead\")\n",
    "print(f\"Distance: {distance} km\")"
   ]
  }
 ],
 "metadata": {
  "application/vnd.databricks.v1+notebook": {
   "dashboards": [
    {
     "elements": [],
     "globalVars": {},
     "guid": "",
     "layoutOption": {
      "grid": true,
      "stack": true
     },
     "nuid": "3f3f480b-0c33-491a-9246-5a19b3715882",
     "origId": 1763043210773560,
     "title": "Untitled",
     "version": "DashboardViewV1",
     "width": 1024
    }
   ],
   "language": "python",
   "notebookMetadata": {
    "mostRecentlyExecutedCommandWithImplicitDF": {
     "commandId": 4256113858292077,
     "dataframes": [
      "_sqldf"
     ]
    },
    "pythonIndentUnit": 4
   },
   "notebookName": "Ship Data Analysis",
   "widgets": {}
  }
 },
 "nbformat": 4,
 "nbformat_minor": 0
}
