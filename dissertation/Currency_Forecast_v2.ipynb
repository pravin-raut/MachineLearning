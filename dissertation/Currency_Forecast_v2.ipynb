{
  "nbformat": 4,
  "nbformat_minor": 0,
  "metadata": {
    "colab": {
      "provenance": [],
      "authorship_tag": "ABX9TyMuBxrKHnSVGZmhrt0pf+Xy",
      "include_colab_link": true
    },
    "kernelspec": {
      "name": "python3",
      "display_name": "Python 3"
    },
    "language_info": {
      "name": "python"
    }
  },
  "cells": [
    {
      "cell_type": "markdown",
      "metadata": {
        "id": "view-in-github",
        "colab_type": "text"
      },
      "source": [
        "<a href=\"https://colab.research.google.com/github/pravin-raut/MachineLearning/blob/Master/dissertation/Currency_Forecast_v2.ipynb\" target=\"_parent\"><img src=\"https://colab.research.google.com/assets/colab-badge.svg\" alt=\"Open In Colab\"/></a>"
      ]
    },
    {
      "cell_type": "code",
      "execution_count": 1,
      "metadata": {
        "colab": {
          "base_uri": "https://localhost:8080/"
        },
        "id": "3QtRlc1m1aTm",
        "outputId": "cfc04204-68b4-4d87-b361-c20e8f6ce133"
      },
      "outputs": [
        {
          "output_type": "stream",
          "name": "stdout",
          "text": [
            "Collecting pmdarima\n",
            "  Downloading pmdarima-2.0.3-cp310-cp310-manylinux_2_17_x86_64.manylinux2014_x86_64.manylinux_2_28_x86_64.whl (1.8 MB)\n",
            "\u001b[?25l     \u001b[90m━━━━━━━━━━━━━━━━━━━━━━━━━━━━━━━━━━━━━━━━\u001b[0m \u001b[32m0.0/1.8 MB\u001b[0m \u001b[31m?\u001b[0m eta \u001b[36m-:--:--\u001b[0m\r\u001b[2K     \u001b[90m━━━━━━━━━━━━━━━━━━━━━━━━━━━━━━━━━━━━━━━━\u001b[0m \u001b[32m1.8/1.8 MB\u001b[0m \u001b[31m67.7 MB/s\u001b[0m eta \u001b[36m0:00:00\u001b[0m\n",
            "\u001b[?25hRequirement already satisfied: joblib>=0.11 in /usr/local/lib/python3.10/dist-packages (from pmdarima) (1.2.0)\n",
            "Requirement already satisfied: Cython!=0.29.18,!=0.29.31,>=0.29 in /usr/local/lib/python3.10/dist-packages (from pmdarima) (0.29.35)\n",
            "Requirement already satisfied: numpy>=1.21.2 in /usr/local/lib/python3.10/dist-packages (from pmdarima) (1.22.4)\n",
            "Requirement already satisfied: pandas>=0.19 in /usr/local/lib/python3.10/dist-packages (from pmdarima) (1.5.3)\n",
            "Requirement already satisfied: scikit-learn>=0.22 in /usr/local/lib/python3.10/dist-packages (from pmdarima) (1.2.2)\n",
            "Requirement already satisfied: scipy>=1.3.2 in /usr/local/lib/python3.10/dist-packages (from pmdarima) (1.10.1)\n",
            "Requirement already satisfied: statsmodels>=0.13.2 in /usr/local/lib/python3.10/dist-packages (from pmdarima) (0.13.5)\n",
            "Requirement already satisfied: urllib3 in /usr/local/lib/python3.10/dist-packages (from pmdarima) (1.26.16)\n",
            "Requirement already satisfied: setuptools!=50.0.0,>=38.6.0 in /usr/local/lib/python3.10/dist-packages (from pmdarima) (67.7.2)\n",
            "Requirement already satisfied: python-dateutil>=2.8.1 in /usr/local/lib/python3.10/dist-packages (from pandas>=0.19->pmdarima) (2.8.2)\n",
            "Requirement already satisfied: pytz>=2020.1 in /usr/local/lib/python3.10/dist-packages (from pandas>=0.19->pmdarima) (2022.7.1)\n",
            "Requirement already satisfied: threadpoolctl>=2.0.0 in /usr/local/lib/python3.10/dist-packages (from scikit-learn>=0.22->pmdarima) (3.1.0)\n",
            "Requirement already satisfied: patsy>=0.5.2 in /usr/local/lib/python3.10/dist-packages (from statsmodels>=0.13.2->pmdarima) (0.5.3)\n",
            "Requirement already satisfied: packaging>=21.3 in /usr/local/lib/python3.10/dist-packages (from statsmodels>=0.13.2->pmdarima) (23.1)\n",
            "Requirement already satisfied: six in /usr/local/lib/python3.10/dist-packages (from patsy>=0.5.2->statsmodels>=0.13.2->pmdarima) (1.16.0)\n",
            "Installing collected packages: pmdarima\n",
            "Successfully installed pmdarima-2.0.3\n",
            "Collecting quandl\n",
            "  Downloading Quandl-3.7.0-py2.py3-none-any.whl (26 kB)\n",
            "Requirement already satisfied: pandas>=0.14 in /usr/local/lib/python3.10/dist-packages (from quandl) (1.5.3)\n",
            "Requirement already satisfied: numpy>=1.8 in /usr/local/lib/python3.10/dist-packages (from quandl) (1.22.4)\n",
            "Requirement already satisfied: requests>=2.7.0 in /usr/local/lib/python3.10/dist-packages (from quandl) (2.27.1)\n",
            "Collecting inflection>=0.3.1 (from quandl)\n",
            "  Downloading inflection-0.5.1-py2.py3-none-any.whl (9.5 kB)\n",
            "Requirement already satisfied: python-dateutil in /usr/local/lib/python3.10/dist-packages (from quandl) (2.8.2)\n",
            "Requirement already satisfied: six in /usr/local/lib/python3.10/dist-packages (from quandl) (1.16.0)\n",
            "Requirement already satisfied: more-itertools in /usr/local/lib/python3.10/dist-packages (from quandl) (9.1.0)\n",
            "Requirement already satisfied: pytz>=2020.1 in /usr/local/lib/python3.10/dist-packages (from pandas>=0.14->quandl) (2022.7.1)\n",
            "Requirement already satisfied: urllib3<1.27,>=1.21.1 in /usr/local/lib/python3.10/dist-packages (from requests>=2.7.0->quandl) (1.26.16)\n",
            "Requirement already satisfied: certifi>=2017.4.17 in /usr/local/lib/python3.10/dist-packages (from requests>=2.7.0->quandl) (2023.5.7)\n",
            "Requirement already satisfied: charset-normalizer~=2.0.0 in /usr/local/lib/python3.10/dist-packages (from requests>=2.7.0->quandl) (2.0.12)\n",
            "Requirement already satisfied: idna<4,>=2.5 in /usr/local/lib/python3.10/dist-packages (from requests>=2.7.0->quandl) (3.4)\n",
            "Installing collected packages: inflection, quandl\n",
            "Successfully installed inflection-0.5.1 quandl-3.7.0\n",
            "Requirement already satisfied: yfinance in /usr/local/lib/python3.10/dist-packages (0.2.21)\n",
            "Requirement already satisfied: pandas>=1.3.0 in /usr/local/lib/python3.10/dist-packages (from yfinance) (1.5.3)\n",
            "Requirement already satisfied: numpy>=1.16.5 in /usr/local/lib/python3.10/dist-packages (from yfinance) (1.22.4)\n",
            "Requirement already satisfied: requests>=2.26 in /usr/local/lib/python3.10/dist-packages (from yfinance) (2.27.1)\n",
            "Requirement already satisfied: multitasking>=0.0.7 in /usr/local/lib/python3.10/dist-packages (from yfinance) (0.0.11)\n",
            "Requirement already satisfied: lxml>=4.9.1 in /usr/local/lib/python3.10/dist-packages (from yfinance) (4.9.2)\n",
            "Requirement already satisfied: appdirs>=1.4.4 in /usr/local/lib/python3.10/dist-packages (from yfinance) (1.4.4)\n",
            "Requirement already satisfied: pytz>=2022.5 in /usr/local/lib/python3.10/dist-packages (from yfinance) (2022.7.1)\n",
            "Requirement already satisfied: frozendict>=2.3.4 in /usr/local/lib/python3.10/dist-packages (from yfinance) (2.3.8)\n",
            "Requirement already satisfied: beautifulsoup4>=4.11.1 in /usr/local/lib/python3.10/dist-packages (from yfinance) (4.11.2)\n",
            "Requirement already satisfied: html5lib>=1.1 in /usr/local/lib/python3.10/dist-packages (from yfinance) (1.1)\n",
            "Requirement already satisfied: soupsieve>1.2 in /usr/local/lib/python3.10/dist-packages (from beautifulsoup4>=4.11.1->yfinance) (2.4.1)\n",
            "Requirement already satisfied: six>=1.9 in /usr/local/lib/python3.10/dist-packages (from html5lib>=1.1->yfinance) (1.16.0)\n",
            "Requirement already satisfied: webencodings in /usr/local/lib/python3.10/dist-packages (from html5lib>=1.1->yfinance) (0.5.1)\n",
            "Requirement already satisfied: python-dateutil>=2.8.1 in /usr/local/lib/python3.10/dist-packages (from pandas>=1.3.0->yfinance) (2.8.2)\n",
            "Requirement already satisfied: urllib3<1.27,>=1.21.1 in /usr/local/lib/python3.10/dist-packages (from requests>=2.26->yfinance) (1.26.16)\n",
            "Requirement already satisfied: certifi>=2017.4.17 in /usr/local/lib/python3.10/dist-packages (from requests>=2.26->yfinance) (2023.5.7)\n",
            "Requirement already satisfied: charset-normalizer~=2.0.0 in /usr/local/lib/python3.10/dist-packages (from requests>=2.26->yfinance) (2.0.12)\n",
            "Requirement already satisfied: idna<4,>=2.5 in /usr/local/lib/python3.10/dist-packages (from requests>=2.26->yfinance) (3.4)\n"
          ]
        }
      ],
      "source": [
        "!pip install pmdarima\n",
        "!pip install quandl\n",
        "!pip install yfinance"
      ]
    },
    {
      "cell_type": "code",
      "source": [
        "from google.colab import drive\n",
        "drive.mount('/content/drive')"
      ],
      "metadata": {
        "colab": {
          "base_uri": "https://localhost:8080/"
        },
        "id": "VfmUP0F_1hmY",
        "outputId": "f9b7ecf8-66ad-444d-c7a2-ba613d7af10e"
      },
      "execution_count": 2,
      "outputs": [
        {
          "output_type": "stream",
          "name": "stdout",
          "text": [
            "Mounted at /content/drive\n"
          ]
        }
      ]
    },
    {
      "cell_type": "code",
      "source": [
        "import pandas as pd\n",
        "import numpy as np\n",
        "import matplotlib.pyplot as plt\n",
        "import yfinance as yf\n",
        "from datetime import datetime,timedelta\n",
        "import json\n",
        "import quandl"
      ],
      "metadata": {
        "id": "QfG9cg941i0D"
      },
      "execution_count": 3,
      "outputs": []
    },
    {
      "cell_type": "code",
      "source": [
        "import urllib.request\n",
        "\n",
        "file_path = \"https://raw.githubusercontent.com/pravin-raut/MachineLearning/Master/dissertation/Config/Config_Git.json\"\n",
        "\n",
        "# Open the file for reading and load the data from it\n",
        "with urllib.request.urlopen(file_path) as infile:\n",
        "  data = json.load(infile)\n",
        "# Set up API key\n",
        "  api_key=data[\"nasdaq\"][\"api_key\"]\n",
        "quandl.ApiConfig.api_key = api_key\n"
      ],
      "metadata": {
        "id": "SkPKK4SXxiyj"
      },
      "execution_count": 4,
      "outputs": []
    },
    {
      "cell_type": "code",
      "source": [
        "CurrentDate = (datetime.today() - timedelta(days=0)).strftime('%Y-%m-%d')\n",
        "CurrentDate\n"
      ],
      "metadata": {
        "colab": {
          "base_uri": "https://localhost:8080/",
          "height": 36
        },
        "id": "_QbFXhm2xn7_",
        "outputId": "53394db2-32b2-471c-addc-82260f089310"
      },
      "execution_count": 5,
      "outputs": [
        {
          "output_type": "execute_result",
          "data": {
            "text/plain": [
              "'2023-07-07'"
            ],
            "application/vnd.google.colaboratory.intrinsic+json": {
              "type": "string"
            }
          },
          "metadata": {},
          "execution_count": 5
        }
      ]
    },
    {
      "cell_type": "code",
      "source": [
        "FirstDay='2019-01-01'\n"
      ],
      "metadata": {
        "id": "W1VMgh18xqdx"
      },
      "execution_count": 6,
      "outputs": []
    },
    {
      "cell_type": "code",
      "source": [
        "\n",
        "def getDataFromAPI(API,symbol,start_date,end_date):\n",
        "\n",
        "  if API==\"YFinance\":\n",
        "    # Create a ticker object\n",
        "    ticker = yf.Ticker(symbol)\n",
        "    # Download historical data\n",
        "    data = ticker.history(period=\"1d\", start=start_date, end=end_date)\n",
        "\n",
        "  if API==\"Nasdaq\":\n",
        "    data = quandl.get(symbol,start_date=start_date,end_date=end_date)\n",
        "\n",
        "\n",
        "  return data"
      ],
      "metadata": {
        "id": "gCXoyQwgxsCg"
      },
      "execution_count": 7,
      "outputs": []
    },
    {
      "cell_type": "code",
      "source": [
        "df_USD_EUR=getDataFromAPI(\"YFinance\",\"EURUSD=X\",FirstDay,CurrentDate).reset_index()\n",
        "df_USD_EUR['Date'] = pd.to_datetime(df_USD_EUR['Date']).dt.date\n",
        "df_USD_EUR.set_index('Date', inplace=True)\n",
        "df_USD_EUR=df_USD_EUR.asfreq('b')\n",
        "df_USD_EUR.Close=df_USD_EUR.Close.fillna(method='bfill')\n",
        "df_USD_EUR['Original_USD_EUR_Price']=df_USD_EUR[['Close']]\n",
        "df_USD_EUR=df_USD_EUR[['Original_USD_EUR_Price']]\n",
        "df_USD_EUR"
      ],
      "metadata": {
        "colab": {
          "base_uri": "https://localhost:8080/",
          "height": 455
        },
        "id": "6NRvuPImxvW1",
        "outputId": "e65c8249-6e09-469f-8101-10cd2156d5f5"
      },
      "execution_count": 8,
      "outputs": [
        {
          "output_type": "execute_result",
          "data": {
            "text/plain": [
              "            Original_USD_EUR_Price\n",
              "Date                              \n",
              "2019-01-01                1.149306\n",
              "2019-01-02                1.146171\n",
              "2019-01-03                1.131811\n",
              "2019-01-04                1.139108\n",
              "2019-01-07                1.141044\n",
              "...                            ...\n",
              "2023-06-30                1.086803\n",
              "2023-07-03                1.090750\n",
              "2023-07-04                1.091310\n",
              "2023-07-05                1.088495\n",
              "2023-07-06                1.085658\n",
              "\n",
              "[1178 rows x 1 columns]"
            ],
            "text/html": [
              "\n",
              "  <div id=\"df-fb20c7ec-5b81-43ce-a35c-5972f213d64e\">\n",
              "    <div class=\"colab-df-container\">\n",
              "      <div>\n",
              "<style scoped>\n",
              "    .dataframe tbody tr th:only-of-type {\n",
              "        vertical-align: middle;\n",
              "    }\n",
              "\n",
              "    .dataframe tbody tr th {\n",
              "        vertical-align: top;\n",
              "    }\n",
              "\n",
              "    .dataframe thead th {\n",
              "        text-align: right;\n",
              "    }\n",
              "</style>\n",
              "<table border=\"1\" class=\"dataframe\">\n",
              "  <thead>\n",
              "    <tr style=\"text-align: right;\">\n",
              "      <th></th>\n",
              "      <th>Original_USD_EUR_Price</th>\n",
              "    </tr>\n",
              "    <tr>\n",
              "      <th>Date</th>\n",
              "      <th></th>\n",
              "    </tr>\n",
              "  </thead>\n",
              "  <tbody>\n",
              "    <tr>\n",
              "      <th>2019-01-01</th>\n",
              "      <td>1.149306</td>\n",
              "    </tr>\n",
              "    <tr>\n",
              "      <th>2019-01-02</th>\n",
              "      <td>1.146171</td>\n",
              "    </tr>\n",
              "    <tr>\n",
              "      <th>2019-01-03</th>\n",
              "      <td>1.131811</td>\n",
              "    </tr>\n",
              "    <tr>\n",
              "      <th>2019-01-04</th>\n",
              "      <td>1.139108</td>\n",
              "    </tr>\n",
              "    <tr>\n",
              "      <th>2019-01-07</th>\n",
              "      <td>1.141044</td>\n",
              "    </tr>\n",
              "    <tr>\n",
              "      <th>...</th>\n",
              "      <td>...</td>\n",
              "    </tr>\n",
              "    <tr>\n",
              "      <th>2023-06-30</th>\n",
              "      <td>1.086803</td>\n",
              "    </tr>\n",
              "    <tr>\n",
              "      <th>2023-07-03</th>\n",
              "      <td>1.090750</td>\n",
              "    </tr>\n",
              "    <tr>\n",
              "      <th>2023-07-04</th>\n",
              "      <td>1.091310</td>\n",
              "    </tr>\n",
              "    <tr>\n",
              "      <th>2023-07-05</th>\n",
              "      <td>1.088495</td>\n",
              "    </tr>\n",
              "    <tr>\n",
              "      <th>2023-07-06</th>\n",
              "      <td>1.085658</td>\n",
              "    </tr>\n",
              "  </tbody>\n",
              "</table>\n",
              "<p>1178 rows × 1 columns</p>\n",
              "</div>\n",
              "      <button class=\"colab-df-convert\" onclick=\"convertToInteractive('df-fb20c7ec-5b81-43ce-a35c-5972f213d64e')\"\n",
              "              title=\"Convert this dataframe to an interactive table.\"\n",
              "              style=\"display:none;\">\n",
              "        \n",
              "  <svg xmlns=\"http://www.w3.org/2000/svg\" height=\"24px\"viewBox=\"0 0 24 24\"\n",
              "       width=\"24px\">\n",
              "    <path d=\"M0 0h24v24H0V0z\" fill=\"none\"/>\n",
              "    <path d=\"M18.56 5.44l.94 2.06.94-2.06 2.06-.94-2.06-.94-.94-2.06-.94 2.06-2.06.94zm-11 1L8.5 8.5l.94-2.06 2.06-.94-2.06-.94L8.5 2.5l-.94 2.06-2.06.94zm10 10l.94 2.06.94-2.06 2.06-.94-2.06-.94-.94-2.06-.94 2.06-2.06.94z\"/><path d=\"M17.41 7.96l-1.37-1.37c-.4-.4-.92-.59-1.43-.59-.52 0-1.04.2-1.43.59L10.3 9.45l-7.72 7.72c-.78.78-.78 2.05 0 2.83L4 21.41c.39.39.9.59 1.41.59.51 0 1.02-.2 1.41-.59l7.78-7.78 2.81-2.81c.8-.78.8-2.07 0-2.86zM5.41 20L4 18.59l7.72-7.72 1.47 1.35L5.41 20z\"/>\n",
              "  </svg>\n",
              "      </button>\n",
              "      \n",
              "  <style>\n",
              "    .colab-df-container {\n",
              "      display:flex;\n",
              "      flex-wrap:wrap;\n",
              "      gap: 12px;\n",
              "    }\n",
              "\n",
              "    .colab-df-convert {\n",
              "      background-color: #E8F0FE;\n",
              "      border: none;\n",
              "      border-radius: 50%;\n",
              "      cursor: pointer;\n",
              "      display: none;\n",
              "      fill: #1967D2;\n",
              "      height: 32px;\n",
              "      padding: 0 0 0 0;\n",
              "      width: 32px;\n",
              "    }\n",
              "\n",
              "    .colab-df-convert:hover {\n",
              "      background-color: #E2EBFA;\n",
              "      box-shadow: 0px 1px 2px rgba(60, 64, 67, 0.3), 0px 1px 3px 1px rgba(60, 64, 67, 0.15);\n",
              "      fill: #174EA6;\n",
              "    }\n",
              "\n",
              "    [theme=dark] .colab-df-convert {\n",
              "      background-color: #3B4455;\n",
              "      fill: #D2E3FC;\n",
              "    }\n",
              "\n",
              "    [theme=dark] .colab-df-convert:hover {\n",
              "      background-color: #434B5C;\n",
              "      box-shadow: 0px 1px 3px 1px rgba(0, 0, 0, 0.15);\n",
              "      filter: drop-shadow(0px 1px 2px rgba(0, 0, 0, 0.3));\n",
              "      fill: #FFFFFF;\n",
              "    }\n",
              "  </style>\n",
              "\n",
              "      <script>\n",
              "        const buttonEl =\n",
              "          document.querySelector('#df-fb20c7ec-5b81-43ce-a35c-5972f213d64e button.colab-df-convert');\n",
              "        buttonEl.style.display =\n",
              "          google.colab.kernel.accessAllowed ? 'block' : 'none';\n",
              "\n",
              "        async function convertToInteractive(key) {\n",
              "          const element = document.querySelector('#df-fb20c7ec-5b81-43ce-a35c-5972f213d64e');\n",
              "          const dataTable =\n",
              "            await google.colab.kernel.invokeFunction('convertToInteractive',\n",
              "                                                     [key], {});\n",
              "          if (!dataTable) return;\n",
              "\n",
              "          const docLinkHtml = 'Like what you see? Visit the ' +\n",
              "            '<a target=\"_blank\" href=https://colab.research.google.com/notebooks/data_table.ipynb>data table notebook</a>'\n",
              "            + ' to learn more about interactive tables.';\n",
              "          element.innerHTML = '';\n",
              "          dataTable['output_type'] = 'display_data';\n",
              "          await google.colab.output.renderOutput(dataTable, element);\n",
              "          const docLink = document.createElement('div');\n",
              "          docLink.innerHTML = docLinkHtml;\n",
              "          element.appendChild(docLink);\n",
              "        }\n",
              "      </script>\n",
              "    </div>\n",
              "  </div>\n",
              "  "
            ]
          },
          "metadata": {},
          "execution_count": 8
        }
      ]
    },
    {
      "cell_type": "code",
      "source": [
        "from statsmodels.tsa.stattools import adfuller\n",
        "\n",
        "def perform_adfuller(series):\n",
        "    # Perform Augmented Dickey-Fuller test\n",
        "    result = adfuller(series)\n",
        "\n",
        "    # Extract test statistics and p-value\n",
        "    test_statistic = result[0]\n",
        "    p_value = result[1]\n",
        "\n",
        "    # Print the results\n",
        "    print(\"Augmented Dickey-Fuller Test:\")\n",
        "    print(f\"Test Statistic: {test_statistic}\")\n",
        "    print(f\"P-value: {p_value}\")\n",
        "\n",
        "    # Check the p-value against a significance level (e.g., 0.05) to determine stationarity\n",
        "    if p_value <= 0.05:\n",
        "        print(\"The time series is stationary.\")\n",
        "    else:\n",
        "        print(\"The time series is non-stationary.\")\n",
        "\n"
      ],
      "metadata": {
        "id": "iPTvMgy0G_VA"
      },
      "execution_count": 9,
      "outputs": []
    },
    {
      "cell_type": "code",
      "source": [
        "perform_adfuller(df_USD_EUR['Original_USD_EUR_Price'].diff(1).dropna())"
      ],
      "metadata": {
        "colab": {
          "base_uri": "https://localhost:8080/"
        },
        "id": "s_pV7_gHg1m9",
        "outputId": "2df87a10-b434-483f-eb1b-44def98d57c9"
      },
      "execution_count": 10,
      "outputs": [
        {
          "output_type": "stream",
          "name": "stdout",
          "text": [
            "Augmented Dickey-Fuller Test:\n",
            "Test Statistic: -33.210157588564854\n",
            "P-value: 0.0\n",
            "The time series is stationary.\n"
          ]
        }
      ]
    },
    {
      "cell_type": "code",
      "source": [
        "# Define the start and end dates for train and test data\n",
        "train_start_date = pd.to_datetime('2018-01-01')\n",
        "train_end_date = pd.to_datetime('2022-05-31')\n",
        "test_start_date = pd.to_datetime('2023-01-01')\n"
      ],
      "metadata": {
        "id": "ZJ7Y-dt81rOh"
      },
      "execution_count": 11,
      "outputs": []
    },
    {
      "cell_type": "code",
      "source": [
        "from statsmodels.graphics.tsaplots import plot_acf, plot_pacf\n",
        "\n",
        "import matplotlib.pyplot as plt\n",
        "\n",
        "def plot_acf_values(data, lags):\n",
        "    fig, ax = plt.subplots(figsize=(12, 4))\n",
        "    plot_acf(data.dropna(), lags=lags, ax=ax,zero=False)\n",
        "    plt.title('ACF')\n",
        "    plt.show()\n",
        "\n",
        "def plot_pacf_values(data, lags):\n",
        "    fig, ax = plt.subplots(figsize=(12, 4))\n",
        "    plot_pacf(data.dropna(), lags=lags, ax=ax,zero=False,alpha=0.05)\n",
        "    plt.title('PACF')\n",
        "    plt.show()\n"
      ],
      "metadata": {
        "id": "YEtPWN0hfrmY"
      },
      "execution_count": 12,
      "outputs": []
    },
    {
      "cell_type": "code",
      "source": [
        "plot_acf_values(df_USD_EUR['Original_USD_EUR_Price'].diff(2),10)\n",
        "plot_pacf_values(df_USD_EUR['Original_USD_EUR_Price'].diff(2),10)"
      ],
      "metadata": {
        "colab": {
          "base_uri": "https://localhost:8080/",
          "height": 800
        },
        "id": "uQUT63rkfsWW",
        "outputId": "1e9f27ba-1c6a-4a4f-87b4-038151ff7b19"
      },
      "execution_count": 13,
      "outputs": [
        {
          "output_type": "display_data",
          "data": {
            "text/plain": [
              "<Figure size 1200x400 with 1 Axes>"
            ],
            "image/png": "[encoded data removed]"
          },
          "metadata": {}
        },
        {
          "output_type": "stream",
          "name": "stderr",
          "text": [
            "/usr/local/lib/python3.10/dist-packages/statsmodels/graphics/tsaplots.py:348: FutureWarning: The default method 'yw' can produce PACF values outside of the [-1,1] interval. After 0.13, the default will change tounadjusted Yule-Walker ('ywm'). You can use this method now by setting method='ywm'.\n",
            "  warnings.warn(\n"
          ]
        },
        {
          "output_type": "display_data",
          "data": {
            "text/plain": [
              "<Figure size 1200x400 with 1 Axes>"
            ],
            "image/png": "[encoded data removed]"
          },
          "metadata": {}
        }
      ]
    },
    {
      "cell_type": "code",
      "source": [
        "train_data_currency = df_USD_EUR[(df_USD_EUR.index >= train_start_date) & (df_USD_EUR.index <= train_end_date)]\n",
        "test_data_currency = df_USD_EUR[df_USD_EUR.index >= test_start_date]\n",
        "train_data_currency.head(5)"
      ],
      "metadata": {
        "colab": {
          "base_uri": "https://localhost:8080/",
          "height": 238
        },
        "id": "go03GInLHo1n",
        "outputId": "0cf35fc0-2a63-400d-9329-6d6325406a2c"
      },
      "execution_count": 14,
      "outputs": [
        {
          "output_type": "execute_result",
          "data": {
            "text/plain": [
              "            Original_USD_EUR_Price\n",
              "Date                              \n",
              "2019-01-01                1.149306\n",
              "2019-01-02                1.146171\n",
              "2019-01-03                1.131811\n",
              "2019-01-04                1.139108\n",
              "2019-01-07                1.141044"
            ],
            "text/html": [
              "\n",
              "  <div id=\"df-07035a79-c721-42ab-85ee-32d85e0aa821\">\n",
              "    <div class=\"colab-df-container\">\n",
              "      <div>\n",
              "<style scoped>\n",
              "    .dataframe tbody tr th:only-of-type {\n",
              "        vertical-align: middle;\n",
              "    }\n",
              "\n",
              "    .dataframe tbody tr th {\n",
              "        vertical-align: top;\n",
              "    }\n",
              "\n",
              "    .dataframe thead th {\n",
              "        text-align: right;\n",
              "    }\n",
              "</style>\n",
              "<table border=\"1\" class=\"dataframe\">\n",
              "  <thead>\n",
              "    <tr style=\"text-align: right;\">\n",
              "      <th></th>\n",
              "      <th>Original_USD_EUR_Price</th>\n",
              "    </tr>\n",
              "    <tr>\n",
              "      <th>Date</th>\n",
              "      <th></th>\n",
              "    </tr>\n",
              "  </thead>\n",
              "  <tbody>\n",
              "    <tr>\n",
              "      <th>2019-01-01</th>\n",
              "      <td>1.149306</td>\n",
              "    </tr>\n",
              "    <tr>\n",
              "      <th>2019-01-02</th>\n",
              "      <td>1.146171</td>\n",
              "    </tr>\n",
              "    <tr>\n",
              "      <th>2019-01-03</th>\n",
              "      <td>1.131811</td>\n",
              "    </tr>\n",
              "    <tr>\n",
              "      <th>2019-01-04</th>\n",
              "      <td>1.139108</td>\n",
              "    </tr>\n",
              "    <tr>\n",
              "      <th>2019-01-07</th>\n",
              "      <td>1.141044</td>\n",
              "    </tr>\n",
              "  </tbody>\n",
              "</table>\n",
              "</div>\n",
              "      <button class=\"colab-df-convert\" onclick=\"convertToInteractive('df-07035a79-c721-42ab-85ee-32d85e0aa821')\"\n",
              "              title=\"Convert this dataframe to an interactive table.\"\n",
              "              style=\"display:none;\">\n",
              "        \n",
              "  <svg xmlns=\"http://www.w3.org/2000/svg\" height=\"24px\"viewBox=\"0 0 24 24\"\n",
              "       width=\"24px\">\n",
              "    <path d=\"M0 0h24v24H0V0z\" fill=\"none\"/>\n",
              "    <path d=\"M18.56 5.44l.94 2.06.94-2.06 2.06-.94-2.06-.94-.94-2.06-.94 2.06-2.06.94zm-11 1L8.5 8.5l.94-2.06 2.06-.94-2.06-.94L8.5 2.5l-.94 2.06-2.06.94zm10 10l.94 2.06.94-2.06 2.06-.94-2.06-.94-.94-2.06-.94 2.06-2.06.94z\"/><path d=\"M17.41 7.96l-1.37-1.37c-.4-.4-.92-.59-1.43-.59-.52 0-1.04.2-1.43.59L10.3 9.45l-7.72 7.72c-.78.78-.78 2.05 0 2.83L4 21.41c.39.39.9.59 1.41.59.51 0 1.02-.2 1.41-.59l7.78-7.78 2.81-2.81c.8-.78.8-2.07 0-2.86zM5.41 20L4 18.59l7.72-7.72 1.47 1.35L5.41 20z\"/>\n",
              "  </svg>\n",
              "      </button>\n",
              "      \n",
              "  <style>\n",
              "    .colab-df-container {\n",
              "      display:flex;\n",
              "      flex-wrap:wrap;\n",
              "      gap: 12px;\n",
              "    }\n",
              "\n",
              "    .colab-df-convert {\n",
              "      background-color: #E8F0FE;\n",
              "      border: none;\n",
              "      border-radius: 50%;\n",
              "      cursor: pointer;\n",
              "      display: none;\n",
              "      fill: #1967D2;\n",
              "      height: 32px;\n",
              "      padding: 0 0 0 0;\n",
              "      width: 32px;\n",
              "    }\n",
              "\n",
              "    .colab-df-convert:hover {\n",
              "      background-color: #E2EBFA;\n",
              "      box-shadow: 0px 1px 2px rgba(60, 64, 67, 0.3), 0px 1px 3px 1px rgba(60, 64, 67, 0.15);\n",
              "      fill: #174EA6;\n",
              "    }\n",
              "\n",
              "    [theme=dark] .colab-df-convert {\n",
              "      background-color: #3B4455;\n",
              "      fill: #D2E3FC;\n",
              "    }\n",
              "\n",
              "    [theme=dark] .colab-df-convert:hover {\n",
              "      background-color: #434B5C;\n",
              "      box-shadow: 0px 1px 3px 1px rgba(0, 0, 0, 0.15);\n",
              "      filter: drop-shadow(0px 1px 2px rgba(0, 0, 0, 0.3));\n",
              "      fill: #FFFFFF;\n",
              "    }\n",
              "  </style>\n",
              "\n",
              "      <script>\n",
              "        const buttonEl =\n",
              "          document.querySelector('#df-07035a79-c721-42ab-85ee-32d85e0aa821 button.colab-df-convert');\n",
              "        buttonEl.style.display =\n",
              "          google.colab.kernel.accessAllowed ? 'block' : 'none';\n",
              "\n",
              "        async function convertToInteractive(key) {\n",
              "          const element = document.querySelector('#df-07035a79-c721-42ab-85ee-32d85e0aa821');\n",
              "          const dataTable =\n",
              "            await google.colab.kernel.invokeFunction('convertToInteractive',\n",
              "                                                     [key], {});\n",
              "          if (!dataTable) return;\n",
              "\n",
              "          const docLinkHtml = 'Like what you see? Visit the ' +\n",
              "            '<a target=\"_blank\" href=https://colab.research.google.com/notebooks/data_table.ipynb>data table notebook</a>'\n",
              "            + ' to learn more about interactive tables.';\n",
              "          element.innerHTML = '';\n",
              "          dataTable['output_type'] = 'display_data';\n",
              "          await google.colab.output.renderOutput(dataTable, element);\n",
              "          const docLink = document.createElement('div');\n",
              "          docLink.innerHTML = docLinkHtml;\n",
              "          element.appendChild(docLink);\n",
              "        }\n",
              "      </script>\n",
              "    </div>\n",
              "  </div>\n",
              "  "
            ]
          },
          "metadata": {},
          "execution_count": 14
        }
      ]
    },
    {
      "cell_type": "code",
      "source": [
        "from pmdarima import auto_arima\n",
        "model = auto_arima(train_data_currency['Original_USD_EUR_Price'].dropna(),\n",
        "                   start_p=1, start_q=1,d=2,min_p=1,\n",
        "                         seasonal=False,   # No Seasonality\n",
        "                      trace=True,\n",
        "                      error_action='ignore',\n",
        "                      suppress_warnings=True,\n",
        "                      stepwise=True)\n",
        "model.summary()\n"
      ],
      "metadata": {
        "colab": {
          "base_uri": "https://localhost:8080/",
          "height": 878
        },
        "id": "SfzrPXJnHUJ-",
        "outputId": "f37aa62b-9650-4370-b6e7-4afdf0206e19"
      },
      "execution_count": 15,
      "outputs": [
        {
          "output_type": "stream",
          "name": "stdout",
          "text": [
            "Performing stepwise search to minimize aic\n",
            " ARIMA(1,2,1)(0,0,0)[0] intercept   : AIC=-6876.706, Time=2.85 sec\n",
            " ARIMA(0,2,0)(0,0,0)[0] intercept   : AIC=-6448.031, Time=0.19 sec\n",
            " ARIMA(1,2,0)(0,0,0)[0] intercept   : AIC=-6705.217, Time=0.23 sec\n",
            " ARIMA(0,2,1)(0,0,0)[0] intercept   : AIC=-6891.154, Time=0.56 sec\n",
            " ARIMA(0,2,0)(0,0,0)[0]             : AIC=-6450.030, Time=0.11 sec\n",
            " ARIMA(0,2,2)(0,0,0)[0] intercept   : AIC=-6940.806, Time=2.37 sec\n",
            " ARIMA(1,2,2)(0,0,0)[0] intercept   : AIC=-6920.145, Time=1.01 sec\n",
            " ARIMA(0,2,3)(0,0,0)[0] intercept   : AIC=-6970.585, Time=1.66 sec\n",
            " ARIMA(1,2,3)(0,0,0)[0] intercept   : AIC=-6957.689, Time=2.20 sec\n",
            " ARIMA(0,2,4)(0,0,0)[0] intercept   : AIC=-6924.230, Time=5.21 sec\n",
            " ARIMA(1,2,4)(0,0,0)[0] intercept   : AIC=-6986.869, Time=3.89 sec\n",
            " ARIMA(2,2,4)(0,0,0)[0] intercept   : AIC=-6980.924, Time=3.27 sec\n",
            " ARIMA(1,2,5)(0,0,0)[0] intercept   : AIC=-7005.774, Time=5.29 sec\n",
            " ARIMA(0,2,5)(0,0,0)[0] intercept   : AIC=-6991.241, Time=2.83 sec\n",
            " ARIMA(2,2,5)(0,0,0)[0] intercept   : AIC=-6991.320, Time=1.39 sec\n",
            " ARIMA(1,2,5)(0,0,0)[0]             : AIC=-7008.859, Time=0.63 sec\n",
            " ARIMA(0,2,5)(0,0,0)[0]             : AIC=-7010.860, Time=1.09 sec\n",
            " ARIMA(0,2,4)(0,0,0)[0]             : AIC=inf, Time=0.78 sec\n",
            " ARIMA(1,2,4)(0,0,0)[0]             : AIC=inf, Time=0.92 sec\n",
            "\n",
            "Best model:  ARIMA(0,2,5)(0,0,0)[0]          \n",
            "Total fit time: 36.493 seconds\n"
          ]
        },
        {
          "output_type": "execute_result",
          "data": {
            "text/plain": [
              "<class 'statsmodels.iolib.summary.Summary'>\n",
              "\"\"\"\n",
              "                               SARIMAX Results                                \n",
              "==============================================================================\n",
              "Dep. Variable:                      y   No. Observations:                  891\n",
              "Model:               SARIMAX(0, 2, 5)   Log Likelihood                3511.430\n",
              "Date:                Fri, 07 Jul 2023   AIC                          -7010.860\n",
              "Time:                        06:54:53   BIC                          -6982.120\n",
              "Sample:                    01-01-2019   HQIC                         -6999.875\n",
              "                         - 05-31-2022                                         \n",
              "Covariance Type:                  opg                                         \n",
              "==============================================================================\n",
              "                 coef    std err          z      P>|z|      [0.025      0.975]\n",
              "------------------------------------------------------------------------------\n",
              "ma.L1         -0.9299      0.031    -29.851      0.000      -0.991      -0.869\n",
              "ma.L2          0.0205      0.041      0.498      0.618      -0.060       0.101\n",
              "ma.L3         -0.1652      0.038     -4.388      0.000      -0.239      -0.091\n",
              "ma.L4          0.0409      0.040      1.011      0.312      -0.038       0.120\n",
              "ma.L5          0.0519      0.032      1.621      0.105      -0.011       0.115\n",
              "sigma2       2.16e-05   7.75e-07     27.873      0.000    2.01e-05    2.31e-05\n",
              "===================================================================================\n",
              "Ljung-Box (L1) (Q):                   0.56   Jarque-Bera (JB):               211.85\n",
              "Prob(Q):                              0.45   Prob(JB):                         0.00\n",
              "Heteroskedasticity (H):               1.83   Skew:                            -0.25\n",
              "Prob(H) (two-sided):                  0.00   Kurtosis:                         5.34\n",
              "===================================================================================\n",
              "\n",
              "Warnings:\n",
              "[1] Covariance matrix calculated using the outer product of gradients (complex-step).\n",
              "\"\"\""
            ],
            "text/html": [
              "<table class=\"simpletable\">\n",
              "<caption>SARIMAX Results</caption>\n",
              "<tr>\n",
              "  <th>Dep. Variable:</th>           <td>y</td>        <th>  No. Observations:  </th>    <td>891</td>   \n",
              "</tr>\n",
              "<tr>\n",
              "  <th>Model:</th>           <td>SARIMAX(0, 2, 5)</td> <th>  Log Likelihood     </th> <td>3511.430</td> \n",
              "</tr>\n",
              "<tr>\n",
              "  <th>Date:</th>            <td>Fri, 07 Jul 2023</td> <th>  AIC                </th> <td>-7010.860</td>\n",
              "</tr>\n",
              "<tr>\n",
              "  <th>Time:</th>                <td>06:54:53</td>     <th>  BIC                </th> <td>-6982.120</td>\n",
              "</tr>\n",
              "<tr>\n",
              "  <th>Sample:</th>             <td>01-01-2019</td>    <th>  HQIC               </th> <td>-6999.875</td>\n",
              "</tr>\n",
              "<tr>\n",
              "  <th></th>                   <td>- 05-31-2022</td>   <th>                     </th>     <td> </td>    \n",
              "</tr>\n",
              "<tr>\n",
              "  <th>Covariance Type:</th>        <td>opg</td>       <th>                     </th>     <td> </td>    \n",
              "</tr>\n",
              "</table>\n",
              "<table class=\"simpletable\">\n",
              "<tr>\n",
              "     <td></td>       <th>coef</th>     <th>std err</th>      <th>z</th>      <th>P>|z|</th>  <th>[0.025</th>    <th>0.975]</th>  \n",
              "</tr>\n",
              "<tr>\n",
              "  <th>ma.L1</th>  <td>   -0.9299</td> <td>    0.031</td> <td>  -29.851</td> <td> 0.000</td> <td>   -0.991</td> <td>   -0.869</td>\n",
              "</tr>\n",
              "<tr>\n",
              "  <th>ma.L2</th>  <td>    0.0205</td> <td>    0.041</td> <td>    0.498</td> <td> 0.618</td> <td>   -0.060</td> <td>    0.101</td>\n",
              "</tr>\n",
              "<tr>\n",
              "  <th>ma.L3</th>  <td>   -0.1652</td> <td>    0.038</td> <td>   -4.388</td> <td> 0.000</td> <td>   -0.239</td> <td>   -0.091</td>\n",
              "</tr>\n",
              "<tr>\n",
              "  <th>ma.L4</th>  <td>    0.0409</td> <td>    0.040</td> <td>    1.011</td> <td> 0.312</td> <td>   -0.038</td> <td>    0.120</td>\n",
              "</tr>\n",
              "<tr>\n",
              "  <th>ma.L5</th>  <td>    0.0519</td> <td>    0.032</td> <td>    1.621</td> <td> 0.105</td> <td>   -0.011</td> <td>    0.115</td>\n",
              "</tr>\n",
              "<tr>\n",
              "  <th>sigma2</th> <td>  2.16e-05</td> <td> 7.75e-07</td> <td>   27.873</td> <td> 0.000</td> <td> 2.01e-05</td> <td> 2.31e-05</td>\n",
              "</tr>\n",
              "</table>\n",
              "<table class=\"simpletable\">\n",
              "<tr>\n",
              "  <th>Ljung-Box (L1) (Q):</th>     <td>0.56</td> <th>  Jarque-Bera (JB):  </th> <td>211.85</td>\n",
              "</tr>\n",
              "<tr>\n",
              "  <th>Prob(Q):</th>                <td>0.45</td> <th>  Prob(JB):          </th>  <td>0.00</td> \n",
              "</tr>\n",
              "<tr>\n",
              "  <th>Heteroskedasticity (H):</th> <td>1.83</td> <th>  Skew:              </th>  <td>-0.25</td>\n",
              "</tr>\n",
              "<tr>\n",
              "  <th>Prob(H) (two-sided):</th>    <td>0.00</td> <th>  Kurtosis:          </th>  <td>5.34</td> \n",
              "</tr>\n",
              "</table><br/><br/>Warnings:<br/>[1] Covariance matrix calculated using the outer product of gradients (complex-step)."
            ]
          },
          "metadata": {},
          "execution_count": 15
        }
      ]
    },
    {
      "cell_type": "code",
      "source": [
        "import warnings\n",
        "warnings.filterwarnings(\"ignore\")\n"
      ],
      "metadata": {
        "id": "c3B7VQPI1u3H"
      },
      "execution_count": 16,
      "outputs": []
    },
    {
      "cell_type": "code",
      "source": [
        "from pmdarima.arima import ndiffs\n",
        "kpss_diff = ndiffs(train_data_currency['Original_USD_EUR_Price'].values, alpha=0.05, test='kpss', max_d=12)\n",
        "adf_diff = ndiffs(train_data_currency['Original_USD_EUR_Price'].values, alpha=0.05, test='adf', max_d=12)\n",
        "n_diffs = max(adf_diff , kpss_diff )\n",
        "n_diffs"
      ],
      "metadata": {
        "colab": {
          "base_uri": "https://localhost:8080/"
        },
        "id": "cKKpyxo6b2XV",
        "outputId": "c078559f-43b5-44eb-f4c1-4401aa1c304d"
      },
      "execution_count": 17,
      "outputs": [
        {
          "output_type": "execute_result",
          "data": {
            "text/plain": [
              "1"
            ]
          },
          "metadata": {},
          "execution_count": 17
        }
      ]
    },
    {
      "cell_type": "code",
      "source": [
        "from statsmodels.tsa.arima.model import ARIMA\n",
        "\n",
        "cur_model=ARIMA(train_data_currency['Original_USD_EUR_Price'],order=(1,2,4))\n",
        "cur_model_fit=cur_model.fit()\n",
        "cur_model_fit.summary()\n"
      ],
      "metadata": {
        "colab": {
          "base_uri": "https://localhost:8080/",
          "height": 478
        },
        "id": "g5OLx_8F1xps",
        "outputId": "c403f94c-5160-45c7-9567-26e5cf6bbc90"
      },
      "execution_count": 18,
      "outputs": [
        {
          "output_type": "execute_result",
          "data": {
            "text/plain": [
              "<class 'statsmodels.iolib.summary.Summary'>\n",
              "\"\"\"\n",
              "                                 SARIMAX Results                                  \n",
              "==================================================================================\n",
              "Dep. Variable:     Original_USD_EUR_Price   No. Observations:                  891\n",
              "Model:                     ARIMA(1, 2, 4)   Log Likelihood                3515.764\n",
              "Date:                    Fri, 07 Jul 2023   AIC                          -7019.527\n",
              "Time:                            06:55:25   BIC                          -6990.787\n",
              "Sample:                        01-01-2019   HQIC                         -7008.542\n",
              "                             - 05-31-2022                                         \n",
              "Covariance Type:                      opg                                         \n",
              "==============================================================================\n",
              "                 coef    std err          z      P>|z|      [0.025      0.975]\n",
              "------------------------------------------------------------------------------\n",
              "ar.L1         -0.8576      0.318     -2.696      0.007      -1.481      -0.234\n",
              "ma.L1         -0.0987      0.321     -0.308      0.758      -0.727       0.530\n",
              "ma.L2         -0.8138      0.302     -2.693      0.007      -1.406      -0.222\n",
              "ma.L3         -0.0285      0.033     -0.864      0.388      -0.093       0.036\n",
              "ma.L4         -0.0548      0.029     -1.907      0.056      -0.111       0.002\n",
              "sigma2      2.129e-05   7.55e-07     28.209      0.000    1.98e-05    2.28e-05\n",
              "===================================================================================\n",
              "Ljung-Box (L1) (Q):                   0.01   Jarque-Bera (JB):               228.67\n",
              "Prob(Q):                              0.91   Prob(JB):                         0.00\n",
              "Heteroskedasticity (H):               1.84   Skew:                            -0.22\n",
              "Prob(H) (two-sided):                  0.00   Kurtosis:                         5.44\n",
              "===================================================================================\n",
              "\n",
              "Warnings:\n",
              "[1] Covariance matrix calculated using the outer product of gradients (complex-step).\n",
              "\"\"\""
            ],
            "text/html": [
              "<table class=\"simpletable\">\n",
              "<caption>SARIMAX Results</caption>\n",
              "<tr>\n",
              "  <th>Dep. Variable:</th>   <td>Original_USD_EUR_Price</td> <th>  No. Observations:  </th>    <td>891</td>   \n",
              "</tr>\n",
              "<tr>\n",
              "  <th>Model:</th>               <td>ARIMA(1, 2, 4)</td>     <th>  Log Likelihood     </th> <td>3515.764</td> \n",
              "</tr>\n",
              "<tr>\n",
              "  <th>Date:</th>               <td>Fri, 07 Jul 2023</td>    <th>  AIC                </th> <td>-7019.527</td>\n",
              "</tr>\n",
              "<tr>\n",
              "  <th>Time:</th>                   <td>06:55:25</td>        <th>  BIC                </th> <td>-6990.787</td>\n",
              "</tr>\n",
              "<tr>\n",
              "  <th>Sample:</th>                <td>01-01-2019</td>       <th>  HQIC               </th> <td>-7008.542</td>\n",
              "</tr>\n",
              "<tr>\n",
              "  <th></th>                      <td>- 05-31-2022</td>      <th>                     </th>     <td> </td>    \n",
              "</tr>\n",
              "<tr>\n",
              "  <th>Covariance Type:</th>           <td>opg</td>          <th>                     </th>     <td> </td>    \n",
              "</tr>\n",
              "</table>\n",
              "<table class=\"simpletable\">\n",
              "<tr>\n",
              "     <td></td>       <th>coef</th>     <th>std err</th>      <th>z</th>      <th>P>|z|</th>  <th>[0.025</th>    <th>0.975]</th>  \n",
              "</tr>\n",
              "<tr>\n",
              "  <th>ar.L1</th>  <td>   -0.8576</td> <td>    0.318</td> <td>   -2.696</td> <td> 0.007</td> <td>   -1.481</td> <td>   -0.234</td>\n",
              "</tr>\n",
              "<tr>\n",
              "  <th>ma.L1</th>  <td>   -0.0987</td> <td>    0.321</td> <td>   -0.308</td> <td> 0.758</td> <td>   -0.727</td> <td>    0.530</td>\n",
              "</tr>\n",
              "<tr>\n",
              "  <th>ma.L2</th>  <td>   -0.8138</td> <td>    0.302</td> <td>   -2.693</td> <td> 0.007</td> <td>   -1.406</td> <td>   -0.222</td>\n",
              "</tr>\n",
              "<tr>\n",
              "  <th>ma.L3</th>  <td>   -0.0285</td> <td>    0.033</td> <td>   -0.864</td> <td> 0.388</td> <td>   -0.093</td> <td>    0.036</td>\n",
              "</tr>\n",
              "<tr>\n",
              "  <th>ma.L4</th>  <td>   -0.0548</td> <td>    0.029</td> <td>   -1.907</td> <td> 0.056</td> <td>   -0.111</td> <td>    0.002</td>\n",
              "</tr>\n",
              "<tr>\n",
              "  <th>sigma2</th> <td> 2.129e-05</td> <td> 7.55e-07</td> <td>   28.209</td> <td> 0.000</td> <td> 1.98e-05</td> <td> 2.28e-05</td>\n",
              "</tr>\n",
              "</table>\n",
              "<table class=\"simpletable\">\n",
              "<tr>\n",
              "  <th>Ljung-Box (L1) (Q):</th>     <td>0.01</td> <th>  Jarque-Bera (JB):  </th> <td>228.67</td>\n",
              "</tr>\n",
              "<tr>\n",
              "  <th>Prob(Q):</th>                <td>0.91</td> <th>  Prob(JB):          </th>  <td>0.00</td> \n",
              "</tr>\n",
              "<tr>\n",
              "  <th>Heteroskedasticity (H):</th> <td>1.84</td> <th>  Skew:              </th>  <td>-0.22</td>\n",
              "</tr>\n",
              "<tr>\n",
              "  <th>Prob(H) (two-sided):</th>    <td>0.00</td> <th>  Kurtosis:          </th>  <td>5.44</td> \n",
              "</tr>\n",
              "</table><br/><br/>Warnings:<br/>[1] Covariance matrix calculated using the outer product of gradients (complex-step)."
            ]
          },
          "metadata": {},
          "execution_count": 18
        }
      ]
    },
    {
      "cell_type": "code",
      "source": [
        "from statsmodels.tsa.arima.model import ARIMA\n",
        "\n",
        "cur_model=ARIMA(train_data_currency['Original_USD_EUR_Price'],order=(5,1,1))\n",
        "cur_model_fit=cur_model.fit()\n",
        "cur_model_fit.summary()\n"
      ],
      "metadata": {
        "colab": {
          "base_uri": "https://localhost:8080/",
          "height": 516
        },
        "id": "BlbZmzTLImBp",
        "outputId": "ca8b2955-45b7-486d-ac88-21bdc742cb41"
      },
      "execution_count": 20,
      "outputs": [
        {
          "output_type": "execute_result",
          "data": {
            "text/plain": [
              "<class 'statsmodels.iolib.summary.Summary'>\n",
              "\"\"\"\n",
              "                                 SARIMAX Results                                  \n",
              "==================================================================================\n",
              "Dep. Variable:     Original_USD_EUR_Price   No. Observations:                  891\n",
              "Model:                     ARIMA(5, 1, 1)   Log Likelihood                3524.152\n",
              "Date:                    Fri, 07 Jul 2023   AIC                          -7034.304\n",
              "Time:                            06:56:01   BIC                          -7000.766\n",
              "Sample:                        01-01-2019   HQIC                         -7021.485\n",
              "                             - 05-31-2022                                         \n",
              "Covariance Type:                      opg                                         \n",
              "==============================================================================\n",
              "                 coef    std err          z      P>|z|      [0.025      0.975]\n",
              "------------------------------------------------------------------------------\n",
              "ar.L1          0.0187      0.016      1.189      0.235      -0.012       0.049\n",
              "ar.L2          0.0411      0.028      1.456      0.145      -0.014       0.096\n",
              "ar.L3         -0.0282      0.029     -0.974      0.330      -0.085       0.029\n",
              "ar.L4         -0.0356      0.031     -1.150      0.250      -0.096       0.025\n",
              "ar.L5         -0.0012      0.025     -0.048      0.962      -0.050       0.048\n",
              "ma.L1          0.0184      0.016      1.162      0.245      -0.013       0.049\n",
              "sigma2      2.125e-05   7.29e-07     29.161      0.000    1.98e-05    2.27e-05\n",
              "===================================================================================\n",
              "Ljung-Box (L1) (Q):                   0.01   Jarque-Bera (JB):               247.97\n",
              "Prob(Q):                              0.94   Prob(JB):                         0.00\n",
              "Heteroskedasticity (H):               1.84   Skew:                            -0.27\n",
              "Prob(H) (two-sided):                  0.00   Kurtosis:                         5.53\n",
              "===================================================================================\n",
              "\n",
              "Warnings:\n",
              "[1] Covariance matrix calculated using the outer product of gradients (complex-step).\n",
              "[2] Covariance matrix is singular or near-singular, with condition number 2.13e+16. Standard errors may be unstable.\n",
              "\"\"\""
            ],
            "text/html": [
              "<table class=\"simpletable\">\n",
              "<caption>SARIMAX Results</caption>\n",
              "<tr>\n",
              "  <th>Dep. Variable:</th>   <td>Original_USD_EUR_Price</td> <th>  No. Observations:  </th>    <td>891</td>   \n",
              "</tr>\n",
              "<tr>\n",
              "  <th>Model:</th>               <td>ARIMA(5, 1, 1)</td>     <th>  Log Likelihood     </th> <td>3524.152</td> \n",
              "</tr>\n",
              "<tr>\n",
              "  <th>Date:</th>               <td>Fri, 07 Jul 2023</td>    <th>  AIC                </th> <td>-7034.304</td>\n",
              "</tr>\n",
              "<tr>\n",
              "  <th>Time:</th>                   <td>06:56:01</td>        <th>  BIC                </th> <td>-7000.766</td>\n",
              "</tr>\n",
              "<tr>\n",
              "  <th>Sample:</th>                <td>01-01-2019</td>       <th>  HQIC               </th> <td>-7021.485</td>\n",
              "</tr>\n",
              "<tr>\n",
              "  <th></th>                      <td>- 05-31-2022</td>      <th>                     </th>     <td> </td>    \n",
              "</tr>\n",
              "<tr>\n",
              "  <th>Covariance Type:</th>           <td>opg</td>          <th>                     </th>     <td> </td>    \n",
              "</tr>\n",
              "</table>\n",
              "<table class=\"simpletable\">\n",
              "<tr>\n",
              "     <td></td>       <th>coef</th>     <th>std err</th>      <th>z</th>      <th>P>|z|</th>  <th>[0.025</th>    <th>0.975]</th>  \n",
              "</tr>\n",
              "<tr>\n",
              "  <th>ar.L1</th>  <td>    0.0187</td> <td>    0.016</td> <td>    1.189</td> <td> 0.235</td> <td>   -0.012</td> <td>    0.049</td>\n",
              "</tr>\n",
              "<tr>\n",
              "  <th>ar.L2</th>  <td>    0.0411</td> <td>    0.028</td> <td>    1.456</td> <td> 0.145</td> <td>   -0.014</td> <td>    0.096</td>\n",
              "</tr>\n",
              "<tr>\n",
              "  <th>ar.L3</th>  <td>   -0.0282</td> <td>    0.029</td> <td>   -0.974</td> <td> 0.330</td> <td>   -0.085</td> <td>    0.029</td>\n",
              "</tr>\n",
              "<tr>\n",
              "  <th>ar.L4</th>  <td>   -0.0356</td> <td>    0.031</td> <td>   -1.150</td> <td> 0.250</td> <td>   -0.096</td> <td>    0.025</td>\n",
              "</tr>\n",
              "<tr>\n",
              "  <th>ar.L5</th>  <td>   -0.0012</td> <td>    0.025</td> <td>   -0.048</td> <td> 0.962</td> <td>   -0.050</td> <td>    0.048</td>\n",
              "</tr>\n",
              "<tr>\n",
              "  <th>ma.L1</th>  <td>    0.0184</td> <td>    0.016</td> <td>    1.162</td> <td> 0.245</td> <td>   -0.013</td> <td>    0.049</td>\n",
              "</tr>\n",
              "<tr>\n",
              "  <th>sigma2</th> <td> 2.125e-05</td> <td> 7.29e-07</td> <td>   29.161</td> <td> 0.000</td> <td> 1.98e-05</td> <td> 2.27e-05</td>\n",
              "</tr>\n",
              "</table>\n",
              "<table class=\"simpletable\">\n",
              "<tr>\n",
              "  <th>Ljung-Box (L1) (Q):</th>     <td>0.01</td> <th>  Jarque-Bera (JB):  </th> <td>247.97</td>\n",
              "</tr>\n",
              "<tr>\n",
              "  <th>Prob(Q):</th>                <td>0.94</td> <th>  Prob(JB):          </th>  <td>0.00</td> \n",
              "</tr>\n",
              "<tr>\n",
              "  <th>Heteroskedasticity (H):</th> <td>1.84</td> <th>  Skew:              </th>  <td>-0.27</td>\n",
              "</tr>\n",
              "<tr>\n",
              "  <th>Prob(H) (two-sided):</th>    <td>0.00</td> <th>  Kurtosis:          </th>  <td>5.53</td> \n",
              "</tr>\n",
              "</table><br/><br/>Warnings:<br/>[1] Covariance matrix calculated using the outer product of gradients (complex-step).<br/>[2] Covariance matrix is singular or near-singular, with condition number 2.13e+16. Standard errors may be unstable."
            ]
          },
          "metadata": {},
          "execution_count": 20
        }
      ]
    },
    {
      "cell_type": "code",
      "source": [
        "# Get in-sample predictions\n",
        "training_data_predictions = cur_model_fit.get_prediction(start=train_data_currency.dropna().index.min(),\n",
        "                                                      end=train_data_currency.dropna().index.max(),\n",
        "                                                      dynamic=False)\n",
        "\n",
        "train_data_currency[['lower Cur predictions','Higher Oil predictions']] = training_data_predictions.conf_int()\n",
        "\n",
        "# Create a new column for the predicted values\n",
        "train_data_currency['Cur predictions'] = training_data_predictions.predicted_mean\n",
        "\n",
        "train_data_currency"
      ],
      "metadata": {
        "colab": {
          "base_uri": "https://localhost:8080/",
          "height": 455
        },
        "id": "HHJ3weLNvBc6",
        "outputId": "72ee34a8-6188-412e-881c-e11d13c4d253"
      },
      "execution_count": 21,
      "outputs": [
        {
          "output_type": "execute_result",
          "data": {
            "text/plain": [
              "            Original_USD_EUR_Price  lower Cur predictions  \\\n",
              "Date                                                        \n",
              "2019-01-01                1.149306           -1959.963985   \n",
              "2019-01-02                1.146171               1.140248   \n",
              "2019-01-03                1.131811               1.136998   \n",
              "2019-01-04                1.139108               1.122115   \n",
              "2019-01-07                1.141044               1.129878   \n",
              "...                            ...                    ...   \n",
              "2022-05-25                1.073653               1.059498   \n",
              "2022-05-26                1.068661               1.064931   \n",
              "2022-05-27                1.073295               1.059362   \n",
              "2022-05-30                1.073146               1.063679   \n",
              "2022-05-31                1.077354               1.064239   \n",
              "\n",
              "            Higher Oil predictions  Cur predictions  \n",
              "Date                                                 \n",
              "2019-01-01             1959.963985         0.000000  \n",
              "2019-01-02                1.158365         1.149306  \n",
              "2019-01-03                1.155103         1.146051  \n",
              "2019-01-04                1.140206         1.131160  \n",
              "2019-01-07                1.147961         1.138920  \n",
              "...                            ...              ...  \n",
              "2022-05-25                1.077569         1.068533  \n",
              "2022-05-26                1.083003         1.073967  \n",
              "2022-05-27                1.077434         1.068398  \n",
              "2022-05-30                1.081751         1.072715  \n",
              "2022-05-31                1.082311         1.073275  \n",
              "\n",
              "[891 rows x 4 columns]"
            ],
            "text/html": [
              "\n",
              "  <div id=\"df-857dabf3-8096-419f-9a3f-1ffec3e6ebc3\">\n",
              "    <div class=\"colab-df-container\">\n",
              "      <div>\n",
              "<style scoped>\n",
              "    .dataframe tbody tr th:only-of-type {\n",
              "        vertical-align: middle;\n",
              "    }\n",
              "\n",
              "    .dataframe tbody tr th {\n",
              "        vertical-align: top;\n",
              "    }\n",
              "\n",
              "    .dataframe thead th {\n",
              "        text-align: right;\n",
              "    }\n",
              "</style>\n",
              "<table border=\"1\" class=\"dataframe\">\n",
              "  <thead>\n",
              "    <tr style=\"text-align: right;\">\n",
              "      <th></th>\n",
              "      <th>Original_USD_EUR_Price</th>\n",
              "      <th>lower Cur predictions</th>\n",
              "      <th>Higher Oil predictions</th>\n",
              "      <th>Cur predictions</th>\n",
              "    </tr>\n",
              "    <tr>\n",
              "      <th>Date</th>\n",
              "      <th></th>\n",
              "      <th></th>\n",
              "      <th></th>\n",
              "      <th></th>\n",
              "    </tr>\n",
              "  </thead>\n",
              "  <tbody>\n",
              "    <tr>\n",
              "      <th>2019-01-01</th>\n",
              "      <td>1.149306</td>\n",
              "      <td>-1959.963985</td>\n",
              "      <td>1959.963985</td>\n",
              "      <td>0.000000</td>\n",
              "    </tr>\n",
              "    <tr>\n",
              "      <th>2019-01-02</th>\n",
              "      <td>1.146171</td>\n",
              "      <td>1.140248</td>\n",
              "      <td>1.158365</td>\n",
              "      <td>1.149306</td>\n",
              "    </tr>\n",
              "    <tr>\n",
              "      <th>2019-01-03</th>\n",
              "      <td>1.131811</td>\n",
              "      <td>1.136998</td>\n",
              "      <td>1.155103</td>\n",
              "      <td>1.146051</td>\n",
              "    </tr>\n",
              "    <tr>\n",
              "      <th>2019-01-04</th>\n",
              "      <td>1.139108</td>\n",
              "      <td>1.122115</td>\n",
              "      <td>1.140206</td>\n",
              "      <td>1.131160</td>\n",
              "    </tr>\n",
              "    <tr>\n",
              "      <th>2019-01-07</th>\n",
              "      <td>1.141044</td>\n",
              "      <td>1.129878</td>\n",
              "      <td>1.147961</td>\n",
              "      <td>1.138920</td>\n",
              "    </tr>\n",
              "    <tr>\n",
              "      <th>...</th>\n",
              "      <td>...</td>\n",
              "      <td>...</td>\n",
              "      <td>...</td>\n",
              "      <td>...</td>\n",
              "    </tr>\n",
              "    <tr>\n",
              "      <th>2022-05-25</th>\n",
              "      <td>1.073653</td>\n",
              "      <td>1.059498</td>\n",
              "      <td>1.077569</td>\n",
              "      <td>1.068533</td>\n",
              "    </tr>\n",
              "    <tr>\n",
              "      <th>2022-05-26</th>\n",
              "      <td>1.068661</td>\n",
              "      <td>1.064931</td>\n",
              "      <td>1.083003</td>\n",
              "      <td>1.073967</td>\n",
              "    </tr>\n",
              "    <tr>\n",
              "      <th>2022-05-27</th>\n",
              "      <td>1.073295</td>\n",
              "      <td>1.059362</td>\n",
              "      <td>1.077434</td>\n",
              "      <td>1.068398</td>\n",
              "    </tr>\n",
              "    <tr>\n",
              "      <th>2022-05-30</th>\n",
              "      <td>1.073146</td>\n",
              "      <td>1.063679</td>\n",
              "      <td>1.081751</td>\n",
              "      <td>1.072715</td>\n",
              "    </tr>\n",
              "    <tr>\n",
              "      <th>2022-05-31</th>\n",
              "      <td>1.077354</td>\n",
              "      <td>1.064239</td>\n",
              "      <td>1.082311</td>\n",
              "      <td>1.073275</td>\n",
              "    </tr>\n",
              "  </tbody>\n",
              "</table>\n",
              "<p>891 rows × 4 columns</p>\n",
              "</div>\n",
              "      <button class=\"colab-df-convert\" onclick=\"convertToInteractive('df-857dabf3-8096-419f-9a3f-1ffec3e6ebc3')\"\n",
              "              title=\"Convert this dataframe to an interactive table.\"\n",
              "              style=\"display:none;\">\n",
              "        \n",
              "  <svg xmlns=\"http://www.w3.org/2000/svg\" height=\"24px\"viewBox=\"0 0 24 24\"\n",
              "       width=\"24px\">\n",
              "    <path d=\"M0 0h24v24H0V0z\" fill=\"none\"/>\n",
              "    <path d=\"M18.56 5.44l.94 2.06.94-2.06 2.06-.94-2.06-.94-.94-2.06-.94 2.06-2.06.94zm-11 1L8.5 8.5l.94-2.06 2.06-.94-2.06-.94L8.5 2.5l-.94 2.06-2.06.94zm10 10l.94 2.06.94-2.06 2.06-.94-2.06-.94-.94-2.06-.94 2.06-2.06.94z\"/><path d=\"M17.41 7.96l-1.37-1.37c-.4-.4-.92-.59-1.43-.59-.52 0-1.04.2-1.43.59L10.3 9.45l-7.72 7.72c-.78.78-.78 2.05 0 2.83L4 21.41c.39.39.9.59 1.41.59.51 0 1.02-.2 1.41-.59l7.78-7.78 2.81-2.81c.8-.78.8-2.07 0-2.86zM5.41 20L4 18.59l7.72-7.72 1.47 1.35L5.41 20z\"/>\n",
              "  </svg>\n",
              "      </button>\n",
              "      \n",
              "  <style>\n",
              "    .colab-df-container {\n",
              "      display:flex;\n",
              "      flex-wrap:wrap;\n",
              "      gap: 12px;\n",
              "    }\n",
              "\n",
              "    .colab-df-convert {\n",
              "      background-color: #E8F0FE;\n",
              "      border: none;\n",
              "      border-radius: 50%;\n",
              "      cursor: pointer;\n",
              "      display: none;\n",
              "      fill: #1967D2;\n",
              "      height: 32px;\n",
              "      padding: 0 0 0 0;\n",
              "      width: 32px;\n",
              "    }\n",
              "\n",
              "    .colab-df-convert:hover {\n",
              "      background-color: #E2EBFA;\n",
              "      box-shadow: 0px 1px 2px rgba(60, 64, 67, 0.3), 0px 1px 3px 1px rgba(60, 64, 67, 0.15);\n",
              "      fill: #174EA6;\n",
              "    }\n",
              "\n",
              "    [theme=dark] .colab-df-convert {\n",
              "      background-color: #3B4455;\n",
              "      fill: #D2E3FC;\n",
              "    }\n",
              "\n",
              "    [theme=dark] .colab-df-convert:hover {\n",
              "      background-color: #434B5C;\n",
              "      box-shadow: 0px 1px 3px 1px rgba(0, 0, 0, 0.15);\n",
              "      filter: drop-shadow(0px 1px 2px rgba(0, 0, 0, 0.3));\n",
              "      fill: #FFFFFF;\n",
              "    }\n",
              "  </style>\n",
              "\n",
              "      <script>\n",
              "        const buttonEl =\n",
              "          document.querySelector('#df-857dabf3-8096-419f-9a3f-1ffec3e6ebc3 button.colab-df-convert');\n",
              "        buttonEl.style.display =\n",
              "          google.colab.kernel.accessAllowed ? 'block' : 'none';\n",
              "\n",
              "        async function convertToInteractive(key) {\n",
              "          const element = document.querySelector('#df-857dabf3-8096-419f-9a3f-1ffec3e6ebc3');\n",
              "          const dataTable =\n",
              "            await google.colab.kernel.invokeFunction('convertToInteractive',\n",
              "                                                     [key], {});\n",
              "          if (!dataTable) return;\n",
              "\n",
              "          const docLinkHtml = 'Like what you see? Visit the ' +\n",
              "            '<a target=\"_blank\" href=https://colab.research.google.com/notebooks/data_table.ipynb>data table notebook</a>'\n",
              "            + ' to learn more about interactive tables.';\n",
              "          element.innerHTML = '';\n",
              "          dataTable['output_type'] = 'display_data';\n",
              "          await google.colab.output.renderOutput(dataTable, element);\n",
              "          const docLink = document.createElement('div');\n",
              "          docLink.innerHTML = docLinkHtml;\n",
              "          element.appendChild(docLink);\n",
              "        }\n",
              "      </script>\n",
              "    </div>\n",
              "  </div>\n",
              "  "
            ]
          },
          "metadata": {},
          "execution_count": 21
        }
      ]
    },
    {
      "cell_type": "code",
      "source": [
        "plt.figure(figsize=(16,8))\n",
        "plt.plot(train_data_currency['Original_USD_EUR_Price'],label=\"Actual Currency Price\")\n",
        "plt.plot(train_data_currency['Cur predictions'],label=\"Forecast  Currency Price\")\n",
        "plt.legend(loc=\"upper left\")"
      ],
      "metadata": {
        "colab": {
          "base_uri": "https://localhost:8080/",
          "height": 693
        },
        "id": "ZXJ7IsGOvSg9",
        "outputId": "b2b3fd8b-f71b-463f-8f45-b526c5e486a6"
      },
      "execution_count": 22,
      "outputs": [
        {
          "output_type": "execute_result",
          "data": {
            "text/plain": [
              "<matplotlib.legend.Legend at 0x7f45b2f0f8b0>"
            ]
          },
          "metadata": {},
          "execution_count": 22
        },
        {
          "output_type": "display_data",
          "data": {
            "text/plain": [
              "<Figure size 1600x800 with 1 Axes>"
            ],
            "image/png": "[encoded data removed]"
          },
          "metadata": {}
        }
      ]
    },
    {
      "cell_type": "code",
      "source": [
        "import pandas as pd\n",
        "\n",
        "# define train test data\n",
        "train = train_data_currency['Original_USD_EUR_Price'].dropna()\n",
        "test = test_data_currency['Original_USD_EUR_Price'].dropna()\n",
        "\n",
        "# define model configuration\n",
        "my_order = (5,1,1)\n",
        "\n",
        "# lists to collect forecasts\n",
        "forecasts = []\n",
        "forecast_dates = []\n",
        "\n",
        "# walk-forward validation\n",
        "history = [x for x in train]\n",
        "for i in range(len(test)):\n",
        "    if i % 5==0:\n",
        "      #auto = auto_arima(history, error_action='ignore', suppress_warnings=True,d=2)\n",
        "      #my_order = auto.order\n",
        "      print(\"my_order is {}\".format(my_order))\n",
        "      model = ARIMA(history, order=my_order)\n",
        "      model_fit = model.fit()\n",
        "    forecast = model_fit.get_forecast(steps=1, alpha=0.05)\n",
        "    forecasts.append(forecast.predicted_mean[0])\n",
        "    forecast_dates.append(test.index[i])\n",
        "    history.append(forecast.predicted_mean[0])\n",
        "    #print(\"Length of History is {} for date{} and order {} forecast is {}\",format((len(history),test.index[i],my_order,forecast.predicted_mean[0])))\n",
        "# Create a dataframe to hold the forecasts with corresponding dates\n",
        "forecast_df = pd.DataFrame(data={'Forecast': forecasts}, index=forecast_dates)\n",
        "\n"
      ],
      "metadata": {
        "colab": {
          "base_uri": "https://localhost:8080/"
        },
        "id": "jPh3x_L8pM4q",
        "outputId": "aea1c6fd-0d2a-4c47-f17b-05cda34578a4"
      },
      "execution_count": 29,
      "outputs": [
        {
          "output_type": "stream",
          "name": "stdout",
          "text": [
            "my_order is (5, 1, 1)\n",
            "my_order is (5, 1, 1)\n",
            "my_order is (5, 1, 1)\n",
            "my_order is (5, 1, 1)\n",
            "my_order is (5, 1, 1)\n",
            "my_order is (5, 1, 1)\n",
            "my_order is (5, 1, 1)\n",
            "my_order is (5, 1, 1)\n",
            "my_order is (5, 1, 1)\n",
            "my_order is (5, 1, 1)\n",
            "my_order is (5, 1, 1)\n",
            "my_order is (5, 1, 1)\n",
            "my_order is (5, 1, 1)\n",
            "my_order is (5, 1, 1)\n",
            "my_order is (5, 1, 1)\n",
            "my_order is (5, 1, 1)\n",
            "my_order is (5, 1, 1)\n",
            "my_order is (5, 1, 1)\n",
            "my_order is (5, 1, 1)\n",
            "my_order is (5, 1, 1)\n",
            "my_order is (5, 1, 1)\n",
            "my_order is (5, 1, 1)\n",
            "my_order is (5, 1, 1)\n",
            "my_order is (5, 1, 1)\n",
            "my_order is (5, 1, 1)\n",
            "my_order is (5, 1, 1)\n",
            "my_order is (5, 1, 1)\n"
          ]
        }
      ]
    },
    {
      "cell_type": "code",
      "source": [
        "plt.figure(figsize=(16,8))\n",
        "plt.plot(test_data_currency['Original_USD_EUR_Price'],label=\"Actual Currency Price\")\n",
        "plt.plot(forecast_df['Forecast'],label=\"Forecast Currency Price\")\n",
        "\n",
        "plt.legend(loc=\"upper left\")\n",
        "plt.show()\n"
      ],
      "metadata": {
        "colab": {
          "base_uri": "https://localhost:8080/",
          "height": 676
        },
        "id": "aaQDSXtF20Uy",
        "outputId": "d63bae06-adfc-4004-abb5-230733480140"
      },
      "execution_count": 30,
      "outputs": [
        {
          "output_type": "display_data",
          "data": {
            "text/plain": [
              "<Figure size 1600x800 with 1 Axes>"
            ],
            "image/png": "[encoded data removed]"
          },
          "metadata": {}
        }
      ]
    },
    {
      "cell_type": "code",
      "source": [
        "\n",
        "from sklearn.metrics import mean_absolute_error, mean_squared_error\n",
        "import numpy as np\n",
        "\n",
        "def calculate_metrics(y_true, y_pred):\n",
        "    mae = mean_absolute_error(y_true, y_pred)\n",
        "    mse = mean_squared_error(y_true, y_pred)\n",
        "    rmse = np.sqrt(mse)\n",
        "    mape = np.mean(np.abs((y_true - y_pred) / y_true)) * 100\n",
        "    return {\"Mean Absolute Error\": mae, \"Mean Squared Error\": mse, \"Root Mean Squared Error\": rmse, \"Mean Absolute Percentage Error\": mape}\n",
        "\n"
      ],
      "metadata": {
        "id": "-twqMWo9J8Gm"
      },
      "execution_count": 27,
      "outputs": []
    },
    {
      "cell_type": "code",
      "source": [
        "\n",
        "metrics = calculate_metrics(test_data_currency['Original_USD_EUR_Price'].dropna(), forecast_df['Forecast'].dropna())\n",
        "metrics"
      ],
      "metadata": {
        "colab": {
          "base_uri": "https://localhost:8080/"
        },
        "id": "RLSBCjwyK3V5",
        "outputId": "761eda96-7c4e-42f8-a1e2-e7934252897c"
      },
      "execution_count": 31,
      "outputs": [
        {
          "output_type": "execute_result",
          "data": {
            "text/plain": [
              "{'Mean Absolute Error': 0.011804281746529552,\n",
              " 'Mean Squared Error': 0.00019431831487849062,\n",
              " 'Root Mean Squared Error': 0.013939810431942416,\n",
              " 'Mean Absolute Percentage Error': 1.0888507578101236}"
            ]
          },
          "metadata": {},
          "execution_count": 31
        }
      ]
    }
  ]
}