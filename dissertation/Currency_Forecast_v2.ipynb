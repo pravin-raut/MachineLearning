{
  "nbformat": 4,
  "nbformat_minor": 0,
  "metadata": {
    "colab": {
      "provenance": [],
      "authorship_tag": "ABX9TyMF6t6TqWnEf8708+0riaK9",
      "include_colab_link": true
    },
    "kernelspec": {
      "name": "python3",
      "display_name": "Python 3"
    },
    "language_info": {
      "name": "python"
    }
  },
  "cells": [
    {
      "cell_type": "markdown",
      "metadata": {
        "id": "view-in-github",
        "colab_type": "text"
      },
      "source": [
        "<a href=\"https://colab.research.google.com/github/pravin-raut/MachineLearning/blob/Master/dissertation/Currency_Forecast_v2.ipynb\" target=\"_parent\"><img src=\"https://colab.research.google.com/assets/colab-badge.svg\" alt=\"Open In Colab\"/></a>"
      ]
    },
    {
      "cell_type": "code",
      "execution_count": 73,
      "metadata": {
        "colab": {
          "base_uri": "https://localhost:8080/"
        },
        "id": "3QtRlc1m1aTm",
        "outputId": "04089ad2-cabf-4709-b222-e0f5e1b466b8"
      },
      "outputs": [
        {
          "output_type": "stream",
          "name": "stdout",
          "text": [
            "Requirement already satisfied: pmdarima in /usr/local/lib/python3.10/dist-packages (2.0.3)\n",
            "Requirement already satisfied: joblib>=0.11 in /usr/local/lib/python3.10/dist-packages (from pmdarima) (1.2.0)\n",
            "Requirement already satisfied: Cython!=0.29.18,!=0.29.31,>=0.29 in /usr/local/lib/python3.10/dist-packages (from pmdarima) (0.29.35)\n",
            "Requirement already satisfied: numpy>=1.21.2 in /usr/local/lib/python3.10/dist-packages (from pmdarima) (1.22.4)\n",
            "Requirement already satisfied: pandas>=0.19 in /usr/local/lib/python3.10/dist-packages (from pmdarima) (1.5.3)\n",
            "Requirement already satisfied: scikit-learn>=0.22 in /usr/local/lib/python3.10/dist-packages (from pmdarima) (1.2.2)\n",
            "Requirement already satisfied: scipy>=1.3.2 in /usr/local/lib/python3.10/dist-packages (from pmdarima) (1.10.1)\n",
            "Requirement already satisfied: statsmodels>=0.13.2 in /usr/local/lib/python3.10/dist-packages (from pmdarima) (0.13.5)\n",
            "Requirement already satisfied: urllib3 in /usr/local/lib/python3.10/dist-packages (from pmdarima) (1.26.16)\n",
            "Requirement already satisfied: setuptools!=50.0.0,>=38.6.0 in /usr/local/lib/python3.10/dist-packages (from pmdarima) (67.7.2)\n",
            "Requirement already satisfied: python-dateutil>=2.8.1 in /usr/local/lib/python3.10/dist-packages (from pandas>=0.19->pmdarima) (2.8.2)\n",
            "Requirement already satisfied: pytz>=2020.1 in /usr/local/lib/python3.10/dist-packages (from pandas>=0.19->pmdarima) (2022.7.1)\n",
            "Requirement already satisfied: threadpoolctl>=2.0.0 in /usr/local/lib/python3.10/dist-packages (from scikit-learn>=0.22->pmdarima) (3.1.0)\n",
            "Requirement already satisfied: patsy>=0.5.2 in /usr/local/lib/python3.10/dist-packages (from statsmodels>=0.13.2->pmdarima) (0.5.3)\n",
            "Requirement already satisfied: packaging>=21.3 in /usr/local/lib/python3.10/dist-packages (from statsmodels>=0.13.2->pmdarima) (23.1)\n",
            "Requirement already satisfied: six in /usr/local/lib/python3.10/dist-packages (from patsy>=0.5.2->statsmodels>=0.13.2->pmdarima) (1.16.0)\n",
            "Collecting quandl\n",
            "  Downloading Quandl-3.7.0-py2.py3-none-any.whl (26 kB)\n",
            "Requirement already satisfied: pandas>=0.14 in /usr/local/lib/python3.10/dist-packages (from quandl) (1.5.3)\n",
            "Requirement already satisfied: numpy>=1.8 in /usr/local/lib/python3.10/dist-packages (from quandl) (1.22.4)\n",
            "Requirement already satisfied: requests>=2.7.0 in /usr/local/lib/python3.10/dist-packages (from quandl) (2.27.1)\n",
            "Collecting inflection>=0.3.1 (from quandl)\n",
            "  Downloading inflection-0.5.1-py2.py3-none-any.whl (9.5 kB)\n",
            "Requirement already satisfied: python-dateutil in /usr/local/lib/python3.10/dist-packages (from quandl) (2.8.2)\n",
            "Requirement already satisfied: six in /usr/local/lib/python3.10/dist-packages (from quandl) (1.16.0)\n",
            "Requirement already satisfied: more-itertools in /usr/local/lib/python3.10/dist-packages (from quandl) (9.1.0)\n",
            "Requirement already satisfied: pytz>=2020.1 in /usr/local/lib/python3.10/dist-packages (from pandas>=0.14->quandl) (2022.7.1)\n",
            "Requirement already satisfied: urllib3<1.27,>=1.21.1 in /usr/local/lib/python3.10/dist-packages (from requests>=2.7.0->quandl) (1.26.16)\n",
            "Requirement already satisfied: certifi>=2017.4.17 in /usr/local/lib/python3.10/dist-packages (from requests>=2.7.0->quandl) (2023.5.7)\n",
            "Requirement already satisfied: charset-normalizer~=2.0.0 in /usr/local/lib/python3.10/dist-packages (from requests>=2.7.0->quandl) (2.0.12)\n",
            "Requirement already satisfied: idna<4,>=2.5 in /usr/local/lib/python3.10/dist-packages (from requests>=2.7.0->quandl) (3.4)\n",
            "Installing collected packages: inflection, quandl\n",
            "Successfully installed inflection-0.5.1 quandl-3.7.0\n",
            "Requirement already satisfied: yfinance in /usr/local/lib/python3.10/dist-packages (0.2.21)\n",
            "Requirement already satisfied: pandas>=1.3.0 in /usr/local/lib/python3.10/dist-packages (from yfinance) (1.5.3)\n",
            "Requirement already satisfied: numpy>=1.16.5 in /usr/local/lib/python3.10/dist-packages (from yfinance) (1.22.4)\n",
            "Requirement already satisfied: requests>=2.26 in /usr/local/lib/python3.10/dist-packages (from yfinance) (2.27.1)\n",
            "Requirement already satisfied: multitasking>=0.0.7 in /usr/local/lib/python3.10/dist-packages (from yfinance) (0.0.11)\n",
            "Requirement already satisfied: lxml>=4.9.1 in /usr/local/lib/python3.10/dist-packages (from yfinance) (4.9.2)\n",
            "Requirement already satisfied: appdirs>=1.4.4 in /usr/local/lib/python3.10/dist-packages (from yfinance) (1.4.4)\n",
            "Requirement already satisfied: pytz>=2022.5 in /usr/local/lib/python3.10/dist-packages (from yfinance) (2022.7.1)\n",
            "Requirement already satisfied: frozendict>=2.3.4 in /usr/local/lib/python3.10/dist-packages (from yfinance) (2.3.8)\n",
            "Requirement already satisfied: beautifulsoup4>=4.11.1 in /usr/local/lib/python3.10/dist-packages (from yfinance) (4.11.2)\n",
            "Requirement already satisfied: html5lib>=1.1 in /usr/local/lib/python3.10/dist-packages (from yfinance) (1.1)\n",
            "Requirement already satisfied: soupsieve>1.2 in /usr/local/lib/python3.10/dist-packages (from beautifulsoup4>=4.11.1->yfinance) (2.4.1)\n",
            "Requirement already satisfied: six>=1.9 in /usr/local/lib/python3.10/dist-packages (from html5lib>=1.1->yfinance) (1.16.0)\n",
            "Requirement already satisfied: webencodings in /usr/local/lib/python3.10/dist-packages (from html5lib>=1.1->yfinance) (0.5.1)\n",
            "Requirement already satisfied: python-dateutil>=2.8.1 in /usr/local/lib/python3.10/dist-packages (from pandas>=1.3.0->yfinance) (2.8.2)\n",
            "Requirement already satisfied: urllib3<1.27,>=1.21.1 in /usr/local/lib/python3.10/dist-packages (from requests>=2.26->yfinance) (1.26.16)\n",
            "Requirement already satisfied: certifi>=2017.4.17 in /usr/local/lib/python3.10/dist-packages (from requests>=2.26->yfinance) (2023.5.7)\n",
            "Requirement already satisfied: charset-normalizer~=2.0.0 in /usr/local/lib/python3.10/dist-packages (from requests>=2.26->yfinance) (2.0.12)\n",
            "Requirement already satisfied: idna<4,>=2.5 in /usr/local/lib/python3.10/dist-packages (from requests>=2.26->yfinance) (3.4)\n"
          ]
        }
      ],
      "source": [
        "!pip install pmdarima\n",
        "!pip install quandl\n",
        "!pip install yfinance"
      ]
    },
    {
      "cell_type": "code",
      "source": [
        "from google.colab import drive\n",
        "drive.mount('/content/drive')"
      ],
      "metadata": {
        "colab": {
          "base_uri": "https://localhost:8080/"
        },
        "id": "VfmUP0F_1hmY",
        "outputId": "20b3b4b9-983f-4382-eeaf-5a428a39ea00"
      },
      "execution_count": 74,
      "outputs": [
        {
          "output_type": "stream",
          "name": "stdout",
          "text": [
            "Drive already mounted at /content/drive; to attempt to forcibly remount, call drive.mount(\"/content/drive\", force_remount=True).\n"
          ]
        }
      ]
    },
    {
      "cell_type": "code",
      "source": [
        "import pandas as pd\n",
        "import numpy as np\n",
        "import matplotlib.pyplot as plt\n",
        "import yfinance as yf\n",
        "from datetime import datetime,timedelta\n",
        "import json\n",
        "import quandl"
      ],
      "metadata": {
        "id": "QfG9cg941i0D"
      },
      "execution_count": 77,
      "outputs": []
    },
    {
      "cell_type": "code",
      "source": [
        "import urllib.request\n",
        "\n",
        "file_path = \"https://raw.githubusercontent.com/pravin-raut/MachineLearning/Master/dissertation/Config/Config_Git.json\"\n",
        "\n",
        "# Open the file for reading and load the data from it\n",
        "with urllib.request.urlopen(file_path) as infile:\n",
        "  data = json.load(infile)\n",
        "# Set up API key\n",
        "  api_key=data[\"nasdaq\"][\"api_key\"]\n",
        "quandl.ApiConfig.api_key = api_key\n"
      ],
      "metadata": {
        "id": "SkPKK4SXxiyj"
      },
      "execution_count": 78,
      "outputs": []
    },
    {
      "cell_type": "code",
      "source": [
        "CurrentDate = (datetime.today() - timedelta(days=0)).strftime('%Y-%m-%d')\n",
        "CurrentDate\n"
      ],
      "metadata": {
        "colab": {
          "base_uri": "https://localhost:8080/",
          "height": 36
        },
        "id": "_QbFXhm2xn7_",
        "outputId": "ca0760b7-17c1-4c03-e342-adff2a5e6ebf"
      },
      "execution_count": 79,
      "outputs": [
        {
          "output_type": "execute_result",
          "data": {
            "text/plain": [
              "'2023-07-06'"
            ],
            "application/vnd.google.colaboratory.intrinsic+json": {
              "type": "string"
            }
          },
          "metadata": {},
          "execution_count": 79
        }
      ]
    },
    {
      "cell_type": "code",
      "source": [
        "FirstDay='2019-01-01'\n"
      ],
      "metadata": {
        "id": "W1VMgh18xqdx"
      },
      "execution_count": 108,
      "outputs": []
    },
    {
      "cell_type": "code",
      "source": [
        "\n",
        "def getDataFromAPI(API,symbol,start_date,end_date):\n",
        "\n",
        "  if API==\"YFinance\":\n",
        "    # Create a ticker object\n",
        "    ticker = yf.Ticker(symbol)\n",
        "    # Download historical data\n",
        "    data = ticker.history(period=\"1d\", start=start_date, end=end_date)\n",
        "\n",
        "  if API==\"Nasdaq\":\n",
        "    data = quandl.get(symbol,start_date=start_date,end_date=end_date)\n",
        "\n",
        "\n",
        "  return data"
      ],
      "metadata": {
        "id": "gCXoyQwgxsCg"
      },
      "execution_count": 109,
      "outputs": []
    },
    {
      "cell_type": "code",
      "source": [
        "df_USD_EUR=getDataFromAPI(\"YFinance\",\"EURUSD=X\",FirstDay,CurrentDate).reset_index()\n",
        "df_USD_EUR['Date'] = pd.to_datetime(df_USD_EUR['Date']).dt.date\n",
        "df_USD_EUR.set_index('Date', inplace=True)\n",
        "df_USD_EUR=df_USD_EUR.asfreq('b')\n",
        "df_USD_EUR.Close=df_USD_EUR.Close.fillna(method='bfill')\n",
        "df_USD_EUR['Original_USD_EUR_Price']=df_USD_EUR[['Close']]\n",
        "df_USD_EUR=df_USD_EUR[['Original_USD_EUR_Price']]\n",
        "df_USD_EUR"
      ],
      "metadata": {
        "colab": {
          "base_uri": "https://localhost:8080/",
          "height": 455
        },
        "id": "6NRvuPImxvW1",
        "outputId": "82ef4586-2a68-4e90-af51-1c394d813187"
      },
      "execution_count": 110,
      "outputs": [
        {
          "output_type": "execute_result",
          "data": {
            "text/plain": [
              "            Original_USD_EUR_Price\n",
              "Date                              \n",
              "2019-01-01                1.149306\n",
              "2019-01-02                1.146171\n",
              "2019-01-03                1.131811\n",
              "2019-01-04                1.139108\n",
              "2019-01-07                1.141044\n",
              "...                            ...\n",
              "2023-06-29                1.091584\n",
              "2023-06-30                1.086803\n",
              "2023-07-03                1.090750\n",
              "2023-07-04                1.091310\n",
              "2023-07-05                1.088495\n",
              "\n",
              "[1177 rows x 1 columns]"
            ],
            "text/html": [
              "\n",
              "  <div id=\"df-18010a46-00d0-4fe8-9864-afd60d507249\">\n",
              "    <div class=\"colab-df-container\">\n",
              "      <div>\n",
              "<style scoped>\n",
              "    .dataframe tbody tr th:only-of-type {\n",
              "        vertical-align: middle;\n",
              "    }\n",
              "\n",
              "    .dataframe tbody tr th {\n",
              "        vertical-align: top;\n",
              "    }\n",
              "\n",
              "    .dataframe thead th {\n",
              "        text-align: right;\n",
              "    }\n",
              "</style>\n",
              "<table border=\"1\" class=\"dataframe\">\n",
              "  <thead>\n",
              "    <tr style=\"text-align: right;\">\n",
              "      <th></th>\n",
              "      <th>Original_USD_EUR_Price</th>\n",
              "    </tr>\n",
              "    <tr>\n",
              "      <th>Date</th>\n",
              "      <th></th>\n",
              "    </tr>\n",
              "  </thead>\n",
              "  <tbody>\n",
              "    <tr>\n",
              "      <th>2019-01-01</th>\n",
              "      <td>1.149306</td>\n",
              "    </tr>\n",
              "    <tr>\n",
              "      <th>2019-01-02</th>\n",
              "      <td>1.146171</td>\n",
              "    </tr>\n",
              "    <tr>\n",
              "      <th>2019-01-03</th>\n",
              "      <td>1.131811</td>\n",
              "    </tr>\n",
              "    <tr>\n",
              "      <th>2019-01-04</th>\n",
              "      <td>1.139108</td>\n",
              "    </tr>\n",
              "    <tr>\n",
              "      <th>2019-01-07</th>\n",
              "      <td>1.141044</td>\n",
              "    </tr>\n",
              "    <tr>\n",
              "      <th>...</th>\n",
              "      <td>...</td>\n",
              "    </tr>\n",
              "    <tr>\n",
              "      <th>2023-06-29</th>\n",
              "      <td>1.091584</td>\n",
              "    </tr>\n",
              "    <tr>\n",
              "      <th>2023-06-30</th>\n",
              "      <td>1.086803</td>\n",
              "    </tr>\n",
              "    <tr>\n",
              "      <th>2023-07-03</th>\n",
              "      <td>1.090750</td>\n",
              "    </tr>\n",
              "    <tr>\n",
              "      <th>2023-07-04</th>\n",
              "      <td>1.091310</td>\n",
              "    </tr>\n",
              "    <tr>\n",
              "      <th>2023-07-05</th>\n",
              "      <td>1.088495</td>\n",
              "    </tr>\n",
              "  </tbody>\n",
              "</table>\n",
              "<p>1177 rows × 1 columns</p>\n",
              "</div>\n",
              "      <button class=\"colab-df-convert\" onclick=\"convertToInteractive('df-18010a46-00d0-4fe8-9864-afd60d507249')\"\n",
              "              title=\"Convert this dataframe to an interactive table.\"\n",
              "              style=\"display:none;\">\n",
              "        \n",
              "  <svg xmlns=\"http://www.w3.org/2000/svg\" height=\"24px\"viewBox=\"0 0 24 24\"\n",
              "       width=\"24px\">\n",
              "    <path d=\"M0 0h24v24H0V0z\" fill=\"none\"/>\n",
              "    <path d=\"M18.56 5.44l.94 2.06.94-2.06 2.06-.94-2.06-.94-.94-2.06-.94 2.06-2.06.94zm-11 1L8.5 8.5l.94-2.06 2.06-.94-2.06-.94L8.5 2.5l-.94 2.06-2.06.94zm10 10l.94 2.06.94-2.06 2.06-.94-2.06-.94-.94-2.06-.94 2.06-2.06.94z\"/><path d=\"M17.41 7.96l-1.37-1.37c-.4-.4-.92-.59-1.43-.59-.52 0-1.04.2-1.43.59L10.3 9.45l-7.72 7.72c-.78.78-.78 2.05 0 2.83L4 21.41c.39.39.9.59 1.41.59.51 0 1.02-.2 1.41-.59l7.78-7.78 2.81-2.81c.8-.78.8-2.07 0-2.86zM5.41 20L4 18.59l7.72-7.72 1.47 1.35L5.41 20z\"/>\n",
              "  </svg>\n",
              "      </button>\n",
              "      \n",
              "  <style>\n",
              "    .colab-df-container {\n",
              "      display:flex;\n",
              "      flex-wrap:wrap;\n",
              "      gap: 12px;\n",
              "    }\n",
              "\n",
              "    .colab-df-convert {\n",
              "      background-color: #E8F0FE;\n",
              "      border: none;\n",
              "      border-radius: 50%;\n",
              "      cursor: pointer;\n",
              "      display: none;\n",
              "      fill: #1967D2;\n",
              "      height: 32px;\n",
              "      padding: 0 0 0 0;\n",
              "      width: 32px;\n",
              "    }\n",
              "\n",
              "    .colab-df-convert:hover {\n",
              "      background-color: #E2EBFA;\n",
              "      box-shadow: 0px 1px 2px rgba(60, 64, 67, 0.3), 0px 1px 3px 1px rgba(60, 64, 67, 0.15);\n",
              "      fill: #174EA6;\n",
              "    }\n",
              "\n",
              "    [theme=dark] .colab-df-convert {\n",
              "      background-color: #3B4455;\n",
              "      fill: #D2E3FC;\n",
              "    }\n",
              "\n",
              "    [theme=dark] .colab-df-convert:hover {\n",
              "      background-color: #434B5C;\n",
              "      box-shadow: 0px 1px 3px 1px rgba(0, 0, 0, 0.15);\n",
              "      filter: drop-shadow(0px 1px 2px rgba(0, 0, 0, 0.3));\n",
              "      fill: #FFFFFF;\n",
              "    }\n",
              "  </style>\n",
              "\n",
              "      <script>\n",
              "        const buttonEl =\n",
              "          document.querySelector('#df-18010a46-00d0-4fe8-9864-afd60d507249 button.colab-df-convert');\n",
              "        buttonEl.style.display =\n",
              "          google.colab.kernel.accessAllowed ? 'block' : 'none';\n",
              "\n",
              "        async function convertToInteractive(key) {\n",
              "          const element = document.querySelector('#df-18010a46-00d0-4fe8-9864-afd60d507249');\n",
              "          const dataTable =\n",
              "            await google.colab.kernel.invokeFunction('convertToInteractive',\n",
              "                                                     [key], {});\n",
              "          if (!dataTable) return;\n",
              "\n",
              "          const docLinkHtml = 'Like what you see? Visit the ' +\n",
              "            '<a target=\"_blank\" href=https://colab.research.google.com/notebooks/data_table.ipynb>data table notebook</a>'\n",
              "            + ' to learn more about interactive tables.';\n",
              "          element.innerHTML = '';\n",
              "          dataTable['output_type'] = 'display_data';\n",
              "          await google.colab.output.renderOutput(dataTable, element);\n",
              "          const docLink = document.createElement('div');\n",
              "          docLink.innerHTML = docLinkHtml;\n",
              "          element.appendChild(docLink);\n",
              "        }\n",
              "      </script>\n",
              "    </div>\n",
              "  </div>\n",
              "  "
            ]
          },
          "metadata": {},
          "execution_count": 110
        }
      ]
    },
    {
      "cell_type": "code",
      "source": [
        "from statsmodels.tsa.stattools import adfuller\n",
        "\n",
        "def perform_adfuller(series):\n",
        "    # Perform Augmented Dickey-Fuller test\n",
        "    result = adfuller(series)\n",
        "\n",
        "    # Extract test statistics and p-value\n",
        "    test_statistic = result[0]\n",
        "    p_value = result[1]\n",
        "\n",
        "    # Print the results\n",
        "    print(\"Augmented Dickey-Fuller Test:\")\n",
        "    print(f\"Test Statistic: {test_statistic}\")\n",
        "    print(f\"P-value: {p_value}\")\n",
        "\n",
        "    # Check the p-value against a significance level (e.g., 0.05) to determine stationarity\n",
        "    if p_value <= 0.05:\n",
        "        print(\"The time series is stationary.\")\n",
        "    else:\n",
        "        print(\"The time series is non-stationary.\")\n",
        "\n"
      ],
      "metadata": {
        "id": "iPTvMgy0G_VA"
      },
      "execution_count": 111,
      "outputs": []
    },
    {
      "cell_type": "code",
      "source": [
        "perform_adfuller(df_USD_EUR['Original_USD_EUR_Price'].diff(1).dropna())"
      ],
      "metadata": {
        "colab": {
          "base_uri": "https://localhost:8080/"
        },
        "id": "s_pV7_gHg1m9",
        "outputId": "566136aa-9025-4675-f34e-cbef48b56007"
      },
      "execution_count": 112,
      "outputs": [
        {
          "output_type": "stream",
          "name": "stdout",
          "text": [
            "Augmented Dickey-Fuller Test:\n",
            "Test Statistic: -33.20437952512242\n",
            "P-value: 0.0\n",
            "The time series is stationary.\n"
          ]
        }
      ]
    },
    {
      "cell_type": "code",
      "source": [
        "# Define the start and end dates for train and test data\n",
        "train_start_date = pd.to_datetime('2018-01-01')\n",
        "train_end_date = pd.to_datetime('2022-05-31')\n",
        "test_start_date = pd.to_datetime('2023-01-01')\n"
      ],
      "metadata": {
        "id": "ZJ7Y-dt81rOh"
      },
      "execution_count": 113,
      "outputs": []
    },
    {
      "cell_type": "code",
      "source": [
        "from statsmodels.graphics.tsaplots import plot_acf, plot_pacf\n",
        "\n",
        "import matplotlib.pyplot as plt\n",
        "\n",
        "def plot_acf_values(data, lags):\n",
        "    fig, ax = plt.subplots(figsize=(12, 4))\n",
        "    plot_acf(data.dropna(), lags=lags, ax=ax,zero=False)\n",
        "    plt.title('ACF')\n",
        "    plt.show()\n",
        "\n",
        "def plot_pacf_values(data, lags):\n",
        "    fig, ax = plt.subplots(figsize=(12, 4))\n",
        "    plot_pacf(data.dropna(), lags=lags, ax=ax,zero=False,alpha=0.05)\n",
        "    plt.title('PACF')\n",
        "    plt.show()\n"
      ],
      "metadata": {
        "id": "YEtPWN0hfrmY"
      },
      "execution_count": 114,
      "outputs": []
    },
    {
      "cell_type": "code",
      "source": [
        "plot_acf_values(df_USD_EUR['Original_USD_EUR_Price'].diff(2),10)\n",
        "plot_pacf_values(df_USD_EUR['Original_USD_EUR_Price'].diff(2),10)"
      ],
      "metadata": {
        "colab": {
          "base_uri": "https://localhost:8080/",
          "height": 765
        },
        "id": "uQUT63rkfsWW",
        "outputId": "a5cedd74-b0fb-4da9-e240-94b8d7f15599"
      },
      "execution_count": 115,
      "outputs": [
        {
          "output_type": "display_data",
          "data": {
            "text/plain": [
              "<Figure size 1200x400 with 1 Axes>"
            ],
            "image/png": "[encoded data removed]"
          },
          "metadata": {}
        },
        {
          "output_type": "display_data",
          "data": {
            "text/plain": [
              "<Figure size 1200x400 with 1 Axes>"
            ],
            "image/png": "[encoded data removed]"
          },
          "metadata": {}
        }
      ]
    },
    {
      "cell_type": "code",
      "source": [
        "train_data_currency = df_USD_EUR[(df_USD_EUR.index >= train_start_date) & (df_USD_EUR.index <= train_end_date)]\n",
        "test_data_currency = df_USD_EUR[df_USD_EUR.index >= test_start_date]\n",
        "train_data_currency.head(5)"
      ],
      "metadata": {
        "colab": {
          "base_uri": "https://localhost:8080/",
          "height": 238
        },
        "id": "go03GInLHo1n",
        "outputId": "3df72caa-10b6-4e2c-f963-db30e4868e10"
      },
      "execution_count": 116,
      "outputs": [
        {
          "output_type": "execute_result",
          "data": {
            "text/plain": [
              "            Original_USD_EUR_Price\n",
              "Date                              \n",
              "2019-01-01                1.149306\n",
              "2019-01-02                1.146171\n",
              "2019-01-03                1.131811\n",
              "2019-01-04                1.139108\n",
              "2019-01-07                1.141044"
            ],
            "text/html": [
              "\n",
              "  <div id=\"df-ec2ef0d8-a052-4e5f-8edb-b8ca6b0e3946\">\n",
              "    <div class=\"colab-df-container\">\n",
              "      <div>\n",
              "<style scoped>\n",
              "    .dataframe tbody tr th:only-of-type {\n",
              "        vertical-align: middle;\n",
              "    }\n",
              "\n",
              "    .dataframe tbody tr th {\n",
              "        vertical-align: top;\n",
              "    }\n",
              "\n",
              "    .dataframe thead th {\n",
              "        text-align: right;\n",
              "    }\n",
              "</style>\n",
              "<table border=\"1\" class=\"dataframe\">\n",
              "  <thead>\n",
              "    <tr style=\"text-align: right;\">\n",
              "      <th></th>\n",
              "      <th>Original_USD_EUR_Price</th>\n",
              "    </tr>\n",
              "    <tr>\n",
              "      <th>Date</th>\n",
              "      <th></th>\n",
              "    </tr>\n",
              "  </thead>\n",
              "  <tbody>\n",
              "    <tr>\n",
              "      <th>2019-01-01</th>\n",
              "      <td>1.149306</td>\n",
              "    </tr>\n",
              "    <tr>\n",
              "      <th>2019-01-02</th>\n",
              "      <td>1.146171</td>\n",
              "    </tr>\n",
              "    <tr>\n",
              "      <th>2019-01-03</th>\n",
              "      <td>1.131811</td>\n",
              "    </tr>\n",
              "    <tr>\n",
              "      <th>2019-01-04</th>\n",
              "      <td>1.139108</td>\n",
              "    </tr>\n",
              "    <tr>\n",
              "      <th>2019-01-07</th>\n",
              "      <td>1.141044</td>\n",
              "    </tr>\n",
              "  </tbody>\n",
              "</table>\n",
              "</div>\n",
              "      <button class=\"colab-df-convert\" onclick=\"convertToInteractive('df-ec2ef0d8-a052-4e5f-8edb-b8ca6b0e3946')\"\n",
              "              title=\"Convert this dataframe to an interactive table.\"\n",
              "              style=\"display:none;\">\n",
              "        \n",
              "  <svg xmlns=\"http://www.w3.org/2000/svg\" height=\"24px\"viewBox=\"0 0 24 24\"\n",
              "       width=\"24px\">\n",
              "    <path d=\"M0 0h24v24H0V0z\" fill=\"none\"/>\n",
              "    <path d=\"M18.56 5.44l.94 2.06.94-2.06 2.06-.94-2.06-.94-.94-2.06-.94 2.06-2.06.94zm-11 1L8.5 8.5l.94-2.06 2.06-.94-2.06-.94L8.5 2.5l-.94 2.06-2.06.94zm10 10l.94 2.06.94-2.06 2.06-.94-2.06-.94-.94-2.06-.94 2.06-2.06.94z\"/><path d=\"M17.41 7.96l-1.37-1.37c-.4-.4-.92-.59-1.43-.59-.52 0-1.04.2-1.43.59L10.3 9.45l-7.72 7.72c-.78.78-.78 2.05 0 2.83L4 21.41c.39.39.9.59 1.41.59.51 0 1.02-.2 1.41-.59l7.78-7.78 2.81-2.81c.8-.78.8-2.07 0-2.86zM5.41 20L4 18.59l7.72-7.72 1.47 1.35L5.41 20z\"/>\n",
              "  </svg>\n",
              "      </button>\n",
              "      \n",
              "  <style>\n",
              "    .colab-df-container {\n",
              "      display:flex;\n",
              "      flex-wrap:wrap;\n",
              "      gap: 12px;\n",
              "    }\n",
              "\n",
              "    .colab-df-convert {\n",
              "      background-color: #E8F0FE;\n",
              "      border: none;\n",
              "      border-radius: 50%;\n",
              "      cursor: pointer;\n",
              "      display: none;\n",
              "      fill: #1967D2;\n",
              "      height: 32px;\n",
              "      padding: 0 0 0 0;\n",
              "      width: 32px;\n",
              "    }\n",
              "\n",
              "    .colab-df-convert:hover {\n",
              "      background-color: #E2EBFA;\n",
              "      box-shadow: 0px 1px 2px rgba(60, 64, 67, 0.3), 0px 1px 3px 1px rgba(60, 64, 67, 0.15);\n",
              "      fill: #174EA6;\n",
              "    }\n",
              "\n",
              "    [theme=dark] .colab-df-convert {\n",
              "      background-color: #3B4455;\n",
              "      fill: #D2E3FC;\n",
              "    }\n",
              "\n",
              "    [theme=dark] .colab-df-convert:hover {\n",
              "      background-color: #434B5C;\n",
              "      box-shadow: 0px 1px 3px 1px rgba(0, 0, 0, 0.15);\n",
              "      filter: drop-shadow(0px 1px 2px rgba(0, 0, 0, 0.3));\n",
              "      fill: #FFFFFF;\n",
              "    }\n",
              "  </style>\n",
              "\n",
              "      <script>\n",
              "        const buttonEl =\n",
              "          document.querySelector('#df-ec2ef0d8-a052-4e5f-8edb-b8ca6b0e3946 button.colab-df-convert');\n",
              "        buttonEl.style.display =\n",
              "          google.colab.kernel.accessAllowed ? 'block' : 'none';\n",
              "\n",
              "        async function convertToInteractive(key) {\n",
              "          const element = document.querySelector('#df-ec2ef0d8-a052-4e5f-8edb-b8ca6b0e3946');\n",
              "          const dataTable =\n",
              "            await google.colab.kernel.invokeFunction('convertToInteractive',\n",
              "                                                     [key], {});\n",
              "          if (!dataTable) return;\n",
              "\n",
              "          const docLinkHtml = 'Like what you see? Visit the ' +\n",
              "            '<a target=\"_blank\" href=https://colab.research.google.com/notebooks/data_table.ipynb>data table notebook</a>'\n",
              "            + ' to learn more about interactive tables.';\n",
              "          element.innerHTML = '';\n",
              "          dataTable['output_type'] = 'display_data';\n",
              "          await google.colab.output.renderOutput(dataTable, element);\n",
              "          const docLink = document.createElement('div');\n",
              "          docLink.innerHTML = docLinkHtml;\n",
              "          element.appendChild(docLink);\n",
              "        }\n",
              "      </script>\n",
              "    </div>\n",
              "  </div>\n",
              "  "
            ]
          },
          "metadata": {},
          "execution_count": 116
        }
      ]
    },
    {
      "cell_type": "code",
      "source": [
        "from pmdarima import auto_arima\n",
        "model = auto_arima(train_data_currency['Original_USD_EUR_Price'].dropna(),\n",
        "                   start_p=1, start_q=1,d=2,min_p=1,\n",
        "                         seasonal=False,   # No Seasonality\n",
        "                      trace=True,\n",
        "                      error_action='ignore',\n",
        "                      suppress_warnings=True,\n",
        "                      stepwise=True)\n",
        "model.summary()\n"
      ],
      "metadata": {
        "colab": {
          "base_uri": "https://localhost:8080/",
          "height": 878
        },
        "id": "SfzrPXJnHUJ-",
        "outputId": "33581092-d7bb-4a2d-e875-f1ef0a4f010f"
      },
      "execution_count": 137,
      "outputs": [
        {
          "output_type": "stream",
          "name": "stdout",
          "text": [
            "Performing stepwise search to minimize aic\n",
            " ARIMA(1,2,1)(0,0,0)[0] intercept   : AIC=-6876.706, Time=3.61 sec\n",
            " ARIMA(0,2,0)(0,0,0)[0] intercept   : AIC=-6448.031, Time=0.31 sec\n",
            " ARIMA(1,2,0)(0,0,0)[0] intercept   : AIC=-6705.217, Time=0.42 sec\n",
            " ARIMA(0,2,1)(0,0,0)[0] intercept   : AIC=-6891.154, Time=1.00 sec\n",
            " ARIMA(0,2,0)(0,0,0)[0]             : AIC=-6450.030, Time=0.40 sec\n",
            " ARIMA(0,2,2)(0,0,0)[0] intercept   : AIC=-6940.806, Time=3.34 sec\n",
            " ARIMA(1,2,2)(0,0,0)[0] intercept   : AIC=-6920.145, Time=1.36 sec\n",
            " ARIMA(0,2,3)(0,0,0)[0] intercept   : AIC=-6970.585, Time=1.28 sec\n",
            " ARIMA(1,2,3)(0,0,0)[0] intercept   : AIC=-6957.689, Time=1.64 sec\n",
            " ARIMA(0,2,4)(0,0,0)[0] intercept   : AIC=-6924.230, Time=5.24 sec\n",
            " ARIMA(1,2,4)(0,0,0)[0] intercept   : AIC=-6986.869, Time=2.88 sec\n",
            " ARIMA(2,2,4)(0,0,0)[0] intercept   : AIC=-6980.924, Time=2.27 sec\n",
            " ARIMA(1,2,5)(0,0,0)[0] intercept   : AIC=-7005.774, Time=2.81 sec\n",
            " ARIMA(0,2,5)(0,0,0)[0] intercept   : AIC=-6991.241, Time=5.30 sec\n",
            " ARIMA(2,2,5)(0,0,0)[0] intercept   : AIC=-6991.320, Time=3.07 sec\n",
            " ARIMA(1,2,5)(0,0,0)[0]             : AIC=-7008.859, Time=1.00 sec\n",
            " ARIMA(0,2,5)(0,0,0)[0]             : AIC=-7010.860, Time=1.77 sec\n",
            " ARIMA(0,2,4)(0,0,0)[0]             : AIC=inf, Time=1.28 sec\n",
            " ARIMA(1,2,4)(0,0,0)[0]             : AIC=inf, Time=1.47 sec\n",
            "\n",
            "Best model:  ARIMA(0,2,5)(0,0,0)[0]          \n",
            "Total fit time: 40.511 seconds\n"
          ]
        },
        {
          "output_type": "execute_result",
          "data": {
            "text/plain": [
              "<class 'statsmodels.iolib.summary.Summary'>\n",
              "\"\"\"\n",
              "                               SARIMAX Results                                \n",
              "==============================================================================\n",
              "Dep. Variable:                      y   No. Observations:                  891\n",
              "Model:               SARIMAX(0, 2, 5)   Log Likelihood                3511.430\n",
              "Date:                Thu, 06 Jul 2023   AIC                          -7010.860\n",
              "Time:                        15:52:03   BIC                          -6982.120\n",
              "Sample:                    01-01-2019   HQIC                         -6999.875\n",
              "                         - 05-31-2022                                         \n",
              "Covariance Type:                  opg                                         \n",
              "==============================================================================\n",
              "                 coef    std err          z      P>|z|      [0.025      0.975]\n",
              "------------------------------------------------------------------------------\n",
              "ma.L1         -0.9299      0.031    -29.851      0.000      -0.991      -0.869\n",
              "ma.L2          0.0205      0.041      0.498      0.618      -0.060       0.101\n",
              "ma.L3         -0.1652      0.038     -4.388      0.000      -0.239      -0.091\n",
              "ma.L4          0.0409      0.040      1.011      0.312      -0.038       0.120\n",
              "ma.L5          0.0519      0.032      1.621      0.105      -0.011       0.115\n",
              "sigma2       2.16e-05   7.75e-07     27.873      0.000    2.01e-05    2.31e-05\n",
              "===================================================================================\n",
              "Ljung-Box (L1) (Q):                   0.56   Jarque-Bera (JB):               211.85\n",
              "Prob(Q):                              0.45   Prob(JB):                         0.00\n",
              "Heteroskedasticity (H):               1.83   Skew:                            -0.25\n",
              "Prob(H) (two-sided):                  0.00   Kurtosis:                         5.34\n",
              "===================================================================================\n",
              "\n",
              "Warnings:\n",
              "[1] Covariance matrix calculated using the outer product of gradients (complex-step).\n",
              "\"\"\""
            ],
            "text/html": [
              "<table class=\"simpletable\">\n",
              "<caption>SARIMAX Results</caption>\n",
              "<tr>\n",
              "  <th>Dep. Variable:</th>           <td>y</td>        <th>  No. Observations:  </th>    <td>891</td>   \n",
              "</tr>\n",
              "<tr>\n",
              "  <th>Model:</th>           <td>SARIMAX(0, 2, 5)</td> <th>  Log Likelihood     </th> <td>3511.430</td> \n",
              "</tr>\n",
              "<tr>\n",
              "  <th>Date:</th>            <td>Thu, 06 Jul 2023</td> <th>  AIC                </th> <td>-7010.860</td>\n",
              "</tr>\n",
              "<tr>\n",
              "  <th>Time:</th>                <td>15:52:03</td>     <th>  BIC                </th> <td>-6982.120</td>\n",
              "</tr>\n",
              "<tr>\n",
              "  <th>Sample:</th>             <td>01-01-2019</td>    <th>  HQIC               </th> <td>-6999.875</td>\n",
              "</tr>\n",
              "<tr>\n",
              "  <th></th>                   <td>- 05-31-2022</td>   <th>                     </th>     <td> </td>    \n",
              "</tr>\n",
              "<tr>\n",
              "  <th>Covariance Type:</th>        <td>opg</td>       <th>                     </th>     <td> </td>    \n",
              "</tr>\n",
              "</table>\n",
              "<table class=\"simpletable\">\n",
              "<tr>\n",
              "     <td></td>       <th>coef</th>     <th>std err</th>      <th>z</th>      <th>P>|z|</th>  <th>[0.025</th>    <th>0.975]</th>  \n",
              "</tr>\n",
              "<tr>\n",
              "  <th>ma.L1</th>  <td>   -0.9299</td> <td>    0.031</td> <td>  -29.851</td> <td> 0.000</td> <td>   -0.991</td> <td>   -0.869</td>\n",
              "</tr>\n",
              "<tr>\n",
              "  <th>ma.L2</th>  <td>    0.0205</td> <td>    0.041</td> <td>    0.498</td> <td> 0.618</td> <td>   -0.060</td> <td>    0.101</td>\n",
              "</tr>\n",
              "<tr>\n",
              "  <th>ma.L3</th>  <td>   -0.1652</td> <td>    0.038</td> <td>   -4.388</td> <td> 0.000</td> <td>   -0.239</td> <td>   -0.091</td>\n",
              "</tr>\n",
              "<tr>\n",
              "  <th>ma.L4</th>  <td>    0.0409</td> <td>    0.040</td> <td>    1.011</td> <td> 0.312</td> <td>   -0.038</td> <td>    0.120</td>\n",
              "</tr>\n",
              "<tr>\n",
              "  <th>ma.L5</th>  <td>    0.0519</td> <td>    0.032</td> <td>    1.621</td> <td> 0.105</td> <td>   -0.011</td> <td>    0.115</td>\n",
              "</tr>\n",
              "<tr>\n",
              "  <th>sigma2</th> <td>  2.16e-05</td> <td> 7.75e-07</td> <td>   27.873</td> <td> 0.000</td> <td> 2.01e-05</td> <td> 2.31e-05</td>\n",
              "</tr>\n",
              "</table>\n",
              "<table class=\"simpletable\">\n",
              "<tr>\n",
              "  <th>Ljung-Box (L1) (Q):</th>     <td>0.56</td> <th>  Jarque-Bera (JB):  </th> <td>211.85</td>\n",
              "</tr>\n",
              "<tr>\n",
              "  <th>Prob(Q):</th>                <td>0.45</td> <th>  Prob(JB):          </th>  <td>0.00</td> \n",
              "</tr>\n",
              "<tr>\n",
              "  <th>Heteroskedasticity (H):</th> <td>1.83</td> <th>  Skew:              </th>  <td>-0.25</td>\n",
              "</tr>\n",
              "<tr>\n",
              "  <th>Prob(H) (two-sided):</th>    <td>0.00</td> <th>  Kurtosis:          </th>  <td>5.34</td> \n",
              "</tr>\n",
              "</table><br/><br/>Warnings:<br/>[1] Covariance matrix calculated using the outer product of gradients (complex-step)."
            ]
          },
          "metadata": {},
          "execution_count": 137
        }
      ]
    },
    {
      "cell_type": "code",
      "source": [
        "import warnings\n",
        "warnings.filterwarnings(\"ignore\")\n"
      ],
      "metadata": {
        "id": "c3B7VQPI1u3H"
      },
      "execution_count": 118,
      "outputs": []
    },
    {
      "cell_type": "code",
      "source": [
        "from pmdarima.arima import ndiffs\n",
        "kpss_diff = ndiffs(train_data_currency['Original_USD_EUR_Price'].values, alpha=0.05, test='kpss', max_d=12)\n",
        "adf_diff = ndiffs(train_data_currency['Original_USD_EUR_Price'].values, alpha=0.05, test='adf', max_d=12)\n",
        "n_diffs = max(adf_diff , kpss_diff )\n",
        "n_diffs"
      ],
      "metadata": {
        "colab": {
          "base_uri": "https://localhost:8080/"
        },
        "id": "cKKpyxo6b2XV",
        "outputId": "64e0d526-b8fc-4492-e0ad-3523e9f41f8d"
      },
      "execution_count": 119,
      "outputs": [
        {
          "output_type": "execute_result",
          "data": {
            "text/plain": [
              "1"
            ]
          },
          "metadata": {},
          "execution_count": 119
        }
      ]
    },
    {
      "cell_type": "code",
      "source": [
        "from statsmodels.tsa.arima.model import ARIMA\n",
        "\n",
        "cur_model=ARIMA(train_data_currency['Original_USD_EUR_Price'],order=(1,2,4))\n",
        "cur_model_fit=cur_model.fit()\n",
        "cur_model_fit.summary()\n"
      ],
      "metadata": {
        "colab": {
          "base_uri": "https://localhost:8080/",
          "height": 478
        },
        "id": "g5OLx_8F1xps",
        "outputId": "dd5b9662-dc2b-4946-b777-c6fce43a49ad"
      },
      "execution_count": 129,
      "outputs": [
        {
          "output_type": "execute_result",
          "data": {
            "text/plain": [
              "<class 'statsmodels.iolib.summary.Summary'>\n",
              "\"\"\"\n",
              "                                 SARIMAX Results                                  \n",
              "==================================================================================\n",
              "Dep. Variable:     Original_USD_EUR_Price   No. Observations:                  891\n",
              "Model:                     ARIMA(1, 2, 4)   Log Likelihood                3515.764\n",
              "Date:                    Thu, 06 Jul 2023   AIC                          -7019.527\n",
              "Time:                            15:35:17   BIC                          -6990.787\n",
              "Sample:                        01-01-2019   HQIC                         -7008.542\n",
              "                             - 05-31-2022                                         \n",
              "Covariance Type:                      opg                                         \n",
              "==============================================================================\n",
              "                 coef    std err          z      P>|z|      [0.025      0.975]\n",
              "------------------------------------------------------------------------------\n",
              "ar.L1         -0.8576      0.318     -2.696      0.007      -1.481      -0.234\n",
              "ma.L1         -0.0987      0.321     -0.308      0.758      -0.727       0.530\n",
              "ma.L2         -0.8138      0.302     -2.693      0.007      -1.406      -0.222\n",
              "ma.L3         -0.0285      0.033     -0.864      0.388      -0.093       0.036\n",
              "ma.L4         -0.0548      0.029     -1.907      0.056      -0.111       0.002\n",
              "sigma2      2.129e-05   7.55e-07     28.209      0.000    1.98e-05    2.28e-05\n",
              "===================================================================================\n",
              "Ljung-Box (L1) (Q):                   0.01   Jarque-Bera (JB):               228.67\n",
              "Prob(Q):                              0.91   Prob(JB):                         0.00\n",
              "Heteroskedasticity (H):               1.84   Skew:                            -0.22\n",
              "Prob(H) (two-sided):                  0.00   Kurtosis:                         5.44\n",
              "===================================================================================\n",
              "\n",
              "Warnings:\n",
              "[1] Covariance matrix calculated using the outer product of gradients (complex-step).\n",
              "\"\"\""
            ],
            "text/html": [
              "<table class=\"simpletable\">\n",
              "<caption>SARIMAX Results</caption>\n",
              "<tr>\n",
              "  <th>Dep. Variable:</th>   <td>Original_USD_EUR_Price</td> <th>  No. Observations:  </th>    <td>891</td>   \n",
              "</tr>\n",
              "<tr>\n",
              "  <th>Model:</th>               <td>ARIMA(1, 2, 4)</td>     <th>  Log Likelihood     </th> <td>3515.764</td> \n",
              "</tr>\n",
              "<tr>\n",
              "  <th>Date:</th>               <td>Thu, 06 Jul 2023</td>    <th>  AIC                </th> <td>-7019.527</td>\n",
              "</tr>\n",
              "<tr>\n",
              "  <th>Time:</th>                   <td>15:35:17</td>        <th>  BIC                </th> <td>-6990.787</td>\n",
              "</tr>\n",
              "<tr>\n",
              "  <th>Sample:</th>                <td>01-01-2019</td>       <th>  HQIC               </th> <td>-7008.542</td>\n",
              "</tr>\n",
              "<tr>\n",
              "  <th></th>                      <td>- 05-31-2022</td>      <th>                     </th>     <td> </td>    \n",
              "</tr>\n",
              "<tr>\n",
              "  <th>Covariance Type:</th>           <td>opg</td>          <th>                     </th>     <td> </td>    \n",
              "</tr>\n",
              "</table>\n",
              "<table class=\"simpletable\">\n",
              "<tr>\n",
              "     <td></td>       <th>coef</th>     <th>std err</th>      <th>z</th>      <th>P>|z|</th>  <th>[0.025</th>    <th>0.975]</th>  \n",
              "</tr>\n",
              "<tr>\n",
              "  <th>ar.L1</th>  <td>   -0.8576</td> <td>    0.318</td> <td>   -2.696</td> <td> 0.007</td> <td>   -1.481</td> <td>   -0.234</td>\n",
              "</tr>\n",
              "<tr>\n",
              "  <th>ma.L1</th>  <td>   -0.0987</td> <td>    0.321</td> <td>   -0.308</td> <td> 0.758</td> <td>   -0.727</td> <td>    0.530</td>\n",
              "</tr>\n",
              "<tr>\n",
              "  <th>ma.L2</th>  <td>   -0.8138</td> <td>    0.302</td> <td>   -2.693</td> <td> 0.007</td> <td>   -1.406</td> <td>   -0.222</td>\n",
              "</tr>\n",
              "<tr>\n",
              "  <th>ma.L3</th>  <td>   -0.0285</td> <td>    0.033</td> <td>   -0.864</td> <td> 0.388</td> <td>   -0.093</td> <td>    0.036</td>\n",
              "</tr>\n",
              "<tr>\n",
              "  <th>ma.L4</th>  <td>   -0.0548</td> <td>    0.029</td> <td>   -1.907</td> <td> 0.056</td> <td>   -0.111</td> <td>    0.002</td>\n",
              "</tr>\n",
              "<tr>\n",
              "  <th>sigma2</th> <td> 2.129e-05</td> <td> 7.55e-07</td> <td>   28.209</td> <td> 0.000</td> <td> 1.98e-05</td> <td> 2.28e-05</td>\n",
              "</tr>\n",
              "</table>\n",
              "<table class=\"simpletable\">\n",
              "<tr>\n",
              "  <th>Ljung-Box (L1) (Q):</th>     <td>0.01</td> <th>  Jarque-Bera (JB):  </th> <td>228.67</td>\n",
              "</tr>\n",
              "<tr>\n",
              "  <th>Prob(Q):</th>                <td>0.91</td> <th>  Prob(JB):          </th>  <td>0.00</td> \n",
              "</tr>\n",
              "<tr>\n",
              "  <th>Heteroskedasticity (H):</th> <td>1.84</td> <th>  Skew:              </th>  <td>-0.22</td>\n",
              "</tr>\n",
              "<tr>\n",
              "  <th>Prob(H) (two-sided):</th>    <td>0.00</td> <th>  Kurtosis:          </th>  <td>5.44</td> \n",
              "</tr>\n",
              "</table><br/><br/>Warnings:<br/>[1] Covariance matrix calculated using the outer product of gradients (complex-step)."
            ]
          },
          "metadata": {},
          "execution_count": 129
        }
      ]
    },
    {
      "cell_type": "code",
      "source": [
        "# Get in-sample predictions\n",
        "training_data_predictions = cur_model_fit.get_prediction(start=train_data_currency.dropna().index.min(),\n",
        "                                                      end=train_data_currency.dropna().index.max(),\n",
        "                                                      dynamic=False)\n",
        "\n",
        "train_data_currency[['lower Cur predictions','Higher Oil predictions']] = training_data_predictions.conf_int()\n",
        "\n",
        "# Create a new column for the predicted values\n",
        "train_data_currency['Cur predictions'] = training_data_predictions.predicted_mean\n",
        "\n",
        "train_data_currency"
      ],
      "metadata": {
        "colab": {
          "base_uri": "https://localhost:8080/",
          "height": 455
        },
        "id": "HHJ3weLNvBc6",
        "outputId": "7d8dbd97-4078-4b34-fcac-9db686ebbb46"
      },
      "execution_count": 121,
      "outputs": [
        {
          "output_type": "execute_result",
          "data": {
            "text/plain": [
              "            Original_USD_EUR_Price  lower Cur predictions  \\\n",
              "Date                                                        \n",
              "2019-01-01                1.149306           -2771.807649   \n",
              "2019-01-02                1.146171           -1384.179865   \n",
              "2019-01-03                1.131811               1.130776   \n",
              "2019-01-04                1.139108               1.112442   \n",
              "2019-01-07                1.141044               1.125481   \n",
              "...                            ...                    ...   \n",
              "2022-05-25                1.073653               1.060960   \n",
              "2022-05-26                1.068661               1.068651   \n",
              "2022-05-27                1.073295               1.060077   \n",
              "2022-05-30                1.073146               1.066490   \n",
              "2022-05-31                1.077354               1.065279   \n",
              "\n",
              "            Higher Oil predictions  Cur predictions  \n",
              "Date                                                 \n",
              "2019-01-01             2771.807649         0.000000  \n",
              "2019-01-02             1387.627784         1.723960  \n",
              "2019-01-03                1.155296         1.143036  \n",
              "2019-01-04                1.133679         1.123061  \n",
              "2019-01-07                1.145899         1.135690  \n",
              "...                            ...              ...  \n",
              "2022-05-25                1.080110         1.070535  \n",
              "2022-05-26                1.087801         1.078226  \n",
              "2022-05-27                1.079227         1.069652  \n",
              "2022-05-30                1.085639         1.076064  \n",
              "2022-05-31                1.084429         1.074854  \n",
              "\n",
              "[891 rows x 4 columns]"
            ],
            "text/html": [
              "\n",
              "  <div id=\"df-8b20e0a0-58c9-4f8b-a241-d8404e561b67\">\n",
              "    <div class=\"colab-df-container\">\n",
              "      <div>\n",
              "<style scoped>\n",
              "    .dataframe tbody tr th:only-of-type {\n",
              "        vertical-align: middle;\n",
              "    }\n",
              "\n",
              "    .dataframe tbody tr th {\n",
              "        vertical-align: top;\n",
              "    }\n",
              "\n",
              "    .dataframe thead th {\n",
              "        text-align: right;\n",
              "    }\n",
              "</style>\n",
              "<table border=\"1\" class=\"dataframe\">\n",
              "  <thead>\n",
              "    <tr style=\"text-align: right;\">\n",
              "      <th></th>\n",
              "      <th>Original_USD_EUR_Price</th>\n",
              "      <th>lower Cur predictions</th>\n",
              "      <th>Higher Oil predictions</th>\n",
              "      <th>Cur predictions</th>\n",
              "    </tr>\n",
              "    <tr>\n",
              "      <th>Date</th>\n",
              "      <th></th>\n",
              "      <th></th>\n",
              "      <th></th>\n",
              "      <th></th>\n",
              "    </tr>\n",
              "  </thead>\n",
              "  <tbody>\n",
              "    <tr>\n",
              "      <th>2019-01-01</th>\n",
              "      <td>1.149306</td>\n",
              "      <td>-2771.807649</td>\n",
              "      <td>2771.807649</td>\n",
              "      <td>0.000000</td>\n",
              "    </tr>\n",
              "    <tr>\n",
              "      <th>2019-01-02</th>\n",
              "      <td>1.146171</td>\n",
              "      <td>-1384.179865</td>\n",
              "      <td>1387.627784</td>\n",
              "      <td>1.723960</td>\n",
              "    </tr>\n",
              "    <tr>\n",
              "      <th>2019-01-03</th>\n",
              "      <td>1.131811</td>\n",
              "      <td>1.130776</td>\n",
              "      <td>1.155296</td>\n",
              "      <td>1.143036</td>\n",
              "    </tr>\n",
              "    <tr>\n",
              "      <th>2019-01-04</th>\n",
              "      <td>1.139108</td>\n",
              "      <td>1.112442</td>\n",
              "      <td>1.133679</td>\n",
              "      <td>1.123061</td>\n",
              "    </tr>\n",
              "    <tr>\n",
              "      <th>2019-01-07</th>\n",
              "      <td>1.141044</td>\n",
              "      <td>1.125481</td>\n",
              "      <td>1.145899</td>\n",
              "      <td>1.135690</td>\n",
              "    </tr>\n",
              "    <tr>\n",
              "      <th>...</th>\n",
              "      <td>...</td>\n",
              "      <td>...</td>\n",
              "      <td>...</td>\n",
              "      <td>...</td>\n",
              "    </tr>\n",
              "    <tr>\n",
              "      <th>2022-05-25</th>\n",
              "      <td>1.073653</td>\n",
              "      <td>1.060960</td>\n",
              "      <td>1.080110</td>\n",
              "      <td>1.070535</td>\n",
              "    </tr>\n",
              "    <tr>\n",
              "      <th>2022-05-26</th>\n",
              "      <td>1.068661</td>\n",
              "      <td>1.068651</td>\n",
              "      <td>1.087801</td>\n",
              "      <td>1.078226</td>\n",
              "    </tr>\n",
              "    <tr>\n",
              "      <th>2022-05-27</th>\n",
              "      <td>1.073295</td>\n",
              "      <td>1.060077</td>\n",
              "      <td>1.079227</td>\n",
              "      <td>1.069652</td>\n",
              "    </tr>\n",
              "    <tr>\n",
              "      <th>2022-05-30</th>\n",
              "      <td>1.073146</td>\n",
              "      <td>1.066490</td>\n",
              "      <td>1.085639</td>\n",
              "      <td>1.076064</td>\n",
              "    </tr>\n",
              "    <tr>\n",
              "      <th>2022-05-31</th>\n",
              "      <td>1.077354</td>\n",
              "      <td>1.065279</td>\n",
              "      <td>1.084429</td>\n",
              "      <td>1.074854</td>\n",
              "    </tr>\n",
              "  </tbody>\n",
              "</table>\n",
              "<p>891 rows × 4 columns</p>\n",
              "</div>\n",
              "      <button class=\"colab-df-convert\" onclick=\"convertToInteractive('df-8b20e0a0-58c9-4f8b-a241-d8404e561b67')\"\n",
              "              title=\"Convert this dataframe to an interactive table.\"\n",
              "              style=\"display:none;\">\n",
              "        \n",
              "  <svg xmlns=\"http://www.w3.org/2000/svg\" height=\"24px\"viewBox=\"0 0 24 24\"\n",
              "       width=\"24px\">\n",
              "    <path d=\"M0 0h24v24H0V0z\" fill=\"none\"/>\n",
              "    <path d=\"M18.56 5.44l.94 2.06.94-2.06 2.06-.94-2.06-.94-.94-2.06-.94 2.06-2.06.94zm-11 1L8.5 8.5l.94-2.06 2.06-.94-2.06-.94L8.5 2.5l-.94 2.06-2.06.94zm10 10l.94 2.06.94-2.06 2.06-.94-2.06-.94-.94-2.06-.94 2.06-2.06.94z\"/><path d=\"M17.41 7.96l-1.37-1.37c-.4-.4-.92-.59-1.43-.59-.52 0-1.04.2-1.43.59L10.3 9.45l-7.72 7.72c-.78.78-.78 2.05 0 2.83L4 21.41c.39.39.9.59 1.41.59.51 0 1.02-.2 1.41-.59l7.78-7.78 2.81-2.81c.8-.78.8-2.07 0-2.86zM5.41 20L4 18.59l7.72-7.72 1.47 1.35L5.41 20z\"/>\n",
              "  </svg>\n",
              "      </button>\n",
              "      \n",
              "  <style>\n",
              "    .colab-df-container {\n",
              "      display:flex;\n",
              "      flex-wrap:wrap;\n",
              "      gap: 12px;\n",
              "    }\n",
              "\n",
              "    .colab-df-convert {\n",
              "      background-color: #E8F0FE;\n",
              "      border: none;\n",
              "      border-radius: 50%;\n",
              "      cursor: pointer;\n",
              "      display: none;\n",
              "      fill: #1967D2;\n",
              "      height: 32px;\n",
              "      padding: 0 0 0 0;\n",
              "      width: 32px;\n",
              "    }\n",
              "\n",
              "    .colab-df-convert:hover {\n",
              "      background-color: #E2EBFA;\n",
              "      box-shadow: 0px 1px 2px rgba(60, 64, 67, 0.3), 0px 1px 3px 1px rgba(60, 64, 67, 0.15);\n",
              "      fill: #174EA6;\n",
              "    }\n",
              "\n",
              "    [theme=dark] .colab-df-convert {\n",
              "      background-color: #3B4455;\n",
              "      fill: #D2E3FC;\n",
              "    }\n",
              "\n",
              "    [theme=dark] .colab-df-convert:hover {\n",
              "      background-color: #434B5C;\n",
              "      box-shadow: 0px 1px 3px 1px rgba(0, 0, 0, 0.15);\n",
              "      filter: drop-shadow(0px 1px 2px rgba(0, 0, 0, 0.3));\n",
              "      fill: #FFFFFF;\n",
              "    }\n",
              "  </style>\n",
              "\n",
              "      <script>\n",
              "        const buttonEl =\n",
              "          document.querySelector('#df-8b20e0a0-58c9-4f8b-a241-d8404e561b67 button.colab-df-convert');\n",
              "        buttonEl.style.display =\n",
              "          google.colab.kernel.accessAllowed ? 'block' : 'none';\n",
              "\n",
              "        async function convertToInteractive(key) {\n",
              "          const element = document.querySelector('#df-8b20e0a0-58c9-4f8b-a241-d8404e561b67');\n",
              "          const dataTable =\n",
              "            await google.colab.kernel.invokeFunction('convertToInteractive',\n",
              "                                                     [key], {});\n",
              "          if (!dataTable) return;\n",
              "\n",
              "          const docLinkHtml = 'Like what you see? Visit the ' +\n",
              "            '<a target=\"_blank\" href=https://colab.research.google.com/notebooks/data_table.ipynb>data table notebook</a>'\n",
              "            + ' to learn more about interactive tables.';\n",
              "          element.innerHTML = '';\n",
              "          dataTable['output_type'] = 'display_data';\n",
              "          await google.colab.output.renderOutput(dataTable, element);\n",
              "          const docLink = document.createElement('div');\n",
              "          docLink.innerHTML = docLinkHtml;\n",
              "          element.appendChild(docLink);\n",
              "        }\n",
              "      </script>\n",
              "    </div>\n",
              "  </div>\n",
              "  "
            ]
          },
          "metadata": {},
          "execution_count": 121
        }
      ]
    },
    {
      "cell_type": "code",
      "source": [
        "plt.figure(figsize=(16,8))\n",
        "plt.plot(train_data_currency['Original_USD_EUR_Price'],label=\"Actual Currency Price\")\n",
        "plt.plot(train_data_currency['Cur predictions'],label=\"Forecast  Currency Price\")\n",
        "plt.legend(loc=\"upper left\")"
      ],
      "metadata": {
        "colab": {
          "base_uri": "https://localhost:8080/",
          "height": 693
        },
        "id": "ZXJ7IsGOvSg9",
        "outputId": "4f5f72f6-5b0c-4144-8cfc-7ce45756934a"
      },
      "execution_count": 122,
      "outputs": [
        {
          "output_type": "execute_result",
          "data": {
            "text/plain": [
              "<matplotlib.legend.Legend at 0x7f50919d5150>"
            ]
          },
          "metadata": {},
          "execution_count": 122
        },
        {
          "output_type": "display_data",
          "data": {
            "text/plain": [
              "<Figure size 1600x800 with 1 Axes>"
            ],
            "image/png": "[encoded data removed]"
          },
          "metadata": {}
        }
      ]
    },
    {
      "cell_type": "code",
      "source": [
        "import pandas as pd\n",
        "\n",
        "# define train test data\n",
        "train = train_data_currency['Original_USD_EUR_Price'].dropna()\n",
        "test = test_data_currency['Original_USD_EUR_Price'].dropna()\n",
        "\n",
        "# define model configuration\n",
        "my_order = (2,2,2)\n",
        "\n",
        "# lists to collect forecasts\n",
        "forecasts = []\n",
        "forecast_dates = []\n",
        "\n",
        "# walk-forward validation\n",
        "history = [x for x in train]\n",
        "for i in range(len(test)):\n",
        "    if i % 5==0:\n",
        "      auto = auto_arima(history, error_action='ignore', suppress_warnings=True,d=2)\n",
        "      my_order = auto.order\n",
        "      print(\"my_order is {}\".format(my_order))\n",
        "      model = ARIMA(history, order=my_order)\n",
        "      model_fit = model.fit()\n",
        "    forecast = model_fit.get_forecast(steps=1, alpha=0.05)\n",
        "    forecasts.append(forecast.predicted_mean[0])\n",
        "    forecast_dates.append(test.index[i])\n",
        "    history.append(forecast.predicted_mean[0])\n",
        "    #print(\"Length of History is {} for date{} and order {} forecast is {}\",format((len(history),test.index[i],my_order,forecast.predicted_mean[0])))\n",
        "# Create a dataframe to hold the forecasts with corresponding dates\n",
        "forecast_df = pd.DataFrame(data={'Forecast': forecasts}, index=forecast_dates)\n",
        "\n"
      ],
      "metadata": {
        "colab": {
          "base_uri": "https://localhost:8080/"
        },
        "id": "jPh3x_L8pM4q",
        "outputId": "e64fd90d-783b-4683-df19-595b09bb8482"
      },
      "execution_count": 134,
      "outputs": [
        {
          "output_type": "stream",
          "name": "stdout",
          "text": [
            "my_order is (3, 2, 2)\n",
            "my_order is (2, 2, 2)\n",
            "my_order is (4, 2, 2)\n",
            "my_order is (0, 2, 3)\n",
            "my_order is (3, 2, 1)\n",
            "my_order is (3, 2, 2)\n",
            "my_order is (3, 2, 1)\n",
            "my_order is (2, 2, 1)\n",
            "my_order is (4, 2, 2)\n",
            "my_order is (0, 2, 3)\n",
            "my_order is (2, 2, 2)\n",
            "my_order is (4, 2, 2)\n",
            "my_order is (0, 2, 4)\n",
            "my_order is (2, 2, 1)\n",
            "my_order is (4, 2, 2)\n",
            "my_order is (3, 2, 1)\n",
            "my_order is (3, 2, 1)\n",
            "my_order is (2, 2, 1)\n",
            "my_order is (0, 2, 3)\n",
            "my_order is (0, 2, 5)\n",
            "my_order is (0, 2, 5)\n",
            "my_order is (2, 2, 2)\n",
            "my_order is (3, 2, 1)\n",
            "my_order is (3, 2, 2)\n",
            "my_order is (3, 2, 2)\n",
            "my_order is (2, 2, 1)\n",
            "my_order is (3, 2, 2)\n"
          ]
        }
      ]
    },
    {
      "cell_type": "code",
      "source": [
        "plt.figure(figsize=(16,8))\n",
        "plt.plot(test_data_currency['Original_USD_EUR_Price'],label=\"Actual Currency Price\")\n",
        "plt.plot(forecast_df['Forecast'],label=\"Forecast Currency Price\")\n",
        "\n",
        "plt.legend(loc=\"upper left\")\n",
        "plt.show()\n"
      ],
      "metadata": {
        "colab": {
          "base_uri": "https://localhost:8080/",
          "height": 676
        },
        "id": "aaQDSXtF20Uy",
        "outputId": "b268c4b1-d51e-49e9-b1a4-92daee188694"
      },
      "execution_count": 135,
      "outputs": [
        {
          "output_type": "display_data",
          "data": {
            "text/plain": [
              "<Figure size 1600x800 with 1 Axes>"
            ],
            "image/png": "[encoded data removed]"
          },
          "metadata": {}
        }
      ]
    }
  ]
}